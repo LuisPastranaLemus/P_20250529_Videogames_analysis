{
 "cells": [
  {
   "cell_type": "markdown",
   "id": "7849e41b",
   "metadata": {},
   "source": [
    "#### Feature Engineering  \n",
    "\n",
    "Dataset: \n",
    "- _videogames_clean.csv_\n",
    "\n",
    "Author: Luis Sergio Pastrana Lemus  \n",
    "Date: 2025-05-29"
   ]
  },
  {
   "cell_type": "markdown",
   "id": "19e2428c",
   "metadata": {},
   "source": [
    "# Feature engineering – Videogames Dataset"
   ]
  },
  {
   "cell_type": "markdown",
   "id": "415af0e2",
   "metadata": {},
   "source": [
    "## __1. Libraries__"
   ]
  },
  {
   "cell_type": "code",
   "execution_count": 1,
   "id": "eacf5d9a",
   "metadata": {},
   "outputs": [],
   "source": [
    "from pathlib import Path\n",
    "import sys\n",
    "\n",
    "# Define project root dynamically, gets the current directory from which the notebook belongs and moves one level upper\n",
    "project_root = Path.cwd().parent\n",
    "\n",
    "# Add src to sys.path if it is not already\n",
    "if str(project_root) not in sys.path:\n",
    "\n",
    "    sys.path.append(str(project_root))\n",
    "\n",
    "# Import function directly (more controlled than import *)\n",
    "from src import *\n",
    "\n",
    "from functools import partial\n",
    "from IPython.display import display, HTML\n",
    "import numpy as np\n",
    "import os\n",
    "import pandas as pd"
   ]
  },
  {
   "cell_type": "markdown",
   "id": "3be37b0b",
   "metadata": {},
   "source": [
    "## __2. Path to Data file__"
   ]
  },
  {
   "cell_type": "code",
   "execution_count": 2,
   "id": "7e7a75e0",
   "metadata": {},
   "outputs": [],
   "source": [
    "# Build route to data file and upload\n",
    "data_file_path = project_root / \"data\" / \"processed\" / \"clean\"\n",
    "df_vg = load_dataset_from_csv(data_file_path, \"videogames_clean.csv\", sep=',', header='infer')"
   ]
  },
  {
   "cell_type": "code",
   "execution_count": 3,
   "id": "db15faef",
   "metadata": {},
   "outputs": [],
   "source": [
    "# Format notebook output\n",
    "format_notebook()"
   ]
  },
  {
   "cell_type": "markdown",
   "id": "1f213604",
   "metadata": {},
   "source": [
    "## 3 __Functions__"
   ]
  },
  {
   "cell_type": "code",
   "execution_count": 4,
   "id": "16edc9f9",
   "metadata": {},
   "outputs": [],
   "source": [
    "# Function for calculating ..."
   ]
  },
  {
   "cell_type": "markdown",
   "id": "c5bc07b2",
   "metadata": {},
   "source": [
    "## 4 __Casting to data types__"
   ]
  },
  {
   "cell_type": "code",
   "execution_count": 5,
   "id": "6df0cd4f",
   "metadata": {},
   "outputs": [],
   "source": [
    "# Call casting dtypes function from features.py\n",
    "df_vg = cast_datatypes(df_vg)"
   ]
  },
  {
   "cell_type": "code",
   "execution_count": 6,
   "id": "4aa4e045",
   "metadata": {},
   "outputs": [],
   "source": [
    "# Adjust sales values for better visualization: original values (in millions) are scaled up by 1000\n",
    "# to convert them to thousands, improving readability in graphs.\n",
    "sales_columns = ['na_sales', 'eu_sales', 'jp_sales', 'other_sales']\n",
    "df_vg[sales_columns] = df_vg[sales_columns] * 1000"
   ]
  },
  {
   "cell_type": "markdown",
   "id": "166c6add",
   "metadata": {},
   "source": [
    "## 4. Feature Engineering"
   ]
  },
  {
   "cell_type": "markdown",
   "id": "d97e720a",
   "metadata": {},
   "source": [
    "### 4.1 Datasets"
   ]
  },
  {
   "cell_type": "markdown",
   "id": "511db52e",
   "metadata": {},
   "source": [
    "#### 4.1.1 DataSet videogames"
   ]
  },
  {
   "cell_type": "code",
   "execution_count": 7,
   "id": "1e4d59ee",
   "metadata": {},
   "outputs": [
    {
     "data": {
      "application/vnd.microsoft.datawrangler.viewer.v0+json": {
       "columns": [
        {
         "name": "index",
         "rawType": "int64",
         "type": "integer"
        },
        {
         "name": "name",
         "rawType": "string",
         "type": "string"
        },
        {
         "name": "platform",
         "rawType": "category",
         "type": "unknown"
        },
        {
         "name": "year_of_release",
         "rawType": "float64",
         "type": "float"
        },
        {
         "name": "genre",
         "rawType": "category",
         "type": "unknown"
        },
        {
         "name": "na_sales",
         "rawType": "float64",
         "type": "float"
        },
        {
         "name": "eu_sales",
         "rawType": "float64",
         "type": "float"
        },
        {
         "name": "jp_sales",
         "rawType": "float64",
         "type": "float"
        },
        {
         "name": "other_sales",
         "rawType": "float64",
         "type": "float"
        },
        {
         "name": "critic_score",
         "rawType": "float32",
         "type": "float"
        },
        {
         "name": "user_score",
         "rawType": "float32",
         "type": "float"
        },
        {
         "name": "rating",
         "rawType": "object",
         "type": "unknown"
        }
       ],
       "ref": "91630542-6277-4038-8add-ff71eaadc917",
       "rows": [
        [
         "0",
         "wii_sports",
         "wii",
         "2006.0",
         "sports",
         "41360.0",
         "28960.0",
         "3770.0",
         "8450.0",
         "76.0",
         "8.0",
         "E"
        ],
        [
         "1",
         "super_mario_bros",
         "nes",
         "1985.0",
         "platform",
         "29080.0",
         "3580.0",
         "6810.0",
         "770.0",
         null,
         null,
         null
        ],
        [
         "2",
         "mario_kart_wii",
         "wii",
         "2008.0",
         "racing",
         "15680.0",
         "12760.0",
         "3790.0",
         "3290.0",
         "82.0",
         "8.3",
         "E"
        ],
        [
         "3",
         "wii_sports_resort",
         "wii",
         "2009.0",
         "sports",
         "15610.0",
         "10930.0",
         "3280.0",
         "2950.0",
         "80.0",
         "8.0",
         "E"
        ],
        [
         "4",
         "pokemon_red_pokemon_blue",
         "gb",
         "1996.0",
         "role_playing",
         "11270.0",
         "8890.0",
         "10220.0",
         "1000.0",
         null,
         null,
         null
        ],
        [
         "5",
         "tetris",
         "gb",
         "1989.0",
         "puzzle",
         "23200.0",
         "2260.0",
         "4220.0",
         "580.0",
         null,
         null,
         null
        ],
        [
         "6",
         "new_super_mario_bros",
         "ds",
         "2006.0",
         "platform",
         "11280.0",
         "9140.0",
         "6500.0",
         "2880.0",
         "89.0",
         "8.5",
         "E"
        ],
        [
         "7",
         "wii_play",
         "wii",
         "2006.0",
         "misc",
         "13960.0",
         "9180.0",
         "2930.0",
         "2840.0",
         "58.0",
         "6.6",
         "E"
        ],
        [
         "8",
         "new_super_mario_bros_wii",
         "wii",
         "2009.0",
         "platform",
         "14440.0",
         "6940.0",
         "4700.0",
         "2240.0",
         "87.0",
         "8.4",
         "E"
        ],
        [
         "9",
         "duck_hunt",
         "nes",
         "1984.0",
         "shooter",
         "26930.0",
         "630.0",
         "280.0",
         "470.0",
         null,
         null,
         null
        ],
        [
         "10",
         "nintendogs",
         "ds",
         "2005.0",
         "simulation",
         "9050.0",
         "10950.0",
         "1930.0",
         "2740.0",
         "75.0",
         "7.85",
         "T"
        ],
        [
         "11",
         "mario_kart_ds",
         "ds",
         "2005.0",
         "racing",
         "9710.0",
         "7470.0",
         "4130.0",
         "1900.0",
         "91.0",
         "8.6",
         "E"
        ],
        [
         "12",
         "pokemon_gold_pokemon_silver",
         "gb",
         "1999.0",
         "role_playing",
         "9000.0",
         "6180.0",
         "7200.0",
         "710.0",
         "81.0",
         "8.4",
         "T"
        ],
        [
         "13",
         "wii_fit",
         "wii",
         "2007.0",
         "sports",
         "8920.0",
         "8029.999999999999",
         "3600.0",
         "2150.0",
         "80.0",
         "7.7",
         "E"
        ],
        [
         "14",
         "kinect_adventures",
         "x360",
         "2010.0",
         "misc",
         "15000.0",
         "4890.0",
         "240.0",
         "1690.0",
         "61.0",
         "6.3",
         "E"
        ],
        [
         "15",
         "wii_fit_plus",
         "wii",
         "2009.0",
         "sports",
         "9010.0",
         "8490.0",
         "2530.0",
         "1770.0",
         "80.0",
         "7.4",
         "E"
        ],
        [
         "16",
         "grand_theft_auto_v",
         "ps3",
         "2013.0",
         "action",
         "7020.0",
         "9090.0",
         "980.0",
         "3960.0",
         "97.0",
         "8.2",
         "M"
        ],
        [
         "17",
         "grand_theft_auto_san_andreas",
         "ps2",
         "2004.0",
         "action",
         "9430.0",
         "400.0",
         "410.0",
         "10570.0",
         "95.0",
         "9.0",
         "M"
        ],
        [
         "18",
         "super_mario_world",
         "snes",
         "1990.0",
         "platform",
         "12780.0",
         "3750.0",
         "3540.0",
         "550.0",
         null,
         null,
         null
        ],
        [
         "19",
         "brain_age_train_your_brain_in_minutes_a_day",
         "ds",
         "2005.0",
         "misc",
         "4740.0",
         "9200.0",
         "4160.0",
         "2040.0",
         "77.0",
         "7.9",
         "E"
        ],
        [
         "20",
         "pokemon_diamond_pokemon_pearl",
         "ds",
         "2006.0",
         "role_playing",
         "6380.0",
         "4460.0",
         "6040.0",
         "1360.0",
         "73.0",
         "7.6",
         "T"
        ],
        [
         "21",
         "super_mario_land",
         "gb",
         "1989.0",
         "platform",
         "10830.0",
         "2710.0",
         "4180.0",
         "420.0",
         null,
         null,
         null
        ],
        [
         "22",
         "super_mario_bros_3",
         "nes",
         "1988.0",
         "platform",
         "9540.0",
         "3440.0",
         "3840.0",
         "460.0",
         null,
         null,
         null
        ],
        [
         "23",
         "grand_theft_auto_v",
         "x360",
         "2013.0",
         "action",
         "9660.0",
         "5140.0",
         "60.0",
         "1410.0",
         "97.0",
         "8.1",
         "M"
        ],
        [
         "24",
         "grand_theft_auto_vice_city",
         "ps2",
         "2002.0",
         "action",
         "8410.0",
         "5490.0",
         "470.0",
         "1780.0",
         "95.0",
         "8.7",
         "M"
        ],
        [
         "25",
         "pokemon_ruby_pokemon_sapphire",
         "gba",
         "2002.0",
         "role_playing",
         "6060.0",
         "3900.0",
         "5380.0",
         "500.0",
         "76.0",
         "8.3",
         "T"
        ],
        [
         "26",
         "brain_age_2_more_training_in_minutes_a_day",
         "ds",
         "2005.0",
         "puzzle",
         "3430.0",
         "5350.0",
         "5320.0",
         "1180.0",
         "77.0",
         "7.1",
         "E"
        ],
        [
         "27",
         "pokemon_black_pokemon_white",
         "ds",
         "2010.0",
         "role_playing",
         "5510.0",
         "3170.0",
         "5650.0",
         "800.0",
         "72.0",
         "7.4",
         "T"
        ],
        [
         "28",
         "gran_turismo_3_a_spec",
         "ps2",
         "2001.0",
         "racing",
         "6850.0",
         "5090.0",
         "1870.0",
         "1160.0",
         "95.0",
         "8.4",
         "E"
        ],
        [
         "29",
         "call_of_duty_modern_warfare_3",
         "x360",
         "2011.0",
         "shooter",
         "9040.0",
         "4240.0",
         "130.0",
         "1320.0",
         "88.0",
         "3.4",
         "M"
        ],
        [
         "30",
         "pokémon_yellow_special_pikachu_edition",
         "gb",
         "1998.0",
         "role_playing",
         "5890.0",
         "5040.0",
         "3120.0",
         "590.0",
         "81.0",
         "8.5",
         "T"
        ],
        [
         "31",
         "call_of_duty_black_ops_3",
         "ps4",
         "2015.0",
         "shooter",
         "6030.0",
         "5860.0",
         "360.0",
         "2380.0",
         "76.0",
         "5.75",
         "M"
        ],
        [
         "32",
         "call_of_duty_black_ops",
         "x360",
         "2010.0",
         "shooter",
         "9700.0",
         "3680.0",
         "110.0",
         "1130.0",
         "87.0",
         "6.3",
         "M"
        ],
        [
         "33",
         "pokemon_x_pokemon_y",
         "3ds",
         "2013.0",
         "role_playing",
         "5280.0",
         "4190.0",
         "4350.0",
         "780.0",
         "72.0",
         "7.65",
         "T"
        ],
        [
         "34",
         "call_of_duty_black_ops_ii",
         "ps3",
         "2012.0",
         "shooter",
         "4990.0",
         "5730.0",
         "650.0",
         "2420.0",
         "83.0",
         "5.3",
         "M"
        ],
        [
         "35",
         "call_of_duty_black_ops_ii",
         "x360",
         "2012.0",
         "shooter",
         "8250.0",
         "4240.0",
         "70.0",
         "1120.0",
         "83.0",
         "4.8",
         "M"
        ],
        [
         "36",
         "call_of_duty_modern_warfare_2",
         "x360",
         "2009.0",
         "shooter",
         "8520.0",
         "3590.0",
         "80.0",
         "1280.0",
         "94.0",
         "6.3",
         "M"
        ],
        [
         "37",
         "call_of_duty_modern_warfare_3",
         "ps3",
         "2011.0",
         "shooter",
         "5540.0",
         "5730.0",
         "490.0",
         "1570.0",
         "88.0",
         "3.2",
         "M"
        ],
        [
         "38",
         "grand_theft_auto_iii",
         "ps2",
         "2001.0",
         "action",
         "6990.0",
         "4510.0",
         "300.0",
         "1300.0",
         "97.0",
         "8.5",
         "M"
        ],
        [
         "39",
         "super_smash_bros_brawl",
         "wii",
         "2008.0",
         "fighting",
         "6620.0",
         "2550.0",
         "2660.0",
         "1010.0",
         "93.0",
         "8.9",
         "T"
        ],
        [
         "40",
         "mario_kart_7",
         "3ds",
         "2011.0",
         "racing",
         "5030.0",
         "4019.9999999999995",
         "2690.0",
         "910.0",
         "85.0",
         "8.2",
         "E"
        ],
        [
         "41",
         "call_of_duty_black_ops",
         "ps3",
         "2010.0",
         "shooter",
         "5990.0",
         "4370.0",
         "480.0",
         "1790.0",
         "88.0",
         "6.4",
         "M"
        ],
        [
         "42",
         "grand_theft_auto_v",
         "ps4",
         "2014.0",
         "action",
         "3960.0",
         "6310.0",
         "380.0",
         "1970.0",
         "97.0",
         "8.3",
         "M"
        ],
        [
         "43",
         "animal_crossing_wild_world",
         "ds",
         "2005.0",
         "simulation",
         "2500.0",
         "3450.0",
         "5330.0",
         "860.0",
         "86.0",
         "8.7",
         "E"
        ],
        [
         "44",
         "halo_3",
         "x360",
         "2007.0",
         "shooter",
         "7970.0",
         "2810.0",
         "130.0",
         "1210.0",
         "94.0",
         "7.8",
         "M"
        ],
        [
         "45",
         "super_mario_64",
         "n64",
         "1996.0",
         "platform",
         "6910.0",
         "2850.0",
         "1910.0",
         "230.0",
         null,
         null,
         null
        ],
        [
         "46",
         "pokemon_heartgold_pokemon_soulsilver",
         "ds",
         "2009.0",
         "action",
         "4340.0",
         "2710.0",
         "3960.0",
         "760.0",
         "63.0",
         "7.1",
         "E10+"
        ],
        [
         "47",
         "pokemon_omega_ruby_pokemon_alpha_sapphire",
         "3ds",
         "2014.0",
         "role_playing",
         "4350.0",
         "3490.0",
         "3100.0",
         "740.0",
         "72.5",
         "7.35",
         "M"
        ],
        [
         "48",
         "gran_turismo_4",
         "ps2",
         "2004.0",
         "racing",
         "3010.0",
         "10.0",
         "1100.0",
         "7530.0",
         "89.0",
         "8.5",
         "E"
        ],
        [
         "49",
         "super_mario_galaxy",
         "wii",
         "2007.0",
         "platform",
         "6060.0",
         "3350.0",
         "1200.0",
         "740.0",
         "97.0",
         "8.9",
         "E"
        ]
       ],
       "shape": {
        "columns": 11,
        "rows": 16715
       }
      },
      "text/html": [
       "<div>\n",
       "<style scoped>\n",
       "    .dataframe tbody tr th:only-of-type {\n",
       "        vertical-align: middle;\n",
       "    }\n",
       "\n",
       "    .dataframe tbody tr th {\n",
       "        vertical-align: top;\n",
       "    }\n",
       "\n",
       "    .dataframe thead th {\n",
       "        text-align: right;\n",
       "    }\n",
       "</style>\n",
       "<table border=\"1\" class=\"dataframe\">\n",
       "  <thead>\n",
       "    <tr style=\"text-align: right;\">\n",
       "      <th></th>\n",
       "      <th>name</th>\n",
       "      <th>platform</th>\n",
       "      <th>year_of_release</th>\n",
       "      <th>genre</th>\n",
       "      <th>na_sales</th>\n",
       "      <th>eu_sales</th>\n",
       "      <th>jp_sales</th>\n",
       "      <th>other_sales</th>\n",
       "      <th>critic_score</th>\n",
       "      <th>user_score</th>\n",
       "      <th>rating</th>\n",
       "    </tr>\n",
       "  </thead>\n",
       "  <tbody>\n",
       "    <tr>\n",
       "      <th>0</th>\n",
       "      <td>wii_sports</td>\n",
       "      <td>wii</td>\n",
       "      <td>2006.0</td>\n",
       "      <td>sports</td>\n",
       "      <td>41360.0</td>\n",
       "      <td>28960.0</td>\n",
       "      <td>3770.0</td>\n",
       "      <td>8450.0</td>\n",
       "      <td>76.0</td>\n",
       "      <td>8.00</td>\n",
       "      <td>E</td>\n",
       "    </tr>\n",
       "    <tr>\n",
       "      <th>1</th>\n",
       "      <td>super_mario_bros</td>\n",
       "      <td>nes</td>\n",
       "      <td>1985.0</td>\n",
       "      <td>platform</td>\n",
       "      <td>29080.0</td>\n",
       "      <td>3580.0</td>\n",
       "      <td>6810.0</td>\n",
       "      <td>770.0</td>\n",
       "      <td>NaN</td>\n",
       "      <td>NaN</td>\n",
       "      <td>NaN</td>\n",
       "    </tr>\n",
       "    <tr>\n",
       "      <th>2</th>\n",
       "      <td>mario_kart_wii</td>\n",
       "      <td>wii</td>\n",
       "      <td>2008.0</td>\n",
       "      <td>racing</td>\n",
       "      <td>15680.0</td>\n",
       "      <td>12760.0</td>\n",
       "      <td>3790.0</td>\n",
       "      <td>3290.0</td>\n",
       "      <td>82.0</td>\n",
       "      <td>8.30</td>\n",
       "      <td>E</td>\n",
       "    </tr>\n",
       "    <tr>\n",
       "      <th>3</th>\n",
       "      <td>wii_sports_resort</td>\n",
       "      <td>wii</td>\n",
       "      <td>2009.0</td>\n",
       "      <td>sports</td>\n",
       "      <td>15610.0</td>\n",
       "      <td>10930.0</td>\n",
       "      <td>3280.0</td>\n",
       "      <td>2950.0</td>\n",
       "      <td>80.0</td>\n",
       "      <td>8.00</td>\n",
       "      <td>E</td>\n",
       "    </tr>\n",
       "    <tr>\n",
       "      <th>4</th>\n",
       "      <td>pokemon_red_pokemon_blue</td>\n",
       "      <td>gb</td>\n",
       "      <td>1996.0</td>\n",
       "      <td>role_playing</td>\n",
       "      <td>11270.0</td>\n",
       "      <td>8890.0</td>\n",
       "      <td>10220.0</td>\n",
       "      <td>1000.0</td>\n",
       "      <td>NaN</td>\n",
       "      <td>NaN</td>\n",
       "      <td>NaN</td>\n",
       "    </tr>\n",
       "    <tr>\n",
       "      <th>...</th>\n",
       "      <td>...</td>\n",
       "      <td>...</td>\n",
       "      <td>...</td>\n",
       "      <td>...</td>\n",
       "      <td>...</td>\n",
       "      <td>...</td>\n",
       "      <td>...</td>\n",
       "      <td>...</td>\n",
       "      <td>...</td>\n",
       "      <td>...</td>\n",
       "      <td>...</td>\n",
       "    </tr>\n",
       "    <tr>\n",
       "      <th>16710</th>\n",
       "      <td>samurai_warriors_sanada_maru</td>\n",
       "      <td>ps3</td>\n",
       "      <td>2016.0</td>\n",
       "      <td>action</td>\n",
       "      <td>0.0</td>\n",
       "      <td>0.0</td>\n",
       "      <td>10.0</td>\n",
       "      <td>0.0</td>\n",
       "      <td>73.0</td>\n",
       "      <td>6.95</td>\n",
       "      <td>M</td>\n",
       "    </tr>\n",
       "    <tr>\n",
       "      <th>16711</th>\n",
       "      <td>lma_manager_2007</td>\n",
       "      <td>x360</td>\n",
       "      <td>2006.0</td>\n",
       "      <td>sports</td>\n",
       "      <td>0.0</td>\n",
       "      <td>10.0</td>\n",
       "      <td>0.0</td>\n",
       "      <td>0.0</td>\n",
       "      <td>72.0</td>\n",
       "      <td>7.30</td>\n",
       "      <td>E</td>\n",
       "    </tr>\n",
       "    <tr>\n",
       "      <th>16712</th>\n",
       "      <td>haitaka_no_psychedelica</td>\n",
       "      <td>psv</td>\n",
       "      <td>2016.0</td>\n",
       "      <td>adventure</td>\n",
       "      <td>0.0</td>\n",
       "      <td>0.0</td>\n",
       "      <td>10.0</td>\n",
       "      <td>0.0</td>\n",
       "      <td>72.0</td>\n",
       "      <td>7.80</td>\n",
       "      <td>M</td>\n",
       "    </tr>\n",
       "    <tr>\n",
       "      <th>16713</th>\n",
       "      <td>spirits_spells</td>\n",
       "      <td>gba</td>\n",
       "      <td>2003.0</td>\n",
       "      <td>platform</td>\n",
       "      <td>10.0</td>\n",
       "      <td>0.0</td>\n",
       "      <td>0.0</td>\n",
       "      <td>0.0</td>\n",
       "      <td>69.0</td>\n",
       "      <td>7.85</td>\n",
       "      <td>E</td>\n",
       "    </tr>\n",
       "    <tr>\n",
       "      <th>16714</th>\n",
       "      <td>winning_post_8_2016</td>\n",
       "      <td>psv</td>\n",
       "      <td>2016.0</td>\n",
       "      <td>simulation</td>\n",
       "      <td>0.0</td>\n",
       "      <td>0.0</td>\n",
       "      <td>10.0</td>\n",
       "      <td>0.0</td>\n",
       "      <td>67.0</td>\n",
       "      <td>7.00</td>\n",
       "      <td>E</td>\n",
       "    </tr>\n",
       "  </tbody>\n",
       "</table>\n",
       "<p>16715 rows × 11 columns</p>\n",
       "</div>"
      ],
      "text/plain": [
       "                               name platform  year_of_release         genre  na_sales  eu_sales  jp_sales  other_sales  critic_score  user_score  \\\n",
       "0                        wii_sports      wii           2006.0        sports   41360.0   28960.0    3770.0       8450.0          76.0        8.00   \n",
       "1                  super_mario_bros      nes           1985.0      platform   29080.0    3580.0    6810.0        770.0           NaN         NaN   \n",
       "2                    mario_kart_wii      wii           2008.0        racing   15680.0   12760.0    3790.0       3290.0          82.0        8.30   \n",
       "3                 wii_sports_resort      wii           2009.0        sports   15610.0   10930.0    3280.0       2950.0          80.0        8.00   \n",
       "4          pokemon_red_pokemon_blue       gb           1996.0  role_playing   11270.0    8890.0   10220.0       1000.0           NaN         NaN   \n",
       "...                             ...      ...              ...           ...       ...       ...       ...          ...           ...         ...   \n",
       "16710  samurai_warriors_sanada_maru      ps3           2016.0        action       0.0       0.0      10.0          0.0          73.0        6.95   \n",
       "16711              lma_manager_2007     x360           2006.0        sports       0.0      10.0       0.0          0.0          72.0        7.30   \n",
       "16712       haitaka_no_psychedelica      psv           2016.0     adventure       0.0       0.0      10.0          0.0          72.0        7.80   \n",
       "16713                spirits_spells      gba           2003.0      platform      10.0       0.0       0.0          0.0          69.0        7.85   \n",
       "16714           winning_post_8_2016      psv           2016.0    simulation       0.0       0.0      10.0          0.0          67.0        7.00   \n",
       "\n",
       "      rating  \n",
       "0          E  \n",
       "1        NaN  \n",
       "2          E  \n",
       "3          E  \n",
       "4        NaN  \n",
       "...      ...  \n",
       "16710      M  \n",
       "16711      E  \n",
       "16712      M  \n",
       "16713      E  \n",
       "16714      E  \n",
       "\n",
       "[16715 rows x 11 columns]"
      ]
     },
     "execution_count": 7,
     "metadata": {},
     "output_type": "execute_result"
    }
   ],
   "source": [
    "df_vg"
   ]
  },
  {
   "cell_type": "code",
   "execution_count": 8,
   "id": "6ed41cd8",
   "metadata": {},
   "outputs": [
    {
     "name": "stdout",
     "output_type": "stream",
     "text": [
      "<class 'pandas.core.frame.DataFrame'>\n",
      "RangeIndex: 16715 entries, 0 to 16714\n",
      "Data columns (total 11 columns):\n",
      " #   Column           Non-Null Count  Dtype   \n",
      "---  ------           --------------  -----   \n",
      " 0   name             16715 non-null  string  \n",
      " 1   platform         16715 non-null  category\n",
      " 2   year_of_release  16713 non-null  float64 \n",
      " 3   genre            16715 non-null  category\n",
      " 4   na_sales         16715 non-null  float64 \n",
      " 5   eu_sales         16715 non-null  float64 \n",
      " 6   jp_sales         16715 non-null  float64 \n",
      " 7   other_sales      16715 non-null  float64 \n",
      " 8   critic_score     15360 non-null  float32 \n",
      " 9   user_score       15185 non-null  float32 \n",
      " 10  rating           15390 non-null  object  \n",
      "dtypes: category(2), float32(2), float64(5), object(1), string(1)\n",
      "memory usage: 1.1+ MB\n"
     ]
    }
   ],
   "source": [
    "df_vg.info()"
   ]
  },
  {
   "cell_type": "code",
   "execution_count": 9,
   "id": "724732b5",
   "metadata": {},
   "outputs": [
    {
     "data": {
      "application/vnd.microsoft.datawrangler.viewer.v0+json": {
       "columns": [
        {
         "name": "index",
         "rawType": "int64",
         "type": "integer"
        },
        {
         "name": "platform",
         "rawType": "category",
         "type": "unknown"
        },
        {
         "name": "na_sales",
         "rawType": "float64",
         "type": "float"
        },
        {
         "name": "eu_sales",
         "rawType": "float64",
         "type": "float"
        },
        {
         "name": "jp_sales",
         "rawType": "float64",
         "type": "float"
        },
        {
         "name": "other_sales",
         "rawType": "float64",
         "type": "float"
        }
       ],
       "ref": "48ee2396-4e7b-41b4-81dc-beab0f3ae190",
       "rows": [
        [
         "0",
         "2600",
         "90600.0",
         "5470.0",
         "0.0",
         "910.0"
        ],
        [
         "1",
         "3do",
         "0.0",
         "0.0",
         "100.0",
         "0.0"
        ],
        [
         "2",
         "3ds",
         "83490.0",
         "61480.0",
         "100670.0",
         "13360.0"
        ],
        [
         "3",
         "dc",
         "5430.0",
         "1690.0",
         "8560.0",
         "270.0"
        ],
        [
         "4",
         "ds",
         "382400.0",
         "188890.0",
         "175570.0",
         "59260.0"
        ],
        [
         "5",
         "gb",
         "114320.0",
         "47820.0",
         "85120.0",
         "8200.0"
        ],
        [
         "6",
         "gba",
         "187540.0",
         "75250.0",
         "47330.0",
         "7730.0"
        ],
        [
         "7",
         "gc",
         "133460.0",
         "38710.0",
         "21580.0",
         "5180.0"
        ],
        [
         "8",
         "gen",
         "21050.0",
         "6050.0",
         "2700.0",
         "970.0"
        ],
        [
         "9",
         "gg",
         "0.0",
         "0.0",
         "40.0",
         "0.0"
        ],
        [
         "10",
         "n64",
         "139020.0",
         "41060.0",
         "34220.0",
         "4380.0"
        ],
        [
         "11",
         "nes",
         "125940.0",
         "21150.0",
         "98650.0",
         "5310.0"
        ],
        [
         "12",
         "ng",
         "0.0",
         "0.0",
         "1440.0",
         "0.0"
        ],
        [
         "13",
         "pc",
         "94530.0",
         "142440.0",
         "170.0",
         "22380.0"
        ],
        [
         "14",
         "pcfx",
         "0.0",
         "0.0",
         "30.0",
         "0.0"
        ],
        [
         "15",
         "ps",
         "336520.0",
         "213610.0",
         "139820.0",
         "40910.0"
        ],
        [
         "16",
         "ps2",
         "583840.0",
         "339290.0",
         "139200.0",
         "193440.0"
        ],
        [
         "17",
         "ps3",
         "393490.0",
         "330290.0",
         "80190.0",
         "135680.0"
        ],
        [
         "18",
         "ps4",
         "108740.0",
         "141090.0",
         "15960.0",
         "48350.0"
        ],
        [
         "19",
         "psp",
         "109170.0",
         "66680.0",
         "76780.0",
         "41420.0"
        ],
        [
         "20",
         "psv",
         "12580.0",
         "13120.0",
         "21910.0",
         "6460.0"
        ],
        [
         "21",
         "sat",
         "720.0",
         "540.0",
         "32260.0",
         "70.0"
        ],
        [
         "22",
         "scd",
         "1000.0",
         "360.0",
         "450.0",
         "50.0"
        ],
        [
         "23",
         "snes",
         "61230.0",
         "19040.0",
         "116550.0",
         "3220.0"
        ],
        [
         "24",
         "tg16",
         "0.0",
         "0.0",
         "160.0",
         "0.0"
        ],
        [
         "25",
         "wii",
         "496900.0",
         "262210.0",
         "69330.0",
         "79070.0"
        ],
        [
         "26",
         "wiiu",
         "38100.0",
         "25130.0",
         "13010.0",
         "5950.0"
        ],
        [
         "27",
         "ws",
         "0.0",
         "0.0",
         "1420.0",
         "0.0"
        ],
        [
         "28",
         "x360",
         "602470.0",
         "270760.0",
         "12430.0",
         "85760.0"
        ],
        [
         "29",
         "xb",
         "186690.0",
         "60950.0",
         "1380.0",
         "8720.0"
        ],
        [
         "30",
         "xone",
         "93120.0",
         "51590.0",
         "340.0",
         "14270.0"
        ]
       ],
       "shape": {
        "columns": 5,
        "rows": 31
       }
      },
      "text/html": [
       "<div>\n",
       "<style scoped>\n",
       "    .dataframe tbody tr th:only-of-type {\n",
       "        vertical-align: middle;\n",
       "    }\n",
       "\n",
       "    .dataframe tbody tr th {\n",
       "        vertical-align: top;\n",
       "    }\n",
       "\n",
       "    .dataframe thead th {\n",
       "        text-align: right;\n",
       "    }\n",
       "</style>\n",
       "<table border=\"1\" class=\"dataframe\">\n",
       "  <thead>\n",
       "    <tr style=\"text-align: right;\">\n",
       "      <th></th>\n",
       "      <th>platform</th>\n",
       "      <th>na_sales</th>\n",
       "      <th>eu_sales</th>\n",
       "      <th>jp_sales</th>\n",
       "      <th>other_sales</th>\n",
       "    </tr>\n",
       "  </thead>\n",
       "  <tbody>\n",
       "    <tr>\n",
       "      <th>0</th>\n",
       "      <td>2600</td>\n",
       "      <td>90600.0</td>\n",
       "      <td>5470.0</td>\n",
       "      <td>0.0</td>\n",
       "      <td>910.0</td>\n",
       "    </tr>\n",
       "    <tr>\n",
       "      <th>1</th>\n",
       "      <td>3do</td>\n",
       "      <td>0.0</td>\n",
       "      <td>0.0</td>\n",
       "      <td>100.0</td>\n",
       "      <td>0.0</td>\n",
       "    </tr>\n",
       "    <tr>\n",
       "      <th>2</th>\n",
       "      <td>3ds</td>\n",
       "      <td>83490.0</td>\n",
       "      <td>61480.0</td>\n",
       "      <td>100670.0</td>\n",
       "      <td>13360.0</td>\n",
       "    </tr>\n",
       "    <tr>\n",
       "      <th>3</th>\n",
       "      <td>dc</td>\n",
       "      <td>5430.0</td>\n",
       "      <td>1690.0</td>\n",
       "      <td>8560.0</td>\n",
       "      <td>270.0</td>\n",
       "    </tr>\n",
       "    <tr>\n",
       "      <th>4</th>\n",
       "      <td>ds</td>\n",
       "      <td>382400.0</td>\n",
       "      <td>188890.0</td>\n",
       "      <td>175570.0</td>\n",
       "      <td>59260.0</td>\n",
       "    </tr>\n",
       "    <tr>\n",
       "      <th>...</th>\n",
       "      <td>...</td>\n",
       "      <td>...</td>\n",
       "      <td>...</td>\n",
       "      <td>...</td>\n",
       "      <td>...</td>\n",
       "    </tr>\n",
       "    <tr>\n",
       "      <th>26</th>\n",
       "      <td>wiiu</td>\n",
       "      <td>38100.0</td>\n",
       "      <td>25130.0</td>\n",
       "      <td>13010.0</td>\n",
       "      <td>5950.0</td>\n",
       "    </tr>\n",
       "    <tr>\n",
       "      <th>27</th>\n",
       "      <td>ws</td>\n",
       "      <td>0.0</td>\n",
       "      <td>0.0</td>\n",
       "      <td>1420.0</td>\n",
       "      <td>0.0</td>\n",
       "    </tr>\n",
       "    <tr>\n",
       "      <th>28</th>\n",
       "      <td>x360</td>\n",
       "      <td>602470.0</td>\n",
       "      <td>270760.0</td>\n",
       "      <td>12430.0</td>\n",
       "      <td>85760.0</td>\n",
       "    </tr>\n",
       "    <tr>\n",
       "      <th>29</th>\n",
       "      <td>xb</td>\n",
       "      <td>186690.0</td>\n",
       "      <td>60950.0</td>\n",
       "      <td>1380.0</td>\n",
       "      <td>8720.0</td>\n",
       "    </tr>\n",
       "    <tr>\n",
       "      <th>30</th>\n",
       "      <td>xone</td>\n",
       "      <td>93120.0</td>\n",
       "      <td>51590.0</td>\n",
       "      <td>340.0</td>\n",
       "      <td>14270.0</td>\n",
       "    </tr>\n",
       "  </tbody>\n",
       "</table>\n",
       "<p>31 rows × 5 columns</p>\n",
       "</div>"
      ],
      "text/plain": [
       "   platform  na_sales  eu_sales  jp_sales  other_sales\n",
       "0      2600   90600.0    5470.0       0.0        910.0\n",
       "1       3do       0.0       0.0     100.0          0.0\n",
       "2       3ds   83490.0   61480.0  100670.0      13360.0\n",
       "3        dc    5430.0    1690.0    8560.0        270.0\n",
       "4        ds  382400.0  188890.0  175570.0      59260.0\n",
       "..      ...       ...       ...       ...          ...\n",
       "26     wiiu   38100.0   25130.0   13010.0       5950.0\n",
       "27       ws       0.0       0.0    1420.0          0.0\n",
       "28     x360  602470.0  270760.0   12430.0      85760.0\n",
       "29       xb  186690.0   60950.0    1380.0       8720.0\n",
       "30     xone   93120.0   51590.0     340.0      14270.0\n",
       "\n",
       "[31 rows x 5 columns]"
      ]
     },
     "execution_count": 9,
     "metadata": {},
     "output_type": "execute_result"
    }
   ],
   "source": [
    "# Sales variation per platform\n",
    "df_vg_platform_sales = df_vg.loc[:, ['platform', 'na_sales', 'eu_sales', 'jp_sales', 'other_sales']]\n",
    "df_vg_platform_sales = df_vg.groupby(['platform'], observed=False).agg({'na_sales':'sum', 'eu_sales':'sum', 'jp_sales':'sum', \n",
    "                                                                        'other_sales':'sum'}).reset_index()\n",
    "df_vg_platform_sales"
   ]
  },
  {
   "cell_type": "code",
   "execution_count": 10,
   "id": "210d5fb8",
   "metadata": {},
   "outputs": [
    {
     "data": {
      "application/vnd.microsoft.datawrangler.viewer.v0+json": {
       "columns": [
        {
         "name": "index",
         "rawType": "int64",
         "type": "integer"
        },
        {
         "name": "platform",
         "rawType": "category",
         "type": "unknown"
        },
        {
         "name": "na_sales",
         "rawType": "float64",
         "type": "float"
        },
        {
         "name": "eu_sales",
         "rawType": "float64",
         "type": "float"
        },
        {
         "name": "jp_sales",
         "rawType": "float64",
         "type": "float"
        },
        {
         "name": "other_sales",
         "rawType": "float64",
         "type": "float"
        },
        {
         "name": "total_sales",
         "rawType": "float64",
         "type": "float"
        }
       ],
       "ref": "7408cfa0-4443-48bd-bf79-6be3c4b72184",
       "rows": [
        [
         "0",
         "2600",
         "90600.0",
         "5470.0",
         "0.0",
         "910.0",
         "96980.0"
        ],
        [
         "1",
         "3do",
         "0.0",
         "0.0",
         "100.0",
         "0.0",
         "100.0"
        ],
        [
         "2",
         "3ds",
         "83490.0",
         "61480.0",
         "100670.0",
         "13360.0",
         "259000.0"
        ],
        [
         "3",
         "dc",
         "5430.0",
         "1690.0",
         "8560.0",
         "270.0",
         "15950.0"
        ],
        [
         "4",
         "ds",
         "382400.0",
         "188890.0",
         "175570.0",
         "59260.0",
         "806120.0"
        ],
        [
         "5",
         "gb",
         "114320.0",
         "47820.0",
         "85120.0",
         "8200.0",
         "255460.0"
        ],
        [
         "6",
         "gba",
         "187540.0",
         "75250.0",
         "47330.0",
         "7730.0",
         "317850.0"
        ],
        [
         "7",
         "gc",
         "133460.0",
         "38710.0",
         "21580.0",
         "5180.0",
         "198930.0"
        ],
        [
         "8",
         "gen",
         "21050.0",
         "6050.0",
         "2700.0",
         "970.0",
         "30770.0"
        ],
        [
         "9",
         "gg",
         "0.0",
         "0.0",
         "40.0",
         "0.0",
         "40.0"
        ],
        [
         "10",
         "n64",
         "139020.0",
         "41060.0",
         "34220.0",
         "4380.0",
         "218680.0"
        ],
        [
         "11",
         "nes",
         "125940.0",
         "21150.0",
         "98650.0",
         "5310.0",
         "251050.0"
        ],
        [
         "12",
         "ng",
         "0.0",
         "0.0",
         "1440.0",
         "0.0",
         "1440.0"
        ],
        [
         "13",
         "pc",
         "94530.0",
         "142440.0",
         "170.0",
         "22380.0",
         "259520.0"
        ],
        [
         "14",
         "pcfx",
         "0.0",
         "0.0",
         "30.0",
         "0.0",
         "30.0"
        ],
        [
         "15",
         "ps",
         "336520.0",
         "213610.0",
         "139820.0",
         "40910.0",
         "730860.0"
        ],
        [
         "16",
         "ps2",
         "583840.0",
         "339290.0",
         "139200.0",
         "193440.0",
         "1255770.0"
        ],
        [
         "17",
         "ps3",
         "393490.0",
         "330290.0",
         "80190.0",
         "135680.0",
         "939650.0"
        ],
        [
         "18",
         "ps4",
         "108740.0",
         "141090.0",
         "15960.0",
         "48350.0",
         "314140.0"
        ],
        [
         "19",
         "psp",
         "109170.0",
         "66680.0",
         "76780.0",
         "41420.0",
         "294050.0"
        ],
        [
         "20",
         "psv",
         "12580.0",
         "13120.0",
         "21910.0",
         "6460.0",
         "54070.0"
        ],
        [
         "21",
         "sat",
         "720.0",
         "540.0",
         "32260.0",
         "70.0",
         "33590.0"
        ],
        [
         "22",
         "scd",
         "1000.0",
         "360.0",
         "450.0",
         "50.0",
         "1860.0"
        ],
        [
         "23",
         "snes",
         "61230.0",
         "19040.0",
         "116550.0",
         "3220.0",
         "200040.0"
        ],
        [
         "24",
         "tg16",
         "0.0",
         "0.0",
         "160.0",
         "0.0",
         "160.0"
        ],
        [
         "25",
         "wii",
         "496900.0",
         "262210.0",
         "69330.0",
         "79070.0",
         "907510.0"
        ],
        [
         "26",
         "wiiu",
         "38100.0",
         "25130.0",
         "13010.0",
         "5950.0",
         "82190.0"
        ],
        [
         "27",
         "ws",
         "0.0",
         "0.0",
         "1420.0",
         "0.0",
         "1420.0"
        ],
        [
         "28",
         "x360",
         "602470.0",
         "270760.0",
         "12430.0",
         "85760.0",
         "971420.0"
        ],
        [
         "29",
         "xb",
         "186690.0",
         "60950.0",
         "1380.0",
         "8720.0",
         "257740.0"
        ],
        [
         "30",
         "xone",
         "93120.0",
         "51590.0",
         "340.0",
         "14270.0",
         "159320.0"
        ]
       ],
       "shape": {
        "columns": 6,
        "rows": 31
       }
      },
      "text/html": [
       "<div>\n",
       "<style scoped>\n",
       "    .dataframe tbody tr th:only-of-type {\n",
       "        vertical-align: middle;\n",
       "    }\n",
       "\n",
       "    .dataframe tbody tr th {\n",
       "        vertical-align: top;\n",
       "    }\n",
       "\n",
       "    .dataframe thead th {\n",
       "        text-align: right;\n",
       "    }\n",
       "</style>\n",
       "<table border=\"1\" class=\"dataframe\">\n",
       "  <thead>\n",
       "    <tr style=\"text-align: right;\">\n",
       "      <th></th>\n",
       "      <th>platform</th>\n",
       "      <th>na_sales</th>\n",
       "      <th>eu_sales</th>\n",
       "      <th>jp_sales</th>\n",
       "      <th>other_sales</th>\n",
       "      <th>total_sales</th>\n",
       "    </tr>\n",
       "  </thead>\n",
       "  <tbody>\n",
       "    <tr>\n",
       "      <th>0</th>\n",
       "      <td>2600</td>\n",
       "      <td>90600.0</td>\n",
       "      <td>5470.0</td>\n",
       "      <td>0.0</td>\n",
       "      <td>910.0</td>\n",
       "      <td>96980.0</td>\n",
       "    </tr>\n",
       "    <tr>\n",
       "      <th>1</th>\n",
       "      <td>3do</td>\n",
       "      <td>0.0</td>\n",
       "      <td>0.0</td>\n",
       "      <td>100.0</td>\n",
       "      <td>0.0</td>\n",
       "      <td>100.0</td>\n",
       "    </tr>\n",
       "    <tr>\n",
       "      <th>2</th>\n",
       "      <td>3ds</td>\n",
       "      <td>83490.0</td>\n",
       "      <td>61480.0</td>\n",
       "      <td>100670.0</td>\n",
       "      <td>13360.0</td>\n",
       "      <td>259000.0</td>\n",
       "    </tr>\n",
       "    <tr>\n",
       "      <th>3</th>\n",
       "      <td>dc</td>\n",
       "      <td>5430.0</td>\n",
       "      <td>1690.0</td>\n",
       "      <td>8560.0</td>\n",
       "      <td>270.0</td>\n",
       "      <td>15950.0</td>\n",
       "    </tr>\n",
       "    <tr>\n",
       "      <th>4</th>\n",
       "      <td>ds</td>\n",
       "      <td>382400.0</td>\n",
       "      <td>188890.0</td>\n",
       "      <td>175570.0</td>\n",
       "      <td>59260.0</td>\n",
       "      <td>806120.0</td>\n",
       "    </tr>\n",
       "    <tr>\n",
       "      <th>...</th>\n",
       "      <td>...</td>\n",
       "      <td>...</td>\n",
       "      <td>...</td>\n",
       "      <td>...</td>\n",
       "      <td>...</td>\n",
       "      <td>...</td>\n",
       "    </tr>\n",
       "    <tr>\n",
       "      <th>26</th>\n",
       "      <td>wiiu</td>\n",
       "      <td>38100.0</td>\n",
       "      <td>25130.0</td>\n",
       "      <td>13010.0</td>\n",
       "      <td>5950.0</td>\n",
       "      <td>82190.0</td>\n",
       "    </tr>\n",
       "    <tr>\n",
       "      <th>27</th>\n",
       "      <td>ws</td>\n",
       "      <td>0.0</td>\n",
       "      <td>0.0</td>\n",
       "      <td>1420.0</td>\n",
       "      <td>0.0</td>\n",
       "      <td>1420.0</td>\n",
       "    </tr>\n",
       "    <tr>\n",
       "      <th>28</th>\n",
       "      <td>x360</td>\n",
       "      <td>602470.0</td>\n",
       "      <td>270760.0</td>\n",
       "      <td>12430.0</td>\n",
       "      <td>85760.0</td>\n",
       "      <td>971420.0</td>\n",
       "    </tr>\n",
       "    <tr>\n",
       "      <th>29</th>\n",
       "      <td>xb</td>\n",
       "      <td>186690.0</td>\n",
       "      <td>60950.0</td>\n",
       "      <td>1380.0</td>\n",
       "      <td>8720.0</td>\n",
       "      <td>257740.0</td>\n",
       "    </tr>\n",
       "    <tr>\n",
       "      <th>30</th>\n",
       "      <td>xone</td>\n",
       "      <td>93120.0</td>\n",
       "      <td>51590.0</td>\n",
       "      <td>340.0</td>\n",
       "      <td>14270.0</td>\n",
       "      <td>159320.0</td>\n",
       "    </tr>\n",
       "  </tbody>\n",
       "</table>\n",
       "<p>31 rows × 6 columns</p>\n",
       "</div>"
      ],
      "text/plain": [
       "   platform  na_sales  eu_sales  jp_sales  other_sales  total_sales\n",
       "0      2600   90600.0    5470.0       0.0        910.0      96980.0\n",
       "1       3do       0.0       0.0     100.0          0.0        100.0\n",
       "2       3ds   83490.0   61480.0  100670.0      13360.0     259000.0\n",
       "3        dc    5430.0    1690.0    8560.0        270.0      15950.0\n",
       "4        ds  382400.0  188890.0  175570.0      59260.0     806120.0\n",
       "..      ...       ...       ...       ...          ...          ...\n",
       "26     wiiu   38100.0   25130.0   13010.0       5950.0      82190.0\n",
       "27       ws       0.0       0.0    1420.0          0.0       1420.0\n",
       "28     x360  602470.0  270760.0   12430.0      85760.0     971420.0\n",
       "29       xb  186690.0   60950.0    1380.0       8720.0     257740.0\n",
       "30     xone   93120.0   51590.0     340.0      14270.0     159320.0\n",
       "\n",
       "[31 rows x 6 columns]"
      ]
     },
     "execution_count": 10,
     "metadata": {},
     "output_type": "execute_result"
    }
   ],
   "source": [
    "df_vg_platform_sales['total_sales'] = df_vg_platform_sales[['na_sales', 'eu_sales', 'jp_sales', 'other_sales']].sum(axis=1)\n",
    "df_vg_platform_sales"
   ]
  },
  {
   "cell_type": "code",
   "execution_count": 11,
   "id": "e6606df2",
   "metadata": {},
   "outputs": [],
   "source": [
    "project_root = Path.cwd().parent\n",
    "processed_path = project_root / \"data\" / \"processed\" / \"feature\" / \"vg_platform_sales_feature.csv\"\n",
    "\n",
    "df_vg_platform_sales.to_csv(processed_path, index=False)"
   ]
  },
  {
   "cell_type": "code",
   "execution_count": 12,
   "id": "58c59a4a",
   "metadata": {},
   "outputs": [
    {
     "data": {
      "application/vnd.microsoft.datawrangler.viewer.v0+json": {
       "columns": [
        {
         "name": "index",
         "rawType": "int64",
         "type": "integer"
        },
        {
         "name": "platform",
         "rawType": "category",
         "type": "unknown"
        },
        {
         "name": "year_of_release",
         "rawType": "float64",
         "type": "float"
        },
        {
         "name": "na_sales",
         "rawType": "float64",
         "type": "float"
        },
        {
         "name": "eu_sales",
         "rawType": "float64",
         "type": "float"
        },
        {
         "name": "jp_sales",
         "rawType": "float64",
         "type": "float"
        },
        {
         "name": "other_sales",
         "rawType": "float64",
         "type": "float"
        }
       ],
       "ref": "28938e0e-6f34-43dd-96ac-5115c5b4802a",
       "rows": [
        [
         "124",
         "3ds",
         "2011.0",
         "27640.0",
         "18840.0",
         "12830.0",
         "4450.0"
        ],
        [
         "125",
         "3ds",
         "2012.0",
         "17110.0",
         "11680.0",
         "20030.0",
         "2590.0"
        ],
        [
         "126",
         "3ds",
         "2013.0",
         "15560.0",
         "14840.0",
         "23570.0",
         "2600.0"
        ],
        [
         "127",
         "3ds",
         "2014.0",
         "12330.0",
         "8730.0",
         "20690.0",
         "2010.0"
        ],
        [
         "128",
         "3ds",
         "2015.0",
         "6170.0",
         "5060.0",
         "15520.0",
         "1030.0"
        ],
        [
         "129",
         "3ds",
         "2016.0",
         "4140.0",
         "2330.0",
         "8030.0",
         "640.0"
        ],
        [
         "156",
         "dc",
         "1998.0",
         "1260.0",
         "610.0",
         "1430.0",
         "80.0"
        ],
        [
         "157",
         "dc",
         "1999.0",
         "1640.0",
         "290.0",
         "3170.0",
         "60.0"
        ],
        [
         "158",
         "dc",
         "2000.0",
         "2530.0",
         "790.0",
         "2540.0",
         "130.0"
        ],
        [
         "207",
         "ds",
         "2004.0",
         "8330.0",
         "3930.0",
         "3650.0",
         "1360.0"
        ],
        [
         "208",
         "ds",
         "2005.0",
         "47990.0",
         "41490.0",
         "29880.0",
         "10800.0"
        ],
        [
         "209",
         "ds",
         "2006.0",
         "50070.0",
         "23070.0",
         "38760.0",
         "8170.0"
        ],
        [
         "210",
         "ds",
         "2007.0",
         "75600.0",
         "33800.0",
         "26830.0",
         "11120.0"
        ],
        [
         "211",
         "ds",
         "2008.0",
         "78680.0",
         "32360.0",
         "24110.0",
         "10990.0"
        ],
        [
         "212",
         "ds",
         "2009.0",
         "60980.0",
         "25850.0",
         "24210.0",
         "8550.0"
        ],
        [
         "213",
         "ds",
         "2010.0",
         "41090.0",
         "18840.0",
         "19880.0",
         "5560.0"
        ],
        [
         "214",
         "ds",
         "2011.0",
         "14740.0",
         "5970.0",
         "4320.0",
         "1960.0"
        ],
        [
         "215",
         "ds",
         "2012.0",
         "4020.0",
         "2680.0",
         "3720.0",
         "590.0"
        ],
        [
         "217",
         "ds",
         "2014.0",
         "210.0",
         "50.0",
         "30.0",
         "30.0"
        ],
        [
         "236",
         "gb",
         "1988.0",
         "820.0",
         "230.0",
         "350.0",
         "30.0"
        ],
        [
         "237",
         "gb",
         "1989.0",
         "39810.0",
         "7600.0",
         "16160.0",
         "1400.0"
        ],
        [
         "238",
         "gb",
         "1990.0",
         "2240.0",
         "890.0",
         "1330.0",
         "430.0"
        ],
        [
         "239",
         "gb",
         "1991.0",
         "1430.0",
         "680.0",
         "3380.0",
         "80.0"
        ],
        [
         "240",
         "gb",
         "1992.0",
         "13100.0",
         "4240.0",
         "7510.0",
         "640.0"
        ],
        [
         "242",
         "gb",
         "1994.0",
         "6030.0",
         "2360.0",
         "3190.0",
         "600.0"
        ],
        [
         "243",
         "gb",
         "1995.0",
         "690.0",
         "140.0",
         "2720.0",
         "50.0"
        ],
        [
         "244",
         "gb",
         "1996.0",
         "12660.0",
         "9370.0",
         "12910.0",
         "1090.0"
        ],
        [
         "245",
         "gb",
         "1997.0",
         "2770.0",
         "1210.0",
         "3260.0",
         "160.0"
        ],
        [
         "246",
         "gb",
         "1998.0",
         "9440.0",
         "7000.0",
         "9550.0",
         "910.0"
        ],
        [
         "247",
         "gb",
         "1999.0",
         "16210.0",
         "8910.0",
         "11750.0",
         "1130.0"
        ],
        [
         "248",
         "gb",
         "2000.0",
         "6390.0",
         "3520.0",
         "8360.0",
         "1490.0"
        ],
        [
         "249",
         "gb",
         "2001.0",
         "2730.0",
         "1670.0",
         "4650.0",
         "190.0"
        ],
        [
         "294",
         "gba",
         "2001.0",
         "38650.0",
         "16200.0",
         "7460.0",
         "1990.0"
        ],
        [
         "295",
         "gba",
         "2002.0",
         "43020.0",
         "17120.0",
         "12210.0",
         "1810.0"
        ],
        [
         "296",
         "gba",
         "2003.0",
         "33530.0",
         "13190.0",
         "8590.0",
         "1360.0"
        ],
        [
         "297",
         "gba",
         "2004.0",
         "44610.0",
         "18220.0",
         "14290.0",
         "1840.0"
        ],
        [
         "298",
         "gba",
         "2005.0",
         "22450.0",
         "8590.0",
         "3270.0",
         "590.0"
        ],
        [
         "299",
         "gba",
         "2006.0",
         "2700.0",
         "980.0",
         "1510.0",
         "90.0"
        ],
        [
         "339",
         "gc",
         "2001.0",
         "16910.0",
         "4800.0",
         "3960.0",
         "780.0"
        ],
        [
         "340",
         "gc",
         "2002.0",
         "35030.0",
         "10570.0",
         "5280.0",
         "1340.0"
        ],
        [
         "341",
         "gc",
         "2003.0",
         "33100.0",
         "10350.0",
         "6560.0",
         "1320.0"
        ],
        [
         "342",
         "gc",
         "2004.0",
         "19720.0",
         "5330.0",
         "3000.0",
         "780.0"
        ],
        [
         "343",
         "gc",
         "2005.0",
         "19470.0",
         "5190.0",
         "2570.0",
         "680.0"
        ],
        [
         "344",
         "gc",
         "2006.0",
         "8730.0",
         "2340.0",
         "210.0",
         "270.0"
        ],
        [
         "373",
         "gen",
         "1990.0",
         "1860.0",
         "550.0",
         "110.0",
         "80.0"
        ],
        [
         "374",
         "gen",
         "1991.0",
         "3030.0",
         "910.0",
         "260.0",
         "130.0"
        ],
        [
         "375",
         "gen",
         "1992.0",
         "9170.0",
         "2380.0",
         "720.0",
         "370.0"
        ],
        [
         "376",
         "gen",
         "1993.0",
         "1780.0",
         "530.0",
         "680.0",
         "80.0"
        ],
        [
         "377",
         "gen",
         "1994.0",
         "5210.0",
         "1680.0",
         "930.0",
         "310.0"
        ],
        [
         "469",
         "n64",
         "1996.0",
         "21030.0",
         "6720.0",
         "5770.0",
         "580.0"
        ]
       ],
       "shape": {
        "columns": 6,
        "rows": 163
       }
      },
      "text/html": [
       "<div>\n",
       "<style scoped>\n",
       "    .dataframe tbody tr th:only-of-type {\n",
       "        vertical-align: middle;\n",
       "    }\n",
       "\n",
       "    .dataframe tbody tr th {\n",
       "        vertical-align: top;\n",
       "    }\n",
       "\n",
       "    .dataframe thead th {\n",
       "        text-align: right;\n",
       "    }\n",
       "</style>\n",
       "<table border=\"1\" class=\"dataframe\">\n",
       "  <thead>\n",
       "    <tr style=\"text-align: right;\">\n",
       "      <th></th>\n",
       "      <th>platform</th>\n",
       "      <th>year_of_release</th>\n",
       "      <th>na_sales</th>\n",
       "      <th>eu_sales</th>\n",
       "      <th>jp_sales</th>\n",
       "      <th>other_sales</th>\n",
       "    </tr>\n",
       "  </thead>\n",
       "  <tbody>\n",
       "    <tr>\n",
       "      <th>124</th>\n",
       "      <td>3ds</td>\n",
       "      <td>2011.0</td>\n",
       "      <td>27640.0</td>\n",
       "      <td>18840.0</td>\n",
       "      <td>12830.0</td>\n",
       "      <td>4450.0</td>\n",
       "    </tr>\n",
       "    <tr>\n",
       "      <th>125</th>\n",
       "      <td>3ds</td>\n",
       "      <td>2012.0</td>\n",
       "      <td>17110.0</td>\n",
       "      <td>11680.0</td>\n",
       "      <td>20030.0</td>\n",
       "      <td>2590.0</td>\n",
       "    </tr>\n",
       "    <tr>\n",
       "      <th>126</th>\n",
       "      <td>3ds</td>\n",
       "      <td>2013.0</td>\n",
       "      <td>15560.0</td>\n",
       "      <td>14840.0</td>\n",
       "      <td>23570.0</td>\n",
       "      <td>2600.0</td>\n",
       "    </tr>\n",
       "    <tr>\n",
       "      <th>127</th>\n",
       "      <td>3ds</td>\n",
       "      <td>2014.0</td>\n",
       "      <td>12330.0</td>\n",
       "      <td>8730.0</td>\n",
       "      <td>20690.0</td>\n",
       "      <td>2010.0</td>\n",
       "    </tr>\n",
       "    <tr>\n",
       "      <th>128</th>\n",
       "      <td>3ds</td>\n",
       "      <td>2015.0</td>\n",
       "      <td>6170.0</td>\n",
       "      <td>5060.0</td>\n",
       "      <td>15520.0</td>\n",
       "      <td>1030.0</td>\n",
       "    </tr>\n",
       "    <tr>\n",
       "      <th>...</th>\n",
       "      <td>...</td>\n",
       "      <td>...</td>\n",
       "      <td>...</td>\n",
       "      <td>...</td>\n",
       "      <td>...</td>\n",
       "      <td>...</td>\n",
       "    </tr>\n",
       "    <tr>\n",
       "      <th>1333</th>\n",
       "      <td>xb</td>\n",
       "      <td>2005.0</td>\n",
       "      <td>35110.0</td>\n",
       "      <td>12560.0</td>\n",
       "      <td>20.0</td>\n",
       "      <td>1740.0</td>\n",
       "    </tr>\n",
       "    <tr>\n",
       "      <th>1386</th>\n",
       "      <td>xone</td>\n",
       "      <td>2013.0</td>\n",
       "      <td>11850.0</td>\n",
       "      <td>5340.0</td>\n",
       "      <td>20.0</td>\n",
       "      <td>1750.0</td>\n",
       "    </tr>\n",
       "    <tr>\n",
       "      <th>1387</th>\n",
       "      <td>xone</td>\n",
       "      <td>2014.0</td>\n",
       "      <td>30970.0</td>\n",
       "      <td>18150.0</td>\n",
       "      <td>140.0</td>\n",
       "      <td>4810.0</td>\n",
       "    </tr>\n",
       "    <tr>\n",
       "      <th>1388</th>\n",
       "      <td>xone</td>\n",
       "      <td>2015.0</td>\n",
       "      <td>36030.0</td>\n",
       "      <td>18470.0</td>\n",
       "      <td>170.0</td>\n",
       "      <td>5470.0</td>\n",
       "    </tr>\n",
       "    <tr>\n",
       "      <th>1389</th>\n",
       "      <td>xone</td>\n",
       "      <td>2016.0</td>\n",
       "      <td>14270.0</td>\n",
       "      <td>9630.0</td>\n",
       "      <td>10.0</td>\n",
       "      <td>2240.0</td>\n",
       "    </tr>\n",
       "  </tbody>\n",
       "</table>\n",
       "<p>163 rows × 6 columns</p>\n",
       "</div>"
      ],
      "text/plain": [
       "     platform  year_of_release  na_sales  eu_sales  jp_sales  other_sales\n",
       "124       3ds           2011.0   27640.0   18840.0   12830.0       4450.0\n",
       "125       3ds           2012.0   17110.0   11680.0   20030.0       2590.0\n",
       "126       3ds           2013.0   15560.0   14840.0   23570.0       2600.0\n",
       "127       3ds           2014.0   12330.0    8730.0   20690.0       2010.0\n",
       "128       3ds           2015.0    6170.0    5060.0   15520.0       1030.0\n",
       "...       ...              ...       ...       ...       ...          ...\n",
       "1333       xb           2005.0   35110.0   12560.0      20.0       1740.0\n",
       "1386     xone           2013.0   11850.0    5340.0      20.0       1750.0\n",
       "1387     xone           2014.0   30970.0   18150.0     140.0       4810.0\n",
       "1388     xone           2015.0   36030.0   18470.0     170.0       5470.0\n",
       "1389     xone           2016.0   14270.0    9630.0      10.0       2240.0\n",
       "\n",
       "[163 rows x 6 columns]"
      ]
     },
     "execution_count": 12,
     "metadata": {},
     "output_type": "execute_result"
    }
   ],
   "source": [
    "# Platforms highest total sales per year\n",
    "df_vg_platform_top_sales_year = df_vg.loc[:, ['platform', 'year_of_release', 'na_sales', 'eu_sales', 'jp_sales', 'other_sales']]\n",
    "df_vg_platform_top_sales_year = df_vg.groupby(['platform', 'year_of_release'], observed=False).agg({'na_sales':'sum', 'eu_sales':'sum', \n",
    "                                                                                                    'jp_sales':'sum', 'other_sales':'sum'}).reset_index()\n",
    "\n",
    "cols = ['na_sales', 'eu_sales', 'jp_sales', 'other_sales']\n",
    "\n",
    "df_vg_platform_top_sales_year = df_vg_platform_top_sales_year.loc[~(df_vg_platform_top_sales_year[cols] == 0).any(axis=1)]\n",
    "df_vg_platform_top_sales_year"
   ]
  },
  {
   "cell_type": "code",
   "execution_count": 13,
   "id": "d99ac636",
   "metadata": {},
   "outputs": [
    {
     "data": {
      "application/vnd.microsoft.datawrangler.viewer.v0+json": {
       "columns": [
        {
         "name": "index",
         "rawType": "int64",
         "type": "integer"
        },
        {
         "name": "platform",
         "rawType": "category",
         "type": "unknown"
        },
        {
         "name": "year_of_release",
         "rawType": "float64",
         "type": "float"
        },
        {
         "name": "na_sales",
         "rawType": "float64",
         "type": "float"
        },
        {
         "name": "eu_sales",
         "rawType": "float64",
         "type": "float"
        },
        {
         "name": "jp_sales",
         "rawType": "float64",
         "type": "float"
        },
        {
         "name": "other_sales",
         "rawType": "float64",
         "type": "float"
        },
        {
         "name": "total_sales",
         "rawType": "float64",
         "type": "float"
        }
       ],
       "ref": "6719cec8-f12f-4782-b4e1-9e7d92b7d64f",
       "rows": [
        [
         "124",
         "3ds",
         "2011.0",
         "27640.0",
         "18840.0",
         "12830.0",
         "4450.0",
         "63760.0"
        ],
        [
         "125",
         "3ds",
         "2012.0",
         "17110.0",
         "11680.0",
         "20030.0",
         "2590.0",
         "51410.0"
        ],
        [
         "126",
         "3ds",
         "2013.0",
         "15560.0",
         "14840.0",
         "23570.0",
         "2600.0",
         "56570.0"
        ],
        [
         "127",
         "3ds",
         "2014.0",
         "12330.0",
         "8730.0",
         "20690.0",
         "2010.0",
         "43760.0"
        ],
        [
         "128",
         "3ds",
         "2015.0",
         "6170.0",
         "5060.0",
         "15520.0",
         "1030.0",
         "27780.0"
        ],
        [
         "129",
         "3ds",
         "2016.0",
         "4140.0",
         "2330.0",
         "8030.0",
         "640.0",
         "15140.0"
        ],
        [
         "156",
         "dc",
         "1998.0",
         "1260.0",
         "610.0",
         "1430.0",
         "80.0",
         "3380.0"
        ],
        [
         "157",
         "dc",
         "1999.0",
         "1640.0",
         "290.0",
         "3170.0",
         "60.0",
         "5160.0"
        ],
        [
         "158",
         "dc",
         "2000.0",
         "2530.0",
         "790.0",
         "2540.0",
         "130.0",
         "5990.0"
        ],
        [
         "207",
         "ds",
         "2004.0",
         "8330.0",
         "3930.0",
         "3650.0",
         "1360.0",
         "17270.0"
        ],
        [
         "208",
         "ds",
         "2005.0",
         "47990.0",
         "41490.0",
         "29880.0",
         "10800.0",
         "130160.0"
        ],
        [
         "209",
         "ds",
         "2006.0",
         "50070.0",
         "23070.0",
         "38760.0",
         "8170.0",
         "120070.0"
        ],
        [
         "210",
         "ds",
         "2007.0",
         "75600.0",
         "33800.0",
         "26830.0",
         "11120.0",
         "147350.0"
        ],
        [
         "211",
         "ds",
         "2008.0",
         "78680.0",
         "32360.0",
         "24110.0",
         "10990.0",
         "146140.0"
        ],
        [
         "212",
         "ds",
         "2009.0",
         "60980.0",
         "25850.0",
         "24210.0",
         "8550.0",
         "119590.0"
        ],
        [
         "213",
         "ds",
         "2010.0",
         "41090.0",
         "18840.0",
         "19880.0",
         "5560.0",
         "85370.0"
        ],
        [
         "214",
         "ds",
         "2011.0",
         "14740.0",
         "5970.0",
         "4320.0",
         "1960.0",
         "26990.0"
        ],
        [
         "215",
         "ds",
         "2012.0",
         "4020.0",
         "2680.0",
         "3720.0",
         "590.0",
         "11010.0"
        ],
        [
         "217",
         "ds",
         "2014.0",
         "210.0",
         "50.0",
         "30.0",
         "30.0",
         "320.0"
        ],
        [
         "236",
         "gb",
         "1988.0",
         "820.0",
         "230.0",
         "350.0",
         "30.0",
         "1430.0"
        ],
        [
         "237",
         "gb",
         "1989.0",
         "39810.0",
         "7600.0",
         "16160.0",
         "1400.0",
         "64970.0"
        ],
        [
         "238",
         "gb",
         "1990.0",
         "2240.0",
         "890.0",
         "1330.0",
         "430.0",
         "4890.0"
        ],
        [
         "239",
         "gb",
         "1991.0",
         "1430.0",
         "680.0",
         "3380.0",
         "80.0",
         "5570.0"
        ],
        [
         "240",
         "gb",
         "1992.0",
         "13100.0",
         "4240.0",
         "7510.0",
         "640.0",
         "25490.0"
        ],
        [
         "242",
         "gb",
         "1994.0",
         "6030.0",
         "2360.0",
         "3190.0",
         "600.0",
         "12180.0"
        ],
        [
         "243",
         "gb",
         "1995.0",
         "690.0",
         "140.0",
         "2720.0",
         "50.0",
         "3600.0"
        ],
        [
         "244",
         "gb",
         "1996.0",
         "12660.0",
         "9370.0",
         "12910.0",
         "1090.0",
         "36030.0"
        ],
        [
         "245",
         "gb",
         "1997.0",
         "2770.0",
         "1210.0",
         "3260.0",
         "160.0",
         "7400.0"
        ],
        [
         "246",
         "gb",
         "1998.0",
         "9440.0",
         "7000.0",
         "9550.0",
         "910.0",
         "26900.0"
        ],
        [
         "247",
         "gb",
         "1999.0",
         "16210.0",
         "8910.0",
         "11750.0",
         "1130.0",
         "38000.0"
        ],
        [
         "248",
         "gb",
         "2000.0",
         "6390.0",
         "3520.0",
         "8360.0",
         "1490.0",
         "19760.0"
        ],
        [
         "249",
         "gb",
         "2001.0",
         "2730.0",
         "1670.0",
         "4650.0",
         "190.0",
         "9240.0"
        ],
        [
         "294",
         "gba",
         "2001.0",
         "38650.0",
         "16200.0",
         "7460.0",
         "1990.0",
         "64300.0"
        ],
        [
         "295",
         "gba",
         "2002.0",
         "43020.0",
         "17120.0",
         "12210.0",
         "1810.0",
         "74160.0"
        ],
        [
         "296",
         "gba",
         "2003.0",
         "33530.0",
         "13190.0",
         "8590.0",
         "1360.0",
         "56670.0"
        ],
        [
         "297",
         "gba",
         "2004.0",
         "44610.0",
         "18220.0",
         "14290.0",
         "1840.0",
         "78960.0"
        ],
        [
         "298",
         "gba",
         "2005.0",
         "22450.0",
         "8590.0",
         "3270.0",
         "590.0",
         "34900.0"
        ],
        [
         "299",
         "gba",
         "2006.0",
         "2700.0",
         "980.0",
         "1510.0",
         "90.0",
         "5280.0"
        ],
        [
         "339",
         "gc",
         "2001.0",
         "16910.0",
         "4800.0",
         "3960.0",
         "780.0",
         "26450.0"
        ],
        [
         "340",
         "gc",
         "2002.0",
         "35030.0",
         "10570.0",
         "5280.0",
         "1340.0",
         "52220.0"
        ],
        [
         "341",
         "gc",
         "2003.0",
         "33100.0",
         "10350.0",
         "6560.0",
         "1320.0",
         "51330.0"
        ],
        [
         "342",
         "gc",
         "2004.0",
         "19720.0",
         "5330.0",
         "3000.0",
         "780.0",
         "28830.0"
        ],
        [
         "343",
         "gc",
         "2005.0",
         "19470.0",
         "5190.0",
         "2570.0",
         "680.0",
         "27910.0"
        ],
        [
         "344",
         "gc",
         "2006.0",
         "8730.0",
         "2340.0",
         "210.0",
         "270.0",
         "11550.0"
        ],
        [
         "373",
         "gen",
         "1990.0",
         "1860.0",
         "550.0",
         "110.0",
         "80.0",
         "2600.0"
        ],
        [
         "374",
         "gen",
         "1991.0",
         "3030.0",
         "910.0",
         "260.0",
         "130.0",
         "4330.0"
        ],
        [
         "375",
         "gen",
         "1992.0",
         "9170.0",
         "2380.0",
         "720.0",
         "370.0",
         "12640.0"
        ],
        [
         "376",
         "gen",
         "1993.0",
         "1780.0",
         "530.0",
         "680.0",
         "80.0",
         "3070.0"
        ],
        [
         "377",
         "gen",
         "1994.0",
         "5210.0",
         "1680.0",
         "930.0",
         "310.0",
         "8130.0"
        ],
        [
         "469",
         "n64",
         "1996.0",
         "21030.0",
         "6720.0",
         "5770.0",
         "580.0",
         "34100.0"
        ]
       ],
       "shape": {
        "columns": 7,
        "rows": 163
       }
      },
      "text/html": [
       "<div>\n",
       "<style scoped>\n",
       "    .dataframe tbody tr th:only-of-type {\n",
       "        vertical-align: middle;\n",
       "    }\n",
       "\n",
       "    .dataframe tbody tr th {\n",
       "        vertical-align: top;\n",
       "    }\n",
       "\n",
       "    .dataframe thead th {\n",
       "        text-align: right;\n",
       "    }\n",
       "</style>\n",
       "<table border=\"1\" class=\"dataframe\">\n",
       "  <thead>\n",
       "    <tr style=\"text-align: right;\">\n",
       "      <th></th>\n",
       "      <th>platform</th>\n",
       "      <th>year_of_release</th>\n",
       "      <th>na_sales</th>\n",
       "      <th>eu_sales</th>\n",
       "      <th>jp_sales</th>\n",
       "      <th>other_sales</th>\n",
       "      <th>total_sales</th>\n",
       "    </tr>\n",
       "  </thead>\n",
       "  <tbody>\n",
       "    <tr>\n",
       "      <th>124</th>\n",
       "      <td>3ds</td>\n",
       "      <td>2011.0</td>\n",
       "      <td>27640.0</td>\n",
       "      <td>18840.0</td>\n",
       "      <td>12830.0</td>\n",
       "      <td>4450.0</td>\n",
       "      <td>63760.0</td>\n",
       "    </tr>\n",
       "    <tr>\n",
       "      <th>125</th>\n",
       "      <td>3ds</td>\n",
       "      <td>2012.0</td>\n",
       "      <td>17110.0</td>\n",
       "      <td>11680.0</td>\n",
       "      <td>20030.0</td>\n",
       "      <td>2590.0</td>\n",
       "      <td>51410.0</td>\n",
       "    </tr>\n",
       "    <tr>\n",
       "      <th>126</th>\n",
       "      <td>3ds</td>\n",
       "      <td>2013.0</td>\n",
       "      <td>15560.0</td>\n",
       "      <td>14840.0</td>\n",
       "      <td>23570.0</td>\n",
       "      <td>2600.0</td>\n",
       "      <td>56570.0</td>\n",
       "    </tr>\n",
       "    <tr>\n",
       "      <th>127</th>\n",
       "      <td>3ds</td>\n",
       "      <td>2014.0</td>\n",
       "      <td>12330.0</td>\n",
       "      <td>8730.0</td>\n",
       "      <td>20690.0</td>\n",
       "      <td>2010.0</td>\n",
       "      <td>43760.0</td>\n",
       "    </tr>\n",
       "    <tr>\n",
       "      <th>128</th>\n",
       "      <td>3ds</td>\n",
       "      <td>2015.0</td>\n",
       "      <td>6170.0</td>\n",
       "      <td>5060.0</td>\n",
       "      <td>15520.0</td>\n",
       "      <td>1030.0</td>\n",
       "      <td>27780.0</td>\n",
       "    </tr>\n",
       "    <tr>\n",
       "      <th>...</th>\n",
       "      <td>...</td>\n",
       "      <td>...</td>\n",
       "      <td>...</td>\n",
       "      <td>...</td>\n",
       "      <td>...</td>\n",
       "      <td>...</td>\n",
       "      <td>...</td>\n",
       "    </tr>\n",
       "    <tr>\n",
       "      <th>1333</th>\n",
       "      <td>xb</td>\n",
       "      <td>2005.0</td>\n",
       "      <td>35110.0</td>\n",
       "      <td>12560.0</td>\n",
       "      <td>20.0</td>\n",
       "      <td>1740.0</td>\n",
       "      <td>49430.0</td>\n",
       "    </tr>\n",
       "    <tr>\n",
       "      <th>1386</th>\n",
       "      <td>xone</td>\n",
       "      <td>2013.0</td>\n",
       "      <td>11850.0</td>\n",
       "      <td>5340.0</td>\n",
       "      <td>20.0</td>\n",
       "      <td>1750.0</td>\n",
       "      <td>18960.0</td>\n",
       "    </tr>\n",
       "    <tr>\n",
       "      <th>1387</th>\n",
       "      <td>xone</td>\n",
       "      <td>2014.0</td>\n",
       "      <td>30970.0</td>\n",
       "      <td>18150.0</td>\n",
       "      <td>140.0</td>\n",
       "      <td>4810.0</td>\n",
       "      <td>54070.0</td>\n",
       "    </tr>\n",
       "    <tr>\n",
       "      <th>1388</th>\n",
       "      <td>xone</td>\n",
       "      <td>2015.0</td>\n",
       "      <td>36030.0</td>\n",
       "      <td>18470.0</td>\n",
       "      <td>170.0</td>\n",
       "      <td>5470.0</td>\n",
       "      <td>60140.0</td>\n",
       "    </tr>\n",
       "    <tr>\n",
       "      <th>1389</th>\n",
       "      <td>xone</td>\n",
       "      <td>2016.0</td>\n",
       "      <td>14270.0</td>\n",
       "      <td>9630.0</td>\n",
       "      <td>10.0</td>\n",
       "      <td>2240.0</td>\n",
       "      <td>26150.0</td>\n",
       "    </tr>\n",
       "  </tbody>\n",
       "</table>\n",
       "<p>163 rows × 7 columns</p>\n",
       "</div>"
      ],
      "text/plain": [
       "     platform  year_of_release  na_sales  eu_sales  jp_sales  other_sales  total_sales\n",
       "124       3ds           2011.0   27640.0   18840.0   12830.0       4450.0      63760.0\n",
       "125       3ds           2012.0   17110.0   11680.0   20030.0       2590.0      51410.0\n",
       "126       3ds           2013.0   15560.0   14840.0   23570.0       2600.0      56570.0\n",
       "127       3ds           2014.0   12330.0    8730.0   20690.0       2010.0      43760.0\n",
       "128       3ds           2015.0    6170.0    5060.0   15520.0       1030.0      27780.0\n",
       "...       ...              ...       ...       ...       ...          ...          ...\n",
       "1333       xb           2005.0   35110.0   12560.0      20.0       1740.0      49430.0\n",
       "1386     xone           2013.0   11850.0    5340.0      20.0       1750.0      18960.0\n",
       "1387     xone           2014.0   30970.0   18150.0     140.0       4810.0      54070.0\n",
       "1388     xone           2015.0   36030.0   18470.0     170.0       5470.0      60140.0\n",
       "1389     xone           2016.0   14270.0    9630.0      10.0       2240.0      26150.0\n",
       "\n",
       "[163 rows x 7 columns]"
      ]
     },
     "execution_count": 13,
     "metadata": {},
     "output_type": "execute_result"
    }
   ],
   "source": [
    "df_vg_platform_top_sales_year['total_sales'] = df_vg_platform_top_sales_year[['na_sales', 'eu_sales', 'jp_sales', 'other_sales']].sum(axis=1)\n",
    "df_vg_platform_top_sales_year"
   ]
  },
  {
   "cell_type": "code",
   "execution_count": 14,
   "id": "96ed2006",
   "metadata": {},
   "outputs": [],
   "source": [
    "project_root = Path.cwd().parent\n",
    "processed_path = project_root / \"data\" / \"processed\" / \"feature\" / \"vg_platform_top_sales_year_feature.csv\"\n",
    "\n",
    "df_vg_platform_top_sales_year.to_csv(processed_path, index=False)"
   ]
  },
  {
   "cell_type": "code",
   "execution_count": 15,
   "id": "4b8ec932",
   "metadata": {},
   "outputs": [
    {
     "data": {
      "text/plain": [
       "Index(['name', 'platform', 'year_of_release', 'genre', 'na_sales', 'eu_sales', 'jp_sales', 'other_sales', 'critic_score', 'user_score', 'rating'], dtype='object')"
      ]
     },
     "execution_count": 15,
     "metadata": {},
     "output_type": "execute_result"
    }
   ],
   "source": [
    "df_vg.columns"
   ]
  },
  {
   "cell_type": "code",
   "execution_count": 16,
   "id": "30950fbd",
   "metadata": {},
   "outputs": [
    {
     "data": {
      "application/vnd.microsoft.datawrangler.viewer.v0+json": {
       "columns": [
        {
         "name": "index",
         "rawType": "int64",
         "type": "integer"
        },
        {
         "name": "name",
         "rawType": "string",
         "type": "string"
        },
        {
         "name": "platform",
         "rawType": "category",
         "type": "unknown"
        },
        {
         "name": "year_of_release",
         "rawType": "float64",
         "type": "float"
        },
        {
         "name": "na_sales",
         "rawType": "float64",
         "type": "float"
        },
        {
         "name": "eu_sales",
         "rawType": "float64",
         "type": "float"
        },
        {
         "name": "jp_sales",
         "rawType": "float64",
         "type": "float"
        },
        {
         "name": "other_sales",
         "rawType": "float64",
         "type": "float"
        }
       ],
       "ref": "e7ae7c94-dabf-4950-a37a-dc1691f23520",
       "rows": [
        [
         "0",
         "wii_sports",
         "wii",
         "2006.0",
         "41360.0",
         "28960.0",
         "3770.0",
         "8450.0"
        ],
        [
         "1",
         "super_mario_bros",
         "nes",
         "1985.0",
         "29080.0",
         "3580.0",
         "6810.0",
         "770.0"
        ],
        [
         "2",
         "mario_kart_wii",
         "wii",
         "2008.0",
         "15680.0",
         "12760.0",
         "3790.0",
         "3290.0"
        ],
        [
         "3",
         "wii_sports_resort",
         "wii",
         "2009.0",
         "15610.0",
         "10930.0",
         "3280.0",
         "2950.0"
        ],
        [
         "4",
         "pokemon_red_pokemon_blue",
         "gb",
         "1996.0",
         "11270.0",
         "8890.0",
         "10220.0",
         "1000.0"
        ],
        [
         "5",
         "tetris",
         "gb",
         "1989.0",
         "23200.0",
         "2260.0",
         "4220.0",
         "580.0"
        ],
        [
         "6",
         "new_super_mario_bros",
         "ds",
         "2006.0",
         "11280.0",
         "9140.0",
         "6500.0",
         "2880.0"
        ],
        [
         "7",
         "wii_play",
         "wii",
         "2006.0",
         "13960.0",
         "9180.0",
         "2930.0",
         "2840.0"
        ],
        [
         "8",
         "new_super_mario_bros_wii",
         "wii",
         "2009.0",
         "14440.0",
         "6940.0",
         "4700.0",
         "2240.0"
        ],
        [
         "9",
         "duck_hunt",
         "nes",
         "1984.0",
         "26930.0",
         "630.0",
         "280.0",
         "470.0"
        ],
        [
         "10",
         "nintendogs",
         "ds",
         "2005.0",
         "9050.0",
         "10950.0",
         "1930.0",
         "2740.0"
        ],
        [
         "11",
         "mario_kart_ds",
         "ds",
         "2005.0",
         "9710.0",
         "7470.0",
         "4130.0",
         "1900.0"
        ],
        [
         "12",
         "pokemon_gold_pokemon_silver",
         "gb",
         "1999.0",
         "9000.0",
         "6180.0",
         "7200.0",
         "710.0"
        ],
        [
         "13",
         "wii_fit",
         "wii",
         "2007.0",
         "8920.0",
         "8029.999999999999",
         "3600.0",
         "2150.0"
        ],
        [
         "14",
         "kinect_adventures",
         "x360",
         "2010.0",
         "15000.0",
         "4890.0",
         "240.0",
         "1690.0"
        ],
        [
         "15",
         "wii_fit_plus",
         "wii",
         "2009.0",
         "9010.0",
         "8490.0",
         "2530.0",
         "1770.0"
        ],
        [
         "16",
         "grand_theft_auto_v",
         "ps3",
         "2013.0",
         "7020.0",
         "9090.0",
         "980.0",
         "3960.0"
        ],
        [
         "17",
         "grand_theft_auto_san_andreas",
         "ps2",
         "2004.0",
         "9430.0",
         "400.0",
         "410.0",
         "10570.0"
        ],
        [
         "18",
         "super_mario_world",
         "snes",
         "1990.0",
         "12780.0",
         "3750.0",
         "3540.0",
         "550.0"
        ],
        [
         "19",
         "brain_age_train_your_brain_in_minutes_a_day",
         "ds",
         "2005.0",
         "4740.0",
         "9200.0",
         "4160.0",
         "2040.0"
        ],
        [
         "20",
         "pokemon_diamond_pokemon_pearl",
         "ds",
         "2006.0",
         "6380.0",
         "4460.0",
         "6040.0",
         "1360.0"
        ],
        [
         "21",
         "super_mario_land",
         "gb",
         "1989.0",
         "10830.0",
         "2710.0",
         "4180.0",
         "420.0"
        ],
        [
         "22",
         "super_mario_bros_3",
         "nes",
         "1988.0",
         "9540.0",
         "3440.0",
         "3840.0",
         "460.0"
        ],
        [
         "23",
         "grand_theft_auto_v",
         "x360",
         "2013.0",
         "9660.0",
         "5140.0",
         "60.0",
         "1410.0"
        ],
        [
         "24",
         "grand_theft_auto_vice_city",
         "ps2",
         "2002.0",
         "8410.0",
         "5490.0",
         "470.0",
         "1780.0"
        ],
        [
         "25",
         "pokemon_ruby_pokemon_sapphire",
         "gba",
         "2002.0",
         "6060.0",
         "3900.0",
         "5380.0",
         "500.0"
        ],
        [
         "26",
         "brain_age_2_more_training_in_minutes_a_day",
         "ds",
         "2005.0",
         "3430.0",
         "5350.0",
         "5320.0",
         "1180.0"
        ],
        [
         "27",
         "pokemon_black_pokemon_white",
         "ds",
         "2010.0",
         "5510.0",
         "3170.0",
         "5650.0",
         "800.0"
        ],
        [
         "28",
         "gran_turismo_3_a_spec",
         "ps2",
         "2001.0",
         "6850.0",
         "5090.0",
         "1870.0",
         "1160.0"
        ],
        [
         "29",
         "call_of_duty_modern_warfare_3",
         "x360",
         "2011.0",
         "9040.0",
         "4240.0",
         "130.0",
         "1320.0"
        ],
        [
         "30",
         "pokémon_yellow_special_pikachu_edition",
         "gb",
         "1998.0",
         "5890.0",
         "5040.0",
         "3120.0",
         "590.0"
        ],
        [
         "31",
         "call_of_duty_black_ops_3",
         "ps4",
         "2015.0",
         "6030.0",
         "5860.0",
         "360.0",
         "2380.0"
        ],
        [
         "32",
         "call_of_duty_black_ops",
         "x360",
         "2010.0",
         "9700.0",
         "3680.0",
         "110.0",
         "1130.0"
        ],
        [
         "33",
         "pokemon_x_pokemon_y",
         "3ds",
         "2013.0",
         "5280.0",
         "4190.0",
         "4350.0",
         "780.0"
        ],
        [
         "34",
         "call_of_duty_black_ops_ii",
         "ps3",
         "2012.0",
         "4990.0",
         "5730.0",
         "650.0",
         "2420.0"
        ],
        [
         "35",
         "call_of_duty_black_ops_ii",
         "x360",
         "2012.0",
         "8250.0",
         "4240.0",
         "70.0",
         "1120.0"
        ],
        [
         "36",
         "call_of_duty_modern_warfare_2",
         "x360",
         "2009.0",
         "8520.0",
         "3590.0",
         "80.0",
         "1280.0"
        ],
        [
         "37",
         "call_of_duty_modern_warfare_3",
         "ps3",
         "2011.0",
         "5540.0",
         "5730.0",
         "490.0",
         "1570.0"
        ],
        [
         "38",
         "grand_theft_auto_iii",
         "ps2",
         "2001.0",
         "6990.0",
         "4510.0",
         "300.0",
         "1300.0"
        ],
        [
         "39",
         "super_smash_bros_brawl",
         "wii",
         "2008.0",
         "6620.0",
         "2550.0",
         "2660.0",
         "1010.0"
        ],
        [
         "40",
         "mario_kart_7",
         "3ds",
         "2011.0",
         "5030.0",
         "4019.9999999999995",
         "2690.0",
         "910.0"
        ],
        [
         "41",
         "call_of_duty_black_ops",
         "ps3",
         "2010.0",
         "5990.0",
         "4370.0",
         "480.0",
         "1790.0"
        ],
        [
         "42",
         "grand_theft_auto_v",
         "ps4",
         "2014.0",
         "3960.0",
         "6310.0",
         "380.0",
         "1970.0"
        ],
        [
         "43",
         "animal_crossing_wild_world",
         "ds",
         "2005.0",
         "2500.0",
         "3450.0",
         "5330.0",
         "860.0"
        ],
        [
         "44",
         "halo_3",
         "x360",
         "2007.0",
         "7970.0",
         "2810.0",
         "130.0",
         "1210.0"
        ],
        [
         "45",
         "super_mario_64",
         "n64",
         "1996.0",
         "6910.0",
         "2850.0",
         "1910.0",
         "230.0"
        ],
        [
         "46",
         "pokemon_heartgold_pokemon_soulsilver",
         "ds",
         "2009.0",
         "4340.0",
         "2710.0",
         "3960.0",
         "760.0"
        ],
        [
         "47",
         "pokemon_omega_ruby_pokemon_alpha_sapphire",
         "3ds",
         "2014.0",
         "4350.0",
         "3490.0",
         "3100.0",
         "740.0"
        ],
        [
         "48",
         "gran_turismo_4",
         "ps2",
         "2004.0",
         "3010.0",
         "10.0",
         "1100.0",
         "7530.0"
        ],
        [
         "49",
         "super_mario_galaxy",
         "wii",
         "2007.0",
         "6060.0",
         "3350.0",
         "1200.0",
         "740.0"
        ]
       ],
       "shape": {
        "columns": 7,
        "rows": 16715
       }
      },
      "text/html": [
       "<div>\n",
       "<style scoped>\n",
       "    .dataframe tbody tr th:only-of-type {\n",
       "        vertical-align: middle;\n",
       "    }\n",
       "\n",
       "    .dataframe tbody tr th {\n",
       "        vertical-align: top;\n",
       "    }\n",
       "\n",
       "    .dataframe thead th {\n",
       "        text-align: right;\n",
       "    }\n",
       "</style>\n",
       "<table border=\"1\" class=\"dataframe\">\n",
       "  <thead>\n",
       "    <tr style=\"text-align: right;\">\n",
       "      <th></th>\n",
       "      <th>name</th>\n",
       "      <th>platform</th>\n",
       "      <th>year_of_release</th>\n",
       "      <th>na_sales</th>\n",
       "      <th>eu_sales</th>\n",
       "      <th>jp_sales</th>\n",
       "      <th>other_sales</th>\n",
       "    </tr>\n",
       "  </thead>\n",
       "  <tbody>\n",
       "    <tr>\n",
       "      <th>0</th>\n",
       "      <td>wii_sports</td>\n",
       "      <td>wii</td>\n",
       "      <td>2006.0</td>\n",
       "      <td>41360.0</td>\n",
       "      <td>28960.0</td>\n",
       "      <td>3770.0</td>\n",
       "      <td>8450.0</td>\n",
       "    </tr>\n",
       "    <tr>\n",
       "      <th>1</th>\n",
       "      <td>super_mario_bros</td>\n",
       "      <td>nes</td>\n",
       "      <td>1985.0</td>\n",
       "      <td>29080.0</td>\n",
       "      <td>3580.0</td>\n",
       "      <td>6810.0</td>\n",
       "      <td>770.0</td>\n",
       "    </tr>\n",
       "    <tr>\n",
       "      <th>2</th>\n",
       "      <td>mario_kart_wii</td>\n",
       "      <td>wii</td>\n",
       "      <td>2008.0</td>\n",
       "      <td>15680.0</td>\n",
       "      <td>12760.0</td>\n",
       "      <td>3790.0</td>\n",
       "      <td>3290.0</td>\n",
       "    </tr>\n",
       "    <tr>\n",
       "      <th>3</th>\n",
       "      <td>wii_sports_resort</td>\n",
       "      <td>wii</td>\n",
       "      <td>2009.0</td>\n",
       "      <td>15610.0</td>\n",
       "      <td>10930.0</td>\n",
       "      <td>3280.0</td>\n",
       "      <td>2950.0</td>\n",
       "    </tr>\n",
       "    <tr>\n",
       "      <th>4</th>\n",
       "      <td>pokemon_red_pokemon_blue</td>\n",
       "      <td>gb</td>\n",
       "      <td>1996.0</td>\n",
       "      <td>11270.0</td>\n",
       "      <td>8890.0</td>\n",
       "      <td>10220.0</td>\n",
       "      <td>1000.0</td>\n",
       "    </tr>\n",
       "    <tr>\n",
       "      <th>...</th>\n",
       "      <td>...</td>\n",
       "      <td>...</td>\n",
       "      <td>...</td>\n",
       "      <td>...</td>\n",
       "      <td>...</td>\n",
       "      <td>...</td>\n",
       "      <td>...</td>\n",
       "    </tr>\n",
       "    <tr>\n",
       "      <th>16710</th>\n",
       "      <td>samurai_warriors_sanada_maru</td>\n",
       "      <td>ps3</td>\n",
       "      <td>2016.0</td>\n",
       "      <td>0.0</td>\n",
       "      <td>0.0</td>\n",
       "      <td>10.0</td>\n",
       "      <td>0.0</td>\n",
       "    </tr>\n",
       "    <tr>\n",
       "      <th>16711</th>\n",
       "      <td>lma_manager_2007</td>\n",
       "      <td>x360</td>\n",
       "      <td>2006.0</td>\n",
       "      <td>0.0</td>\n",
       "      <td>10.0</td>\n",
       "      <td>0.0</td>\n",
       "      <td>0.0</td>\n",
       "    </tr>\n",
       "    <tr>\n",
       "      <th>16712</th>\n",
       "      <td>haitaka_no_psychedelica</td>\n",
       "      <td>psv</td>\n",
       "      <td>2016.0</td>\n",
       "      <td>0.0</td>\n",
       "      <td>0.0</td>\n",
       "      <td>10.0</td>\n",
       "      <td>0.0</td>\n",
       "    </tr>\n",
       "    <tr>\n",
       "      <th>16713</th>\n",
       "      <td>spirits_spells</td>\n",
       "      <td>gba</td>\n",
       "      <td>2003.0</td>\n",
       "      <td>10.0</td>\n",
       "      <td>0.0</td>\n",
       "      <td>0.0</td>\n",
       "      <td>0.0</td>\n",
       "    </tr>\n",
       "    <tr>\n",
       "      <th>16714</th>\n",
       "      <td>winning_post_8_2016</td>\n",
       "      <td>psv</td>\n",
       "      <td>2016.0</td>\n",
       "      <td>0.0</td>\n",
       "      <td>0.0</td>\n",
       "      <td>10.0</td>\n",
       "      <td>0.0</td>\n",
       "    </tr>\n",
       "  </tbody>\n",
       "</table>\n",
       "<p>16715 rows × 7 columns</p>\n",
       "</div>"
      ],
      "text/plain": [
       "                               name platform  year_of_release  na_sales  eu_sales  jp_sales  other_sales\n",
       "0                        wii_sports      wii           2006.0   41360.0   28960.0    3770.0       8450.0\n",
       "1                  super_mario_bros      nes           1985.0   29080.0    3580.0    6810.0        770.0\n",
       "2                    mario_kart_wii      wii           2008.0   15680.0   12760.0    3790.0       3290.0\n",
       "3                 wii_sports_resort      wii           2009.0   15610.0   10930.0    3280.0       2950.0\n",
       "4          pokemon_red_pokemon_blue       gb           1996.0   11270.0    8890.0   10220.0       1000.0\n",
       "...                             ...      ...              ...       ...       ...       ...          ...\n",
       "16710  samurai_warriors_sanada_maru      ps3           2016.0       0.0       0.0      10.0          0.0\n",
       "16711              lma_manager_2007     x360           2006.0       0.0      10.0       0.0          0.0\n",
       "16712       haitaka_no_psychedelica      psv           2016.0       0.0       0.0      10.0          0.0\n",
       "16713                spirits_spells      gba           2003.0      10.0       0.0       0.0          0.0\n",
       "16714           winning_post_8_2016      psv           2016.0       0.0       0.0      10.0          0.0\n",
       "\n",
       "[16715 rows x 7 columns]"
      ]
     },
     "execution_count": 16,
     "metadata": {},
     "output_type": "execute_result"
    }
   ],
   "source": [
    "# Platforms that used to be popular but are now losing sales\n",
    "df_popular_loss = df_vg.loc[: , ['name', 'platform', 'year_of_release', 'na_sales', 'eu_sales', 'jp_sales', 'other_sales']]\n",
    "df_popular_loss"
   ]
  },
  {
   "cell_type": "code",
   "execution_count": 17,
   "id": "f6ef36f3",
   "metadata": {},
   "outputs": [
    {
     "data": {
      "application/vnd.microsoft.datawrangler.viewer.v0+json": {
       "columns": [
        {
         "name": "index",
         "rawType": "int64",
         "type": "integer"
        },
        {
         "name": "name",
         "rawType": "string",
         "type": "string"
        },
        {
         "name": "platform",
         "rawType": "category",
         "type": "unknown"
        },
        {
         "name": "year_of_release",
         "rawType": "float64",
         "type": "float"
        },
        {
         "name": "na_sales",
         "rawType": "float64",
         "type": "float"
        },
        {
         "name": "eu_sales",
         "rawType": "float64",
         "type": "float"
        },
        {
         "name": "jp_sales",
         "rawType": "float64",
         "type": "float"
        },
        {
         "name": "other_sales",
         "rawType": "float64",
         "type": "float"
        },
        {
         "name": "total_sales",
         "rawType": "float64",
         "type": "float"
        }
       ],
       "ref": "1c1b4579-c4f1-4387-9d63-57b9117634ca",
       "rows": [
        [
         "0",
         "wii_sports",
         "wii",
         "2006.0",
         "41360.0",
         "28960.0",
         "3770.0",
         "8450.0",
         "82540.0"
        ],
        [
         "1",
         "super_mario_bros",
         "nes",
         "1985.0",
         "29080.0",
         "3580.0",
         "6810.0",
         "770.0",
         "40240.0"
        ],
        [
         "2",
         "mario_kart_wii",
         "wii",
         "2008.0",
         "15680.0",
         "12760.0",
         "3790.0",
         "3290.0",
         "35520.0"
        ],
        [
         "3",
         "wii_sports_resort",
         "wii",
         "2009.0",
         "15610.0",
         "10930.0",
         "3280.0",
         "2950.0",
         "32770.0"
        ],
        [
         "4",
         "pokemon_red_pokemon_blue",
         "gb",
         "1996.0",
         "11270.0",
         "8890.0",
         "10220.0",
         "1000.0",
         "31380.0"
        ],
        [
         "5",
         "tetris",
         "gb",
         "1989.0",
         "23200.0",
         "2260.0",
         "4220.0",
         "580.0",
         "30260.0"
        ],
        [
         "6",
         "new_super_mario_bros",
         "ds",
         "2006.0",
         "11280.0",
         "9140.0",
         "6500.0",
         "2880.0",
         "29800.0"
        ],
        [
         "7",
         "wii_play",
         "wii",
         "2006.0",
         "13960.0",
         "9180.0",
         "2930.0",
         "2840.0",
         "28910.0"
        ],
        [
         "8",
         "new_super_mario_bros_wii",
         "wii",
         "2009.0",
         "14440.0",
         "6940.0",
         "4700.0",
         "2240.0",
         "28320.0"
        ],
        [
         "9",
         "duck_hunt",
         "nes",
         "1984.0",
         "26930.0",
         "630.0",
         "280.0",
         "470.0",
         "28310.0"
        ],
        [
         "10",
         "nintendogs",
         "ds",
         "2005.0",
         "9050.0",
         "10950.0",
         "1930.0",
         "2740.0",
         "24670.0"
        ],
        [
         "11",
         "mario_kart_ds",
         "ds",
         "2005.0",
         "9710.0",
         "7470.0",
         "4130.0",
         "1900.0",
         "23210.0"
        ],
        [
         "12",
         "pokemon_gold_pokemon_silver",
         "gb",
         "1999.0",
         "9000.0",
         "6180.0",
         "7200.0",
         "710.0",
         "23090.0"
        ],
        [
         "13",
         "wii_fit",
         "wii",
         "2007.0",
         "8920.0",
         "8029.999999999999",
         "3600.0",
         "2150.0",
         "22700.0"
        ],
        [
         "14",
         "kinect_adventures",
         "x360",
         "2010.0",
         "15000.0",
         "4890.0",
         "240.0",
         "1690.0",
         "21820.0"
        ],
        [
         "15",
         "wii_fit_plus",
         "wii",
         "2009.0",
         "9010.0",
         "8490.0",
         "2530.0",
         "1770.0",
         "21800.0"
        ],
        [
         "16",
         "grand_theft_auto_v",
         "ps3",
         "2013.0",
         "7020.0",
         "9090.0",
         "980.0",
         "3960.0",
         "21050.0"
        ],
        [
         "17",
         "grand_theft_auto_san_andreas",
         "ps2",
         "2004.0",
         "9430.0",
         "400.0",
         "410.0",
         "10570.0",
         "20810.0"
        ],
        [
         "18",
         "super_mario_world",
         "snes",
         "1990.0",
         "12780.0",
         "3750.0",
         "3540.0",
         "550.0",
         "20620.0"
        ],
        [
         "19",
         "brain_age_train_your_brain_in_minutes_a_day",
         "ds",
         "2005.0",
         "4740.0",
         "9200.0",
         "4160.0",
         "2040.0",
         "20140.0"
        ],
        [
         "20",
         "pokemon_diamond_pokemon_pearl",
         "ds",
         "2006.0",
         "6380.0",
         "4460.0",
         "6040.0",
         "1360.0",
         "18240.0"
        ],
        [
         "21",
         "super_mario_land",
         "gb",
         "1989.0",
         "10830.0",
         "2710.0",
         "4180.0",
         "420.0",
         "18140.0"
        ],
        [
         "22",
         "super_mario_bros_3",
         "nes",
         "1988.0",
         "9540.0",
         "3440.0",
         "3840.0",
         "460.0",
         "17280.0"
        ],
        [
         "23",
         "grand_theft_auto_v",
         "x360",
         "2013.0",
         "9660.0",
         "5140.0",
         "60.0",
         "1410.0",
         "16270.0"
        ],
        [
         "24",
         "grand_theft_auto_vice_city",
         "ps2",
         "2002.0",
         "8410.0",
         "5490.0",
         "470.0",
         "1780.0",
         "16150.0"
        ],
        [
         "25",
         "pokemon_ruby_pokemon_sapphire",
         "gba",
         "2002.0",
         "6060.0",
         "3900.0",
         "5380.0",
         "500.0",
         "15840.0"
        ],
        [
         "26",
         "brain_age_2_more_training_in_minutes_a_day",
         "ds",
         "2005.0",
         "3430.0",
         "5350.0",
         "5320.0",
         "1180.0",
         "15280.0"
        ],
        [
         "27",
         "pokemon_black_pokemon_white",
         "ds",
         "2010.0",
         "5510.0",
         "3170.0",
         "5650.0",
         "800.0",
         "15130.0"
        ],
        [
         "28",
         "gran_turismo_3_a_spec",
         "ps2",
         "2001.0",
         "6850.0",
         "5090.0",
         "1870.0",
         "1160.0",
         "14970.0"
        ],
        [
         "29",
         "call_of_duty_modern_warfare_3",
         "x360",
         "2011.0",
         "9040.0",
         "4240.0",
         "130.0",
         "1320.0",
         "14730.0"
        ],
        [
         "30",
         "pokémon_yellow_special_pikachu_edition",
         "gb",
         "1998.0",
         "5890.0",
         "5040.0",
         "3120.0",
         "590.0",
         "14640.0"
        ],
        [
         "31",
         "call_of_duty_black_ops_3",
         "ps4",
         "2015.0",
         "6030.0",
         "5860.0",
         "360.0",
         "2380.0",
         "14630.0"
        ],
        [
         "32",
         "call_of_duty_black_ops",
         "x360",
         "2010.0",
         "9700.0",
         "3680.0",
         "110.0",
         "1130.0",
         "14620.0"
        ],
        [
         "33",
         "pokemon_x_pokemon_y",
         "3ds",
         "2013.0",
         "5280.0",
         "4190.0",
         "4350.0",
         "780.0",
         "14600.0"
        ],
        [
         "34",
         "call_of_duty_black_ops_ii",
         "ps3",
         "2012.0",
         "4990.0",
         "5730.0",
         "650.0",
         "2420.0",
         "13790.0"
        ],
        [
         "35",
         "call_of_duty_black_ops_ii",
         "x360",
         "2012.0",
         "8250.0",
         "4240.0",
         "70.0",
         "1120.0",
         "13680.0"
        ],
        [
         "36",
         "call_of_duty_modern_warfare_2",
         "x360",
         "2009.0",
         "8520.0",
         "3590.0",
         "80.0",
         "1280.0",
         "13470.0"
        ],
        [
         "37",
         "call_of_duty_modern_warfare_3",
         "ps3",
         "2011.0",
         "5540.0",
         "5730.0",
         "490.0",
         "1570.0",
         "13330.0"
        ],
        [
         "38",
         "grand_theft_auto_iii",
         "ps2",
         "2001.0",
         "6990.0",
         "4510.0",
         "300.0",
         "1300.0",
         "13100.0"
        ],
        [
         "39",
         "super_smash_bros_brawl",
         "wii",
         "2008.0",
         "6620.0",
         "2550.0",
         "2660.0",
         "1010.0",
         "12840.0"
        ],
        [
         "40",
         "mario_kart_7",
         "3ds",
         "2011.0",
         "5030.0",
         "4019.9999999999995",
         "2690.0",
         "910.0",
         "12650.0"
        ],
        [
         "41",
         "call_of_duty_black_ops",
         "ps3",
         "2010.0",
         "5990.0",
         "4370.0",
         "480.0",
         "1790.0",
         "12630.0"
        ],
        [
         "42",
         "grand_theft_auto_v",
         "ps4",
         "2014.0",
         "3960.0",
         "6310.0",
         "380.0",
         "1970.0",
         "12620.0"
        ],
        [
         "43",
         "animal_crossing_wild_world",
         "ds",
         "2005.0",
         "2500.0",
         "3450.0",
         "5330.0",
         "860.0",
         "12140.0"
        ],
        [
         "44",
         "halo_3",
         "x360",
         "2007.0",
         "7970.0",
         "2810.0",
         "130.0",
         "1210.0",
         "12120.0"
        ],
        [
         "45",
         "super_mario_64",
         "n64",
         "1996.0",
         "6910.0",
         "2850.0",
         "1910.0",
         "230.0",
         "11900.0"
        ],
        [
         "46",
         "pokemon_heartgold_pokemon_soulsilver",
         "ds",
         "2009.0",
         "4340.0",
         "2710.0",
         "3960.0",
         "760.0",
         "11770.0"
        ],
        [
         "47",
         "pokemon_omega_ruby_pokemon_alpha_sapphire",
         "3ds",
         "2014.0",
         "4350.0",
         "3490.0",
         "3100.0",
         "740.0",
         "11680.0"
        ],
        [
         "48",
         "gran_turismo_4",
         "ps2",
         "2004.0",
         "3010.0",
         "10.0",
         "1100.0",
         "7530.0",
         "11650.0"
        ],
        [
         "49",
         "super_mario_galaxy",
         "wii",
         "2007.0",
         "6060.0",
         "3350.0",
         "1200.0",
         "740.0",
         "11350.0"
        ]
       ],
       "shape": {
        "columns": 8,
        "rows": 16715
       }
      },
      "text/html": [
       "<div>\n",
       "<style scoped>\n",
       "    .dataframe tbody tr th:only-of-type {\n",
       "        vertical-align: middle;\n",
       "    }\n",
       "\n",
       "    .dataframe tbody tr th {\n",
       "        vertical-align: top;\n",
       "    }\n",
       "\n",
       "    .dataframe thead th {\n",
       "        text-align: right;\n",
       "    }\n",
       "</style>\n",
       "<table border=\"1\" class=\"dataframe\">\n",
       "  <thead>\n",
       "    <tr style=\"text-align: right;\">\n",
       "      <th></th>\n",
       "      <th>name</th>\n",
       "      <th>platform</th>\n",
       "      <th>year_of_release</th>\n",
       "      <th>na_sales</th>\n",
       "      <th>eu_sales</th>\n",
       "      <th>jp_sales</th>\n",
       "      <th>other_sales</th>\n",
       "      <th>total_sales</th>\n",
       "    </tr>\n",
       "  </thead>\n",
       "  <tbody>\n",
       "    <tr>\n",
       "      <th>0</th>\n",
       "      <td>wii_sports</td>\n",
       "      <td>wii</td>\n",
       "      <td>2006.0</td>\n",
       "      <td>41360.0</td>\n",
       "      <td>28960.0</td>\n",
       "      <td>3770.0</td>\n",
       "      <td>8450.0</td>\n",
       "      <td>82540.0</td>\n",
       "    </tr>\n",
       "    <tr>\n",
       "      <th>1</th>\n",
       "      <td>super_mario_bros</td>\n",
       "      <td>nes</td>\n",
       "      <td>1985.0</td>\n",
       "      <td>29080.0</td>\n",
       "      <td>3580.0</td>\n",
       "      <td>6810.0</td>\n",
       "      <td>770.0</td>\n",
       "      <td>40240.0</td>\n",
       "    </tr>\n",
       "    <tr>\n",
       "      <th>2</th>\n",
       "      <td>mario_kart_wii</td>\n",
       "      <td>wii</td>\n",
       "      <td>2008.0</td>\n",
       "      <td>15680.0</td>\n",
       "      <td>12760.0</td>\n",
       "      <td>3790.0</td>\n",
       "      <td>3290.0</td>\n",
       "      <td>35520.0</td>\n",
       "    </tr>\n",
       "    <tr>\n",
       "      <th>3</th>\n",
       "      <td>wii_sports_resort</td>\n",
       "      <td>wii</td>\n",
       "      <td>2009.0</td>\n",
       "      <td>15610.0</td>\n",
       "      <td>10930.0</td>\n",
       "      <td>3280.0</td>\n",
       "      <td>2950.0</td>\n",
       "      <td>32770.0</td>\n",
       "    </tr>\n",
       "    <tr>\n",
       "      <th>4</th>\n",
       "      <td>pokemon_red_pokemon_blue</td>\n",
       "      <td>gb</td>\n",
       "      <td>1996.0</td>\n",
       "      <td>11270.0</td>\n",
       "      <td>8890.0</td>\n",
       "      <td>10220.0</td>\n",
       "      <td>1000.0</td>\n",
       "      <td>31380.0</td>\n",
       "    </tr>\n",
       "    <tr>\n",
       "      <th>...</th>\n",
       "      <td>...</td>\n",
       "      <td>...</td>\n",
       "      <td>...</td>\n",
       "      <td>...</td>\n",
       "      <td>...</td>\n",
       "      <td>...</td>\n",
       "      <td>...</td>\n",
       "      <td>...</td>\n",
       "    </tr>\n",
       "    <tr>\n",
       "      <th>16710</th>\n",
       "      <td>samurai_warriors_sanada_maru</td>\n",
       "      <td>ps3</td>\n",
       "      <td>2016.0</td>\n",
       "      <td>0.0</td>\n",
       "      <td>0.0</td>\n",
       "      <td>10.0</td>\n",
       "      <td>0.0</td>\n",
       "      <td>10.0</td>\n",
       "    </tr>\n",
       "    <tr>\n",
       "      <th>16711</th>\n",
       "      <td>lma_manager_2007</td>\n",
       "      <td>x360</td>\n",
       "      <td>2006.0</td>\n",
       "      <td>0.0</td>\n",
       "      <td>10.0</td>\n",
       "      <td>0.0</td>\n",
       "      <td>0.0</td>\n",
       "      <td>10.0</td>\n",
       "    </tr>\n",
       "    <tr>\n",
       "      <th>16712</th>\n",
       "      <td>haitaka_no_psychedelica</td>\n",
       "      <td>psv</td>\n",
       "      <td>2016.0</td>\n",
       "      <td>0.0</td>\n",
       "      <td>0.0</td>\n",
       "      <td>10.0</td>\n",
       "      <td>0.0</td>\n",
       "      <td>10.0</td>\n",
       "    </tr>\n",
       "    <tr>\n",
       "      <th>16713</th>\n",
       "      <td>spirits_spells</td>\n",
       "      <td>gba</td>\n",
       "      <td>2003.0</td>\n",
       "      <td>10.0</td>\n",
       "      <td>0.0</td>\n",
       "      <td>0.0</td>\n",
       "      <td>0.0</td>\n",
       "      <td>10.0</td>\n",
       "    </tr>\n",
       "    <tr>\n",
       "      <th>16714</th>\n",
       "      <td>winning_post_8_2016</td>\n",
       "      <td>psv</td>\n",
       "      <td>2016.0</td>\n",
       "      <td>0.0</td>\n",
       "      <td>0.0</td>\n",
       "      <td>10.0</td>\n",
       "      <td>0.0</td>\n",
       "      <td>10.0</td>\n",
       "    </tr>\n",
       "  </tbody>\n",
       "</table>\n",
       "<p>16715 rows × 8 columns</p>\n",
       "</div>"
      ],
      "text/plain": [
       "                               name platform  year_of_release  na_sales  eu_sales  jp_sales  other_sales  total_sales\n",
       "0                        wii_sports      wii           2006.0   41360.0   28960.0    3770.0       8450.0      82540.0\n",
       "1                  super_mario_bros      nes           1985.0   29080.0    3580.0    6810.0        770.0      40240.0\n",
       "2                    mario_kart_wii      wii           2008.0   15680.0   12760.0    3790.0       3290.0      35520.0\n",
       "3                 wii_sports_resort      wii           2009.0   15610.0   10930.0    3280.0       2950.0      32770.0\n",
       "4          pokemon_red_pokemon_blue       gb           1996.0   11270.0    8890.0   10220.0       1000.0      31380.0\n",
       "...                             ...      ...              ...       ...       ...       ...          ...          ...\n",
       "16710  samurai_warriors_sanada_maru      ps3           2016.0       0.0       0.0      10.0          0.0         10.0\n",
       "16711              lma_manager_2007     x360           2006.0       0.0      10.0       0.0          0.0         10.0\n",
       "16712       haitaka_no_psychedelica      psv           2016.0       0.0       0.0      10.0          0.0         10.0\n",
       "16713                spirits_spells      gba           2003.0      10.0       0.0       0.0          0.0         10.0\n",
       "16714           winning_post_8_2016      psv           2016.0       0.0       0.0      10.0          0.0         10.0\n",
       "\n",
       "[16715 rows x 8 columns]"
      ]
     },
     "execution_count": 17,
     "metadata": {},
     "output_type": "execute_result"
    }
   ],
   "source": [
    "columns = ['na_sales', 'eu_sales', 'jp_sales', 'other_sales']\n",
    "df_popular_loss['total_sales'] = df_popular_loss[columns].sum(axis=1)\n",
    "df_popular_loss"
   ]
  },
  {
   "cell_type": "code",
   "execution_count": 18,
   "id": "236af6d3",
   "metadata": {},
   "outputs": [
    {
     "data": {
      "application/vnd.microsoft.datawrangler.viewer.v0+json": {
       "columns": [
        {
         "name": "index",
         "rawType": "int64",
         "type": "integer"
        },
        {
         "name": "name",
         "rawType": "string",
         "type": "string"
        },
        {
         "name": "platform",
         "rawType": "category",
         "type": "unknown"
        },
        {
         "name": "year_of_release",
         "rawType": "float64",
         "type": "float"
        },
        {
         "name": "total_sales",
         "rawType": "float64",
         "type": "float"
        }
       ],
       "ref": "fb903bec-3e55-4414-8b79-3df23f42f442",
       "rows": [
        [
         "0",
         "wii_sports",
         "wii",
         "2006.0",
         "82540.0"
        ],
        [
         "1",
         "super_mario_bros",
         "nes",
         "1985.0",
         "40240.0"
        ],
        [
         "2",
         "mario_kart_wii",
         "wii",
         "2008.0",
         "35520.0"
        ],
        [
         "3",
         "wii_sports_resort",
         "wii",
         "2009.0",
         "32770.0"
        ],
        [
         "4",
         "pokemon_red_pokemon_blue",
         "gb",
         "1996.0",
         "31380.0"
        ],
        [
         "5",
         "tetris",
         "gb",
         "1989.0",
         "30260.0"
        ],
        [
         "6",
         "new_super_mario_bros",
         "ds",
         "2006.0",
         "29800.0"
        ],
        [
         "7",
         "wii_play",
         "wii",
         "2006.0",
         "28910.0"
        ],
        [
         "8",
         "new_super_mario_bros_wii",
         "wii",
         "2009.0",
         "28320.0"
        ],
        [
         "9",
         "duck_hunt",
         "nes",
         "1984.0",
         "28310.0"
        ],
        [
         "10",
         "nintendogs",
         "ds",
         "2005.0",
         "24670.0"
        ],
        [
         "11",
         "mario_kart_ds",
         "ds",
         "2005.0",
         "23210.0"
        ],
        [
         "12",
         "pokemon_gold_pokemon_silver",
         "gb",
         "1999.0",
         "23090.0"
        ],
        [
         "13",
         "wii_fit",
         "wii",
         "2007.0",
         "22700.0"
        ],
        [
         "14",
         "kinect_adventures",
         "x360",
         "2010.0",
         "21820.0"
        ],
        [
         "15",
         "wii_fit_plus",
         "wii",
         "2009.0",
         "21800.0"
        ],
        [
         "16",
         "grand_theft_auto_v",
         "ps3",
         "2013.0",
         "21050.0"
        ],
        [
         "17",
         "grand_theft_auto_san_andreas",
         "ps2",
         "2004.0",
         "20810.0"
        ],
        [
         "18",
         "super_mario_world",
         "snes",
         "1990.0",
         "20620.0"
        ],
        [
         "19",
         "brain_age_train_your_brain_in_minutes_a_day",
         "ds",
         "2005.0",
         "20140.0"
        ],
        [
         "20",
         "pokemon_diamond_pokemon_pearl",
         "ds",
         "2006.0",
         "18240.0"
        ],
        [
         "21",
         "super_mario_land",
         "gb",
         "1989.0",
         "18140.0"
        ],
        [
         "22",
         "super_mario_bros_3",
         "nes",
         "1988.0",
         "17280.0"
        ],
        [
         "23",
         "grand_theft_auto_v",
         "x360",
         "2013.0",
         "16270.0"
        ],
        [
         "24",
         "grand_theft_auto_vice_city",
         "ps2",
         "2002.0",
         "16150.0"
        ],
        [
         "25",
         "pokemon_ruby_pokemon_sapphire",
         "gba",
         "2002.0",
         "15840.0"
        ],
        [
         "26",
         "brain_age_2_more_training_in_minutes_a_day",
         "ds",
         "2005.0",
         "15280.0"
        ],
        [
         "27",
         "pokemon_black_pokemon_white",
         "ds",
         "2010.0",
         "15130.0"
        ],
        [
         "28",
         "gran_turismo_3_a_spec",
         "ps2",
         "2001.0",
         "14970.0"
        ],
        [
         "29",
         "call_of_duty_modern_warfare_3",
         "x360",
         "2011.0",
         "14730.0"
        ],
        [
         "30",
         "pokémon_yellow_special_pikachu_edition",
         "gb",
         "1998.0",
         "14640.0"
        ],
        [
         "31",
         "call_of_duty_black_ops_3",
         "ps4",
         "2015.0",
         "14630.0"
        ],
        [
         "32",
         "call_of_duty_black_ops",
         "x360",
         "2010.0",
         "14620.0"
        ],
        [
         "33",
         "pokemon_x_pokemon_y",
         "3ds",
         "2013.0",
         "14600.0"
        ],
        [
         "34",
         "call_of_duty_black_ops_ii",
         "ps3",
         "2012.0",
         "13790.0"
        ],
        [
         "35",
         "call_of_duty_black_ops_ii",
         "x360",
         "2012.0",
         "13680.0"
        ],
        [
         "36",
         "call_of_duty_modern_warfare_2",
         "x360",
         "2009.0",
         "13470.0"
        ],
        [
         "37",
         "call_of_duty_modern_warfare_3",
         "ps3",
         "2011.0",
         "13330.0"
        ],
        [
         "38",
         "grand_theft_auto_iii",
         "ps2",
         "2001.0",
         "13100.0"
        ],
        [
         "39",
         "super_smash_bros_brawl",
         "wii",
         "2008.0",
         "12840.0"
        ],
        [
         "40",
         "mario_kart_7",
         "3ds",
         "2011.0",
         "12650.0"
        ],
        [
         "41",
         "call_of_duty_black_ops",
         "ps3",
         "2010.0",
         "12630.0"
        ],
        [
         "42",
         "grand_theft_auto_v",
         "ps4",
         "2014.0",
         "12620.0"
        ],
        [
         "43",
         "animal_crossing_wild_world",
         "ds",
         "2005.0",
         "12140.0"
        ],
        [
         "44",
         "halo_3",
         "x360",
         "2007.0",
         "12120.0"
        ],
        [
         "45",
         "super_mario_64",
         "n64",
         "1996.0",
         "11900.0"
        ],
        [
         "46",
         "pokemon_heartgold_pokemon_soulsilver",
         "ds",
         "2009.0",
         "11770.0"
        ],
        [
         "47",
         "pokemon_omega_ruby_pokemon_alpha_sapphire",
         "3ds",
         "2014.0",
         "11680.0"
        ],
        [
         "48",
         "gran_turismo_4",
         "ps2",
         "2004.0",
         "11650.0"
        ],
        [
         "49",
         "super_mario_galaxy",
         "wii",
         "2007.0",
         "11350.0"
        ]
       ],
       "shape": {
        "columns": 4,
        "rows": 16715
       }
      },
      "text/html": [
       "<div>\n",
       "<style scoped>\n",
       "    .dataframe tbody tr th:only-of-type {\n",
       "        vertical-align: middle;\n",
       "    }\n",
       "\n",
       "    .dataframe tbody tr th {\n",
       "        vertical-align: top;\n",
       "    }\n",
       "\n",
       "    .dataframe thead th {\n",
       "        text-align: right;\n",
       "    }\n",
       "</style>\n",
       "<table border=\"1\" class=\"dataframe\">\n",
       "  <thead>\n",
       "    <tr style=\"text-align: right;\">\n",
       "      <th></th>\n",
       "      <th>name</th>\n",
       "      <th>platform</th>\n",
       "      <th>year_of_release</th>\n",
       "      <th>total_sales</th>\n",
       "    </tr>\n",
       "  </thead>\n",
       "  <tbody>\n",
       "    <tr>\n",
       "      <th>0</th>\n",
       "      <td>wii_sports</td>\n",
       "      <td>wii</td>\n",
       "      <td>2006.0</td>\n",
       "      <td>82540.0</td>\n",
       "    </tr>\n",
       "    <tr>\n",
       "      <th>1</th>\n",
       "      <td>super_mario_bros</td>\n",
       "      <td>nes</td>\n",
       "      <td>1985.0</td>\n",
       "      <td>40240.0</td>\n",
       "    </tr>\n",
       "    <tr>\n",
       "      <th>2</th>\n",
       "      <td>mario_kart_wii</td>\n",
       "      <td>wii</td>\n",
       "      <td>2008.0</td>\n",
       "      <td>35520.0</td>\n",
       "    </tr>\n",
       "    <tr>\n",
       "      <th>3</th>\n",
       "      <td>wii_sports_resort</td>\n",
       "      <td>wii</td>\n",
       "      <td>2009.0</td>\n",
       "      <td>32770.0</td>\n",
       "    </tr>\n",
       "    <tr>\n",
       "      <th>4</th>\n",
       "      <td>pokemon_red_pokemon_blue</td>\n",
       "      <td>gb</td>\n",
       "      <td>1996.0</td>\n",
       "      <td>31380.0</td>\n",
       "    </tr>\n",
       "    <tr>\n",
       "      <th>...</th>\n",
       "      <td>...</td>\n",
       "      <td>...</td>\n",
       "      <td>...</td>\n",
       "      <td>...</td>\n",
       "    </tr>\n",
       "    <tr>\n",
       "      <th>16710</th>\n",
       "      <td>samurai_warriors_sanada_maru</td>\n",
       "      <td>ps3</td>\n",
       "      <td>2016.0</td>\n",
       "      <td>10.0</td>\n",
       "    </tr>\n",
       "    <tr>\n",
       "      <th>16711</th>\n",
       "      <td>lma_manager_2007</td>\n",
       "      <td>x360</td>\n",
       "      <td>2006.0</td>\n",
       "      <td>10.0</td>\n",
       "    </tr>\n",
       "    <tr>\n",
       "      <th>16712</th>\n",
       "      <td>haitaka_no_psychedelica</td>\n",
       "      <td>psv</td>\n",
       "      <td>2016.0</td>\n",
       "      <td>10.0</td>\n",
       "    </tr>\n",
       "    <tr>\n",
       "      <th>16713</th>\n",
       "      <td>spirits_spells</td>\n",
       "      <td>gba</td>\n",
       "      <td>2003.0</td>\n",
       "      <td>10.0</td>\n",
       "    </tr>\n",
       "    <tr>\n",
       "      <th>16714</th>\n",
       "      <td>winning_post_8_2016</td>\n",
       "      <td>psv</td>\n",
       "      <td>2016.0</td>\n",
       "      <td>10.0</td>\n",
       "    </tr>\n",
       "  </tbody>\n",
       "</table>\n",
       "<p>16715 rows × 4 columns</p>\n",
       "</div>"
      ],
      "text/plain": [
       "                               name platform  year_of_release  total_sales\n",
       "0                        wii_sports      wii           2006.0      82540.0\n",
       "1                  super_mario_bros      nes           1985.0      40240.0\n",
       "2                    mario_kart_wii      wii           2008.0      35520.0\n",
       "3                 wii_sports_resort      wii           2009.0      32770.0\n",
       "4          pokemon_red_pokemon_blue       gb           1996.0      31380.0\n",
       "...                             ...      ...              ...          ...\n",
       "16710  samurai_warriors_sanada_maru      ps3           2016.0         10.0\n",
       "16711              lma_manager_2007     x360           2006.0         10.0\n",
       "16712       haitaka_no_psychedelica      psv           2016.0         10.0\n",
       "16713                spirits_spells      gba           2003.0         10.0\n",
       "16714           winning_post_8_2016      psv           2016.0         10.0\n",
       "\n",
       "[16715 rows x 4 columns]"
      ]
     },
     "execution_count": 18,
     "metadata": {},
     "output_type": "execute_result"
    }
   ],
   "source": [
    "df_popular_loss = df_popular_loss.drop(columns=['na_sales', 'eu_sales', 'jp_sales', 'other_sales'])\n",
    "df_popular_loss"
   ]
  },
  {
   "cell_type": "code",
   "execution_count": 19,
   "id": "685b9cb0",
   "metadata": {},
   "outputs": [
    {
     "data": {
      "application/vnd.microsoft.datawrangler.viewer.v0+json": {
       "columns": [
        {
         "name": "('platform', 'year_of_release')",
         "rawType": "object",
         "type": "unknown"
        },
        {
         "name": "games",
         "rawType": "int64",
         "type": "integer"
        },
        {
         "name": "total_sales",
         "rawType": "float64",
         "type": "float"
        }
       ],
       "ref": "2c8dc71f-fdff-43b0-908a-ed95f445aea9",
       "rows": [
        [
         "('2600', 1977.0)",
         "5",
         "2860.0"
        ],
        [
         "('2600', 1978.0)",
         "2",
         "640.0"
        ],
        [
         "('2600', 1979.0)",
         "1",
         "310.0"
        ],
        [
         "('2600', 1980.0)",
         "14",
         "16490.0"
        ],
        [
         "('2600', 1981.0)",
         "47",
         "36120.0"
        ],
        [
         "('2600', 1982.0)",
         "37",
         "29350.0"
        ],
        [
         "('2600', 1983.0)",
         "11",
         "5840.0"
        ],
        [
         "('2600', 1984.0)",
         "2",
         "480.0"
        ],
        [
         "('2600', 1985.0)",
         "1",
         "450.0"
        ],
        [
         "('2600', 1986.0)",
         "2",
         "670.0"
        ],
        [
         "('2600', 1987.0)",
         "6",
         "1940.0"
        ],
        [
         "('2600', 1988.0)",
         "2",
         "740.0"
        ],
        [
         "('2600', 1989.0)",
         "2",
         "630.0"
        ],
        [
         "('2600', 1990.0)",
         "0",
         "0.0"
        ],
        [
         "('2600', 1991.0)",
         "0",
         "0.0"
        ],
        [
         "('2600', 1992.0)",
         "0",
         "0.0"
        ],
        [
         "('2600', 1993.0)",
         "0",
         "0.0"
        ],
        [
         "('2600', 1994.0)",
         "0",
         "0.0"
        ],
        [
         "('2600', 1995.0)",
         "0",
         "0.0"
        ],
        [
         "('2600', 1996.0)",
         "0",
         "0.0"
        ],
        [
         "('2600', 1997.0)",
         "0",
         "0.0"
        ],
        [
         "('2600', 1998.0)",
         "0",
         "0.0"
        ],
        [
         "('2600', 1999.0)",
         "0",
         "0.0"
        ],
        [
         "('2600', 2000.0)",
         "0",
         "0.0"
        ],
        [
         "('2600', 2001.0)",
         "0",
         "0.0"
        ],
        [
         "('2600', 2002.0)",
         "0",
         "0.0"
        ],
        [
         "('2600', 2003.0)",
         "0",
         "0.0"
        ],
        [
         "('2600', 2004.0)",
         "0",
         "0.0"
        ],
        [
         "('2600', 2005.0)",
         "0",
         "0.0"
        ],
        [
         "('2600', 2006.0)",
         "0",
         "0.0"
        ],
        [
         "('2600', 2007.0)",
         "0",
         "0.0"
        ],
        [
         "('2600', 2008.0)",
         "0",
         "0.0"
        ],
        [
         "('2600', 2009.0)",
         "0",
         "0.0"
        ],
        [
         "('2600', 2010.0)",
         "0",
         "0.0"
        ],
        [
         "('2600', 2011.0)",
         "0",
         "0.0"
        ],
        [
         "('2600', 2012.0)",
         "0",
         "0.0"
        ],
        [
         "('2600', 2013.0)",
         "0",
         "0.0"
        ],
        [
         "('2600', 2014.0)",
         "0",
         "0.0"
        ],
        [
         "('2600', 2015.0)",
         "0",
         "0.0"
        ],
        [
         "('2600', 2016.0)",
         "0",
         "0.0"
        ],
        [
         "('2600', 2017.0)",
         "0",
         "0.0"
        ],
        [
         "('2600', 2019.0)",
         "1",
         "460.0"
        ],
        [
         "('2600', 2021.0)",
         "0",
         "0.0"
        ],
        [
         "('2600', 2022.0)",
         "0",
         "0.0"
        ],
        [
         "('2600', 2023.0)",
         "0",
         "0.0"
        ],
        [
         "('3do', 1977.0)",
         "0",
         "0.0"
        ],
        [
         "('3do', 1978.0)",
         "0",
         "0.0"
        ],
        [
         "('3do', 1979.0)",
         "0",
         "0.0"
        ],
        [
         "('3do', 1980.0)",
         "0",
         "0.0"
        ],
        [
         "('3do', 1981.0)",
         "0",
         "0.0"
        ]
       ],
       "shape": {
        "columns": 2,
        "rows": 1395
       }
      },
      "text/html": [
       "<div>\n",
       "<style scoped>\n",
       "    .dataframe tbody tr th:only-of-type {\n",
       "        vertical-align: middle;\n",
       "    }\n",
       "\n",
       "    .dataframe tbody tr th {\n",
       "        vertical-align: top;\n",
       "    }\n",
       "\n",
       "    .dataframe thead th {\n",
       "        text-align: right;\n",
       "    }\n",
       "</style>\n",
       "<table border=\"1\" class=\"dataframe\">\n",
       "  <thead>\n",
       "    <tr style=\"text-align: right;\">\n",
       "      <th></th>\n",
       "      <th></th>\n",
       "      <th>games</th>\n",
       "      <th>total_sales</th>\n",
       "    </tr>\n",
       "    <tr>\n",
       "      <th>platform</th>\n",
       "      <th>year_of_release</th>\n",
       "      <th></th>\n",
       "      <th></th>\n",
       "    </tr>\n",
       "  </thead>\n",
       "  <tbody>\n",
       "    <tr>\n",
       "      <th rowspan=\"5\" valign=\"top\">2600</th>\n",
       "      <th>1977.0</th>\n",
       "      <td>5</td>\n",
       "      <td>2860.0</td>\n",
       "    </tr>\n",
       "    <tr>\n",
       "      <th>1978.0</th>\n",
       "      <td>2</td>\n",
       "      <td>640.0</td>\n",
       "    </tr>\n",
       "    <tr>\n",
       "      <th>1979.0</th>\n",
       "      <td>1</td>\n",
       "      <td>310.0</td>\n",
       "    </tr>\n",
       "    <tr>\n",
       "      <th>1980.0</th>\n",
       "      <td>14</td>\n",
       "      <td>16490.0</td>\n",
       "    </tr>\n",
       "    <tr>\n",
       "      <th>1981.0</th>\n",
       "      <td>47</td>\n",
       "      <td>36120.0</td>\n",
       "    </tr>\n",
       "    <tr>\n",
       "      <th>...</th>\n",
       "      <th>...</th>\n",
       "      <td>...</td>\n",
       "      <td>...</td>\n",
       "    </tr>\n",
       "    <tr>\n",
       "      <th rowspan=\"5\" valign=\"top\">xone</th>\n",
       "      <th>2017.0</th>\n",
       "      <td>0</td>\n",
       "      <td>0.0</td>\n",
       "    </tr>\n",
       "    <tr>\n",
       "      <th>2019.0</th>\n",
       "      <td>0</td>\n",
       "      <td>0.0</td>\n",
       "    </tr>\n",
       "    <tr>\n",
       "      <th>2021.0</th>\n",
       "      <td>0</td>\n",
       "      <td>0.0</td>\n",
       "    </tr>\n",
       "    <tr>\n",
       "      <th>2022.0</th>\n",
       "      <td>0</td>\n",
       "      <td>0.0</td>\n",
       "    </tr>\n",
       "    <tr>\n",
       "      <th>2023.0</th>\n",
       "      <td>0</td>\n",
       "      <td>0.0</td>\n",
       "    </tr>\n",
       "  </tbody>\n",
       "</table>\n",
       "<p>1395 rows × 2 columns</p>\n",
       "</div>"
      ],
      "text/plain": [
       "                          games  total_sales\n",
       "platform year_of_release                    \n",
       "2600     1977.0               5       2860.0\n",
       "         1978.0               2        640.0\n",
       "         1979.0               1        310.0\n",
       "         1980.0              14      16490.0\n",
       "         1981.0              47      36120.0\n",
       "...                         ...          ...\n",
       "xone     2017.0               0          0.0\n",
       "         2019.0               0          0.0\n",
       "         2021.0               0          0.0\n",
       "         2022.0               0          0.0\n",
       "         2023.0               0          0.0\n",
       "\n",
       "[1395 rows x 2 columns]"
      ]
     },
     "execution_count": 19,
     "metadata": {},
     "output_type": "execute_result"
    }
   ],
   "source": [
    "df_popular_loss = df_popular_loss.groupby(['platform', 'year_of_release'], observed=False).agg({'name': 'count', 'total_sales': 'sum'})\n",
    "df_popular_loss.columns = ['games', 'total_sales']\n",
    "df_popular_loss"
   ]
  },
  {
   "cell_type": "code",
   "execution_count": 20,
   "id": "212c15cb",
   "metadata": {},
   "outputs": [
    {
     "data": {
      "application/vnd.microsoft.datawrangler.viewer.v0+json": {
       "columns": [
        {
         "name": "index",
         "rawType": "int64",
         "type": "integer"
        },
        {
         "name": "platform",
         "rawType": "category",
         "type": "unknown"
        },
        {
         "name": "year_of_release",
         "rawType": "float64",
         "type": "float"
        },
        {
         "name": "games",
         "rawType": "int64",
         "type": "integer"
        },
        {
         "name": "total_sales",
         "rawType": "float64",
         "type": "float"
        }
       ],
       "ref": "c993fe6f-3523-4ca3-a486-0dabe2ad9283",
       "rows": [
        [
         "0",
         "2600",
         "1977.0",
         "5",
         "2860.0"
        ],
        [
         "1",
         "2600",
         "1978.0",
         "2",
         "640.0"
        ],
        [
         "2",
         "2600",
         "1979.0",
         "1",
         "310.0"
        ],
        [
         "3",
         "2600",
         "1980.0",
         "14",
         "16490.0"
        ],
        [
         "4",
         "2600",
         "1981.0",
         "47",
         "36120.0"
        ],
        [
         "5",
         "2600",
         "1982.0",
         "37",
         "29350.0"
        ],
        [
         "6",
         "2600",
         "1983.0",
         "11",
         "5840.0"
        ],
        [
         "7",
         "2600",
         "1984.0",
         "2",
         "480.0"
        ],
        [
         "8",
         "2600",
         "1985.0",
         "1",
         "450.0"
        ],
        [
         "9",
         "2600",
         "1986.0",
         "2",
         "670.0"
        ],
        [
         "10",
         "2600",
         "1987.0",
         "6",
         "1940.0"
        ],
        [
         "11",
         "2600",
         "1988.0",
         "2",
         "740.0"
        ],
        [
         "12",
         "2600",
         "1989.0",
         "2",
         "630.0"
        ],
        [
         "13",
         "2600",
         "2019.0",
         "1",
         "460.0"
        ],
        [
         "14",
         "3do",
         "1994.0",
         "1",
         "20.0"
        ],
        [
         "15",
         "3do",
         "1995.0",
         "2",
         "80.0"
        ],
        [
         "16",
         "3ds",
         "2010.0",
         "3",
         "580.0"
        ],
        [
         "17",
         "3ds",
         "2011.0",
         "119",
         "63760.0"
        ],
        [
         "18",
         "3ds",
         "2012.0",
         "95",
         "51410.0"
        ],
        [
         "19",
         "3ds",
         "2013.0",
         "91",
         "56570.0"
        ],
        [
         "20",
         "3ds",
         "2014.0",
         "80",
         "43760.0"
        ],
        [
         "21",
         "3ds",
         "2015.0",
         "86",
         "27780.0"
        ],
        [
         "22",
         "3ds",
         "2016.0",
         "46",
         "15140.0"
        ],
        [
         "23",
         "dc",
         "1998.0",
         "7",
         "3380.0"
        ],
        [
         "24",
         "dc",
         "1999.0",
         "14",
         "5160.0"
        ],
        [
         "25",
         "dc",
         "2000.0",
         "20",
         "5990.0"
        ],
        [
         "26",
         "dc",
         "2001.0",
         "8",
         "1070.0"
        ],
        [
         "27",
         "dc",
         "2002.0",
         "1",
         "290.0"
        ],
        [
         "28",
         "dc",
         "2007.0",
         "1",
         "20.0"
        ],
        [
         "29",
         "dc",
         "2008.0",
         "1",
         "40.0"
        ],
        [
         "30",
         "ds",
         "1983.0",
         "1",
         "120.0"
        ],
        [
         "31",
         "ds",
         "1985.0",
         "1",
         "20.0"
        ],
        [
         "32",
         "ds",
         "1988.0",
         "1",
         "90.0"
        ],
        [
         "33",
         "ds",
         "2001.0",
         "1",
         "70.0"
        ],
        [
         "34",
         "ds",
         "2004.0",
         "23",
         "17270.0"
        ],
        [
         "35",
         "ds",
         "2005.0",
         "119",
         "130160.0"
        ],
        [
         "36",
         "ds",
         "2006.0",
         "205",
         "120070.0"
        ],
        [
         "37",
         "ds",
         "2007.0",
         "379",
         "147350.0"
        ],
        [
         "38",
         "ds",
         "2008.0",
         "497",
         "146140.0"
        ],
        [
         "39",
         "ds",
         "2009.0",
         "406",
         "119590.0"
        ],
        [
         "40",
         "ds",
         "2010.0",
         "325",
         "85370.0"
        ],
        [
         "41",
         "ds",
         "2011.0",
         "156",
         "26990.0"
        ],
        [
         "42",
         "ds",
         "2012.0",
         "23",
         "11010.0"
        ],
        [
         "43",
         "ds",
         "2013.0",
         "8",
         "1540.0"
        ],
        [
         "44",
         "ds",
         "2014.0",
         "5",
         "320.0"
        ],
        [
         "45",
         "ds",
         "2021.0",
         "1",
         "10.0"
        ],
        [
         "46",
         "gb",
         "1988.0",
         "1",
         "1430.0"
        ],
        [
         "47",
         "gb",
         "1989.0",
         "10",
         "64970.0"
        ],
        [
         "48",
         "gb",
         "1990.0",
         "3",
         "4890.0"
        ],
        [
         "49",
         "gb",
         "1991.0",
         "9",
         "5570.0"
        ]
       ],
       "shape": {
        "columns": 4,
        "rows": 275
       }
      },
      "text/html": [
       "<div>\n",
       "<style scoped>\n",
       "    .dataframe tbody tr th:only-of-type {\n",
       "        vertical-align: middle;\n",
       "    }\n",
       "\n",
       "    .dataframe tbody tr th {\n",
       "        vertical-align: top;\n",
       "    }\n",
       "\n",
       "    .dataframe thead th {\n",
       "        text-align: right;\n",
       "    }\n",
       "</style>\n",
       "<table border=\"1\" class=\"dataframe\">\n",
       "  <thead>\n",
       "    <tr style=\"text-align: right;\">\n",
       "      <th></th>\n",
       "      <th>platform</th>\n",
       "      <th>year_of_release</th>\n",
       "      <th>games</th>\n",
       "      <th>total_sales</th>\n",
       "    </tr>\n",
       "  </thead>\n",
       "  <tbody>\n",
       "    <tr>\n",
       "      <th>0</th>\n",
       "      <td>2600</td>\n",
       "      <td>1977.0</td>\n",
       "      <td>5</td>\n",
       "      <td>2860.0</td>\n",
       "    </tr>\n",
       "    <tr>\n",
       "      <th>1</th>\n",
       "      <td>2600</td>\n",
       "      <td>1978.0</td>\n",
       "      <td>2</td>\n",
       "      <td>640.0</td>\n",
       "    </tr>\n",
       "    <tr>\n",
       "      <th>2</th>\n",
       "      <td>2600</td>\n",
       "      <td>1979.0</td>\n",
       "      <td>1</td>\n",
       "      <td>310.0</td>\n",
       "    </tr>\n",
       "    <tr>\n",
       "      <th>3</th>\n",
       "      <td>2600</td>\n",
       "      <td>1980.0</td>\n",
       "      <td>14</td>\n",
       "      <td>16490.0</td>\n",
       "    </tr>\n",
       "    <tr>\n",
       "      <th>4</th>\n",
       "      <td>2600</td>\n",
       "      <td>1981.0</td>\n",
       "      <td>47</td>\n",
       "      <td>36120.0</td>\n",
       "    </tr>\n",
       "    <tr>\n",
       "      <th>...</th>\n",
       "      <td>...</td>\n",
       "      <td>...</td>\n",
       "      <td>...</td>\n",
       "      <td>...</td>\n",
       "    </tr>\n",
       "    <tr>\n",
       "      <th>270</th>\n",
       "      <td>xb</td>\n",
       "      <td>2022.0</td>\n",
       "      <td>1</td>\n",
       "      <td>310.0</td>\n",
       "    </tr>\n",
       "    <tr>\n",
       "      <th>271</th>\n",
       "      <td>xone</td>\n",
       "      <td>2013.0</td>\n",
       "      <td>19</td>\n",
       "      <td>18960.0</td>\n",
       "    </tr>\n",
       "    <tr>\n",
       "      <th>272</th>\n",
       "      <td>xone</td>\n",
       "      <td>2014.0</td>\n",
       "      <td>61</td>\n",
       "      <td>54070.0</td>\n",
       "    </tr>\n",
       "    <tr>\n",
       "      <th>273</th>\n",
       "      <td>xone</td>\n",
       "      <td>2015.0</td>\n",
       "      <td>80</td>\n",
       "      <td>60140.0</td>\n",
       "    </tr>\n",
       "    <tr>\n",
       "      <th>274</th>\n",
       "      <td>xone</td>\n",
       "      <td>2016.0</td>\n",
       "      <td>87</td>\n",
       "      <td>26150.0</td>\n",
       "    </tr>\n",
       "  </tbody>\n",
       "</table>\n",
       "<p>275 rows × 4 columns</p>\n",
       "</div>"
      ],
      "text/plain": [
       "    platform  year_of_release  games  total_sales\n",
       "0       2600           1977.0      5       2860.0\n",
       "1       2600           1978.0      2        640.0\n",
       "2       2600           1979.0      1        310.0\n",
       "3       2600           1980.0     14      16490.0\n",
       "4       2600           1981.0     47      36120.0\n",
       "..       ...              ...    ...          ...\n",
       "270       xb           2022.0      1        310.0\n",
       "271     xone           2013.0     19      18960.0\n",
       "272     xone           2014.0     61      54070.0\n",
       "273     xone           2015.0     80      60140.0\n",
       "274     xone           2016.0     87      26150.0\n",
       "\n",
       "[275 rows x 4 columns]"
      ]
     },
     "execution_count": 20,
     "metadata": {},
     "output_type": "execute_result"
    }
   ],
   "source": [
    "df_popular_loss = df_popular_loss.loc[~(df_popular_loss['games'] == 0) & ~(df_popular_loss['total_sales'] == 0)].reset_index()\n",
    "df_popular_loss"
   ]
  },
  {
   "cell_type": "code",
   "execution_count": 21,
   "id": "e1cdf75a",
   "metadata": {},
   "outputs": [],
   "source": [
    "project_root = Path.cwd().parent\n",
    "processed_path = project_root / \"data\" / \"processed\" / \"feature\" / \"vg_platform_popular_loss_feature.csv\"\n",
    "\n",
    "df_popular_loss.to_csv(processed_path, index=False)"
   ]
  },
  {
   "cell_type": "code",
   "execution_count": 22,
   "id": "3bd0f3db",
   "metadata": {},
   "outputs": [
    {
     "data": {
      "application/vnd.microsoft.datawrangler.viewer.v0+json": {
       "columns": [
        {
         "name": "index",
         "rawType": "int64",
         "type": "integer"
        },
        {
         "name": "name",
         "rawType": "string",
         "type": "string"
        },
        {
         "name": "platform",
         "rawType": "category",
         "type": "unknown"
        },
        {
         "name": "year_of_release",
         "rawType": "float64",
         "type": "float"
        },
        {
         "name": "na_sales",
         "rawType": "float64",
         "type": "float"
        },
        {
         "name": "eu_sales",
         "rawType": "float64",
         "type": "float"
        },
        {
         "name": "jp_sales",
         "rawType": "float64",
         "type": "float"
        },
        {
         "name": "other_sales",
         "rawType": "float64",
         "type": "float"
        },
        {
         "name": "total_sales",
         "rawType": "float64",
         "type": "float"
        }
       ],
       "ref": "82e3e135-6dfd-4bcb-bf6a-d70ad6d23515",
       "rows": [
        [
         "0",
         "wii_sports",
         "wii",
         "2006.0",
         "41360.0",
         "28960.0",
         "3770.0",
         "8450.0",
         "82540.0"
        ],
        [
         "2",
         "mario_kart_wii",
         "wii",
         "2008.0",
         "15680.0",
         "12760.0",
         "3790.0",
         "3290.0",
         "35520.0"
        ],
        [
         "3",
         "wii_sports_resort",
         "wii",
         "2009.0",
         "15610.0",
         "10930.0",
         "3280.0",
         "2950.0",
         "32770.0"
        ],
        [
         "4",
         "pokemon_red_pokemon_blue",
         "gb",
         "1996.0",
         "11270.0",
         "8890.0",
         "10220.0",
         "1000.0",
         "31380.0"
        ],
        [
         "6",
         "new_super_mario_bros",
         "ds",
         "2006.0",
         "11280.0",
         "9140.0",
         "6500.0",
         "2880.0",
         "29800.0"
        ],
        [
         "7",
         "wii_play",
         "wii",
         "2006.0",
         "13960.0",
         "9180.0",
         "2930.0",
         "2840.0",
         "28910.0"
        ],
        [
         "8",
         "new_super_mario_bros_wii",
         "wii",
         "2009.0",
         "14440.0",
         "6940.0",
         "4700.0",
         "2240.0",
         "28320.0"
        ],
        [
         "10",
         "nintendogs",
         "ds",
         "2005.0",
         "9050.0",
         "10950.0",
         "1930.0",
         "2740.0",
         "24670.0"
        ],
        [
         "11",
         "mario_kart_ds",
         "ds",
         "2005.0",
         "9710.0",
         "7470.0",
         "4130.0",
         "1900.0",
         "23210.0"
        ],
        [
         "12",
         "pokemon_gold_pokemon_silver",
         "gb",
         "1999.0",
         "9000.0",
         "6180.0",
         "7200.0",
         "710.0",
         "23090.0"
        ],
        [
         "13",
         "wii_fit",
         "wii",
         "2007.0",
         "8920.0",
         "8029.999999999999",
         "3600.0",
         "2150.0",
         "22700.0"
        ],
        [
         "14",
         "kinect_adventures",
         "x360",
         "2010.0",
         "15000.0",
         "4890.0",
         "240.0",
         "1690.0",
         "21820.0"
        ],
        [
         "15",
         "wii_fit_plus",
         "wii",
         "2009.0",
         "9010.0",
         "8490.0",
         "2530.0",
         "1770.0",
         "21800.0"
        ],
        [
         "16",
         "grand_theft_auto_v",
         "ps3",
         "2013.0",
         "7020.0",
         "9090.0",
         "980.0",
         "3960.0",
         "21050.0"
        ],
        [
         "17",
         "grand_theft_auto_san_andreas",
         "ps2",
         "2004.0",
         "9430.0",
         "400.0",
         "410.0",
         "10570.0",
         "20810.0"
        ],
        [
         "19",
         "brain_age_train_your_brain_in_minutes_a_day",
         "ds",
         "2005.0",
         "4740.0",
         "9200.0",
         "4160.0",
         "2040.0",
         "20140.0"
        ],
        [
         "20",
         "pokemon_diamond_pokemon_pearl",
         "ds",
         "2006.0",
         "6380.0",
         "4460.0",
         "6040.0",
         "1360.0",
         "18240.0"
        ],
        [
         "23",
         "grand_theft_auto_v",
         "x360",
         "2013.0",
         "9660.0",
         "5140.0",
         "60.0",
         "1410.0",
         "16270.0"
        ],
        [
         "24",
         "grand_theft_auto_vice_city",
         "ps2",
         "2002.0",
         "8410.0",
         "5490.0",
         "470.0",
         "1780.0",
         "16150.0"
        ],
        [
         "25",
         "pokemon_ruby_pokemon_sapphire",
         "gba",
         "2002.0",
         "6060.0",
         "3900.0",
         "5380.0",
         "500.0",
         "15840.0"
        ],
        [
         "26",
         "brain_age_2_more_training_in_minutes_a_day",
         "ds",
         "2005.0",
         "3430.0",
         "5350.0",
         "5320.0",
         "1180.0",
         "15280.0"
        ],
        [
         "27",
         "pokemon_black_pokemon_white",
         "ds",
         "2010.0",
         "5510.0",
         "3170.0",
         "5650.0",
         "800.0",
         "15130.0"
        ],
        [
         "28",
         "gran_turismo_3_a_spec",
         "ps2",
         "2001.0",
         "6850.0",
         "5090.0",
         "1870.0",
         "1160.0",
         "14970.0"
        ],
        [
         "29",
         "call_of_duty_modern_warfare_3",
         "x360",
         "2011.0",
         "9040.0",
         "4240.0",
         "130.0",
         "1320.0",
         "14730.0"
        ],
        [
         "30",
         "pokémon_yellow_special_pikachu_edition",
         "gb",
         "1998.0",
         "5890.0",
         "5040.0",
         "3120.0",
         "590.0",
         "14640.0"
        ],
        [
         "31",
         "call_of_duty_black_ops_3",
         "ps4",
         "2015.0",
         "6030.0",
         "5860.0",
         "360.0",
         "2380.0",
         "14630.0"
        ],
        [
         "32",
         "call_of_duty_black_ops",
         "x360",
         "2010.0",
         "9700.0",
         "3680.0",
         "110.0",
         "1130.0",
         "14620.0"
        ],
        [
         "33",
         "pokemon_x_pokemon_y",
         "3ds",
         "2013.0",
         "5280.0",
         "4190.0",
         "4350.0",
         "780.0",
         "14600.0"
        ],
        [
         "34",
         "call_of_duty_black_ops_ii",
         "ps3",
         "2012.0",
         "4990.0",
         "5730.0",
         "650.0",
         "2420.0",
         "13790.0"
        ],
        [
         "35",
         "call_of_duty_black_ops_ii",
         "x360",
         "2012.0",
         "8250.0",
         "4240.0",
         "70.0",
         "1120.0",
         "13680.0"
        ],
        [
         "36",
         "call_of_duty_modern_warfare_2",
         "x360",
         "2009.0",
         "8520.0",
         "3590.0",
         "80.0",
         "1280.0",
         "13470.0"
        ],
        [
         "37",
         "call_of_duty_modern_warfare_3",
         "ps3",
         "2011.0",
         "5540.0",
         "5730.0",
         "490.0",
         "1570.0",
         "13330.0"
        ],
        [
         "38",
         "grand_theft_auto_iii",
         "ps2",
         "2001.0",
         "6990.0",
         "4510.0",
         "300.0",
         "1300.0",
         "13100.0"
        ],
        [
         "39",
         "super_smash_bros_brawl",
         "wii",
         "2008.0",
         "6620.0",
         "2550.0",
         "2660.0",
         "1010.0",
         "12840.0"
        ],
        [
         "40",
         "mario_kart_7",
         "3ds",
         "2011.0",
         "5030.0",
         "4019.9999999999995",
         "2690.0",
         "910.0",
         "12650.0"
        ],
        [
         "41",
         "call_of_duty_black_ops",
         "ps3",
         "2010.0",
         "5990.0",
         "4370.0",
         "480.0",
         "1790.0",
         "12630.0"
        ],
        [
         "42",
         "grand_theft_auto_v",
         "ps4",
         "2014.0",
         "3960.0",
         "6310.0",
         "380.0",
         "1970.0",
         "12620.0"
        ],
        [
         "43",
         "animal_crossing_wild_world",
         "ds",
         "2005.0",
         "2500.0",
         "3450.0",
         "5330.0",
         "860.0",
         "12140.0"
        ],
        [
         "44",
         "halo_3",
         "x360",
         "2007.0",
         "7970.0",
         "2810.0",
         "130.0",
         "1210.0",
         "12120.0"
        ],
        [
         "45",
         "super_mario_64",
         "n64",
         "1996.0",
         "6910.0",
         "2850.0",
         "1910.0",
         "230.0",
         "11900.0"
        ],
        [
         "46",
         "pokemon_heartgold_pokemon_soulsilver",
         "ds",
         "2009.0",
         "4340.0",
         "2710.0",
         "3960.0",
         "760.0",
         "11770.0"
        ],
        [
         "47",
         "pokemon_omega_ruby_pokemon_alpha_sapphire",
         "3ds",
         "2014.0",
         "4350.0",
         "3490.0",
         "3100.0",
         "740.0",
         "11680.0"
        ],
        [
         "48",
         "gran_turismo_4",
         "ps2",
         "2004.0",
         "3010.0",
         "10.0",
         "1100.0",
         "7530.0",
         "11650.0"
        ],
        [
         "49",
         "super_mario_galaxy",
         "wii",
         "2007.0",
         "6060.0",
         "3350.0",
         "1200.0",
         "740.0",
         "11350.0"
        ],
        [
         "51",
         "grand_theft_auto_iv",
         "x360",
         "2008.0",
         "6760.0",
         "3070.0",
         "140.0",
         "1030.0",
         "11000.0"
        ],
        [
         "52",
         "gran_turismo",
         "ps",
         "1997.0",
         "4019.9999999999995",
         "3870.0",
         "2540.0",
         "520.0",
         "10950.0"
        ],
        [
         "53",
         "super_mario_3d_land",
         "3ds",
         "2011.0",
         "4890.0",
         "3000.0",
         "2140.0",
         "780.0",
         "10810.0"
        ],
        [
         "54",
         "gran_turismo_5",
         "ps3",
         "2010.0",
         "2960.0",
         "4820.0",
         "810.0",
         "2110.0",
         "10700.0"
        ],
        [
         "55",
         "call_of_duty_modern_warfare_2",
         "ps3",
         "2009.0",
         "4990.0",
         "3640.0",
         "380.0",
         "1600.0",
         "10610.0"
        ],
        [
         "57",
         "grand_theft_auto_iv",
         "ps3",
         "2008.0",
         "4760.0",
         "3690.0",
         "440.0",
         "1610.0",
         "10500.0"
        ]
       ],
       "shape": {
        "columns": 8,
        "rows": 16312
       }
      },
      "text/html": [
       "<div>\n",
       "<style scoped>\n",
       "    .dataframe tbody tr th:only-of-type {\n",
       "        vertical-align: middle;\n",
       "    }\n",
       "\n",
       "    .dataframe tbody tr th {\n",
       "        vertical-align: top;\n",
       "    }\n",
       "\n",
       "    .dataframe thead th {\n",
       "        text-align: right;\n",
       "    }\n",
       "</style>\n",
       "<table border=\"1\" class=\"dataframe\">\n",
       "  <thead>\n",
       "    <tr style=\"text-align: right;\">\n",
       "      <th></th>\n",
       "      <th>name</th>\n",
       "      <th>platform</th>\n",
       "      <th>year_of_release</th>\n",
       "      <th>na_sales</th>\n",
       "      <th>eu_sales</th>\n",
       "      <th>jp_sales</th>\n",
       "      <th>other_sales</th>\n",
       "      <th>total_sales</th>\n",
       "    </tr>\n",
       "  </thead>\n",
       "  <tbody>\n",
       "    <tr>\n",
       "      <th>0</th>\n",
       "      <td>wii_sports</td>\n",
       "      <td>wii</td>\n",
       "      <td>2006.0</td>\n",
       "      <td>41360.0</td>\n",
       "      <td>28960.0</td>\n",
       "      <td>3770.0</td>\n",
       "      <td>8450.0</td>\n",
       "      <td>82540.0</td>\n",
       "    </tr>\n",
       "    <tr>\n",
       "      <th>2</th>\n",
       "      <td>mario_kart_wii</td>\n",
       "      <td>wii</td>\n",
       "      <td>2008.0</td>\n",
       "      <td>15680.0</td>\n",
       "      <td>12760.0</td>\n",
       "      <td>3790.0</td>\n",
       "      <td>3290.0</td>\n",
       "      <td>35520.0</td>\n",
       "    </tr>\n",
       "    <tr>\n",
       "      <th>3</th>\n",
       "      <td>wii_sports_resort</td>\n",
       "      <td>wii</td>\n",
       "      <td>2009.0</td>\n",
       "      <td>15610.0</td>\n",
       "      <td>10930.0</td>\n",
       "      <td>3280.0</td>\n",
       "      <td>2950.0</td>\n",
       "      <td>32770.0</td>\n",
       "    </tr>\n",
       "    <tr>\n",
       "      <th>4</th>\n",
       "      <td>pokemon_red_pokemon_blue</td>\n",
       "      <td>gb</td>\n",
       "      <td>1996.0</td>\n",
       "      <td>11270.0</td>\n",
       "      <td>8890.0</td>\n",
       "      <td>10220.0</td>\n",
       "      <td>1000.0</td>\n",
       "      <td>31380.0</td>\n",
       "    </tr>\n",
       "    <tr>\n",
       "      <th>6</th>\n",
       "      <td>new_super_mario_bros</td>\n",
       "      <td>ds</td>\n",
       "      <td>2006.0</td>\n",
       "      <td>11280.0</td>\n",
       "      <td>9140.0</td>\n",
       "      <td>6500.0</td>\n",
       "      <td>2880.0</td>\n",
       "      <td>29800.0</td>\n",
       "    </tr>\n",
       "    <tr>\n",
       "      <th>...</th>\n",
       "      <td>...</td>\n",
       "      <td>...</td>\n",
       "      <td>...</td>\n",
       "      <td>...</td>\n",
       "      <td>...</td>\n",
       "      <td>...</td>\n",
       "      <td>...</td>\n",
       "      <td>...</td>\n",
       "    </tr>\n",
       "    <tr>\n",
       "      <th>16710</th>\n",
       "      <td>samurai_warriors_sanada_maru</td>\n",
       "      <td>ps3</td>\n",
       "      <td>2016.0</td>\n",
       "      <td>0.0</td>\n",
       "      <td>0.0</td>\n",
       "      <td>10.0</td>\n",
       "      <td>0.0</td>\n",
       "      <td>10.0</td>\n",
       "    </tr>\n",
       "    <tr>\n",
       "      <th>16711</th>\n",
       "      <td>lma_manager_2007</td>\n",
       "      <td>x360</td>\n",
       "      <td>2006.0</td>\n",
       "      <td>0.0</td>\n",
       "      <td>10.0</td>\n",
       "      <td>0.0</td>\n",
       "      <td>0.0</td>\n",
       "      <td>10.0</td>\n",
       "    </tr>\n",
       "    <tr>\n",
       "      <th>16712</th>\n",
       "      <td>haitaka_no_psychedelica</td>\n",
       "      <td>psv</td>\n",
       "      <td>2016.0</td>\n",
       "      <td>0.0</td>\n",
       "      <td>0.0</td>\n",
       "      <td>10.0</td>\n",
       "      <td>0.0</td>\n",
       "      <td>10.0</td>\n",
       "    </tr>\n",
       "    <tr>\n",
       "      <th>16713</th>\n",
       "      <td>spirits_spells</td>\n",
       "      <td>gba</td>\n",
       "      <td>2003.0</td>\n",
       "      <td>10.0</td>\n",
       "      <td>0.0</td>\n",
       "      <td>0.0</td>\n",
       "      <td>0.0</td>\n",
       "      <td>10.0</td>\n",
       "    </tr>\n",
       "    <tr>\n",
       "      <th>16714</th>\n",
       "      <td>winning_post_8_2016</td>\n",
       "      <td>psv</td>\n",
       "      <td>2016.0</td>\n",
       "      <td>0.0</td>\n",
       "      <td>0.0</td>\n",
       "      <td>10.0</td>\n",
       "      <td>0.0</td>\n",
       "      <td>10.0</td>\n",
       "    </tr>\n",
       "  </tbody>\n",
       "</table>\n",
       "<p>16312 rows × 8 columns</p>\n",
       "</div>"
      ],
      "text/plain": [
       "                               name platform  year_of_release  na_sales  eu_sales  jp_sales  other_sales  total_sales\n",
       "0                        wii_sports      wii           2006.0   41360.0   28960.0    3770.0       8450.0      82540.0\n",
       "2                    mario_kart_wii      wii           2008.0   15680.0   12760.0    3790.0       3290.0      35520.0\n",
       "3                 wii_sports_resort      wii           2009.0   15610.0   10930.0    3280.0       2950.0      32770.0\n",
       "4          pokemon_red_pokemon_blue       gb           1996.0   11270.0    8890.0   10220.0       1000.0      31380.0\n",
       "6              new_super_mario_bros       ds           2006.0   11280.0    9140.0    6500.0       2880.0      29800.0\n",
       "...                             ...      ...              ...       ...       ...       ...          ...          ...\n",
       "16710  samurai_warriors_sanada_maru      ps3           2016.0       0.0       0.0      10.0          0.0         10.0\n",
       "16711              lma_manager_2007     x360           2006.0       0.0      10.0       0.0          0.0         10.0\n",
       "16712       haitaka_no_psychedelica      psv           2016.0       0.0       0.0      10.0          0.0         10.0\n",
       "16713                spirits_spells      gba           2003.0      10.0       0.0       0.0          0.0         10.0\n",
       "16714           winning_post_8_2016      psv           2016.0       0.0       0.0      10.0          0.0         10.0\n",
       "\n",
       "[16312 rows x 8 columns]"
      ]
     },
     "execution_count": 22,
     "metadata": {},
     "output_type": "execute_result"
    }
   ],
   "source": [
    "# Platform profitability\n",
    "mask = (df_vg['year_of_release'] > 1993) & (df_vg['year_of_release'] < 2018)\n",
    "df_platform_profit = df_vg.loc[mask, ['name', 'platform', 'year_of_release', 'na_sales', 'eu_sales', 'jp_sales', 'other_sales']]\n",
    "df_platform_profit['total_sales'] = df_platform_profit[['na_sales', 'eu_sales', 'jp_sales', 'other_sales']].sum(axis=1)\n",
    "df_platform_profit\n"
   ]
  },
  {
   "cell_type": "code",
   "execution_count": 23,
   "id": "39e52567",
   "metadata": {},
   "outputs": [
    {
     "data": {
      "application/vnd.microsoft.datawrangler.viewer.v0+json": {
       "columns": [
        {
         "name": "index",
         "rawType": "int64",
         "type": "integer"
        },
        {
         "name": "platform",
         "rawType": "category",
         "type": "unknown"
        },
        {
         "name": "min",
         "rawType": "float64",
         "type": "float"
        },
        {
         "name": "max",
         "rawType": "float64",
         "type": "float"
        },
        {
         "name": "lifespan",
         "rawType": "float64",
         "type": "float"
        }
       ],
       "ref": "b434eeea-3b79-4853-a8fc-6d858acbe6e1",
       "rows": [
        [
         "0",
         "2600",
         null,
         null,
         null
        ],
        [
         "1",
         "3do",
         "1994.0",
         "1995.0",
         "2.0"
        ],
        [
         "2",
         "3ds",
         "2010.0",
         "2016.0",
         "7.0"
        ],
        [
         "3",
         "dc",
         "1998.0",
         "2008.0",
         "11.0"
        ],
        [
         "4",
         "ds",
         "2001.0",
         "2014.0",
         "14.0"
        ],
        [
         "5",
         "gb",
         "1994.0",
         "2001.0",
         "8.0"
        ],
        [
         "6",
         "gba",
         "1997.0",
         "2013.0",
         "17.0"
        ],
        [
         "7",
         "gc",
         "2000.0",
         "2013.0",
         "14.0"
        ],
        [
         "8",
         "gen",
         "1994.0",
         "1994.0",
         "1.0"
        ],
        [
         "9",
         "gg",
         null,
         null,
         null
        ],
        [
         "10",
         "n64",
         "1996.0",
         "2002.0",
         "7.0"
        ],
        [
         "11",
         "nes",
         "1994.0",
         "1994.0",
         "1.0"
        ],
        [
         "12",
         "ng",
         "1994.0",
         "1996.0",
         "3.0"
        ],
        [
         "13",
         "pc",
         "1994.0",
         "2016.0",
         "23.0"
        ],
        [
         "14",
         "pcfx",
         "1996.0",
         "1996.0",
         "1.0"
        ],
        [
         "15",
         "ps",
         "1994.0",
         "2003.0",
         "10.0"
        ],
        [
         "16",
         "ps2",
         "1999.0",
         "2013.0",
         "15.0"
        ],
        [
         "17",
         "ps3",
         "2006.0",
         "2017.0",
         "12.0"
        ],
        [
         "18",
         "ps4",
         "2013.0",
         "2016.0",
         "4.0"
        ],
        [
         "19",
         "psp",
         "1995.0",
         "2015.0",
         "21.0"
        ],
        [
         "20",
         "psv",
         "2011.0",
         "2016.0",
         "6.0"
        ],
        [
         "21",
         "sat",
         "1994.0",
         "1999.0",
         "6.0"
        ],
        [
         "22",
         "scd",
         "1994.0",
         "1994.0",
         "1.0"
        ],
        [
         "23",
         "snes",
         "1994.0",
         "1999.0",
         "6.0"
        ],
        [
         "24",
         "tg16",
         "1995.0",
         "1995.0",
         "1.0"
        ],
        [
         "25",
         "wii",
         "1998.0",
         "2016.0",
         "19.0"
        ],
        [
         "26",
         "wiiu",
         "2012.0",
         "2016.0",
         "5.0"
        ],
        [
         "27",
         "ws",
         "1999.0",
         "2001.0",
         "3.0"
        ],
        [
         "28",
         "x360",
         "2001.0",
         "2016.0",
         "16.0"
        ],
        [
         "29",
         "xb",
         "2000.0",
         "2008.0",
         "9.0"
        ],
        [
         "30",
         "xone",
         "2013.0",
         "2016.0",
         "4.0"
        ]
       ],
       "shape": {
        "columns": 4,
        "rows": 31
       }
      },
      "text/html": [
       "<div>\n",
       "<style scoped>\n",
       "    .dataframe tbody tr th:only-of-type {\n",
       "        vertical-align: middle;\n",
       "    }\n",
       "\n",
       "    .dataframe tbody tr th {\n",
       "        vertical-align: top;\n",
       "    }\n",
       "\n",
       "    .dataframe thead th {\n",
       "        text-align: right;\n",
       "    }\n",
       "</style>\n",
       "<table border=\"1\" class=\"dataframe\">\n",
       "  <thead>\n",
       "    <tr style=\"text-align: right;\">\n",
       "      <th></th>\n",
       "      <th>platform</th>\n",
       "      <th>min</th>\n",
       "      <th>max</th>\n",
       "      <th>lifespan</th>\n",
       "    </tr>\n",
       "  </thead>\n",
       "  <tbody>\n",
       "    <tr>\n",
       "      <th>0</th>\n",
       "      <td>2600</td>\n",
       "      <td>NaN</td>\n",
       "      <td>NaN</td>\n",
       "      <td>NaN</td>\n",
       "    </tr>\n",
       "    <tr>\n",
       "      <th>1</th>\n",
       "      <td>3do</td>\n",
       "      <td>1994.0</td>\n",
       "      <td>1995.0</td>\n",
       "      <td>2.0</td>\n",
       "    </tr>\n",
       "    <tr>\n",
       "      <th>2</th>\n",
       "      <td>3ds</td>\n",
       "      <td>2010.0</td>\n",
       "      <td>2016.0</td>\n",
       "      <td>7.0</td>\n",
       "    </tr>\n",
       "    <tr>\n",
       "      <th>3</th>\n",
       "      <td>dc</td>\n",
       "      <td>1998.0</td>\n",
       "      <td>2008.0</td>\n",
       "      <td>11.0</td>\n",
       "    </tr>\n",
       "    <tr>\n",
       "      <th>4</th>\n",
       "      <td>ds</td>\n",
       "      <td>2001.0</td>\n",
       "      <td>2014.0</td>\n",
       "      <td>14.0</td>\n",
       "    </tr>\n",
       "    <tr>\n",
       "      <th>...</th>\n",
       "      <td>...</td>\n",
       "      <td>...</td>\n",
       "      <td>...</td>\n",
       "      <td>...</td>\n",
       "    </tr>\n",
       "    <tr>\n",
       "      <th>26</th>\n",
       "      <td>wiiu</td>\n",
       "      <td>2012.0</td>\n",
       "      <td>2016.0</td>\n",
       "      <td>5.0</td>\n",
       "    </tr>\n",
       "    <tr>\n",
       "      <th>27</th>\n",
       "      <td>ws</td>\n",
       "      <td>1999.0</td>\n",
       "      <td>2001.0</td>\n",
       "      <td>3.0</td>\n",
       "    </tr>\n",
       "    <tr>\n",
       "      <th>28</th>\n",
       "      <td>x360</td>\n",
       "      <td>2001.0</td>\n",
       "      <td>2016.0</td>\n",
       "      <td>16.0</td>\n",
       "    </tr>\n",
       "    <tr>\n",
       "      <th>29</th>\n",
       "      <td>xb</td>\n",
       "      <td>2000.0</td>\n",
       "      <td>2008.0</td>\n",
       "      <td>9.0</td>\n",
       "    </tr>\n",
       "    <tr>\n",
       "      <th>30</th>\n",
       "      <td>xone</td>\n",
       "      <td>2013.0</td>\n",
       "      <td>2016.0</td>\n",
       "      <td>4.0</td>\n",
       "    </tr>\n",
       "  </tbody>\n",
       "</table>\n",
       "<p>31 rows × 4 columns</p>\n",
       "</div>"
      ],
      "text/plain": [
       "   platform     min     max  lifespan\n",
       "0      2600     NaN     NaN       NaN\n",
       "1       3do  1994.0  1995.0       2.0\n",
       "2       3ds  2010.0  2016.0       7.0\n",
       "3        dc  1998.0  2008.0      11.0\n",
       "4        ds  2001.0  2014.0      14.0\n",
       "..      ...     ...     ...       ...\n",
       "26     wiiu  2012.0  2016.0       5.0\n",
       "27       ws  1999.0  2001.0       3.0\n",
       "28     x360  2001.0  2016.0      16.0\n",
       "29       xb  2000.0  2008.0       9.0\n",
       "30     xone  2013.0  2016.0       4.0\n",
       "\n",
       "[31 rows x 4 columns]"
      ]
     },
     "execution_count": 23,
     "metadata": {},
     "output_type": "execute_result"
    }
   ],
   "source": [
    "df_lifespan = df_platform_profit.groupby('platform', observed=False)['year_of_release'].agg(['min', 'max']).reset_index()\n",
    "df_lifespan['lifespan'] = df_lifespan['max'] - df_lifespan['min'] + 1\n",
    "df_lifespan"
   ]
  },
  {
   "cell_type": "code",
   "execution_count": 24,
   "id": "f2c3c5cd",
   "metadata": {},
   "outputs": [
    {
     "data": {
      "application/vnd.microsoft.datawrangler.viewer.v0+json": {
       "columns": [
        {
         "name": "index",
         "rawType": "int64",
         "type": "integer"
        },
        {
         "name": "platform",
         "rawType": "category",
         "type": "unknown"
        },
        {
         "name": "total_sales",
         "rawType": "float64",
         "type": "float"
        },
        {
         "name": "games_sold",
         "rawType": "int64",
         "type": "integer"
        }
       ],
       "ref": "276b4f3c-3f62-4262-a277-e9b2656e692d",
       "rows": [
        [
         "0",
         "3do",
         "100.0",
         "3"
        ],
        [
         "1",
         "3ds",
         "259000.0",
         "520"
        ],
        [
         "2",
         "dc",
         "15950.0",
         "52"
        ],
        [
         "3",
         "ds",
         "805880.0",
         "2147"
        ],
        [
         "4",
         "gb",
         "153110.0",
         "68"
        ],
        [
         "5",
         "gba",
         "317850.0",
         "822"
        ],
        [
         "6",
         "gc",
         "198650.0",
         "555"
        ],
        [
         "7",
         "gen",
         "8130.0",
         "12"
        ],
        [
         "8",
         "n64",
         "218680.0",
         "319"
        ],
        [
         "9",
         "nes",
         "110.0",
         "1"
        ],
        [
         "10",
         "ng",
         "1230.0",
         "10"
        ],
        [
         "11",
         "pc",
         "256250.0",
         "964"
        ],
        [
         "12",
         "pcfx",
         "30.0",
         "1"
        ],
        [
         "13",
         "ps",
         "730770.0",
         "1196"
        ],
        [
         "14",
         "ps2",
         "1255560.0",
         "2160"
        ],
        [
         "15",
         "ps3",
         "939650.0",
         "1331"
        ],
        [
         "16",
         "ps4",
         "314140.0",
         "392"
        ],
        [
         "17",
         "psp",
         "293630.0",
         "1206"
        ],
        [
         "18",
         "psv",
         "54070.0",
         "430"
        ],
        [
         "19",
         "sat",
         "33590.0",
         "173"
        ],
        [
         "20",
         "scd",
         "360.0",
         "5"
        ],
        [
         "21",
         "snes",
         "84670.0",
         "144"
        ],
        [
         "22",
         "tg16",
         "160.0",
         "2"
        ],
        [
         "23",
         "wii",
         "907120.0",
         "1318"
        ],
        [
         "24",
         "wiiu",
         "82190.0",
         "147"
        ],
        [
         "25",
         "ws",
         "1420.0",
         "6"
        ],
        [
         "26",
         "x360",
         "970970.0",
         "1259"
        ],
        [
         "27",
         "xb",
         "257370.0",
         "822"
        ],
        [
         "28",
         "xone",
         "159320.0",
         "247"
        ]
       ],
       "shape": {
        "columns": 3,
        "rows": 29
       }
      },
      "text/html": [
       "<div>\n",
       "<style scoped>\n",
       "    .dataframe tbody tr th:only-of-type {\n",
       "        vertical-align: middle;\n",
       "    }\n",
       "\n",
       "    .dataframe tbody tr th {\n",
       "        vertical-align: top;\n",
       "    }\n",
       "\n",
       "    .dataframe thead th {\n",
       "        text-align: right;\n",
       "    }\n",
       "</style>\n",
       "<table border=\"1\" class=\"dataframe\">\n",
       "  <thead>\n",
       "    <tr style=\"text-align: right;\">\n",
       "      <th></th>\n",
       "      <th>platform</th>\n",
       "      <th>total_sales</th>\n",
       "      <th>games_sold</th>\n",
       "    </tr>\n",
       "  </thead>\n",
       "  <tbody>\n",
       "    <tr>\n",
       "      <th>0</th>\n",
       "      <td>3do</td>\n",
       "      <td>100.0</td>\n",
       "      <td>3</td>\n",
       "    </tr>\n",
       "    <tr>\n",
       "      <th>1</th>\n",
       "      <td>3ds</td>\n",
       "      <td>259000.0</td>\n",
       "      <td>520</td>\n",
       "    </tr>\n",
       "    <tr>\n",
       "      <th>2</th>\n",
       "      <td>dc</td>\n",
       "      <td>15950.0</td>\n",
       "      <td>52</td>\n",
       "    </tr>\n",
       "    <tr>\n",
       "      <th>3</th>\n",
       "      <td>ds</td>\n",
       "      <td>805880.0</td>\n",
       "      <td>2147</td>\n",
       "    </tr>\n",
       "    <tr>\n",
       "      <th>4</th>\n",
       "      <td>gb</td>\n",
       "      <td>153110.0</td>\n",
       "      <td>68</td>\n",
       "    </tr>\n",
       "    <tr>\n",
       "      <th>...</th>\n",
       "      <td>...</td>\n",
       "      <td>...</td>\n",
       "      <td>...</td>\n",
       "    </tr>\n",
       "    <tr>\n",
       "      <th>24</th>\n",
       "      <td>wiiu</td>\n",
       "      <td>82190.0</td>\n",
       "      <td>147</td>\n",
       "    </tr>\n",
       "    <tr>\n",
       "      <th>25</th>\n",
       "      <td>ws</td>\n",
       "      <td>1420.0</td>\n",
       "      <td>6</td>\n",
       "    </tr>\n",
       "    <tr>\n",
       "      <th>26</th>\n",
       "      <td>x360</td>\n",
       "      <td>970970.0</td>\n",
       "      <td>1259</td>\n",
       "    </tr>\n",
       "    <tr>\n",
       "      <th>27</th>\n",
       "      <td>xb</td>\n",
       "      <td>257370.0</td>\n",
       "      <td>822</td>\n",
       "    </tr>\n",
       "    <tr>\n",
       "      <th>28</th>\n",
       "      <td>xone</td>\n",
       "      <td>159320.0</td>\n",
       "      <td>247</td>\n",
       "    </tr>\n",
       "  </tbody>\n",
       "</table>\n",
       "<p>29 rows × 3 columns</p>\n",
       "</div>"
      ],
      "text/plain": [
       "   platform  total_sales  games_sold\n",
       "0       3do        100.0           3\n",
       "1       3ds     259000.0         520\n",
       "2        dc      15950.0          52\n",
       "3        ds     805880.0        2147\n",
       "4        gb     153110.0          68\n",
       "..      ...          ...         ...\n",
       "24     wiiu      82190.0         147\n",
       "25       ws       1420.0           6\n",
       "26     x360     970970.0        1259\n",
       "27       xb     257370.0         822\n",
       "28     xone     159320.0         247\n",
       "\n",
       "[29 rows x 3 columns]"
      ]
     },
     "execution_count": 24,
     "metadata": {},
     "output_type": "execute_result"
    }
   ],
   "source": [
    "# Relative Profitability (total_sales/games_sold/life_span)\n",
    "df_platform_profit = df_platform_profit.groupby('platform', observed=True).agg({'total_sales': 'sum', 'name': 'count'}).reset_index()\n",
    "df_platform_profit = df_platform_profit.rename(columns={'name': 'games_sold'})\n",
    "df_platform_profit"
   ]
  },
  {
   "cell_type": "code",
   "execution_count": 25,
   "id": "5df421fd",
   "metadata": {},
   "outputs": [
    {
     "data": {
      "application/vnd.microsoft.datawrangler.viewer.v0+json": {
       "columns": [
        {
         "name": "index",
         "rawType": "int64",
         "type": "integer"
        },
        {
         "name": "platform",
         "rawType": "category",
         "type": "unknown"
        },
        {
         "name": "total_sales",
         "rawType": "float64",
         "type": "float"
        },
        {
         "name": "games_sold",
         "rawType": "int64",
         "type": "integer"
        },
        {
         "name": "lifespan",
         "rawType": "float64",
         "type": "float"
        }
       ],
       "ref": "7b9b0a21-4faa-423a-b893-33d812bbf873",
       "rows": [
        [
         "0",
         "3do",
         "100.0",
         "3",
         "2.0"
        ],
        [
         "1",
         "3ds",
         "259000.0",
         "520",
         "7.0"
        ],
        [
         "2",
         "dc",
         "15950.0",
         "52",
         "11.0"
        ],
        [
         "3",
         "ds",
         "805880.0",
         "2147",
         "14.0"
        ],
        [
         "4",
         "gb",
         "153110.0",
         "68",
         "8.0"
        ],
        [
         "5",
         "gba",
         "317850.0",
         "822",
         "17.0"
        ],
        [
         "6",
         "gc",
         "198650.0",
         "555",
         "14.0"
        ],
        [
         "7",
         "gen",
         "8130.0",
         "12",
         "1.0"
        ],
        [
         "8",
         "n64",
         "218680.0",
         "319",
         "7.0"
        ],
        [
         "9",
         "nes",
         "110.0",
         "1",
         "1.0"
        ],
        [
         "10",
         "ng",
         "1230.0",
         "10",
         "3.0"
        ],
        [
         "11",
         "pc",
         "256250.0",
         "964",
         "23.0"
        ],
        [
         "12",
         "pcfx",
         "30.0",
         "1",
         "1.0"
        ],
        [
         "13",
         "ps",
         "730770.0",
         "1196",
         "10.0"
        ],
        [
         "14",
         "ps2",
         "1255560.0",
         "2160",
         "15.0"
        ],
        [
         "15",
         "ps3",
         "939650.0",
         "1331",
         "12.0"
        ],
        [
         "16",
         "ps4",
         "314140.0",
         "392",
         "4.0"
        ],
        [
         "17",
         "psp",
         "293630.0",
         "1206",
         "21.0"
        ],
        [
         "18",
         "psv",
         "54070.0",
         "430",
         "6.0"
        ],
        [
         "19",
         "sat",
         "33590.0",
         "173",
         "6.0"
        ],
        [
         "20",
         "scd",
         "360.0",
         "5",
         "1.0"
        ],
        [
         "21",
         "snes",
         "84670.0",
         "144",
         "6.0"
        ],
        [
         "22",
         "tg16",
         "160.0",
         "2",
         "1.0"
        ],
        [
         "23",
         "wii",
         "907120.0",
         "1318",
         "19.0"
        ],
        [
         "24",
         "wiiu",
         "82190.0",
         "147",
         "5.0"
        ],
        [
         "25",
         "ws",
         "1420.0",
         "6",
         "3.0"
        ],
        [
         "26",
         "x360",
         "970970.0",
         "1259",
         "16.0"
        ],
        [
         "27",
         "xb",
         "257370.0",
         "822",
         "9.0"
        ],
        [
         "28",
         "xone",
         "159320.0",
         "247",
         "4.0"
        ]
       ],
       "shape": {
        "columns": 4,
        "rows": 29
       }
      },
      "text/html": [
       "<div>\n",
       "<style scoped>\n",
       "    .dataframe tbody tr th:only-of-type {\n",
       "        vertical-align: middle;\n",
       "    }\n",
       "\n",
       "    .dataframe tbody tr th {\n",
       "        vertical-align: top;\n",
       "    }\n",
       "\n",
       "    .dataframe thead th {\n",
       "        text-align: right;\n",
       "    }\n",
       "</style>\n",
       "<table border=\"1\" class=\"dataframe\">\n",
       "  <thead>\n",
       "    <tr style=\"text-align: right;\">\n",
       "      <th></th>\n",
       "      <th>platform</th>\n",
       "      <th>total_sales</th>\n",
       "      <th>games_sold</th>\n",
       "      <th>lifespan</th>\n",
       "    </tr>\n",
       "  </thead>\n",
       "  <tbody>\n",
       "    <tr>\n",
       "      <th>0</th>\n",
       "      <td>3do</td>\n",
       "      <td>100.0</td>\n",
       "      <td>3</td>\n",
       "      <td>2.0</td>\n",
       "    </tr>\n",
       "    <tr>\n",
       "      <th>1</th>\n",
       "      <td>3ds</td>\n",
       "      <td>259000.0</td>\n",
       "      <td>520</td>\n",
       "      <td>7.0</td>\n",
       "    </tr>\n",
       "    <tr>\n",
       "      <th>2</th>\n",
       "      <td>dc</td>\n",
       "      <td>15950.0</td>\n",
       "      <td>52</td>\n",
       "      <td>11.0</td>\n",
       "    </tr>\n",
       "    <tr>\n",
       "      <th>3</th>\n",
       "      <td>ds</td>\n",
       "      <td>805880.0</td>\n",
       "      <td>2147</td>\n",
       "      <td>14.0</td>\n",
       "    </tr>\n",
       "    <tr>\n",
       "      <th>4</th>\n",
       "      <td>gb</td>\n",
       "      <td>153110.0</td>\n",
       "      <td>68</td>\n",
       "      <td>8.0</td>\n",
       "    </tr>\n",
       "    <tr>\n",
       "      <th>...</th>\n",
       "      <td>...</td>\n",
       "      <td>...</td>\n",
       "      <td>...</td>\n",
       "      <td>...</td>\n",
       "    </tr>\n",
       "    <tr>\n",
       "      <th>24</th>\n",
       "      <td>wiiu</td>\n",
       "      <td>82190.0</td>\n",
       "      <td>147</td>\n",
       "      <td>5.0</td>\n",
       "    </tr>\n",
       "    <tr>\n",
       "      <th>25</th>\n",
       "      <td>ws</td>\n",
       "      <td>1420.0</td>\n",
       "      <td>6</td>\n",
       "      <td>3.0</td>\n",
       "    </tr>\n",
       "    <tr>\n",
       "      <th>26</th>\n",
       "      <td>x360</td>\n",
       "      <td>970970.0</td>\n",
       "      <td>1259</td>\n",
       "      <td>16.0</td>\n",
       "    </tr>\n",
       "    <tr>\n",
       "      <th>27</th>\n",
       "      <td>xb</td>\n",
       "      <td>257370.0</td>\n",
       "      <td>822</td>\n",
       "      <td>9.0</td>\n",
       "    </tr>\n",
       "    <tr>\n",
       "      <th>28</th>\n",
       "      <td>xone</td>\n",
       "      <td>159320.0</td>\n",
       "      <td>247</td>\n",
       "      <td>4.0</td>\n",
       "    </tr>\n",
       "  </tbody>\n",
       "</table>\n",
       "<p>29 rows × 4 columns</p>\n",
       "</div>"
      ],
      "text/plain": [
       "   platform  total_sales  games_sold  lifespan\n",
       "0       3do        100.0           3       2.0\n",
       "1       3ds     259000.0         520       7.0\n",
       "2        dc      15950.0          52      11.0\n",
       "3        ds     805880.0        2147      14.0\n",
       "4        gb     153110.0          68       8.0\n",
       "..      ...          ...         ...       ...\n",
       "24     wiiu      82190.0         147       5.0\n",
       "25       ws       1420.0           6       3.0\n",
       "26     x360     970970.0        1259      16.0\n",
       "27       xb     257370.0         822       9.0\n",
       "28     xone     159320.0         247       4.0\n",
       "\n",
       "[29 rows x 4 columns]"
      ]
     },
     "execution_count": 25,
     "metadata": {},
     "output_type": "execute_result"
    }
   ],
   "source": [
    "df_platform_profit = df_platform_profit.merge(df_lifespan, on='platform')\n",
    "df_platform_profit = df_platform_profit.drop(columns=['min', 'max'])\n",
    "df_platform_profit"
   ]
  },
  {
   "cell_type": "code",
   "execution_count": 26,
   "id": "79579c1f",
   "metadata": {},
   "outputs": [
    {
     "data": {
      "application/vnd.microsoft.datawrangler.viewer.v0+json": {
       "columns": [
        {
         "name": "index",
         "rawType": "int64",
         "type": "integer"
        },
        {
         "name": "platform",
         "rawType": "category",
         "type": "unknown"
        },
        {
         "name": "total_sales",
         "rawType": "float64",
         "type": "float"
        },
        {
         "name": "games_sold",
         "rawType": "int64",
         "type": "integer"
        },
        {
         "name": "lifespan",
         "rawType": "float64",
         "type": "float"
        },
        {
         "name": "profit",
         "rawType": "float64",
         "type": "float"
        }
       ],
       "ref": "076e1149-95f9-46c2-b8fa-94a85ccaa322",
       "rows": [
        [
         "0",
         "3do",
         "100.0",
         "3",
         "2.0",
         "16.67"
        ],
        [
         "1",
         "3ds",
         "259000.0",
         "520",
         "7.0",
         "71.15"
        ],
        [
         "2",
         "dc",
         "15950.0",
         "52",
         "11.0",
         "27.88"
        ],
        [
         "3",
         "ds",
         "805880.0",
         "2147",
         "14.0",
         "26.81"
        ],
        [
         "4",
         "gb",
         "153110.0",
         "68",
         "8.0",
         "281.45"
        ],
        [
         "5",
         "gba",
         "317850.0",
         "822",
         "17.0",
         "22.75"
        ],
        [
         "6",
         "gc",
         "198650.0",
         "555",
         "14.0",
         "25.57"
        ],
        [
         "7",
         "gen",
         "8130.0",
         "12",
         "1.0",
         "677.5"
        ],
        [
         "8",
         "n64",
         "218680.0",
         "319",
         "7.0",
         "97.93"
        ],
        [
         "9",
         "nes",
         "110.0",
         "1",
         "1.0",
         "110.0"
        ],
        [
         "10",
         "ng",
         "1230.0",
         "10",
         "3.0",
         "41.0"
        ],
        [
         "11",
         "pc",
         "256250.0",
         "964",
         "23.0",
         "11.56"
        ],
        [
         "12",
         "pcfx",
         "30.0",
         "1",
         "1.0",
         "30.0"
        ],
        [
         "13",
         "ps",
         "730770.0",
         "1196",
         "10.0",
         "61.1"
        ],
        [
         "14",
         "ps2",
         "1255560.0",
         "2160",
         "15.0",
         "38.75"
        ],
        [
         "15",
         "ps3",
         "939650.0",
         "1331",
         "12.0",
         "58.83"
        ],
        [
         "16",
         "ps4",
         "314140.0",
         "392",
         "4.0",
         "200.34"
        ],
        [
         "17",
         "psp",
         "293630.0",
         "1206",
         "21.0",
         "11.59"
        ],
        [
         "18",
         "psv",
         "54070.0",
         "430",
         "6.0",
         "20.96"
        ],
        [
         "19",
         "sat",
         "33590.0",
         "173",
         "6.0",
         "32.36"
        ],
        [
         "20",
         "scd",
         "360.0",
         "5",
         "1.0",
         "72.0"
        ],
        [
         "21",
         "snes",
         "84670.0",
         "144",
         "6.0",
         "98.0"
        ],
        [
         "22",
         "tg16",
         "160.0",
         "2",
         "1.0",
         "80.0"
        ],
        [
         "23",
         "wii",
         "907120.0",
         "1318",
         "19.0",
         "36.22"
        ],
        [
         "24",
         "wiiu",
         "82190.0",
         "147",
         "5.0",
         "111.82"
        ],
        [
         "25",
         "ws",
         "1420.0",
         "6",
         "3.0",
         "78.89"
        ],
        [
         "26",
         "x360",
         "970970.0",
         "1259",
         "16.0",
         "48.2"
        ],
        [
         "27",
         "xb",
         "257370.0",
         "822",
         "9.0",
         "34.79"
        ],
        [
         "28",
         "xone",
         "159320.0",
         "247",
         "4.0",
         "161.26"
        ]
       ],
       "shape": {
        "columns": 5,
        "rows": 29
       }
      },
      "text/html": [
       "<div>\n",
       "<style scoped>\n",
       "    .dataframe tbody tr th:only-of-type {\n",
       "        vertical-align: middle;\n",
       "    }\n",
       "\n",
       "    .dataframe tbody tr th {\n",
       "        vertical-align: top;\n",
       "    }\n",
       "\n",
       "    .dataframe thead th {\n",
       "        text-align: right;\n",
       "    }\n",
       "</style>\n",
       "<table border=\"1\" class=\"dataframe\">\n",
       "  <thead>\n",
       "    <tr style=\"text-align: right;\">\n",
       "      <th></th>\n",
       "      <th>platform</th>\n",
       "      <th>total_sales</th>\n",
       "      <th>games_sold</th>\n",
       "      <th>lifespan</th>\n",
       "      <th>profit</th>\n",
       "    </tr>\n",
       "  </thead>\n",
       "  <tbody>\n",
       "    <tr>\n",
       "      <th>0</th>\n",
       "      <td>3do</td>\n",
       "      <td>100.0</td>\n",
       "      <td>3</td>\n",
       "      <td>2.0</td>\n",
       "      <td>16.67</td>\n",
       "    </tr>\n",
       "    <tr>\n",
       "      <th>1</th>\n",
       "      <td>3ds</td>\n",
       "      <td>259000.0</td>\n",
       "      <td>520</td>\n",
       "      <td>7.0</td>\n",
       "      <td>71.15</td>\n",
       "    </tr>\n",
       "    <tr>\n",
       "      <th>2</th>\n",
       "      <td>dc</td>\n",
       "      <td>15950.0</td>\n",
       "      <td>52</td>\n",
       "      <td>11.0</td>\n",
       "      <td>27.88</td>\n",
       "    </tr>\n",
       "    <tr>\n",
       "      <th>3</th>\n",
       "      <td>ds</td>\n",
       "      <td>805880.0</td>\n",
       "      <td>2147</td>\n",
       "      <td>14.0</td>\n",
       "      <td>26.81</td>\n",
       "    </tr>\n",
       "    <tr>\n",
       "      <th>4</th>\n",
       "      <td>gb</td>\n",
       "      <td>153110.0</td>\n",
       "      <td>68</td>\n",
       "      <td>8.0</td>\n",
       "      <td>281.45</td>\n",
       "    </tr>\n",
       "    <tr>\n",
       "      <th>...</th>\n",
       "      <td>...</td>\n",
       "      <td>...</td>\n",
       "      <td>...</td>\n",
       "      <td>...</td>\n",
       "      <td>...</td>\n",
       "    </tr>\n",
       "    <tr>\n",
       "      <th>24</th>\n",
       "      <td>wiiu</td>\n",
       "      <td>82190.0</td>\n",
       "      <td>147</td>\n",
       "      <td>5.0</td>\n",
       "      <td>111.82</td>\n",
       "    </tr>\n",
       "    <tr>\n",
       "      <th>25</th>\n",
       "      <td>ws</td>\n",
       "      <td>1420.0</td>\n",
       "      <td>6</td>\n",
       "      <td>3.0</td>\n",
       "      <td>78.89</td>\n",
       "    </tr>\n",
       "    <tr>\n",
       "      <th>26</th>\n",
       "      <td>x360</td>\n",
       "      <td>970970.0</td>\n",
       "      <td>1259</td>\n",
       "      <td>16.0</td>\n",
       "      <td>48.20</td>\n",
       "    </tr>\n",
       "    <tr>\n",
       "      <th>27</th>\n",
       "      <td>xb</td>\n",
       "      <td>257370.0</td>\n",
       "      <td>822</td>\n",
       "      <td>9.0</td>\n",
       "      <td>34.79</td>\n",
       "    </tr>\n",
       "    <tr>\n",
       "      <th>28</th>\n",
       "      <td>xone</td>\n",
       "      <td>159320.0</td>\n",
       "      <td>247</td>\n",
       "      <td>4.0</td>\n",
       "      <td>161.26</td>\n",
       "    </tr>\n",
       "  </tbody>\n",
       "</table>\n",
       "<p>29 rows × 5 columns</p>\n",
       "</div>"
      ],
      "text/plain": [
       "   platform  total_sales  games_sold  lifespan  profit\n",
       "0       3do        100.0           3       2.0   16.67\n",
       "1       3ds     259000.0         520       7.0   71.15\n",
       "2        dc      15950.0          52      11.0   27.88\n",
       "3        ds     805880.0        2147      14.0   26.81\n",
       "4        gb     153110.0          68       8.0  281.45\n",
       "..      ...          ...         ...       ...     ...\n",
       "24     wiiu      82190.0         147       5.0  111.82\n",
       "25       ws       1420.0           6       3.0   78.89\n",
       "26     x360     970970.0        1259      16.0   48.20\n",
       "27       xb     257370.0         822       9.0   34.79\n",
       "28     xone     159320.0         247       4.0  161.26\n",
       "\n",
       "[29 rows x 5 columns]"
      ]
     },
     "execution_count": 26,
     "metadata": {},
     "output_type": "execute_result"
    }
   ],
   "source": [
    "df_platform_profit['profit'] = round(df_platform_profit['total_sales'] / df_platform_profit['games_sold']/ df_platform_profit['lifespan'], 2)\n",
    "df_platform_profit"
   ]
  },
  {
   "cell_type": "code",
   "execution_count": 27,
   "id": "3e36d8a0",
   "metadata": {},
   "outputs": [],
   "source": [
    "project_root = Path.cwd().parent\n",
    "processed_path = project_root / \"data\" / \"processed\" / \"feature\" / \"vg_platform_profit_feature.csv\"\n",
    "\n",
    "df_platform_profit.to_csv(processed_path, index=False)"
   ]
  },
  {
   "cell_type": "code",
   "execution_count": 28,
   "id": "dc5987bb",
   "metadata": {},
   "outputs": [
    {
     "data": {
      "application/vnd.microsoft.datawrangler.viewer.v0+json": {
       "columns": [
        {
         "name": "index",
         "rawType": "int64",
         "type": "integer"
        },
        {
         "name": "platform",
         "rawType": "category",
         "type": "unknown"
        },
        {
         "name": "na_sales",
         "rawType": "float64",
         "type": "float"
        },
        {
         "name": "eu_sales",
         "rawType": "float64",
         "type": "float"
        },
        {
         "name": "jp_sales",
         "rawType": "float64",
         "type": "float"
        },
        {
         "name": "other_sales",
         "rawType": "float64",
         "type": "float"
        },
        {
         "name": "total_sales",
         "rawType": "float64",
         "type": "float"
        }
       ],
       "ref": "bfdb902a-a935-404e-9ce5-1af96a0c77ed",
       "rows": [
        [
         "0",
         "wii",
         "41360.0",
         "28960.0",
         "3770.0",
         "8450.0",
         "82540.0"
        ],
        [
         "2",
         "wii",
         "15680.0",
         "12760.0",
         "3790.0",
         "3290.0",
         "35520.0"
        ],
        [
         "3",
         "wii",
         "15610.0",
         "10930.0",
         "3280.0",
         "2950.0",
         "32770.0"
        ],
        [
         "4",
         "gb",
         "11270.0",
         "8890.0",
         "10220.0",
         "1000.0",
         "31380.0"
        ],
        [
         "6",
         "ds",
         "11280.0",
         "9140.0",
         "6500.0",
         "2880.0",
         "29800.0"
        ],
        [
         "7",
         "wii",
         "13960.0",
         "9180.0",
         "2930.0",
         "2840.0",
         "28910.0"
        ],
        [
         "8",
         "wii",
         "14440.0",
         "6940.0",
         "4700.0",
         "2240.0",
         "28320.0"
        ],
        [
         "10",
         "ds",
         "9050.0",
         "10950.0",
         "1930.0",
         "2740.0",
         "24670.0"
        ],
        [
         "11",
         "ds",
         "9710.0",
         "7470.0",
         "4130.0",
         "1900.0",
         "23210.0"
        ],
        [
         "12",
         "gb",
         "9000.0",
         "6180.0",
         "7200.0",
         "710.0",
         "23090.0"
        ],
        [
         "13",
         "wii",
         "8920.0",
         "8029.999999999999",
         "3600.0",
         "2150.0",
         "22700.0"
        ],
        [
         "14",
         "x360",
         "15000.0",
         "4890.0",
         "240.0",
         "1690.0",
         "21820.0"
        ],
        [
         "15",
         "wii",
         "9010.0",
         "8490.0",
         "2530.0",
         "1770.0",
         "21800.0"
        ],
        [
         "16",
         "ps3",
         "7020.0",
         "9090.0",
         "980.0",
         "3960.0",
         "21050.0"
        ],
        [
         "17",
         "ps2",
         "9430.0",
         "400.0",
         "410.0",
         "10570.0",
         "20810.0"
        ],
        [
         "19",
         "ds",
         "4740.0",
         "9200.0",
         "4160.0",
         "2040.0",
         "20140.0"
        ],
        [
         "20",
         "ds",
         "6380.0",
         "4460.0",
         "6040.0",
         "1360.0",
         "18240.0"
        ],
        [
         "23",
         "x360",
         "9660.0",
         "5140.0",
         "60.0",
         "1410.0",
         "16270.0"
        ],
        [
         "24",
         "ps2",
         "8410.0",
         "5490.0",
         "470.0",
         "1780.0",
         "16150.0"
        ],
        [
         "25",
         "gba",
         "6060.0",
         "3900.0",
         "5380.0",
         "500.0",
         "15840.0"
        ],
        [
         "26",
         "ds",
         "3430.0",
         "5350.0",
         "5320.0",
         "1180.0",
         "15280.0"
        ],
        [
         "27",
         "ds",
         "5510.0",
         "3170.0",
         "5650.0",
         "800.0",
         "15130.0"
        ],
        [
         "28",
         "ps2",
         "6850.0",
         "5090.0",
         "1870.0",
         "1160.0",
         "14970.0"
        ],
        [
         "29",
         "x360",
         "9040.0",
         "4240.0",
         "130.0",
         "1320.0",
         "14730.0"
        ],
        [
         "30",
         "gb",
         "5890.0",
         "5040.0",
         "3120.0",
         "590.0",
         "14640.0"
        ],
        [
         "31",
         "ps4",
         "6030.0",
         "5860.0",
         "360.0",
         "2380.0",
         "14630.0"
        ],
        [
         "32",
         "x360",
         "9700.0",
         "3680.0",
         "110.0",
         "1130.0",
         "14620.0"
        ],
        [
         "33",
         "3ds",
         "5280.0",
         "4190.0",
         "4350.0",
         "780.0",
         "14600.0"
        ],
        [
         "34",
         "ps3",
         "4990.0",
         "5730.0",
         "650.0",
         "2420.0",
         "13790.0"
        ],
        [
         "35",
         "x360",
         "8250.0",
         "4240.0",
         "70.0",
         "1120.0",
         "13680.0"
        ],
        [
         "36",
         "x360",
         "8520.0",
         "3590.0",
         "80.0",
         "1280.0",
         "13470.0"
        ],
        [
         "37",
         "ps3",
         "5540.0",
         "5730.0",
         "490.0",
         "1570.0",
         "13330.0"
        ],
        [
         "38",
         "ps2",
         "6990.0",
         "4510.0",
         "300.0",
         "1300.0",
         "13100.0"
        ],
        [
         "39",
         "wii",
         "6620.0",
         "2550.0",
         "2660.0",
         "1010.0",
         "12840.0"
        ],
        [
         "40",
         "3ds",
         "5030.0",
         "4019.9999999999995",
         "2690.0",
         "910.0",
         "12650.0"
        ],
        [
         "41",
         "ps3",
         "5990.0",
         "4370.0",
         "480.0",
         "1790.0",
         "12630.0"
        ],
        [
         "42",
         "ps4",
         "3960.0",
         "6310.0",
         "380.0",
         "1970.0",
         "12620.0"
        ],
        [
         "43",
         "ds",
         "2500.0",
         "3450.0",
         "5330.0",
         "860.0",
         "12140.0"
        ],
        [
         "44",
         "x360",
         "7970.0",
         "2810.0",
         "130.0",
         "1210.0",
         "12120.0"
        ],
        [
         "45",
         "n64",
         "6910.0",
         "2850.0",
         "1910.0",
         "230.0",
         "11900.0"
        ],
        [
         "46",
         "ds",
         "4340.0",
         "2710.0",
         "3960.0",
         "760.0",
         "11770.0"
        ],
        [
         "47",
         "3ds",
         "4350.0",
         "3490.0",
         "3100.0",
         "740.0",
         "11680.0"
        ],
        [
         "48",
         "ps2",
         "3010.0",
         "10.0",
         "1100.0",
         "7530.0",
         "11650.0"
        ],
        [
         "49",
         "wii",
         "6060.0",
         "3350.0",
         "1200.0",
         "740.0",
         "11350.0"
        ],
        [
         "51",
         "x360",
         "6760.0",
         "3070.0",
         "140.0",
         "1030.0",
         "11000.0"
        ],
        [
         "52",
         "ps",
         "4019.9999999999995",
         "3870.0",
         "2540.0",
         "520.0",
         "10950.0"
        ],
        [
         "53",
         "3ds",
         "4890.0",
         "3000.0",
         "2140.0",
         "780.0",
         "10810.0"
        ],
        [
         "54",
         "ps3",
         "2960.0",
         "4820.0",
         "810.0",
         "2110.0",
         "10700.0"
        ],
        [
         "55",
         "ps3",
         "4990.0",
         "3640.0",
         "380.0",
         "1600.0",
         "10610.0"
        ],
        [
         "57",
         "ps3",
         "4760.0",
         "3690.0",
         "440.0",
         "1610.0",
         "10500.0"
        ]
       ],
       "shape": {
        "columns": 6,
        "rows": 16312
       }
      },
      "text/html": [
       "<div>\n",
       "<style scoped>\n",
       "    .dataframe tbody tr th:only-of-type {\n",
       "        vertical-align: middle;\n",
       "    }\n",
       "\n",
       "    .dataframe tbody tr th {\n",
       "        vertical-align: top;\n",
       "    }\n",
       "\n",
       "    .dataframe thead th {\n",
       "        text-align: right;\n",
       "    }\n",
       "</style>\n",
       "<table border=\"1\" class=\"dataframe\">\n",
       "  <thead>\n",
       "    <tr style=\"text-align: right;\">\n",
       "      <th></th>\n",
       "      <th>platform</th>\n",
       "      <th>na_sales</th>\n",
       "      <th>eu_sales</th>\n",
       "      <th>jp_sales</th>\n",
       "      <th>other_sales</th>\n",
       "      <th>total_sales</th>\n",
       "    </tr>\n",
       "  </thead>\n",
       "  <tbody>\n",
       "    <tr>\n",
       "      <th>0</th>\n",
       "      <td>wii</td>\n",
       "      <td>41360.0</td>\n",
       "      <td>28960.0</td>\n",
       "      <td>3770.0</td>\n",
       "      <td>8450.0</td>\n",
       "      <td>82540.0</td>\n",
       "    </tr>\n",
       "    <tr>\n",
       "      <th>2</th>\n",
       "      <td>wii</td>\n",
       "      <td>15680.0</td>\n",
       "      <td>12760.0</td>\n",
       "      <td>3790.0</td>\n",
       "      <td>3290.0</td>\n",
       "      <td>35520.0</td>\n",
       "    </tr>\n",
       "    <tr>\n",
       "      <th>3</th>\n",
       "      <td>wii</td>\n",
       "      <td>15610.0</td>\n",
       "      <td>10930.0</td>\n",
       "      <td>3280.0</td>\n",
       "      <td>2950.0</td>\n",
       "      <td>32770.0</td>\n",
       "    </tr>\n",
       "    <tr>\n",
       "      <th>4</th>\n",
       "      <td>gb</td>\n",
       "      <td>11270.0</td>\n",
       "      <td>8890.0</td>\n",
       "      <td>10220.0</td>\n",
       "      <td>1000.0</td>\n",
       "      <td>31380.0</td>\n",
       "    </tr>\n",
       "    <tr>\n",
       "      <th>6</th>\n",
       "      <td>ds</td>\n",
       "      <td>11280.0</td>\n",
       "      <td>9140.0</td>\n",
       "      <td>6500.0</td>\n",
       "      <td>2880.0</td>\n",
       "      <td>29800.0</td>\n",
       "    </tr>\n",
       "    <tr>\n",
       "      <th>...</th>\n",
       "      <td>...</td>\n",
       "      <td>...</td>\n",
       "      <td>...</td>\n",
       "      <td>...</td>\n",
       "      <td>...</td>\n",
       "      <td>...</td>\n",
       "    </tr>\n",
       "    <tr>\n",
       "      <th>16710</th>\n",
       "      <td>ps3</td>\n",
       "      <td>0.0</td>\n",
       "      <td>0.0</td>\n",
       "      <td>10.0</td>\n",
       "      <td>0.0</td>\n",
       "      <td>10.0</td>\n",
       "    </tr>\n",
       "    <tr>\n",
       "      <th>16711</th>\n",
       "      <td>x360</td>\n",
       "      <td>0.0</td>\n",
       "      <td>10.0</td>\n",
       "      <td>0.0</td>\n",
       "      <td>0.0</td>\n",
       "      <td>10.0</td>\n",
       "    </tr>\n",
       "    <tr>\n",
       "      <th>16712</th>\n",
       "      <td>psv</td>\n",
       "      <td>0.0</td>\n",
       "      <td>0.0</td>\n",
       "      <td>10.0</td>\n",
       "      <td>0.0</td>\n",
       "      <td>10.0</td>\n",
       "    </tr>\n",
       "    <tr>\n",
       "      <th>16713</th>\n",
       "      <td>gba</td>\n",
       "      <td>10.0</td>\n",
       "      <td>0.0</td>\n",
       "      <td>0.0</td>\n",
       "      <td>0.0</td>\n",
       "      <td>10.0</td>\n",
       "    </tr>\n",
       "    <tr>\n",
       "      <th>16714</th>\n",
       "      <td>psv</td>\n",
       "      <td>0.0</td>\n",
       "      <td>0.0</td>\n",
       "      <td>10.0</td>\n",
       "      <td>0.0</td>\n",
       "      <td>10.0</td>\n",
       "    </tr>\n",
       "  </tbody>\n",
       "</table>\n",
       "<p>16312 rows × 6 columns</p>\n",
       "</div>"
      ],
      "text/plain": [
       "      platform  na_sales  eu_sales  jp_sales  other_sales  total_sales\n",
       "0          wii   41360.0   28960.0    3770.0       8450.0      82540.0\n",
       "2          wii   15680.0   12760.0    3790.0       3290.0      35520.0\n",
       "3          wii   15610.0   10930.0    3280.0       2950.0      32770.0\n",
       "4           gb   11270.0    8890.0   10220.0       1000.0      31380.0\n",
       "6           ds   11280.0    9140.0    6500.0       2880.0      29800.0\n",
       "...        ...       ...       ...       ...          ...          ...\n",
       "16710      ps3       0.0       0.0      10.0          0.0         10.0\n",
       "16711     x360       0.0      10.0       0.0          0.0         10.0\n",
       "16712      psv       0.0       0.0      10.0          0.0         10.0\n",
       "16713      gba      10.0       0.0       0.0          0.0         10.0\n",
       "16714      psv       0.0       0.0      10.0          0.0         10.0\n",
       "\n",
       "[16312 rows x 6 columns]"
      ]
     },
     "execution_count": 28,
     "metadata": {},
     "output_type": "execute_result"
    }
   ],
   "source": [
    "# Average sales across various platforms\n",
    "mask = (df_vg['year_of_release'] > 1993) & (df_vg['year_of_release'] < 2018)\n",
    "df_vg_platform_avg_sales = df_vg.loc[mask, ['platform', 'na_sales', 'eu_sales', 'jp_sales', 'other_sales']]\n",
    "df_vg_platform_avg_sales['total_sales'] = df_vg_platform_avg_sales[['na_sales', 'eu_sales', 'jp_sales', 'other_sales']].sum(axis=1)\n",
    "df_vg_platform_avg_sales\n"
   ]
  },
  {
   "cell_type": "code",
   "execution_count": 29,
   "id": "cc87e409",
   "metadata": {},
   "outputs": [
    {
     "data": {
      "application/vnd.microsoft.datawrangler.viewer.v0+json": {
       "columns": [
        {
         "name": "index",
         "rawType": "int64",
         "type": "integer"
        },
        {
         "name": "platform",
         "rawType": "category",
         "type": "unknown"
        },
        {
         "name": "na_sales",
         "rawType": "float64",
         "type": "float"
        },
        {
         "name": "eu_sales",
         "rawType": "float64",
         "type": "float"
        },
        {
         "name": "jp_sales",
         "rawType": "float64",
         "type": "float"
        },
        {
         "name": "other_sales",
         "rawType": "float64",
         "type": "float"
        },
        {
         "name": "total_sales",
         "rawType": "float64",
         "type": "float"
        }
       ],
       "ref": "07349ec7-dfd2-43d8-bd33-7a7fca4c2523",
       "rows": [
        [
         "0",
         "3do",
         "0.0",
         "0.0",
         "20.0",
         "0.0",
         "20.0"
        ],
        [
         "1",
         "3ds",
         "10.0",
         "0.0",
         "50.0",
         "0.0",
         "120.0"
        ],
        [
         "2",
         "dc",
         "0.0",
         "0.0",
         "120.0",
         "0.0",
         "135.0"
        ],
        [
         "3",
         "ds",
         "60.0",
         "0.0",
         "0.0",
         "10.0",
         "110.0"
        ],
        [
         "4",
         "gb",
         "0.0",
         "0.0",
         "375.0",
         "0.0",
         "945.0"
        ],
        [
         "5",
         "gba",
         "100.0",
         "40.0",
         "0.0",
         "0.0",
         "160.0"
        ],
        [
         "6",
         "gc",
         "110.0",
         "30.0",
         "0.0",
         "0.0",
         "150.0"
        ],
        [
         "7",
         "gen",
         "0.0",
         "0.0",
         "40.0",
         "0.0",
         "200.0"
        ],
        [
         "8",
         "n64",
         "180.0",
         "40.0",
         "0.0",
         "0.0",
         "270.0"
        ],
        [
         "9",
         "nes",
         "0.0",
         "0.0",
         "110.0",
         "0.0",
         "110.0"
        ],
        [
         "10",
         "ng",
         "0.0",
         "0.0",
         "100.0",
         "0.0",
         "100.0"
        ],
        [
         "11",
         "pc",
         "0.0",
         "30.0",
         "0.0",
         "10.0",
         "50.0"
        ],
        [
         "12",
         "pcfx",
         "0.0",
         "0.0",
         "30.0",
         "0.0",
         "30.0"
        ],
        [
         "13",
         "ps",
         "80.0",
         "60.0",
         "0.0",
         "20.0",
         "260.0"
        ],
        [
         "14",
         "ps2",
         "90.0",
         "50.0",
         "0.0",
         "20.0",
         "230.0"
        ],
        [
         "15",
         "ps3",
         "120.0",
         "60.0",
         "10.0",
         "30.0",
         "270.0"
        ],
        [
         "16",
         "ps4",
         "60.0",
         "80.0",
         "10.0",
         "30.0",
         "200.0"
        ],
        [
         "17",
         "psp",
         "0.0",
         "0.0",
         "20.0",
         "0.0",
         "90.0"
        ],
        [
         "18",
         "psv",
         "0.0",
         "0.0",
         "30.0",
         "0.0",
         "55.0"
        ],
        [
         "19",
         "sat",
         "0.0",
         "0.0",
         "120.0",
         "0.0",
         "120.0"
        ],
        [
         "20",
         "scd",
         "0.0",
         "0.0",
         "60.0",
         "0.0",
         "60.0"
        ],
        [
         "21",
         "snes",
         "0.0",
         "0.0",
         "270.0",
         "0.0",
         "295.0"
        ],
        [
         "22",
         "tg16",
         "0.0",
         "0.0",
         "80.0",
         "0.0",
         "80.0"
        ],
        [
         "23",
         "wii",
         "130.0",
         "10.0",
         "0.0",
         "10.0",
         "190.0"
        ],
        [
         "24",
         "wiiu",
         "110.0",
         "70.0",
         "0.0",
         "20.0",
         "220.0"
        ],
        [
         "25",
         "ws",
         "0.0",
         "0.0",
         "215.0",
         "0.0",
         "215.0"
        ],
        [
         "26",
         "x360",
         "170.0",
         "50.0",
         "0.0",
         "20.0",
         "280.0"
        ],
        [
         "27",
         "xb",
         "110.0",
         "30.0",
         "0.0",
         "10.0",
         "150.0"
        ],
        [
         "28",
         "xone",
         "120.0",
         "70.0",
         "0.0",
         "20.0",
         "220.0"
        ]
       ],
       "shape": {
        "columns": 6,
        "rows": 29
       }
      },
      "text/html": [
       "<div>\n",
       "<style scoped>\n",
       "    .dataframe tbody tr th:only-of-type {\n",
       "        vertical-align: middle;\n",
       "    }\n",
       "\n",
       "    .dataframe tbody tr th {\n",
       "        vertical-align: top;\n",
       "    }\n",
       "\n",
       "    .dataframe thead th {\n",
       "        text-align: right;\n",
       "    }\n",
       "</style>\n",
       "<table border=\"1\" class=\"dataframe\">\n",
       "  <thead>\n",
       "    <tr style=\"text-align: right;\">\n",
       "      <th></th>\n",
       "      <th>platform</th>\n",
       "      <th>na_sales</th>\n",
       "      <th>eu_sales</th>\n",
       "      <th>jp_sales</th>\n",
       "      <th>other_sales</th>\n",
       "      <th>total_sales</th>\n",
       "    </tr>\n",
       "  </thead>\n",
       "  <tbody>\n",
       "    <tr>\n",
       "      <th>0</th>\n",
       "      <td>3do</td>\n",
       "      <td>0.0</td>\n",
       "      <td>0.0</td>\n",
       "      <td>20.0</td>\n",
       "      <td>0.0</td>\n",
       "      <td>20.0</td>\n",
       "    </tr>\n",
       "    <tr>\n",
       "      <th>1</th>\n",
       "      <td>3ds</td>\n",
       "      <td>10.0</td>\n",
       "      <td>0.0</td>\n",
       "      <td>50.0</td>\n",
       "      <td>0.0</td>\n",
       "      <td>120.0</td>\n",
       "    </tr>\n",
       "    <tr>\n",
       "      <th>2</th>\n",
       "      <td>dc</td>\n",
       "      <td>0.0</td>\n",
       "      <td>0.0</td>\n",
       "      <td>120.0</td>\n",
       "      <td>0.0</td>\n",
       "      <td>135.0</td>\n",
       "    </tr>\n",
       "    <tr>\n",
       "      <th>3</th>\n",
       "      <td>ds</td>\n",
       "      <td>60.0</td>\n",
       "      <td>0.0</td>\n",
       "      <td>0.0</td>\n",
       "      <td>10.0</td>\n",
       "      <td>110.0</td>\n",
       "    </tr>\n",
       "    <tr>\n",
       "      <th>4</th>\n",
       "      <td>gb</td>\n",
       "      <td>0.0</td>\n",
       "      <td>0.0</td>\n",
       "      <td>375.0</td>\n",
       "      <td>0.0</td>\n",
       "      <td>945.0</td>\n",
       "    </tr>\n",
       "    <tr>\n",
       "      <th>...</th>\n",
       "      <td>...</td>\n",
       "      <td>...</td>\n",
       "      <td>...</td>\n",
       "      <td>...</td>\n",
       "      <td>...</td>\n",
       "      <td>...</td>\n",
       "    </tr>\n",
       "    <tr>\n",
       "      <th>24</th>\n",
       "      <td>wiiu</td>\n",
       "      <td>110.0</td>\n",
       "      <td>70.0</td>\n",
       "      <td>0.0</td>\n",
       "      <td>20.0</td>\n",
       "      <td>220.0</td>\n",
       "    </tr>\n",
       "    <tr>\n",
       "      <th>25</th>\n",
       "      <td>ws</td>\n",
       "      <td>0.0</td>\n",
       "      <td>0.0</td>\n",
       "      <td>215.0</td>\n",
       "      <td>0.0</td>\n",
       "      <td>215.0</td>\n",
       "    </tr>\n",
       "    <tr>\n",
       "      <th>26</th>\n",
       "      <td>x360</td>\n",
       "      <td>170.0</td>\n",
       "      <td>50.0</td>\n",
       "      <td>0.0</td>\n",
       "      <td>20.0</td>\n",
       "      <td>280.0</td>\n",
       "    </tr>\n",
       "    <tr>\n",
       "      <th>27</th>\n",
       "      <td>xb</td>\n",
       "      <td>110.0</td>\n",
       "      <td>30.0</td>\n",
       "      <td>0.0</td>\n",
       "      <td>10.0</td>\n",
       "      <td>150.0</td>\n",
       "    </tr>\n",
       "    <tr>\n",
       "      <th>28</th>\n",
       "      <td>xone</td>\n",
       "      <td>120.0</td>\n",
       "      <td>70.0</td>\n",
       "      <td>0.0</td>\n",
       "      <td>20.0</td>\n",
       "      <td>220.0</td>\n",
       "    </tr>\n",
       "  </tbody>\n",
       "</table>\n",
       "<p>29 rows × 6 columns</p>\n",
       "</div>"
      ],
      "text/plain": [
       "   platform  na_sales  eu_sales  jp_sales  other_sales  total_sales\n",
       "0       3do       0.0       0.0      20.0          0.0         20.0\n",
       "1       3ds      10.0       0.0      50.0          0.0        120.0\n",
       "2        dc       0.0       0.0     120.0          0.0        135.0\n",
       "3        ds      60.0       0.0       0.0         10.0        110.0\n",
       "4        gb       0.0       0.0     375.0          0.0        945.0\n",
       "..      ...       ...       ...       ...          ...          ...\n",
       "24     wiiu     110.0      70.0       0.0         20.0        220.0\n",
       "25       ws       0.0       0.0     215.0          0.0        215.0\n",
       "26     x360     170.0      50.0       0.0         20.0        280.0\n",
       "27       xb     110.0      30.0       0.0         10.0        150.0\n",
       "28     xone     120.0      70.0       0.0         20.0        220.0\n",
       "\n",
       "[29 rows x 6 columns]"
      ]
     },
     "execution_count": 29,
     "metadata": {},
     "output_type": "execute_result"
    }
   ],
   "source": [
    "df_vg_platform_avg_sales = df_vg_platform_avg_sales.groupby('platform', observed=False).agg({'na_sales': 'median', 'eu_sales': 'median', \n",
    "                                                                                             'jp_sales': 'median', 'other_sales': 'median', \n",
    "                                                                                             'total_sales': 'median'})\n",
    "df_vg_platform_avg_sales = df_vg_platform_avg_sales.dropna().reset_index()\n",
    "df_vg_platform_avg_sales"
   ]
  },
  {
   "cell_type": "code",
   "execution_count": 30,
   "id": "367736fc",
   "metadata": {},
   "outputs": [],
   "source": [
    "project_root = Path.cwd().parent\n",
    "processed_path = project_root / \"data\" / \"processed\" / \"feature\" / \"vg_platform_avg_sales_feature.csv\"\n",
    "\n",
    "df_vg_platform_avg_sales.to_csv(processed_path, index=False)"
   ]
  },
  {
   "cell_type": "code",
   "execution_count": 31,
   "id": "5bc9037c",
   "metadata": {},
   "outputs": [
    {
     "data": {
      "text/plain": [
       "Index(['name', 'platform', 'year_of_release', 'genre', 'na_sales', 'eu_sales', 'jp_sales', 'other_sales', 'critic_score', 'user_score', 'rating'], dtype='object')"
      ]
     },
     "execution_count": 31,
     "metadata": {},
     "output_type": "execute_result"
    }
   ],
   "source": [
    "df_vg.columns"
   ]
  },
  {
   "cell_type": "code",
   "execution_count": 32,
   "id": "763880d6",
   "metadata": {},
   "outputs": [
    {
     "data": {
      "application/vnd.microsoft.datawrangler.viewer.v0+json": {
       "columns": [
        {
         "name": "index",
         "rawType": "int64",
         "type": "integer"
        },
        {
         "name": "platform",
         "rawType": "category",
         "type": "unknown"
        },
        {
         "name": "na_sales",
         "rawType": "float64",
         "type": "float"
        },
        {
         "name": "eu_sales",
         "rawType": "float64",
         "type": "float"
        },
        {
         "name": "jp_sales",
         "rawType": "float64",
         "type": "float"
        },
        {
         "name": "other_sales",
         "rawType": "float64",
         "type": "float"
        },
        {
         "name": "user_score",
         "rawType": "float32",
         "type": "float"
        },
        {
         "name": "critic_score",
         "rawType": "float32",
         "type": "float"
        },
        {
         "name": "total_sales",
         "rawType": "float64",
         "type": "float"
        }
       ],
       "ref": "7484c072-69ea-4464-8d77-4eb71e2633e9",
       "rows": [
        [
         "0",
         "wii",
         "41360.0",
         "28960.0",
         "3770.0",
         "8450.0",
         "8.0",
         "76.0",
         "82540.0"
        ],
        [
         "2",
         "wii",
         "15680.0",
         "12760.0",
         "3790.0",
         "3290.0",
         "8.3",
         "82.0",
         "35520.0"
        ],
        [
         "3",
         "wii",
         "15610.0",
         "10930.0",
         "3280.0",
         "2950.0",
         "8.0",
         "80.0",
         "32770.0"
        ],
        [
         "4",
         "gb",
         "11270.0",
         "8890.0",
         "10220.0",
         "1000.0",
         null,
         null,
         "31380.0"
        ],
        [
         "6",
         "ds",
         "11280.0",
         "9140.0",
         "6500.0",
         "2880.0",
         "8.5",
         "89.0",
         "29800.0"
        ],
        [
         "7",
         "wii",
         "13960.0",
         "9180.0",
         "2930.0",
         "2840.0",
         "6.6",
         "58.0",
         "28910.0"
        ],
        [
         "8",
         "wii",
         "14440.0",
         "6940.0",
         "4700.0",
         "2240.0",
         "8.4",
         "87.0",
         "28320.0"
        ],
        [
         "10",
         "ds",
         "9050.0",
         "10950.0",
         "1930.0",
         "2740.0",
         "7.85",
         "75.0",
         "24670.0"
        ],
        [
         "11",
         "ds",
         "9710.0",
         "7470.0",
         "4130.0",
         "1900.0",
         "8.6",
         "91.0",
         "23210.0"
        ],
        [
         "12",
         "gb",
         "9000.0",
         "6180.0",
         "7200.0",
         "710.0",
         "8.4",
         "81.0",
         "23090.0"
        ],
        [
         "13",
         "wii",
         "8920.0",
         "8029.999999999999",
         "3600.0",
         "2150.0",
         "7.7",
         "80.0",
         "22700.0"
        ],
        [
         "14",
         "x360",
         "15000.0",
         "4890.0",
         "240.0",
         "1690.0",
         "6.3",
         "61.0",
         "21820.0"
        ],
        [
         "15",
         "wii",
         "9010.0",
         "8490.0",
         "2530.0",
         "1770.0",
         "7.4",
         "80.0",
         "21800.0"
        ],
        [
         "16",
         "ps3",
         "7020.0",
         "9090.0",
         "980.0",
         "3960.0",
         "8.2",
         "97.0",
         "21050.0"
        ],
        [
         "17",
         "ps2",
         "9430.0",
         "400.0",
         "410.0",
         "10570.0",
         "9.0",
         "95.0",
         "20810.0"
        ],
        [
         "19",
         "ds",
         "4740.0",
         "9200.0",
         "4160.0",
         "2040.0",
         "7.9",
         "77.0",
         "20140.0"
        ],
        [
         "20",
         "ds",
         "6380.0",
         "4460.0",
         "6040.0",
         "1360.0",
         "7.6",
         "73.0",
         "18240.0"
        ],
        [
         "23",
         "x360",
         "9660.0",
         "5140.0",
         "60.0",
         "1410.0",
         "8.1",
         "97.0",
         "16270.0"
        ],
        [
         "24",
         "ps2",
         "8410.0",
         "5490.0",
         "470.0",
         "1780.0",
         "8.7",
         "95.0",
         "16150.0"
        ],
        [
         "25",
         "gba",
         "6060.0",
         "3900.0",
         "5380.0",
         "500.0",
         "8.3",
         "76.0",
         "15840.0"
        ],
        [
         "26",
         "ds",
         "3430.0",
         "5350.0",
         "5320.0",
         "1180.0",
         "7.1",
         "77.0",
         "15280.0"
        ],
        [
         "27",
         "ds",
         "5510.0",
         "3170.0",
         "5650.0",
         "800.0",
         "7.4",
         "72.0",
         "15130.0"
        ],
        [
         "28",
         "ps2",
         "6850.0",
         "5090.0",
         "1870.0",
         "1160.0",
         "8.4",
         "95.0",
         "14970.0"
        ],
        [
         "29",
         "x360",
         "9040.0",
         "4240.0",
         "130.0",
         "1320.0",
         "3.4",
         "88.0",
         "14730.0"
        ],
        [
         "30",
         "gb",
         "5890.0",
         "5040.0",
         "3120.0",
         "590.0",
         "8.5",
         "81.0",
         "14640.0"
        ],
        [
         "31",
         "ps4",
         "6030.0",
         "5860.0",
         "360.0",
         "2380.0",
         "5.75",
         "76.0",
         "14630.0"
        ],
        [
         "32",
         "x360",
         "9700.0",
         "3680.0",
         "110.0",
         "1130.0",
         "6.3",
         "87.0",
         "14620.0"
        ],
        [
         "33",
         "3ds",
         "5280.0",
         "4190.0",
         "4350.0",
         "780.0",
         "7.65",
         "72.0",
         "14600.0"
        ],
        [
         "34",
         "ps3",
         "4990.0",
         "5730.0",
         "650.0",
         "2420.0",
         "5.3",
         "83.0",
         "13790.0"
        ],
        [
         "35",
         "x360",
         "8250.0",
         "4240.0",
         "70.0",
         "1120.0",
         "4.8",
         "83.0",
         "13680.0"
        ],
        [
         "36",
         "x360",
         "8520.0",
         "3590.0",
         "80.0",
         "1280.0",
         "6.3",
         "94.0",
         "13470.0"
        ],
        [
         "37",
         "ps3",
         "5540.0",
         "5730.0",
         "490.0",
         "1570.0",
         "3.2",
         "88.0",
         "13330.0"
        ],
        [
         "38",
         "ps2",
         "6990.0",
         "4510.0",
         "300.0",
         "1300.0",
         "8.5",
         "97.0",
         "13100.0"
        ],
        [
         "39",
         "wii",
         "6620.0",
         "2550.0",
         "2660.0",
         "1010.0",
         "8.9",
         "93.0",
         "12840.0"
        ],
        [
         "40",
         "3ds",
         "5030.0",
         "4019.9999999999995",
         "2690.0",
         "910.0",
         "8.2",
         "85.0",
         "12650.0"
        ],
        [
         "41",
         "ps3",
         "5990.0",
         "4370.0",
         "480.0",
         "1790.0",
         "6.4",
         "88.0",
         "12630.0"
        ],
        [
         "42",
         "ps4",
         "3960.0",
         "6310.0",
         "380.0",
         "1970.0",
         "8.3",
         "97.0",
         "12620.0"
        ],
        [
         "43",
         "ds",
         "2500.0",
         "3450.0",
         "5330.0",
         "860.0",
         "8.7",
         "86.0",
         "12140.0"
        ],
        [
         "44",
         "x360",
         "7970.0",
         "2810.0",
         "130.0",
         "1210.0",
         "7.8",
         "94.0",
         "12120.0"
        ],
        [
         "45",
         "n64",
         "6910.0",
         "2850.0",
         "1910.0",
         "230.0",
         null,
         null,
         "11900.0"
        ],
        [
         "46",
         "ds",
         "4340.0",
         "2710.0",
         "3960.0",
         "760.0",
         "7.1",
         "63.0",
         "11770.0"
        ],
        [
         "47",
         "3ds",
         "4350.0",
         "3490.0",
         "3100.0",
         "740.0",
         "7.35",
         "72.5",
         "11680.0"
        ],
        [
         "48",
         "ps2",
         "3010.0",
         "10.0",
         "1100.0",
         "7530.0",
         "8.5",
         "89.0",
         "11650.0"
        ],
        [
         "49",
         "wii",
         "6060.0",
         "3350.0",
         "1200.0",
         "740.0",
         "8.9",
         "97.0",
         "11350.0"
        ],
        [
         "51",
         "x360",
         "6760.0",
         "3070.0",
         "140.0",
         "1030.0",
         "7.9",
         "98.0",
         "11000.0"
        ],
        [
         "52",
         "ps",
         "4019.9999999999995",
         "3870.0",
         "2540.0",
         "520.0",
         "8.7",
         "96.0",
         "10950.0"
        ],
        [
         "53",
         "3ds",
         "4890.0",
         "3000.0",
         "2140.0",
         "780.0",
         "8.4",
         "90.0",
         "10810.0"
        ],
        [
         "54",
         "ps3",
         "2960.0",
         "4820.0",
         "810.0",
         "2110.0",
         "7.5",
         "84.0",
         "10700.0"
        ],
        [
         "55",
         "ps3",
         "4990.0",
         "3640.0",
         "380.0",
         "1600.0",
         "6.3",
         "94.0",
         "10610.0"
        ],
        [
         "57",
         "ps3",
         "4760.0",
         "3690.0",
         "440.0",
         "1610.0",
         "7.5",
         "98.0",
         "10500.0"
        ]
       ],
       "shape": {
        "columns": 8,
        "rows": 16312
       }
      },
      "text/html": [
       "<div>\n",
       "<style scoped>\n",
       "    .dataframe tbody tr th:only-of-type {\n",
       "        vertical-align: middle;\n",
       "    }\n",
       "\n",
       "    .dataframe tbody tr th {\n",
       "        vertical-align: top;\n",
       "    }\n",
       "\n",
       "    .dataframe thead th {\n",
       "        text-align: right;\n",
       "    }\n",
       "</style>\n",
       "<table border=\"1\" class=\"dataframe\">\n",
       "  <thead>\n",
       "    <tr style=\"text-align: right;\">\n",
       "      <th></th>\n",
       "      <th>platform</th>\n",
       "      <th>na_sales</th>\n",
       "      <th>eu_sales</th>\n",
       "      <th>jp_sales</th>\n",
       "      <th>other_sales</th>\n",
       "      <th>user_score</th>\n",
       "      <th>critic_score</th>\n",
       "      <th>total_sales</th>\n",
       "    </tr>\n",
       "  </thead>\n",
       "  <tbody>\n",
       "    <tr>\n",
       "      <th>0</th>\n",
       "      <td>wii</td>\n",
       "      <td>41360.0</td>\n",
       "      <td>28960.0</td>\n",
       "      <td>3770.0</td>\n",
       "      <td>8450.0</td>\n",
       "      <td>8.00</td>\n",
       "      <td>76.0</td>\n",
       "      <td>82540.0</td>\n",
       "    </tr>\n",
       "    <tr>\n",
       "      <th>2</th>\n",
       "      <td>wii</td>\n",
       "      <td>15680.0</td>\n",
       "      <td>12760.0</td>\n",
       "      <td>3790.0</td>\n",
       "      <td>3290.0</td>\n",
       "      <td>8.30</td>\n",
       "      <td>82.0</td>\n",
       "      <td>35520.0</td>\n",
       "    </tr>\n",
       "    <tr>\n",
       "      <th>3</th>\n",
       "      <td>wii</td>\n",
       "      <td>15610.0</td>\n",
       "      <td>10930.0</td>\n",
       "      <td>3280.0</td>\n",
       "      <td>2950.0</td>\n",
       "      <td>8.00</td>\n",
       "      <td>80.0</td>\n",
       "      <td>32770.0</td>\n",
       "    </tr>\n",
       "    <tr>\n",
       "      <th>4</th>\n",
       "      <td>gb</td>\n",
       "      <td>11270.0</td>\n",
       "      <td>8890.0</td>\n",
       "      <td>10220.0</td>\n",
       "      <td>1000.0</td>\n",
       "      <td>NaN</td>\n",
       "      <td>NaN</td>\n",
       "      <td>31380.0</td>\n",
       "    </tr>\n",
       "    <tr>\n",
       "      <th>6</th>\n",
       "      <td>ds</td>\n",
       "      <td>11280.0</td>\n",
       "      <td>9140.0</td>\n",
       "      <td>6500.0</td>\n",
       "      <td>2880.0</td>\n",
       "      <td>8.50</td>\n",
       "      <td>89.0</td>\n",
       "      <td>29800.0</td>\n",
       "    </tr>\n",
       "    <tr>\n",
       "      <th>...</th>\n",
       "      <td>...</td>\n",
       "      <td>...</td>\n",
       "      <td>...</td>\n",
       "      <td>...</td>\n",
       "      <td>...</td>\n",
       "      <td>...</td>\n",
       "      <td>...</td>\n",
       "      <td>...</td>\n",
       "    </tr>\n",
       "    <tr>\n",
       "      <th>16710</th>\n",
       "      <td>ps3</td>\n",
       "      <td>0.0</td>\n",
       "      <td>0.0</td>\n",
       "      <td>10.0</td>\n",
       "      <td>0.0</td>\n",
       "      <td>6.95</td>\n",
       "      <td>73.0</td>\n",
       "      <td>10.0</td>\n",
       "    </tr>\n",
       "    <tr>\n",
       "      <th>16711</th>\n",
       "      <td>x360</td>\n",
       "      <td>0.0</td>\n",
       "      <td>10.0</td>\n",
       "      <td>0.0</td>\n",
       "      <td>0.0</td>\n",
       "      <td>7.30</td>\n",
       "      <td>72.0</td>\n",
       "      <td>10.0</td>\n",
       "    </tr>\n",
       "    <tr>\n",
       "      <th>16712</th>\n",
       "      <td>psv</td>\n",
       "      <td>0.0</td>\n",
       "      <td>0.0</td>\n",
       "      <td>10.0</td>\n",
       "      <td>0.0</td>\n",
       "      <td>7.80</td>\n",
       "      <td>72.0</td>\n",
       "      <td>10.0</td>\n",
       "    </tr>\n",
       "    <tr>\n",
       "      <th>16713</th>\n",
       "      <td>gba</td>\n",
       "      <td>10.0</td>\n",
       "      <td>0.0</td>\n",
       "      <td>0.0</td>\n",
       "      <td>0.0</td>\n",
       "      <td>7.85</td>\n",
       "      <td>69.0</td>\n",
       "      <td>10.0</td>\n",
       "    </tr>\n",
       "    <tr>\n",
       "      <th>16714</th>\n",
       "      <td>psv</td>\n",
       "      <td>0.0</td>\n",
       "      <td>0.0</td>\n",
       "      <td>10.0</td>\n",
       "      <td>0.0</td>\n",
       "      <td>7.00</td>\n",
       "      <td>67.0</td>\n",
       "      <td>10.0</td>\n",
       "    </tr>\n",
       "  </tbody>\n",
       "</table>\n",
       "<p>16312 rows × 8 columns</p>\n",
       "</div>"
      ],
      "text/plain": [
       "      platform  na_sales  eu_sales  jp_sales  other_sales  user_score  critic_score  total_sales\n",
       "0          wii   41360.0   28960.0    3770.0       8450.0        8.00          76.0      82540.0\n",
       "2          wii   15680.0   12760.0    3790.0       3290.0        8.30          82.0      35520.0\n",
       "3          wii   15610.0   10930.0    3280.0       2950.0        8.00          80.0      32770.0\n",
       "4           gb   11270.0    8890.0   10220.0       1000.0         NaN           NaN      31380.0\n",
       "6           ds   11280.0    9140.0    6500.0       2880.0        8.50          89.0      29800.0\n",
       "...        ...       ...       ...       ...          ...         ...           ...          ...\n",
       "16710      ps3       0.0       0.0      10.0          0.0        6.95          73.0         10.0\n",
       "16711     x360       0.0      10.0       0.0          0.0        7.30          72.0         10.0\n",
       "16712      psv       0.0       0.0      10.0          0.0        7.80          72.0         10.0\n",
       "16713      gba      10.0       0.0       0.0          0.0        7.85          69.0         10.0\n",
       "16714      psv       0.0       0.0      10.0          0.0        7.00          67.0         10.0\n",
       "\n",
       "[16312 rows x 8 columns]"
      ]
     },
     "execution_count": 32,
     "metadata": {},
     "output_type": "execute_result"
    }
   ],
   "source": [
    "# Impact of User and Critic Reviews on Game Sales for [Platform]\n",
    "mask = (df_vg['year_of_release'] > 1993) & (df_vg['year_of_release'] < 2018)\n",
    "df_vg_us_cs_sales = df_vg.loc[mask, ['platform', 'na_sales', 'eu_sales', 'jp_sales', 'other_sales', 'user_score', 'critic_score']]\n",
    "df_vg_us_cs_sales['total_sales'] = df_vg_us_cs_sales[['na_sales', 'eu_sales', 'jp_sales', 'other_sales']].sum(axis=1)\n",
    "df_vg_us_cs_sales"
   ]
  },
  {
   "cell_type": "code",
   "execution_count": 33,
   "id": "430c0535",
   "metadata": {},
   "outputs": [
    {
     "data": {
      "application/vnd.microsoft.datawrangler.viewer.v0+json": {
       "columns": [
        {
         "name": "index",
         "rawType": "int64",
         "type": "integer"
        },
        {
         "name": "platform",
         "rawType": "category",
         "type": "unknown"
        },
        {
         "name": "user_score",
         "rawType": "float32",
         "type": "float"
        },
        {
         "name": "na_sales",
         "rawType": "float64",
         "type": "float"
        },
        {
         "name": "eu_sales",
         "rawType": "float64",
         "type": "float"
        },
        {
         "name": "jp_sales",
         "rawType": "float64",
         "type": "float"
        },
        {
         "name": "other_sales",
         "rawType": "float64",
         "type": "float"
        },
        {
         "name": "total_sales",
         "rawType": "float64",
         "type": "float"
        }
       ],
       "ref": "59c4dc63-5804-4785-9482-f782d7fd94d1",
       "rows": [
        [
         "0",
         "3ds",
         "2.4",
         "100.0",
         "350.0",
         "0.0",
         "30.0",
         "480.0"
        ],
        [
         "1",
         "3ds",
         "2.8",
         "0.0",
         "30.0",
         "0.0",
         "0.0",
         "30.0"
        ],
        [
         "2",
         "3ds",
         "3.0",
         "150.0",
         "150.0",
         "0.0",
         "30.0",
         "330.0"
        ],
        [
         "3",
         "3ds",
         "3.3",
         "300.0",
         "370.0",
         "30.0",
         "70.0",
         "770.0"
        ],
        [
         "4",
         "3ds",
         "3.4",
         "160.0",
         "100.0",
         "0.0",
         "20.0",
         "280.0"
        ],
        [
         "5",
         "3ds",
         "3.6",
         "180.0",
         "100.0",
         "0.0",
         "30.0",
         "310.0"
        ],
        [
         "6",
         "3ds",
         "3.7",
         "60.0",
         "200.0",
         "0.0",
         "30.0",
         "290.0"
        ],
        [
         "7",
         "3ds",
         "3.8",
         "70.0",
         "70.0",
         "0.0",
         "10.0",
         "150.0"
        ],
        [
         "8",
         "3ds",
         "3.9",
         "130.0",
         "220.0",
         "160.0",
         "30.0",
         "540.0"
        ],
        [
         "9",
         "3ds",
         "4.0",
         "70.0",
         "20.0",
         "0.0",
         "10.0",
         "100.0"
        ],
        [
         "10",
         "3ds",
         "4.2",
         "140.0",
         "30.0",
         "0.0",
         "20.0",
         "190.0"
        ],
        [
         "11",
         "3ds",
         "4.25",
         "30.0",
         "0.0",
         "0.0",
         "0.0",
         "30.0"
        ],
        [
         "12",
         "3ds",
         "4.27",
         "0.0",
         "0.0",
         "190.0",
         "0.0",
         "190.0"
        ],
        [
         "13",
         "3ds",
         "4.3",
         "40.0",
         "30.0",
         "0.0",
         "10.0",
         "80.0"
        ],
        [
         "14",
         "3ds",
         "4.34",
         "0.0",
         "220.0",
         "0.0",
         "10.0",
         "230.0"
        ],
        [
         "15",
         "3ds",
         "4.4",
         "270.0",
         "160.0",
         "20.0",
         "40.0",
         "490.0"
        ],
        [
         "16",
         "3ds",
         "4.5",
         "0.0",
         "0.0",
         "560.0",
         "0.0",
         "560.0"
        ],
        [
         "17",
         "3ds",
         "4.6",
         "380.0",
         "200.0",
         "0.0",
         "50.0",
         "630.0"
        ],
        [
         "18",
         "3ds",
         "4.8",
         "1180.0",
         "2360.0",
         "2290.0",
         "290.0",
         "6120.0"
        ],
        [
         "19",
         "3ds",
         "4.9",
         "370.0",
         "240.0",
         "0.0",
         "60.0",
         "670.0"
        ],
        [
         "20",
         "3ds",
         "5.0",
         "220.0",
         "70.0",
         "0.0",
         "30.0",
         "320.0"
        ],
        [
         "21",
         "3ds",
         "5.1",
         "20.0",
         "10.0",
         "10.0",
         "0.0",
         "40.0"
        ],
        [
         "22",
         "3ds",
         "5.2",
         "830.0",
         "710.0",
         "300.0",
         "130.0",
         "1970.0"
        ],
        [
         "23",
         "3ds",
         "5.3",
         "680.0",
         "70.0",
         "70.0",
         "60.0",
         "880.0"
        ],
        [
         "24",
         "3ds",
         "5.4",
         "450.0",
         "370.0",
         "90.0",
         "70.0",
         "980.0"
        ],
        [
         "25",
         "3ds",
         "5.45",
         "0.0",
         "0.0",
         "240.0",
         "0.0",
         "240.0"
        ],
        [
         "26",
         "3ds",
         "5.5",
         "610.0",
         "300.0",
         "120.0",
         "80.0",
         "1110.0"
        ],
        [
         "27",
         "3ds",
         "5.6",
         "1150.0",
         "480.0",
         "640.0",
         "140.0",
         "2410.0"
        ],
        [
         "28",
         "3ds",
         "5.7",
         "50.0",
         "90.0",
         "0.0",
         "20.0",
         "160.0"
        ],
        [
         "29",
         "3ds",
         "5.8",
         "30.0",
         "0.0",
         "0.0",
         "0.0",
         "30.0"
        ],
        [
         "30",
         "3ds",
         "5.9",
         "180.0",
         "130.0",
         "50.0",
         "30.0",
         "390.0"
        ],
        [
         "31",
         "3ds",
         "6.0",
         "950.0",
         "330.0",
         "40.0",
         "130.0",
         "1450.0"
        ],
        [
         "32",
         "3ds",
         "6.05",
         "170.0",
         "100.0",
         "0.0",
         "20.0",
         "290.0"
        ],
        [
         "33",
         "3ds",
         "6.1",
         "1340.0",
         "1040.0",
         "490.0",
         "210.0",
         "3080.0"
        ],
        [
         "34",
         "3ds",
         "6.15",
         "240.0",
         "140.0",
         "0.0",
         "30.0",
         "410.0"
        ],
        [
         "35",
         "3ds",
         "6.2",
         "1860.0",
         "2190.0",
         "1940.0",
         "350.0",
         "6340.0"
        ],
        [
         "36",
         "3ds",
         "6.3",
         "1900.0",
         "1240.0",
         "1070.0",
         "280.0",
         "4490.0"
        ],
        [
         "37",
         "3ds",
         "6.35",
         "110.0",
         "0.0",
         "0.0",
         "10.0",
         "120.0"
        ],
        [
         "38",
         "3ds",
         "6.4",
         "670.0",
         "660.0",
         "210.0",
         "120.0",
         "1660.0"
        ],
        [
         "39",
         "3ds",
         "6.45",
         "600.0",
         "170.0",
         "540.0",
         "50.0",
         "1360.0"
        ],
        [
         "40",
         "3ds",
         "6.5",
         "1040.0",
         "980.0",
         "290.0",
         "190.0",
         "2500.0"
        ],
        [
         "41",
         "3ds",
         "6.57",
         "100.0",
         "120.0",
         "0.0",
         "20.0",
         "240.0"
        ],
        [
         "42",
         "3ds",
         "6.6",
         "450.0",
         "490.0",
         "160.0",
         "100.0",
         "1200.0"
        ],
        [
         "43",
         "3ds",
         "6.7",
         "2460.0",
         "2160.0",
         "1490.0",
         "440.0",
         "6550.0"
        ],
        [
         "44",
         "3ds",
         "6.8",
         "1120.0",
         "1490.0",
         "890.0",
         "260.0",
         "3760.0"
        ],
        [
         "45",
         "3ds",
         "6.83",
         "50.0",
         "20.0",
         "100.0",
         "10.0",
         "180.0"
        ],
        [
         "46",
         "3ds",
         "6.85",
         "530.0",
         "30.0",
         "90.0",
         "40.0",
         "690.0"
        ],
        [
         "47",
         "3ds",
         "6.9",
         "1220.0",
         "1880.0",
         "3040.0",
         "270.0",
         "6410.0"
        ],
        [
         "48",
         "3ds",
         "6.95",
         "60.0",
         "210.0",
         "2930.0",
         "20.0",
         "3220.0"
        ],
        [
         "49",
         "3ds",
         "7.0",
         "1040.0",
         "500.0",
         "3350.0",
         "140.0",
         "5030.0"
        ]
       ],
       "shape": {
        "columns": 7,
        "rows": 1511
       }
      },
      "text/html": [
       "<div>\n",
       "<style scoped>\n",
       "    .dataframe tbody tr th:only-of-type {\n",
       "        vertical-align: middle;\n",
       "    }\n",
       "\n",
       "    .dataframe tbody tr th {\n",
       "        vertical-align: top;\n",
       "    }\n",
       "\n",
       "    .dataframe thead th {\n",
       "        text-align: right;\n",
       "    }\n",
       "</style>\n",
       "<table border=\"1\" class=\"dataframe\">\n",
       "  <thead>\n",
       "    <tr style=\"text-align: right;\">\n",
       "      <th></th>\n",
       "      <th>platform</th>\n",
       "      <th>user_score</th>\n",
       "      <th>na_sales</th>\n",
       "      <th>eu_sales</th>\n",
       "      <th>jp_sales</th>\n",
       "      <th>other_sales</th>\n",
       "      <th>total_sales</th>\n",
       "    </tr>\n",
       "  </thead>\n",
       "  <tbody>\n",
       "    <tr>\n",
       "      <th>0</th>\n",
       "      <td>3ds</td>\n",
       "      <td>2.4</td>\n",
       "      <td>100.0</td>\n",
       "      <td>350.0</td>\n",
       "      <td>0.0</td>\n",
       "      <td>30.0</td>\n",
       "      <td>480.0</td>\n",
       "    </tr>\n",
       "    <tr>\n",
       "      <th>1</th>\n",
       "      <td>3ds</td>\n",
       "      <td>2.8</td>\n",
       "      <td>0.0</td>\n",
       "      <td>30.0</td>\n",
       "      <td>0.0</td>\n",
       "      <td>0.0</td>\n",
       "      <td>30.0</td>\n",
       "    </tr>\n",
       "    <tr>\n",
       "      <th>2</th>\n",
       "      <td>3ds</td>\n",
       "      <td>3.0</td>\n",
       "      <td>150.0</td>\n",
       "      <td>150.0</td>\n",
       "      <td>0.0</td>\n",
       "      <td>30.0</td>\n",
       "      <td>330.0</td>\n",
       "    </tr>\n",
       "    <tr>\n",
       "      <th>3</th>\n",
       "      <td>3ds</td>\n",
       "      <td>3.3</td>\n",
       "      <td>300.0</td>\n",
       "      <td>370.0</td>\n",
       "      <td>30.0</td>\n",
       "      <td>70.0</td>\n",
       "      <td>770.0</td>\n",
       "    </tr>\n",
       "    <tr>\n",
       "      <th>4</th>\n",
       "      <td>3ds</td>\n",
       "      <td>3.4</td>\n",
       "      <td>160.0</td>\n",
       "      <td>100.0</td>\n",
       "      <td>0.0</td>\n",
       "      <td>20.0</td>\n",
       "      <td>280.0</td>\n",
       "    </tr>\n",
       "    <tr>\n",
       "      <th>...</th>\n",
       "      <td>...</td>\n",
       "      <td>...</td>\n",
       "      <td>...</td>\n",
       "      <td>...</td>\n",
       "      <td>...</td>\n",
       "      <td>...</td>\n",
       "      <td>...</td>\n",
       "    </tr>\n",
       "    <tr>\n",
       "      <th>1506</th>\n",
       "      <td>xone</td>\n",
       "      <td>8.6</td>\n",
       "      <td>260.0</td>\n",
       "      <td>90.0</td>\n",
       "      <td>0.0</td>\n",
       "      <td>40.0</td>\n",
       "      <td>390.0</td>\n",
       "    </tr>\n",
       "    <tr>\n",
       "      <th>1507</th>\n",
       "      <td>xone</td>\n",
       "      <td>8.7</td>\n",
       "      <td>130.0</td>\n",
       "      <td>60.0</td>\n",
       "      <td>0.0</td>\n",
       "      <td>20.0</td>\n",
       "      <td>210.0</td>\n",
       "    </tr>\n",
       "    <tr>\n",
       "      <th>1508</th>\n",
       "      <td>xone</td>\n",
       "      <td>8.8</td>\n",
       "      <td>10.0</td>\n",
       "      <td>0.0</td>\n",
       "      <td>0.0</td>\n",
       "      <td>0.0</td>\n",
       "      <td>10.0</td>\n",
       "    </tr>\n",
       "    <tr>\n",
       "      <th>1509</th>\n",
       "      <td>xone</td>\n",
       "      <td>8.9</td>\n",
       "      <td>30.0</td>\n",
       "      <td>10.0</td>\n",
       "      <td>0.0</td>\n",
       "      <td>0.0</td>\n",
       "      <td>40.0</td>\n",
       "    </tr>\n",
       "    <tr>\n",
       "      <th>1510</th>\n",
       "      <td>xone</td>\n",
       "      <td>9.2</td>\n",
       "      <td>690.0</td>\n",
       "      <td>500.0</td>\n",
       "      <td>0.0</td>\n",
       "      <td>110.0</td>\n",
       "      <td>1300.0</td>\n",
       "    </tr>\n",
       "  </tbody>\n",
       "</table>\n",
       "<p>1511 rows × 7 columns</p>\n",
       "</div>"
      ],
      "text/plain": [
       "     platform  user_score  na_sales  eu_sales  jp_sales  other_sales  total_sales\n",
       "0         3ds         2.4     100.0     350.0       0.0         30.0        480.0\n",
       "1         3ds         2.8       0.0      30.0       0.0          0.0         30.0\n",
       "2         3ds         3.0     150.0     150.0       0.0         30.0        330.0\n",
       "3         3ds         3.3     300.0     370.0      30.0         70.0        770.0\n",
       "4         3ds         3.4     160.0     100.0       0.0         20.0        280.0\n",
       "...       ...         ...       ...       ...       ...          ...          ...\n",
       "1506     xone         8.6     260.0      90.0       0.0         40.0        390.0\n",
       "1507     xone         8.7     130.0      60.0       0.0         20.0        210.0\n",
       "1508     xone         8.8      10.0       0.0       0.0          0.0         10.0\n",
       "1509     xone         8.9      30.0      10.0       0.0          0.0         40.0\n",
       "1510     xone         9.2     690.0     500.0       0.0        110.0       1300.0\n",
       "\n",
       "[1511 rows x 7 columns]"
      ]
     },
     "execution_count": 33,
     "metadata": {},
     "output_type": "execute_result"
    }
   ],
   "source": [
    "df_vg_us_sales = df_vg_us_cs_sales.groupby(['platform', 'user_score'], observed=False).agg({'na_sales': 'sum', 'eu_sales': 'sum', 'jp_sales': 'sum', \n",
    "                                                                                            'other_sales': 'sum', 'total_sales': 'sum'})\n",
    "cols = ['na_sales', 'eu_sales', 'jp_sales', 'other_sales', 'total_sales']\n",
    "df_vg_us_sales = df_vg_us_sales.loc[~(df_vg_us_sales[cols] == 0).all(axis=1), :].reset_index()\n",
    "df_vg_us_sales"
   ]
  },
  {
   "cell_type": "code",
   "execution_count": 34,
   "id": "67359e3f",
   "metadata": {},
   "outputs": [],
   "source": [
    "project_root = Path.cwd().parent\n",
    "processed_path = project_root / \"data\" / \"processed\" / \"feature\" / \"vg_us_sales_feature.csv\"\n",
    "\n",
    "df_vg_us_sales.to_csv(processed_path, index=False)"
   ]
  },
  {
   "cell_type": "code",
   "execution_count": 35,
   "id": "0ff7ce48",
   "metadata": {},
   "outputs": [
    {
     "data": {
      "application/vnd.microsoft.datawrangler.viewer.v0+json": {
       "columns": [
        {
         "name": "index",
         "rawType": "int64",
         "type": "integer"
        },
        {
         "name": "platform",
         "rawType": "category",
         "type": "unknown"
        },
        {
         "name": "critic_score",
         "rawType": "float32",
         "type": "float"
        },
        {
         "name": "na_sales",
         "rawType": "float64",
         "type": "float"
        },
        {
         "name": "eu_sales",
         "rawType": "float64",
         "type": "float"
        },
        {
         "name": "jp_sales",
         "rawType": "float64",
         "type": "float"
        },
        {
         "name": "other_sales",
         "rawType": "float64",
         "type": "float"
        },
        {
         "name": "total_sales",
         "rawType": "float64",
         "type": "float"
        }
       ],
       "ref": "da206780-47c1-4f44-8392-83d896759978",
       "rows": [
        [
         "0",
         "3ds",
         "26.0",
         "10.0",
         "10.0",
         "0.0",
         "0.0",
         "20.0"
        ],
        [
         "1",
         "3ds",
         "34.0",
         "0.0",
         "30.0",
         "0.0",
         "0.0",
         "30.0"
        ],
        [
         "2",
         "3ds",
         "38.0",
         "0.0",
         "10.0",
         "0.0",
         "0.0",
         "10.0"
        ],
        [
         "3",
         "3ds",
         "42.0",
         "90.0",
         "30.0",
         "0.0",
         "10.0",
         "130.0"
        ],
        [
         "4",
         "3ds",
         "43.0",
         "370.0",
         "250.0",
         "20.0",
         "50.0",
         "690.0"
        ],
        [
         "5",
         "3ds",
         "44.0",
         "250.0",
         "60.0",
         "50.0",
         "30.0",
         "390.0"
        ],
        [
         "6",
         "3ds",
         "45.0",
         "30.0",
         "0.0",
         "0.0",
         "0.0",
         "30.0"
        ],
        [
         "7",
         "3ds",
         "46.0",
         "30.0",
         "0.0",
         "720.0",
         "0.0",
         "750.0"
        ],
        [
         "8",
         "3ds",
         "47.0",
         "440.0",
         "400.0",
         "40.0",
         "90.0",
         "970.0"
        ],
        [
         "9",
         "3ds",
         "47.67",
         "110.0",
         "0.0",
         "0.0",
         "10.0",
         "120.0"
        ],
        [
         "10",
         "3ds",
         "48.0",
         "50.0",
         "40.0",
         "0.0",
         "10.0",
         "100.0"
        ],
        [
         "11",
         "3ds",
         "49.0",
         "460.0",
         "170.0",
         "60.0",
         "60.0",
         "750.0"
        ],
        [
         "12",
         "3ds",
         "50.0",
         "80.0",
         "30.0",
         "0.0",
         "10.0",
         "120.0"
        ],
        [
         "13",
         "3ds",
         "51.0",
         "1180.0",
         "2260.0",
         "2000.0",
         "280.0",
         "5720.0"
        ],
        [
         "14",
         "3ds",
         "52.0",
         "530.0",
         "520.0",
         "60.0",
         "110.0",
         "1220.0"
        ],
        [
         "15",
         "3ds",
         "52.5",
         "0.0",
         "0.0",
         "160.0",
         "0.0",
         "160.0"
        ],
        [
         "16",
         "3ds",
         "52.67",
         "50.0",
         "40.0",
         "0.0",
         "10.0",
         "100.0"
        ],
        [
         "17",
         "3ds",
         "53.0",
         "210.0",
         "120.0",
         "100.0",
         "30.0",
         "460.0"
        ],
        [
         "18",
         "3ds",
         "54.0",
         "400.0",
         "90.0",
         "60.0",
         "40.0",
         "590.0"
        ],
        [
         "19",
         "3ds",
         "55.0",
         "320.0",
         "180.0",
         "50.0",
         "50.0",
         "600.0"
        ],
        [
         "20",
         "3ds",
         "56.0",
         "1020.0",
         "420.0",
         "350.0",
         "140.0",
         "1930.0"
        ],
        [
         "21",
         "3ds",
         "57.0",
         "820.0",
         "680.0",
         "840.0",
         "130.0",
         "2470.0"
        ],
        [
         "22",
         "3ds",
         "58.0",
         "690.0",
         "230.0",
         "210.0",
         "80.0",
         "1210.0"
        ],
        [
         "23",
         "3ds",
         "58.5",
         "1840.0",
         "1520.0",
         "760.0",
         "310.0",
         "4430.0"
        ],
        [
         "24",
         "3ds",
         "59.0",
         "870.0",
         "550.0",
         "540.0",
         "130.0",
         "2090.0"
        ],
        [
         "25",
         "3ds",
         "60.0",
         "260.0",
         "240.0",
         "400.0",
         "40.0",
         "940.0"
        ],
        [
         "26",
         "3ds",
         "61.0",
         "1140.0",
         "980.0",
         "400.0",
         "200.0",
         "2720.0"
        ],
        [
         "27",
         "3ds",
         "62.0",
         "550.0",
         "220.0",
         "30.0",
         "70.0",
         "870.0"
        ],
        [
         "28",
         "3ds",
         "63.0",
         "0.0",
         "0.0",
         "80.0",
         "0.0",
         "80.0"
        ],
        [
         "29",
         "3ds",
         "64.0",
         "740.0",
         "670.0",
         "380.0",
         "130.0",
         "1920.0"
        ],
        [
         "30",
         "3ds",
         "65.0",
         "430.0",
         "420.0",
         "230.0",
         "80.0",
         "1160.0"
        ],
        [
         "31",
         "3ds",
         "65.5",
         "2350.0",
         "1410.0",
         "1000.0",
         "350.0",
         "5110.0"
        ],
        [
         "32",
         "3ds",
         "66.0",
         "1540.0",
         "1660.0",
         "1560.0",
         "260.0",
         "5020.0"
        ],
        [
         "33",
         "3ds",
         "66.5",
         "540.0",
         "100.0",
         "0.0",
         "50.0",
         "690.0"
        ],
        [
         "34",
         "3ds",
         "67.0",
         "1390.0",
         "1430.0",
         "840.0",
         "260.0",
         "3920.0"
        ],
        [
         "35",
         "3ds",
         "68.0",
         "790.0",
         "540.0",
         "1050.0",
         "120.0",
         "2500.0"
        ],
        [
         "36",
         "3ds",
         "69.0",
         "1460.0",
         "990.0",
         "970.0",
         "230.0",
         "3650.0"
        ],
        [
         "37",
         "3ds",
         "69.5",
         "0.0",
         "0.0",
         "70.0",
         "0.0",
         "70.0"
        ],
        [
         "38",
         "3ds",
         "69.75",
         "100.0",
         "120.0",
         "0.0",
         "20.0",
         "240.0"
        ],
        [
         "39",
         "3ds",
         "70.0",
         "350.0",
         "350.0",
         "880.0",
         "50.0",
         "1630.0"
        ],
        [
         "40",
         "3ds",
         "70.5",
         "3270.0",
         "1390.0",
         "3050.0",
         "480.0",
         "8190.0"
        ],
        [
         "41",
         "3ds",
         "70.75",
         "310.0",
         "230.0",
         "30.0",
         "50.0",
         "620.0"
        ],
        [
         "42",
         "3ds",
         "70.83",
         "280.0",
         "310.0",
         "50.0",
         "50.0",
         "690.0"
        ],
        [
         "43",
         "3ds",
         "71.0",
         "1650.0",
         "1320.0",
         "830.0",
         "260.0",
         "4060.0"
        ],
        [
         "44",
         "3ds",
         "71.83",
         "100.0",
         "330.0",
         "130.0",
         "50.0",
         "610.0"
        ],
        [
         "45",
         "3ds",
         "72.0",
         "7050.0",
         "5810.0",
         "14420.0",
         "1080.0",
         "28360.0"
        ],
        [
         "46",
         "3ds",
         "72.5",
         "4560.0",
         "3520.0",
         "10310.0",
         "770.0",
         "19160.0"
        ],
        [
         "47",
         "3ds",
         "73.0",
         "1800.0",
         "1190.0",
         "5220.0",
         "270.0",
         "8480.0"
        ],
        [
         "48",
         "3ds",
         "73.33",
         "170.0",
         "100.0",
         "0.0",
         "20.0",
         "290.0"
        ],
        [
         "49",
         "3ds",
         "73.5",
         "210.0",
         "200.0",
         "220.0",
         "40.0",
         "670.0"
        ]
       ],
       "shape": {
        "columns": 7,
        "rows": 1577
       }
      },
      "text/html": [
       "<div>\n",
       "<style scoped>\n",
       "    .dataframe tbody tr th:only-of-type {\n",
       "        vertical-align: middle;\n",
       "    }\n",
       "\n",
       "    .dataframe tbody tr th {\n",
       "        vertical-align: top;\n",
       "    }\n",
       "\n",
       "    .dataframe thead th {\n",
       "        text-align: right;\n",
       "    }\n",
       "</style>\n",
       "<table border=\"1\" class=\"dataframe\">\n",
       "  <thead>\n",
       "    <tr style=\"text-align: right;\">\n",
       "      <th></th>\n",
       "      <th>platform</th>\n",
       "      <th>critic_score</th>\n",
       "      <th>na_sales</th>\n",
       "      <th>eu_sales</th>\n",
       "      <th>jp_sales</th>\n",
       "      <th>other_sales</th>\n",
       "      <th>total_sales</th>\n",
       "    </tr>\n",
       "  </thead>\n",
       "  <tbody>\n",
       "    <tr>\n",
       "      <th>0</th>\n",
       "      <td>3ds</td>\n",
       "      <td>26.0</td>\n",
       "      <td>10.0</td>\n",
       "      <td>10.0</td>\n",
       "      <td>0.0</td>\n",
       "      <td>0.0</td>\n",
       "      <td>20.0</td>\n",
       "    </tr>\n",
       "    <tr>\n",
       "      <th>1</th>\n",
       "      <td>3ds</td>\n",
       "      <td>34.0</td>\n",
       "      <td>0.0</td>\n",
       "      <td>30.0</td>\n",
       "      <td>0.0</td>\n",
       "      <td>0.0</td>\n",
       "      <td>30.0</td>\n",
       "    </tr>\n",
       "    <tr>\n",
       "      <th>2</th>\n",
       "      <td>3ds</td>\n",
       "      <td>38.0</td>\n",
       "      <td>0.0</td>\n",
       "      <td>10.0</td>\n",
       "      <td>0.0</td>\n",
       "      <td>0.0</td>\n",
       "      <td>10.0</td>\n",
       "    </tr>\n",
       "    <tr>\n",
       "      <th>3</th>\n",
       "      <td>3ds</td>\n",
       "      <td>42.0</td>\n",
       "      <td>90.0</td>\n",
       "      <td>30.0</td>\n",
       "      <td>0.0</td>\n",
       "      <td>10.0</td>\n",
       "      <td>130.0</td>\n",
       "    </tr>\n",
       "    <tr>\n",
       "      <th>4</th>\n",
       "      <td>3ds</td>\n",
       "      <td>43.0</td>\n",
       "      <td>370.0</td>\n",
       "      <td>250.0</td>\n",
       "      <td>20.0</td>\n",
       "      <td>50.0</td>\n",
       "      <td>690.0</td>\n",
       "    </tr>\n",
       "    <tr>\n",
       "      <th>...</th>\n",
       "      <td>...</td>\n",
       "      <td>...</td>\n",
       "      <td>...</td>\n",
       "      <td>...</td>\n",
       "      <td>...</td>\n",
       "      <td>...</td>\n",
       "      <td>...</td>\n",
       "    </tr>\n",
       "    <tr>\n",
       "      <th>1572</th>\n",
       "      <td>xone</td>\n",
       "      <td>90.0</td>\n",
       "      <td>860.0</td>\n",
       "      <td>60.0</td>\n",
       "      <td>0.0</td>\n",
       "      <td>110.0</td>\n",
       "      <td>1030.0</td>\n",
       "    </tr>\n",
       "    <tr>\n",
       "      <th>1573</th>\n",
       "      <td>xone</td>\n",
       "      <td>91.0</td>\n",
       "      <td>2010.0</td>\n",
       "      <td>1660.0</td>\n",
       "      <td>0.0</td>\n",
       "      <td>340.0</td>\n",
       "      <td>4010.0</td>\n",
       "    </tr>\n",
       "    <tr>\n",
       "      <th>1574</th>\n",
       "      <td>xone</td>\n",
       "      <td>94.0</td>\n",
       "      <td>410.0</td>\n",
       "      <td>270.0</td>\n",
       "      <td>0.0</td>\n",
       "      <td>70.0</td>\n",
       "      <td>750.0</td>\n",
       "    </tr>\n",
       "    <tr>\n",
       "      <th>1575</th>\n",
       "      <td>xone</td>\n",
       "      <td>95.0</td>\n",
       "      <td>410.0</td>\n",
       "      <td>260.0</td>\n",
       "      <td>10.0</td>\n",
       "      <td>70.0</td>\n",
       "      <td>750.0</td>\n",
       "    </tr>\n",
       "    <tr>\n",
       "      <th>1576</th>\n",
       "      <td>xone</td>\n",
       "      <td>97.0</td>\n",
       "      <td>2810.0</td>\n",
       "      <td>2190.0</td>\n",
       "      <td>0.0</td>\n",
       "      <td>470.0</td>\n",
       "      <td>5470.0</td>\n",
       "    </tr>\n",
       "  </tbody>\n",
       "</table>\n",
       "<p>1577 rows × 7 columns</p>\n",
       "</div>"
      ],
      "text/plain": [
       "     platform  critic_score  na_sales  eu_sales  jp_sales  other_sales  total_sales\n",
       "0         3ds          26.0      10.0      10.0       0.0          0.0         20.0\n",
       "1         3ds          34.0       0.0      30.0       0.0          0.0         30.0\n",
       "2         3ds          38.0       0.0      10.0       0.0          0.0         10.0\n",
       "3         3ds          42.0      90.0      30.0       0.0         10.0        130.0\n",
       "4         3ds          43.0     370.0     250.0      20.0         50.0        690.0\n",
       "...       ...           ...       ...       ...       ...          ...          ...\n",
       "1572     xone          90.0     860.0      60.0       0.0        110.0       1030.0\n",
       "1573     xone          91.0    2010.0    1660.0       0.0        340.0       4010.0\n",
       "1574     xone          94.0     410.0     270.0       0.0         70.0        750.0\n",
       "1575     xone          95.0     410.0     260.0      10.0         70.0        750.0\n",
       "1576     xone          97.0    2810.0    2190.0       0.0        470.0       5470.0\n",
       "\n",
       "[1577 rows x 7 columns]"
      ]
     },
     "execution_count": 35,
     "metadata": {},
     "output_type": "execute_result"
    }
   ],
   "source": [
    "df_vg_cs_sales = df_vg_us_cs_sales.groupby(['platform', 'critic_score'], observed=False).agg({'na_sales': 'sum', 'eu_sales': 'sum', 'jp_sales': 'sum', \n",
    "                                                                                            'other_sales': 'sum', 'total_sales': 'sum'})\n",
    "cols = ['na_sales', 'eu_sales', 'jp_sales', 'other_sales', 'total_sales']\n",
    "df_vg_cs_sales = df_vg_cs_sales.loc[~(df_vg_cs_sales[cols] == 0).all(axis=1), :].reset_index()\n",
    "df_vg_cs_sales"
   ]
  },
  {
   "cell_type": "code",
   "execution_count": 36,
   "id": "056cdcd3",
   "metadata": {},
   "outputs": [],
   "source": [
    "project_root = Path.cwd().parent\n",
    "processed_path = project_root / \"data\" / \"processed\" / \"feature\" / \"vg_cs_sales_feature.csv\"\n",
    "\n",
    "df_vg_cs_sales.to_csv(processed_path, index=False)"
   ]
  },
  {
   "cell_type": "code",
   "execution_count": 64,
   "id": "7d79beda",
   "metadata": {},
   "outputs": [
    {
     "data": {
      "application/vnd.microsoft.datawrangler.viewer.v0+json": {
       "columns": [
        {
         "name": "('name', 'platform')",
         "rawType": "object",
         "type": "unknown"
        },
        {
         "name": "na_sales",
         "rawType": "float64",
         "type": "float"
        },
        {
         "name": "eu_sales",
         "rawType": "float64",
         "type": "float"
        },
        {
         "name": "jp_sales",
         "rawType": "float64",
         "type": "float"
        },
        {
         "name": "other_sales",
         "rawType": "float64",
         "type": "float"
        },
        {
         "name": "name_total_count",
         "rawType": "int64",
         "type": "integer"
        }
       ],
       "ref": "9561b7f4-aba6-48c1-9319-b3329341037e",
       "rows": [
        [
         "('007_quantum_of_solace', 'ps3')",
         "430.0",
         "510.0",
         "20.0",
         "190.0",
         "3"
        ],
        [
         "('007_quantum_of_solace', 'wii')",
         "290.0",
         "280.0",
         "10.0",
         "70.0",
         "3"
        ],
        [
         "('007_quantum_of_solace', 'x360')",
         "820.0",
         "510.0",
         "10.0",
         "140.0",
         "3"
        ],
        [
         "('007_the_world_is_not_enough', 'n64')",
         "1130.0",
         "380.0",
         "20.0",
         "30.0",
         "1"
        ],
        [
         "('1080_teneighty_snowboarding', 'n64')",
         "1250.0",
         "610.0",
         "130.0",
         "50.0",
         "1"
        ],
        [
         "('2002_fifa_world_cup', 'ps2')",
         "210.0",
         "170.0",
         "160.0",
         "60.0",
         "1"
        ],
        [
         "('2010_fifa_world_cup_south_africa', 'ps3')",
         "300.0",
         "640.0",
         "70.0",
         "220.0",
         "4"
        ],
        [
         "('2010_fifa_world_cup_south_africa', 'psp')",
         "90.0",
         "220.0",
         "30.0",
         "120.0",
         "4"
        ],
        [
         "('2010_fifa_world_cup_south_africa', 'wii')",
         "230.0",
         "150.0",
         "10.0",
         "40.0",
         "4"
        ],
        [
         "('2010_fifa_world_cup_south_africa', 'x360')",
         "320.0",
         "420.0",
         "20.0",
         "90.0",
         "4"
        ],
        [
         "('2014_fifa_world_cup_brazil', 'ps3')",
         "150.0",
         "360.0",
         "10.0",
         "90.0",
         "1"
        ],
        [
         "('3d_dot_game_heroes', 'ps3')",
         "360.0",
         "110.0",
         "30.0",
         "70.0",
         "1"
        ],
        [
         "('50_cent_blood_on_the_sand', 'ps3')",
         "100.0",
         "60.0",
         "10.0",
         "30.0",
         "1"
        ],
        [
         "('_98_koshien', 'ps')",
         "150.0",
         "100.0",
         "120.0",
         "30.0",
         "1"
        ],
        [
         "('_hack_infection_part_1', 'ps2')",
         "490.0",
         "380.0",
         "260.0",
         "130.0",
         "1"
        ],
        [
         "('_hack_mutation_part_2', 'ps2')",
         "230.0",
         "180.0",
         "200.0",
         "60.0",
         "1"
        ],
        [
         "('_hack_outbreak_part_3', 'ps2')",
         "140.0",
         "110.0",
         "170.0",
         "40.0",
         "1"
        ],
        [
         "('a_train', 'ps')",
         "20.0",
         "10.0",
         "40.0",
         "10.0",
         "1"
        ],
        [
         "('ace_attorney_investigations_miles_edgeworth', 'ds')",
         "230.0",
         "140.0",
         "300.0",
         "40.0",
         "1"
        ],
        [
         "('ace_combat_04_shattered_skies', 'ps2')",
         "2060.0",
         "560.0",
         "380.0",
         "170.0",
         "1"
        ],
        [
         "('ace_combat_2', 'ps')",
         "160.0",
         "110.0",
         "560.0",
         "60.0",
         "1"
        ],
        [
         "('ace_combat_3_electrosphere', 'ps')",
         "220.0",
         "150.0",
         "400.0",
         "50.0",
         "1"
        ],
        [
         "('ace_combat_5_the_unsung_war', 'ps2')",
         "880.0",
         "340.0",
         "320.0",
         "180.0",
         "1"
        ],
        [
         "('ace_combat_6_fires_of_liberation', 'x360')",
         "690.0",
         "40.0",
         "220.0",
         "60.0",
         "1"
        ],
        [
         "('ace_combat_assault_horizon', 'ps3')",
         "300.0",
         "150.0",
         "220.0",
         "70.0",
         "2"
        ],
        [
         "('ace_combat_assault_horizon', 'x360')",
         "300.0",
         "120.0",
         "30.0",
         "40.0",
         "2"
        ],
        [
         "('ace_combat_assault_horizon_legacy', '3ds')",
         "100.0",
         "60.0",
         "80.0",
         "10.0",
         "1"
        ],
        [
         "('ace_combat_joint_assault', 'psp')",
         "60.0",
         "50.0",
         "150.0",
         "30.0",
         "1"
        ],
        [
         "('ace_combat_x_skies_of_deception', 'psp')",
         "370.0",
         "300.0",
         "120.0",
         "190.0",
         "1"
        ],
        [
         "('ace_combat_zero_the_belkan_war', 'ps2')",
         "150.0",
         "120.0",
         "200.0",
         "40.0",
         "1"
        ],
        [
         "('active_life_outdoor_challenge', 'wii')",
         "780.0",
         "430.0",
         "190.0",
         "140.0",
         "1"
        ],
        [
         "('advance_wars_dual_strike', 'ds')",
         "300.0",
         "20.0",
         "40.0",
         "30.0",
         "1"
        ],
        [
         "('air_combat', 'ps')",
         "920.0",
         "330.0",
         "520.0",
         "50.0",
         "1"
        ],
        [
         "('akiba_s_trip_undead_undressed', 'ps3')",
         "50.0",
         "10.0",
         "40.0",
         "10.0",
         "2"
        ],
        [
         "('akiba_s_trip_undead_undressed', 'psv')",
         "40.0",
         "20.0",
         "80.0",
         "10.0",
         "2"
        ],
        [
         "('alan_wake', 'x360')",
         "660.0",
         "500.0",
         "50.0",
         "130.0",
         "1"
        ],
        [
         "('alice_madness_returns', 'ps3')",
         "220.0",
         "240.0",
         "40.0",
         "80.0",
         "2"
        ],
        [
         "('alice_madness_returns', 'x360')",
         "270.0",
         "140.0",
         "40.0",
         "40.0",
         "2"
        ],
        [
         "('alien_isolation', 'ps4')",
         "340.0",
         "570.0",
         "40.0",
         "170.0",
         "1"
        ],
        [
         "('alien_trilogy', 'ps')",
         "240.0",
         "160.0",
         "40.0",
         "30.0",
         "1"
        ],
        [
         "('anarchy_reigns', 'ps3')",
         "100.0",
         "30.0",
         "60.0",
         "20.0",
         "2"
        ],
        [
         "('anarchy_reigns', 'x360')",
         "120.0",
         "20.0",
         "20.0",
         "10.0",
         "2"
        ],
        [
         "('animal_crossing', 'gc')",
         "1920.0",
         "160.0",
         "990.0",
         "90.0",
         "1"
        ],
        [
         "('animal_crossing_amiibo_festival', 'wiiu')",
         "190.0",
         "110.0",
         "90.0",
         "30.0",
         "1"
        ],
        [
         "('animal_crossing_city_folk', 'wii')",
         "1820.0",
         "1120.0",
         "1320.0",
         "360.0",
         "1"
        ],
        [
         "('animal_crossing_happy_home_designer', '3ds')",
         "510.0",
         "1020.0",
         "1400.0",
         "120.0",
         "1"
        ],
        [
         "('animal_crossing_new_leaf', '3ds')",
         "2029.9999999999998",
         "2360.0",
         "4390.0",
         "390.0",
         "1"
        ],
        [
         "('animal_crossing_wild_world', 'ds')",
         "2500.0",
         "3450.0",
         "5330.0",
         "860.0",
         "1"
        ],
        [
         "('ape_escape', 'ps')",
         "710.0",
         "480.0",
         "320.0",
         "110.0",
         "1"
        ],
        [
         "('ape_escape_2', 'ps2')",
         "120.0",
         "90.0",
         "380.0",
         "30.0",
         "1"
        ]
       ],
       "shape": {
        "columns": 5,
        "rows": 2287
       }
      },
      "text/html": [
       "<div>\n",
       "<style scoped>\n",
       "    .dataframe tbody tr th:only-of-type {\n",
       "        vertical-align: middle;\n",
       "    }\n",
       "\n",
       "    .dataframe tbody tr th {\n",
       "        vertical-align: top;\n",
       "    }\n",
       "\n",
       "    .dataframe thead th {\n",
       "        text-align: right;\n",
       "    }\n",
       "</style>\n",
       "<table border=\"1\" class=\"dataframe\">\n",
       "  <thead>\n",
       "    <tr style=\"text-align: right;\">\n",
       "      <th></th>\n",
       "      <th></th>\n",
       "      <th>na_sales</th>\n",
       "      <th>eu_sales</th>\n",
       "      <th>jp_sales</th>\n",
       "      <th>other_sales</th>\n",
       "      <th>name_total_count</th>\n",
       "    </tr>\n",
       "    <tr>\n",
       "      <th>name</th>\n",
       "      <th>platform</th>\n",
       "      <th></th>\n",
       "      <th></th>\n",
       "      <th></th>\n",
       "      <th></th>\n",
       "      <th></th>\n",
       "    </tr>\n",
       "  </thead>\n",
       "  <tbody>\n",
       "    <tr>\n",
       "      <th rowspan=\"3\" valign=\"top\">007_quantum_of_solace</th>\n",
       "      <th>ps3</th>\n",
       "      <td>430.0</td>\n",
       "      <td>510.0</td>\n",
       "      <td>20.0</td>\n",
       "      <td>190.0</td>\n",
       "      <td>3</td>\n",
       "    </tr>\n",
       "    <tr>\n",
       "      <th>wii</th>\n",
       "      <td>290.0</td>\n",
       "      <td>280.0</td>\n",
       "      <td>10.0</td>\n",
       "      <td>70.0</td>\n",
       "      <td>3</td>\n",
       "    </tr>\n",
       "    <tr>\n",
       "      <th>x360</th>\n",
       "      <td>820.0</td>\n",
       "      <td>510.0</td>\n",
       "      <td>10.0</td>\n",
       "      <td>140.0</td>\n",
       "      <td>3</td>\n",
       "    </tr>\n",
       "    <tr>\n",
       "      <th>007_the_world_is_not_enough</th>\n",
       "      <th>n64</th>\n",
       "      <td>1130.0</td>\n",
       "      <td>380.0</td>\n",
       "      <td>20.0</td>\n",
       "      <td>30.0</td>\n",
       "      <td>1</td>\n",
       "    </tr>\n",
       "    <tr>\n",
       "      <th>1080_teneighty_snowboarding</th>\n",
       "      <th>n64</th>\n",
       "      <td>1250.0</td>\n",
       "      <td>610.0</td>\n",
       "      <td>130.0</td>\n",
       "      <td>50.0</td>\n",
       "      <td>1</td>\n",
       "    </tr>\n",
       "    <tr>\n",
       "      <th>...</th>\n",
       "      <th>...</th>\n",
       "      <td>...</td>\n",
       "      <td>...</td>\n",
       "      <td>...</td>\n",
       "      <td>...</td>\n",
       "      <td>...</td>\n",
       "    </tr>\n",
       "    <tr>\n",
       "      <th>zone_of_the_enders_hd_collection</th>\n",
       "      <th>x360</th>\n",
       "      <td>140.0</td>\n",
       "      <td>30.0</td>\n",
       "      <td>10.0</td>\n",
       "      <td>20.0</td>\n",
       "      <td>2</td>\n",
       "    </tr>\n",
       "    <tr>\n",
       "      <th>zone_of_the_enders_the_2nd_runner</th>\n",
       "      <th>ps2</th>\n",
       "      <td>150.0</td>\n",
       "      <td>120.0</td>\n",
       "      <td>110.0</td>\n",
       "      <td>40.0</td>\n",
       "      <td>1</td>\n",
       "    </tr>\n",
       "    <tr>\n",
       "      <th>zoo_keeper</th>\n",
       "      <th>ds</th>\n",
       "      <td>100.0</td>\n",
       "      <td>10.0</td>\n",
       "      <td>50.0</td>\n",
       "      <td>10.0</td>\n",
       "      <td>1</td>\n",
       "    </tr>\n",
       "    <tr>\n",
       "      <th>zoo_resort_3d</th>\n",
       "      <th>3ds</th>\n",
       "      <td>110.0</td>\n",
       "      <td>90.0</td>\n",
       "      <td>30.0</td>\n",
       "      <td>20.0</td>\n",
       "      <td>1</td>\n",
       "    </tr>\n",
       "    <tr>\n",
       "      <th>zoo_tycoon_ds</th>\n",
       "      <th>ds</th>\n",
       "      <td>860.0</td>\n",
       "      <td>30.0</td>\n",
       "      <td>10.0</td>\n",
       "      <td>80.0</td>\n",
       "      <td>1</td>\n",
       "    </tr>\n",
       "  </tbody>\n",
       "</table>\n",
       "<p>2287 rows × 5 columns</p>\n",
       "</div>"
      ],
      "text/plain": [
       "                                            na_sales  eu_sales  jp_sales  other_sales  name_total_count\n",
       "name                              platform                                                             \n",
       "007_quantum_of_solace             ps3          430.0     510.0      20.0        190.0                 3\n",
       "                                  wii          290.0     280.0      10.0         70.0                 3\n",
       "                                  x360         820.0     510.0      10.0        140.0                 3\n",
       "007_the_world_is_not_enough       n64         1130.0     380.0      20.0         30.0                 1\n",
       "1080_teneighty_snowboarding       n64         1250.0     610.0     130.0         50.0                 1\n",
       "...                                              ...       ...       ...          ...               ...\n",
       "zone_of_the_enders_hd_collection  x360         140.0      30.0      10.0         20.0                 2\n",
       "zone_of_the_enders_the_2nd_runner ps2          150.0     120.0     110.0         40.0                 1\n",
       "zoo_keeper                        ds           100.0      10.0      50.0         10.0                 1\n",
       "zoo_resort_3d                     3ds          110.0      90.0      30.0         20.0                 1\n",
       "zoo_tycoon_ds                     ds           860.0      30.0      10.0         80.0                 1\n",
       "\n",
       "[2287 rows x 5 columns]"
      ]
     },
     "execution_count": 64,
     "metadata": {},
     "output_type": "execute_result"
    }
   ],
   "source": [
    "# Sales Comparison of the Same Games Across Different Platforms\n",
    "mask = (df_vg['year_of_release'] > 1993) & (df_vg['year_of_release'] < 2018)\n",
    "df_vg_games_platform = df_vg.loc[mask, :]\n",
    "df_vg_games_platform = df_vg_games_platform.groupby(['name', 'platform'], observed=False).agg({'na_sales': 'sum', 'eu_sales': 'sum', \n",
    "                                                                                               'jp_sales': 'sum', 'other_sales': 'sum'})\n",
    "\n",
    "df_vg_games_platform = df_vg_games_platform.loc[~(df_vg_games_platform['na_sales'] == 0.0) & \n",
    "                                                ~(df_vg_games_platform['eu_sales'] == 0.0) &\n",
    "                                                ~(df_vg_games_platform['jp_sales'] == 0.0) &\n",
    "                                                ~(df_vg_games_platform['other_sales'] == 0.0), :]\n",
    "\n",
    "df_name_counts = df_vg_games_platform.groupby(level='name').size().rename('name_total_count')\n",
    "df_vg_games_platform = df_vg_games_platform.join(df_name_counts, on='name')\n",
    "\n",
    "df_vg_games_platform"
   ]
  },
  {
   "cell_type": "code",
   "execution_count": 65,
   "id": "e8191284",
   "metadata": {},
   "outputs": [
    {
     "data": {
      "application/vnd.microsoft.datawrangler.viewer.v0+json": {
       "columns": [
        {
         "name": "index",
         "rawType": "int64",
         "type": "integer"
        },
        {
         "name": "name",
         "rawType": "string",
         "type": "string"
        },
        {
         "name": "platform",
         "rawType": "category",
         "type": "unknown"
        },
        {
         "name": "na_sales",
         "rawType": "float64",
         "type": "float"
        },
        {
         "name": "eu_sales",
         "rawType": "float64",
         "type": "float"
        },
        {
         "name": "jp_sales",
         "rawType": "float64",
         "type": "float"
        },
        {
         "name": "other_sales",
         "rawType": "float64",
         "type": "float"
        },
        {
         "name": "name_total_count",
         "rawType": "int64",
         "type": "integer"
        }
       ],
       "ref": "1279383d-83e2-402f-bfca-5cbcb7d9b7ef",
       "rows": [
        [
         "0",
         "007_quantum_of_solace",
         "ps3",
         "430.0",
         "510.0",
         "20.0",
         "190.0",
         "3"
        ],
        [
         "1",
         "007_quantum_of_solace",
         "wii",
         "290.0",
         "280.0",
         "10.0",
         "70.0",
         "3"
        ],
        [
         "2",
         "007_quantum_of_solace",
         "x360",
         "820.0",
         "510.0",
         "10.0",
         "140.0",
         "3"
        ],
        [
         "3",
         "2010_fifa_world_cup_south_africa",
         "ps3",
         "300.0",
         "640.0",
         "70.0",
         "220.0",
         "4"
        ],
        [
         "4",
         "2010_fifa_world_cup_south_africa",
         "psp",
         "90.0",
         "220.0",
         "30.0",
         "120.0",
         "4"
        ],
        [
         "5",
         "2010_fifa_world_cup_south_africa",
         "wii",
         "230.0",
         "150.0",
         "10.0",
         "40.0",
         "4"
        ],
        [
         "6",
         "2010_fifa_world_cup_south_africa",
         "x360",
         "320.0",
         "420.0",
         "20.0",
         "90.0",
         "4"
        ],
        [
         "7",
         "ace_combat_assault_horizon",
         "ps3",
         "300.0",
         "150.0",
         "220.0",
         "70.0",
         "2"
        ],
        [
         "8",
         "ace_combat_assault_horizon",
         "x360",
         "300.0",
         "120.0",
         "30.0",
         "40.0",
         "2"
        ],
        [
         "9",
         "akiba_s_trip_undead_undressed",
         "ps3",
         "50.0",
         "10.0",
         "40.0",
         "10.0",
         "2"
        ],
        [
         "10",
         "akiba_s_trip_undead_undressed",
         "psv",
         "40.0",
         "20.0",
         "80.0",
         "10.0",
         "2"
        ],
        [
         "11",
         "alice_madness_returns",
         "ps3",
         "220.0",
         "240.0",
         "40.0",
         "80.0",
         "2"
        ],
        [
         "12",
         "alice_madness_returns",
         "x360",
         "270.0",
         "140.0",
         "40.0",
         "40.0",
         "2"
        ],
        [
         "13",
         "anarchy_reigns",
         "ps3",
         "100.0",
         "30.0",
         "60.0",
         "20.0",
         "2"
        ],
        [
         "14",
         "anarchy_reigns",
         "x360",
         "120.0",
         "20.0",
         "20.0",
         "10.0",
         "2"
        ],
        [
         "15",
         "armored_core_for_answer",
         "ps3",
         "60.0",
         "20.0",
         "100.0",
         "10.0",
         "2"
        ],
        [
         "16",
         "armored_core_for_answer",
         "x360",
         "60.0",
         "10.0",
         "70.0",
         "10.0",
         "2"
        ],
        [
         "17",
         "armored_core_v",
         "ps3",
         "90.0",
         "40.0",
         "240.0",
         "20.0",
         "2"
        ],
        [
         "18",
         "armored_core_v",
         "x360",
         "130.0",
         "30.0",
         "40.0",
         "10.0",
         "2"
        ],
        [
         "19",
         "army_of_two",
         "ps3",
         "740.0",
         "260.0",
         "20.0",
         "150.0",
         "2"
        ],
        [
         "20",
         "army_of_two",
         "x360",
         "1090.0",
         "370.0",
         "20.0",
         "160.0",
         "2"
        ],
        [
         "21",
         "assassin_s_creed",
         "ps3",
         "1910.0",
         "2000.0",
         "90.0",
         "820.0",
         "2"
        ],
        [
         "22",
         "assassin_s_creed",
         "x360",
         "3280.0",
         "1640.0",
         "70.0",
         "560.0",
         "2"
        ],
        [
         "23",
         "assassin_s_creed_brotherhood",
         "ps3",
         "1870.0",
         "550.0",
         "110.0",
         "290.0",
         "2"
        ],
        [
         "24",
         "assassin_s_creed_brotherhood",
         "x360",
         "2850.0",
         "380.0",
         "30.0",
         "240.0",
         "2"
        ],
        [
         "25",
         "assassin_s_creed_chronicles",
         "ps4",
         "10.0",
         "50.0",
         "10.0",
         "10.0",
         "2"
        ],
        [
         "26",
         "assassin_s_creed_chronicles",
         "psv",
         "10.0",
         "40.0",
         "10.0",
         "10.0",
         "2"
        ],
        [
         "27",
         "assassin_s_creed_ii",
         "ps3",
         "2540.0",
         "1930.0",
         "210.0",
         "860.0",
         "2"
        ],
        [
         "28",
         "assassin_s_creed_ii",
         "x360",
         "3110.0",
         "1550.0",
         "80.0",
         "510.0",
         "2"
        ],
        [
         "29",
         "assassin_s_creed_iii",
         "ps3",
         "2640.0",
         "2520.0",
         "160.0",
         "1120.0",
         "2"
        ],
        [
         "30",
         "assassin_s_creed_iii",
         "x360",
         "3130.0",
         "1690.0",
         "30.0",
         "440.0",
         "2"
        ],
        [
         "31",
         "assassin_s_creed_iv_black_flag",
         "ps3",
         "1330.0",
         "1680.0",
         "130.0",
         "570.0",
         "3"
        ],
        [
         "32",
         "assassin_s_creed_iv_black_flag",
         "ps4",
         "1070.0",
         "1310.0",
         "60.0",
         "420.0",
         "3"
        ],
        [
         "33",
         "assassin_s_creed_iv_black_flag",
         "x360",
         "1900.0",
         "1110.0",
         "10.0",
         "290.0",
         "3"
        ],
        [
         "34",
         "assassin_s_creed_revelations",
         "ps3",
         "1410.0",
         "2009.9999999999998",
         "100.0",
         "700.0",
         "2"
        ],
        [
         "35",
         "assassin_s_creed_revelations",
         "x360",
         "2250.0",
         "1470.0",
         "40.0",
         "430.0",
         "2"
        ],
        [
         "36",
         "asura_s_wrath",
         "ps3",
         "180.0",
         "120.0",
         "60.0",
         "50.0",
         "2"
        ],
        [
         "37",
         "asura_s_wrath",
         "x360",
         "150.0",
         "60.0",
         "10.0",
         "20.0",
         "2"
        ],
        [
         "38",
         "batman_arkham_asylum",
         "ps3",
         "2240.0",
         "1310.0",
         "70.0",
         "610.0",
         "2"
        ],
        [
         "39",
         "batman_arkham_asylum",
         "x360",
         "2200.0",
         "950.0",
         "20.0",
         "310.0",
         "2"
        ],
        [
         "40",
         "batman_arkham_city",
         "ps3",
         "2710.0",
         "1850.0",
         "110.0",
         "810.0",
         "2"
        ],
        [
         "41",
         "batman_arkham_city",
         "x360",
         "2990.0",
         "1270.0",
         "40.0",
         "420.0",
         "2"
        ],
        [
         "42",
         "battlefield_3",
         "ps3",
         "2850.0",
         "2890.0",
         "350.0",
         "1080.0",
         "2"
        ],
        [
         "43",
         "battlefield_3",
         "x360",
         "4460.0",
         "2110.0",
         "60.0",
         "690.0",
         "2"
        ],
        [
         "44",
         "battlefield_4",
         "ps3",
         "1300.0",
         "1420.0",
         "270.0",
         "500.0",
         "3"
        ],
        [
         "45",
         "battlefield_4",
         "ps4",
         "1350.0",
         "1550.0",
         "170.0",
         "510.0",
         "3"
        ],
        [
         "46",
         "battlefield_4",
         "x360",
         "2150.0",
         "1010.0",
         "20.0",
         "310.0",
         "3"
        ],
        [
         "47",
         "battlefield_bad_company",
         "ps3",
         "760.0",
         "350.0",
         "50.0",
         "180.0",
         "2"
        ],
        [
         "48",
         "battlefield_bad_company",
         "x360",
         "810.0",
         "460.0",
         "40.0",
         "150.0",
         "2"
        ],
        [
         "49",
         "battlefield_bad_company_2",
         "ps3",
         "1330.0",
         "1100.0",
         "80.0",
         "440.0",
         "2"
        ]
       ],
       "shape": {
        "columns": 7,
        "rows": 774
       }
      },
      "text/html": [
       "<div>\n",
       "<style scoped>\n",
       "    .dataframe tbody tr th:only-of-type {\n",
       "        vertical-align: middle;\n",
       "    }\n",
       "\n",
       "    .dataframe tbody tr th {\n",
       "        vertical-align: top;\n",
       "    }\n",
       "\n",
       "    .dataframe thead th {\n",
       "        text-align: right;\n",
       "    }\n",
       "</style>\n",
       "<table border=\"1\" class=\"dataframe\">\n",
       "  <thead>\n",
       "    <tr style=\"text-align: right;\">\n",
       "      <th></th>\n",
       "      <th>name</th>\n",
       "      <th>platform</th>\n",
       "      <th>na_sales</th>\n",
       "      <th>eu_sales</th>\n",
       "      <th>jp_sales</th>\n",
       "      <th>other_sales</th>\n",
       "      <th>name_total_count</th>\n",
       "    </tr>\n",
       "  </thead>\n",
       "  <tbody>\n",
       "    <tr>\n",
       "      <th>0</th>\n",
       "      <td>007_quantum_of_solace</td>\n",
       "      <td>ps3</td>\n",
       "      <td>430.0</td>\n",
       "      <td>510.0</td>\n",
       "      <td>20.0</td>\n",
       "      <td>190.0</td>\n",
       "      <td>3</td>\n",
       "    </tr>\n",
       "    <tr>\n",
       "      <th>1</th>\n",
       "      <td>007_quantum_of_solace</td>\n",
       "      <td>wii</td>\n",
       "      <td>290.0</td>\n",
       "      <td>280.0</td>\n",
       "      <td>10.0</td>\n",
       "      <td>70.0</td>\n",
       "      <td>3</td>\n",
       "    </tr>\n",
       "    <tr>\n",
       "      <th>2</th>\n",
       "      <td>007_quantum_of_solace</td>\n",
       "      <td>x360</td>\n",
       "      <td>820.0</td>\n",
       "      <td>510.0</td>\n",
       "      <td>10.0</td>\n",
       "      <td>140.0</td>\n",
       "      <td>3</td>\n",
       "    </tr>\n",
       "    <tr>\n",
       "      <th>3</th>\n",
       "      <td>2010_fifa_world_cup_south_africa</td>\n",
       "      <td>ps3</td>\n",
       "      <td>300.0</td>\n",
       "      <td>640.0</td>\n",
       "      <td>70.0</td>\n",
       "      <td>220.0</td>\n",
       "      <td>4</td>\n",
       "    </tr>\n",
       "    <tr>\n",
       "      <th>4</th>\n",
       "      <td>2010_fifa_world_cup_south_africa</td>\n",
       "      <td>psp</td>\n",
       "      <td>90.0</td>\n",
       "      <td>220.0</td>\n",
       "      <td>30.0</td>\n",
       "      <td>120.0</td>\n",
       "      <td>4</td>\n",
       "    </tr>\n",
       "    <tr>\n",
       "      <th>...</th>\n",
       "      <td>...</td>\n",
       "      <td>...</td>\n",
       "      <td>...</td>\n",
       "      <td>...</td>\n",
       "      <td>...</td>\n",
       "      <td>...</td>\n",
       "      <td>...</td>\n",
       "    </tr>\n",
       "    <tr>\n",
       "      <th>769</th>\n",
       "      <td>x_blades</td>\n",
       "      <td>x360</td>\n",
       "      <td>100.0</td>\n",
       "      <td>20.0</td>\n",
       "      <td>20.0</td>\n",
       "      <td>10.0</td>\n",
       "      <td>2</td>\n",
       "    </tr>\n",
       "    <tr>\n",
       "      <th>770</th>\n",
       "      <td>xenoblade_chronicles</td>\n",
       "      <td>3ds</td>\n",
       "      <td>270.0</td>\n",
       "      <td>140.0</td>\n",
       "      <td>120.0</td>\n",
       "      <td>40.0</td>\n",
       "      <td>2</td>\n",
       "    </tr>\n",
       "    <tr>\n",
       "      <th>771</th>\n",
       "      <td>xenoblade_chronicles</td>\n",
       "      <td>wii</td>\n",
       "      <td>430.0</td>\n",
       "      <td>250.0</td>\n",
       "      <td>160.0</td>\n",
       "      <td>70.0</td>\n",
       "      <td>2</td>\n",
       "    </tr>\n",
       "    <tr>\n",
       "      <th>772</th>\n",
       "      <td>zone_of_the_enders_hd_collection</td>\n",
       "      <td>ps3</td>\n",
       "      <td>210.0</td>\n",
       "      <td>70.0</td>\n",
       "      <td>90.0</td>\n",
       "      <td>50.0</td>\n",
       "      <td>2</td>\n",
       "    </tr>\n",
       "    <tr>\n",
       "      <th>773</th>\n",
       "      <td>zone_of_the_enders_hd_collection</td>\n",
       "      <td>x360</td>\n",
       "      <td>140.0</td>\n",
       "      <td>30.0</td>\n",
       "      <td>10.0</td>\n",
       "      <td>20.0</td>\n",
       "      <td>2</td>\n",
       "    </tr>\n",
       "  </tbody>\n",
       "</table>\n",
       "<p>774 rows × 7 columns</p>\n",
       "</div>"
      ],
      "text/plain": [
       "                                 name platform  na_sales  eu_sales  jp_sales  other_sales  name_total_count\n",
       "0               007_quantum_of_solace      ps3     430.0     510.0      20.0        190.0                 3\n",
       "1               007_quantum_of_solace      wii     290.0     280.0      10.0         70.0                 3\n",
       "2               007_quantum_of_solace     x360     820.0     510.0      10.0        140.0                 3\n",
       "3    2010_fifa_world_cup_south_africa      ps3     300.0     640.0      70.0        220.0                 4\n",
       "4    2010_fifa_world_cup_south_africa      psp      90.0     220.0      30.0        120.0                 4\n",
       "..                                ...      ...       ...       ...       ...          ...               ...\n",
       "769                          x_blades     x360     100.0      20.0      20.0         10.0                 2\n",
       "770              xenoblade_chronicles      3ds     270.0     140.0     120.0         40.0                 2\n",
       "771              xenoblade_chronicles      wii     430.0     250.0     160.0         70.0                 2\n",
       "772  zone_of_the_enders_hd_collection      ps3     210.0      70.0      90.0         50.0                 2\n",
       "773  zone_of_the_enders_hd_collection     x360     140.0      30.0      10.0         20.0                 2\n",
       "\n",
       "[774 rows x 7 columns]"
      ]
     },
     "execution_count": 65,
     "metadata": {},
     "output_type": "execute_result"
    }
   ],
   "source": [
    "df_vg_games_platform = df_vg_games_platform.loc[(df_vg_games_platform['name_total_count'] > 1), :].reset_index()\n",
    "df_vg_games_platform"
   ]
  },
  {
   "cell_type": "code",
   "execution_count": 66,
   "id": "6a89534c",
   "metadata": {},
   "outputs": [],
   "source": [
    "project_root = Path.cwd().parent\n",
    "processed_path = project_root / \"data\" / \"processed\" / \"feature\" / \"vg_games_platform_feature.csv\"\n",
    "\n",
    "df_vg_games_platform.to_csv(processed_path, index=False)"
   ]
  },
  {
   "cell_type": "code",
   "execution_count": 72,
   "id": "65cede65",
   "metadata": {},
   "outputs": [
    {
     "data": {
      "application/vnd.microsoft.datawrangler.viewer.v0+json": {
       "columns": [
        {
         "name": "index",
         "rawType": "int64",
         "type": "integer"
        },
        {
         "name": "genre",
         "rawType": "category",
         "type": "unknown"
        },
        {
         "name": "na_sales",
         "rawType": "float64",
         "type": "float"
        },
        {
         "name": "eu_sales",
         "rawType": "float64",
         "type": "float"
        },
        {
         "name": "jp_sales",
         "rawType": "float64",
         "type": "float"
        },
        {
         "name": "other_sales",
         "rawType": "float64",
         "type": "float"
        },
        {
         "name": "total_sales",
         "rawType": "float64",
         "type": "float"
        }
       ],
       "ref": "319fa15c-05e5-4ae3-b511-b430f5885371",
       "rows": [
        [
         "0",
         "action",
         "827500.0",
         "511360.0",
         "148450.0",
         "183520.0",
         "1670830.0"
        ],
        [
         "1",
         "adventure",
         "94340.0",
         "59820.0",
         "46610.0",
         "16060.0",
         "216830.0"
        ],
        [
         "2",
         "fighting",
         "210420.0",
         "96700.0",
         "72310.0",
         "35810.0",
         "415240.0"
        ],
        [
         "3",
         "misc",
         "401310.0",
         "211710.0",
         "100810.0",
         "74220.0",
         "788050.0"
        ],
        [
         "4",
         "platform",
         "334770.0",
         "176720.0",
         "84190.0",
         "47130.0",
         "642810.0"
        ],
        [
         "5",
         "puzzle",
         "72050.0",
         "42910.0",
         "35730.0",
         "10870.0",
         "161560.0"
        ],
        [
         "6",
         "racing",
         "344750.0",
         "232310.0",
         "46940.0",
         "75180.0",
         "699180.0"
        ],
        [
         "7",
         "role_playing",
         "329180.0",
         "188550.0",
         "323330.0",
         "57930.0",
         "898990.0"
        ],
        [
         "8",
         "shooter",
         "534920.0",
         "313330.0",
         "31810.0",
         "103120.0",
         "983180.0"
        ],
        [
         "9",
         "simulation",
         "178770.0",
         "112150.0",
         "62220.0",
         "30540.0",
         "383680.0"
        ],
        [
         "10",
         "sports",
         "670170.0",
         "373320.0",
         "110150.0",
         "134020.0",
         "1287660.0"
        ],
        [
         "11",
         "strategy",
         "68230.0",
         "45080.0",
         "47800.0",
         "10840.0",
         "171950.0"
        ]
       ],
       "shape": {
        "columns": 6,
        "rows": 12
       }
      },
      "text/html": [
       "<div>\n",
       "<style scoped>\n",
       "    .dataframe tbody tr th:only-of-type {\n",
       "        vertical-align: middle;\n",
       "    }\n",
       "\n",
       "    .dataframe tbody tr th {\n",
       "        vertical-align: top;\n",
       "    }\n",
       "\n",
       "    .dataframe thead th {\n",
       "        text-align: right;\n",
       "    }\n",
       "</style>\n",
       "<table border=\"1\" class=\"dataframe\">\n",
       "  <thead>\n",
       "    <tr style=\"text-align: right;\">\n",
       "      <th></th>\n",
       "      <th>genre</th>\n",
       "      <th>na_sales</th>\n",
       "      <th>eu_sales</th>\n",
       "      <th>jp_sales</th>\n",
       "      <th>other_sales</th>\n",
       "      <th>total_sales</th>\n",
       "    </tr>\n",
       "  </thead>\n",
       "  <tbody>\n",
       "    <tr>\n",
       "      <th>0</th>\n",
       "      <td>action</td>\n",
       "      <td>827500.0</td>\n",
       "      <td>511360.0</td>\n",
       "      <td>148450.0</td>\n",
       "      <td>183520.0</td>\n",
       "      <td>1670830.0</td>\n",
       "    </tr>\n",
       "    <tr>\n",
       "      <th>1</th>\n",
       "      <td>adventure</td>\n",
       "      <td>94340.0</td>\n",
       "      <td>59820.0</td>\n",
       "      <td>46610.0</td>\n",
       "      <td>16060.0</td>\n",
       "      <td>216830.0</td>\n",
       "    </tr>\n",
       "    <tr>\n",
       "      <th>2</th>\n",
       "      <td>fighting</td>\n",
       "      <td>210420.0</td>\n",
       "      <td>96700.0</td>\n",
       "      <td>72310.0</td>\n",
       "      <td>35810.0</td>\n",
       "      <td>415240.0</td>\n",
       "    </tr>\n",
       "    <tr>\n",
       "      <th>3</th>\n",
       "      <td>misc</td>\n",
       "      <td>401310.0</td>\n",
       "      <td>211710.0</td>\n",
       "      <td>100810.0</td>\n",
       "      <td>74220.0</td>\n",
       "      <td>788050.0</td>\n",
       "    </tr>\n",
       "    <tr>\n",
       "      <th>4</th>\n",
       "      <td>platform</td>\n",
       "      <td>334770.0</td>\n",
       "      <td>176720.0</td>\n",
       "      <td>84190.0</td>\n",
       "      <td>47130.0</td>\n",
       "      <td>642810.0</td>\n",
       "    </tr>\n",
       "    <tr>\n",
       "      <th>5</th>\n",
       "      <td>puzzle</td>\n",
       "      <td>72050.0</td>\n",
       "      <td>42910.0</td>\n",
       "      <td>35730.0</td>\n",
       "      <td>10870.0</td>\n",
       "      <td>161560.0</td>\n",
       "    </tr>\n",
       "    <tr>\n",
       "      <th>6</th>\n",
       "      <td>racing</td>\n",
       "      <td>344750.0</td>\n",
       "      <td>232310.0</td>\n",
       "      <td>46940.0</td>\n",
       "      <td>75180.0</td>\n",
       "      <td>699180.0</td>\n",
       "    </tr>\n",
       "    <tr>\n",
       "      <th>7</th>\n",
       "      <td>role_playing</td>\n",
       "      <td>329180.0</td>\n",
       "      <td>188550.0</td>\n",
       "      <td>323330.0</td>\n",
       "      <td>57930.0</td>\n",
       "      <td>898990.0</td>\n",
       "    </tr>\n",
       "    <tr>\n",
       "      <th>8</th>\n",
       "      <td>shooter</td>\n",
       "      <td>534920.0</td>\n",
       "      <td>313330.0</td>\n",
       "      <td>31810.0</td>\n",
       "      <td>103120.0</td>\n",
       "      <td>983180.0</td>\n",
       "    </tr>\n",
       "    <tr>\n",
       "      <th>9</th>\n",
       "      <td>simulation</td>\n",
       "      <td>178770.0</td>\n",
       "      <td>112150.0</td>\n",
       "      <td>62220.0</td>\n",
       "      <td>30540.0</td>\n",
       "      <td>383680.0</td>\n",
       "    </tr>\n",
       "    <tr>\n",
       "      <th>10</th>\n",
       "      <td>sports</td>\n",
       "      <td>670170.0</td>\n",
       "      <td>373320.0</td>\n",
       "      <td>110150.0</td>\n",
       "      <td>134020.0</td>\n",
       "      <td>1287660.0</td>\n",
       "    </tr>\n",
       "    <tr>\n",
       "      <th>11</th>\n",
       "      <td>strategy</td>\n",
       "      <td>68230.0</td>\n",
       "      <td>45080.0</td>\n",
       "      <td>47800.0</td>\n",
       "      <td>10840.0</td>\n",
       "      <td>171950.0</td>\n",
       "    </tr>\n",
       "  </tbody>\n",
       "</table>\n",
       "</div>"
      ],
      "text/plain": [
       "           genre  na_sales  eu_sales  jp_sales  other_sales  total_sales\n",
       "0         action  827500.0  511360.0  148450.0     183520.0    1670830.0\n",
       "1      adventure   94340.0   59820.0   46610.0      16060.0     216830.0\n",
       "2       fighting  210420.0   96700.0   72310.0      35810.0     415240.0\n",
       "3           misc  401310.0  211710.0  100810.0      74220.0     788050.0\n",
       "4       platform  334770.0  176720.0   84190.0      47130.0     642810.0\n",
       "5         puzzle   72050.0   42910.0   35730.0      10870.0     161560.0\n",
       "6         racing  344750.0  232310.0   46940.0      75180.0     699180.0\n",
       "7   role_playing  329180.0  188550.0  323330.0      57930.0     898990.0\n",
       "8        shooter  534920.0  313330.0   31810.0     103120.0     983180.0\n",
       "9     simulation  178770.0  112150.0   62220.0      30540.0     383680.0\n",
       "10        sports  670170.0  373320.0  110150.0     134020.0    1287660.0\n",
       "11      strategy   68230.0   45080.0   47800.0      10840.0     171950.0"
      ]
     },
     "execution_count": 72,
     "metadata": {},
     "output_type": "execute_result"
    }
   ],
   "source": [
    "# Genre Distribution Across the Video Game Market.\n",
    "mask = (df_vg['year_of_release'] > 1993) & (df_vg['year_of_release'] < 2018)\n",
    "df_vg_games_genre = df_vg.loc[mask, :]\n",
    "df_vg_games_genre = df_vg_games_genre.groupby(['genre'], observed=False).agg({'na_sales': 'sum', 'eu_sales': 'sum', \n",
    "                                                                              'jp_sales': 'sum', 'other_sales': 'sum'})\n",
    "df_vg_games_genre = df_vg_games_genre.loc[~(df_vg_games_genre['na_sales'] == 0.0) & \n",
    "                                          ~(df_vg_games_genre['eu_sales'] == 0.0) &\n",
    "                                          ~(df_vg_games_genre['jp_sales'] == 0.0) &\n",
    "                                          ~(df_vg_games_genre['other_sales'] == 0.0), :]\n",
    "df_vg_games_genre['total_sales'] = df_vg_games_genre[['na_sales', 'eu_sales', 'jp_sales', 'other_sales']].sum(axis=1)\n",
    "df_vg_games_genre = df_vg_games_genre.reset_index()\n",
    "df_vg_games_genre"
   ]
  },
  {
   "cell_type": "code",
   "execution_count": 73,
   "id": "c2815d5a",
   "metadata": {},
   "outputs": [],
   "source": [
    "project_root = Path.cwd().parent\n",
    "processed_path = project_root / \"data\" / \"processed\" / \"feature\" / \"vg_games_genre_feature.csv\"\n",
    "\n",
    "df_vg_games_genre.to_csv(processed_path, index=False)"
   ]
  }
 ],
 "metadata": {
  "kernelspec": {
   "display_name": "base",
   "language": "python",
   "name": "python3"
  },
  "language_info": {
   "codemirror_mode": {
    "name": "ipython",
    "version": 3
   },
   "file_extension": ".py",
   "mimetype": "text/x-python",
   "name": "python",
   "nbconvert_exporter": "python",
   "pygments_lexer": "ipython3",
   "version": "3.12.7"
  }
 },
 "nbformat": 4,
 "nbformat_minor": 5
}
