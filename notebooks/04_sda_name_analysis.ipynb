{
 "cells": [
  {
   "cell_type": "markdown",
   "id": "911331c4",
   "metadata": {},
   "source": [
    "#### Statistical Data Analysis\n",
    "Dataset: \n",
    "\n",
    "- _videogames_clean.csv_\n",
    "\n",
    "Author: Luis Sergio Pastrana Lemus  \n",
    "Date: 2025-05-29"
   ]
  },
  {
   "cell_type": "markdown",
   "id": "70ebb733",
   "metadata": {},
   "source": [
    "# Statistical Data Analysis – Purchasing Activity Dataset"
   ]
  },
  {
   "cell_type": "markdown",
   "id": "8aa46ca9",
   "metadata": {},
   "source": [
    "## __1. Libraries__"
   ]
  },
  {
   "cell_type": "code",
   "execution_count": 1,
   "id": "9a1c1750",
   "metadata": {},
   "outputs": [],
   "source": [
    "from pathlib import Path\n",
    "import sys\n",
    "\n",
    "# Define project root dynamically, gets the current directory from which the notebook belongs and moves one level upper\n",
    "project_root = Path.cwd().parent\n",
    "\n",
    "# Add src to sys.path if it is not already\n",
    "if str(project_root) not in sys.path:\n",
    "\n",
    "    sys.path.append(str(project_root))\n",
    "\n",
    "# Import function directly (more controlled than import *)\n",
    "from src import *\n",
    "\n",
    "\n",
    "from IPython.display import display, HTML\n",
    "import numpy as np\n",
    "import os\n",
    "import pandas as pd\n",
    "import scipy.stats as st\n",
    "from scipy.stats import ttest_ind"
   ]
  },
  {
   "cell_type": "markdown",
   "id": "b2219c83",
   "metadata": {},
   "source": [
    "## __2. Path to Data file__"
   ]
  },
  {
   "cell_type": "code",
   "execution_count": 2,
   "id": "d7fa5a07",
   "metadata": {},
   "outputs": [],
   "source": [
    "# Build route to data file and upload\n",
    "data_file_path = project_root / \"data\" / \"processed\" / \"clean\"\n",
    "df_vg = load_dataset_from_csv(data_file_path, \"videogames_clean.csv\", sep=',', header='infer')"
   ]
  },
  {
   "cell_type": "code",
   "execution_count": 3,
   "id": "5a40e9b5",
   "metadata": {},
   "outputs": [],
   "source": [
    "df_vg = cast_datatypes(df_vg)"
   ]
  },
  {
   "cell_type": "markdown",
   "id": "39cb9aa4",
   "metadata": {},
   "source": [
    "## __3. Statistical Data Analysis__"
   ]
  },
  {
   "cell_type": "markdown",
   "id": "d1f217d4",
   "metadata": {},
   "source": [
    "### 3.1  Inferential Tests\n",
    "\n",
    "Hypotheses: \n",
    "\n",
    "- The average user ratings for the Xbox One and PC platforms are the same\n",
    "- The average user ratings for the Action and Sports genres are different"
   ]
  },
  {
   "cell_type": "markdown",
   "id": "267aa045",
   "metadata": {},
   "source": [
    "#### 3.1.1  Hypotheses testing: _\"The average user ratings for the Xbox One and PC platforms are the same\"_"
   ]
  },
  {
   "cell_type": "code",
   "execution_count": 4,
   "id": "cc8b456c",
   "metadata": {},
   "outputs": [
    {
     "data": {
      "application/vnd.microsoft.datawrangler.viewer.v0+json": {
       "columns": [
        {
         "name": "index",
         "rawType": "int64",
         "type": "integer"
        },
        {
         "name": "name",
         "rawType": "string",
         "type": "string"
        },
        {
         "name": "platform",
         "rawType": "category",
         "type": "unknown"
        },
        {
         "name": "year_of_release",
         "rawType": "float64",
         "type": "float"
        },
        {
         "name": "genre",
         "rawType": "category",
         "type": "unknown"
        },
        {
         "name": "na_sales",
         "rawType": "float64",
         "type": "float"
        },
        {
         "name": "eu_sales",
         "rawType": "float64",
         "type": "float"
        },
        {
         "name": "jp_sales",
         "rawType": "float64",
         "type": "float"
        },
        {
         "name": "other_sales",
         "rawType": "float64",
         "type": "float"
        },
        {
         "name": "critic_score",
         "rawType": "float32",
         "type": "float"
        },
        {
         "name": "user_score",
         "rawType": "float32",
         "type": "float"
        },
        {
         "name": "rating",
         "rawType": "object",
         "type": "unknown"
        }
       ],
       "ref": "5c71cbfa-cf4c-451e-a90d-4182b101fd3b",
       "rows": [
        [
         "0",
         "wii_sports",
         "wii",
         "2006.0",
         "sports",
         "41.36",
         "28.96",
         "3.77",
         "8.45",
         "76.0",
         "8.0",
         "E"
        ],
        [
         "1",
         "super_mario_bros",
         "nes",
         "1985.0",
         "platform",
         "29.08",
         "3.58",
         "6.81",
         "0.77",
         null,
         null,
         null
        ],
        [
         "2",
         "mario_kart_wii",
         "wii",
         "2008.0",
         "racing",
         "15.68",
         "12.76",
         "3.79",
         "3.29",
         "82.0",
         "8.3",
         "E"
        ],
        [
         "3",
         "wii_sports_resort",
         "wii",
         "2009.0",
         "sports",
         "15.61",
         "10.93",
         "3.28",
         "2.95",
         "80.0",
         "8.0",
         "E"
        ],
        [
         "4",
         "pokemon_red_pokemon_blue",
         "gb",
         "1996.0",
         "role_playing",
         "11.27",
         "8.89",
         "10.22",
         "1.0",
         null,
         null,
         null
        ],
        [
         "5",
         "tetris",
         "gb",
         "1989.0",
         "puzzle",
         "23.2",
         "2.26",
         "4.22",
         "0.58",
         null,
         null,
         null
        ],
        [
         "6",
         "new_super_mario_bros",
         "ds",
         "2006.0",
         "platform",
         "11.28",
         "9.14",
         "6.5",
         "2.88",
         "89.0",
         "8.5",
         "E"
        ],
        [
         "7",
         "wii_play",
         "wii",
         "2006.0",
         "misc",
         "13.96",
         "9.18",
         "2.93",
         "2.84",
         "58.0",
         "6.6",
         "E"
        ],
        [
         "8",
         "new_super_mario_bros_wii",
         "wii",
         "2009.0",
         "platform",
         "14.44",
         "6.94",
         "4.7",
         "2.24",
         "87.0",
         "8.4",
         "E"
        ],
        [
         "9",
         "duck_hunt",
         "nes",
         "1984.0",
         "shooter",
         "26.93",
         "0.63",
         "0.28",
         "0.47",
         null,
         null,
         null
        ],
        [
         "10",
         "nintendogs",
         "ds",
         "2005.0",
         "simulation",
         "9.05",
         "10.95",
         "1.93",
         "2.74",
         "75.0",
         "7.85",
         "T"
        ],
        [
         "11",
         "mario_kart_ds",
         "ds",
         "2005.0",
         "racing",
         "9.71",
         "7.47",
         "4.13",
         "1.9",
         "91.0",
         "8.6",
         "E"
        ],
        [
         "12",
         "pokemon_gold_pokemon_silver",
         "gb",
         "1999.0",
         "role_playing",
         "9.0",
         "6.18",
         "7.2",
         "0.71",
         "81.0",
         "8.4",
         "T"
        ],
        [
         "13",
         "wii_fit",
         "wii",
         "2007.0",
         "sports",
         "8.92",
         "8.03",
         "3.6",
         "2.15",
         "80.0",
         "7.7",
         "E"
        ],
        [
         "14",
         "kinect_adventures",
         "x360",
         "2010.0",
         "misc",
         "15.0",
         "4.89",
         "0.24",
         "1.69",
         "61.0",
         "6.3",
         "E"
        ],
        [
         "15",
         "wii_fit_plus",
         "wii",
         "2009.0",
         "sports",
         "9.01",
         "8.49",
         "2.53",
         "1.77",
         "80.0",
         "7.4",
         "E"
        ],
        [
         "16",
         "grand_theft_auto_v",
         "ps3",
         "2013.0",
         "action",
         "7.02",
         "9.09",
         "0.98",
         "3.96",
         "97.0",
         "8.2",
         "M"
        ],
        [
         "17",
         "grand_theft_auto_san_andreas",
         "ps2",
         "2004.0",
         "action",
         "9.43",
         "0.4",
         "0.41",
         "10.57",
         "95.0",
         "9.0",
         "M"
        ],
        [
         "18",
         "super_mario_world",
         "snes",
         "1990.0",
         "platform",
         "12.78",
         "3.75",
         "3.54",
         "0.55",
         null,
         null,
         null
        ],
        [
         "19",
         "brain_age_train_your_brain_in_minutes_a_day",
         "ds",
         "2005.0",
         "misc",
         "4.74",
         "9.2",
         "4.16",
         "2.04",
         "77.0",
         "7.9",
         "E"
        ],
        [
         "20",
         "pokemon_diamond_pokemon_pearl",
         "ds",
         "2006.0",
         "role_playing",
         "6.38",
         "4.46",
         "6.04",
         "1.36",
         "73.0",
         "7.6",
         "T"
        ],
        [
         "21",
         "super_mario_land",
         "gb",
         "1989.0",
         "platform",
         "10.83",
         "2.71",
         "4.18",
         "0.42",
         null,
         null,
         null
        ],
        [
         "22",
         "super_mario_bros_3",
         "nes",
         "1988.0",
         "platform",
         "9.54",
         "3.44",
         "3.84",
         "0.46",
         null,
         null,
         null
        ],
        [
         "23",
         "grand_theft_auto_v",
         "x360",
         "2013.0",
         "action",
         "9.66",
         "5.14",
         "0.06",
         "1.41",
         "97.0",
         "8.1",
         "M"
        ],
        [
         "24",
         "grand_theft_auto_vice_city",
         "ps2",
         "2002.0",
         "action",
         "8.41",
         "5.49",
         "0.47",
         "1.78",
         "95.0",
         "8.7",
         "M"
        ],
        [
         "25",
         "pokemon_ruby_pokemon_sapphire",
         "gba",
         "2002.0",
         "role_playing",
         "6.06",
         "3.9",
         "5.38",
         "0.5",
         "76.0",
         "8.3",
         "T"
        ],
        [
         "26",
         "brain_age_2_more_training_in_minutes_a_day",
         "ds",
         "2005.0",
         "puzzle",
         "3.43",
         "5.35",
         "5.32",
         "1.18",
         "77.0",
         "7.1",
         "E"
        ],
        [
         "27",
         "pokemon_black_pokemon_white",
         "ds",
         "2010.0",
         "role_playing",
         "5.51",
         "3.17",
         "5.65",
         "0.8",
         "72.0",
         "7.4",
         "T"
        ],
        [
         "28",
         "gran_turismo_3_a_spec",
         "ps2",
         "2001.0",
         "racing",
         "6.85",
         "5.09",
         "1.87",
         "1.16",
         "95.0",
         "8.4",
         "E"
        ],
        [
         "29",
         "call_of_duty_modern_warfare_3",
         "x360",
         "2011.0",
         "shooter",
         "9.04",
         "4.24",
         "0.13",
         "1.32",
         "88.0",
         "3.4",
         "M"
        ],
        [
         "30",
         "pokémon_yellow_special_pikachu_edition",
         "gb",
         "1998.0",
         "role_playing",
         "5.89",
         "5.04",
         "3.12",
         "0.59",
         "81.0",
         "8.5",
         "T"
        ],
        [
         "31",
         "call_of_duty_black_ops_3",
         "ps4",
         "2015.0",
         "shooter",
         "6.03",
         "5.86",
         "0.36",
         "2.38",
         "76.0",
         "5.75",
         "M"
        ],
        [
         "32",
         "call_of_duty_black_ops",
         "x360",
         "2010.0",
         "shooter",
         "9.7",
         "3.68",
         "0.11",
         "1.13",
         "87.0",
         "6.3",
         "M"
        ],
        [
         "33",
         "pokemon_x_pokemon_y",
         "3ds",
         "2013.0",
         "role_playing",
         "5.28",
         "4.19",
         "4.35",
         "0.78",
         "72.0",
         "7.65",
         "T"
        ],
        [
         "34",
         "call_of_duty_black_ops_ii",
         "ps3",
         "2012.0",
         "shooter",
         "4.99",
         "5.73",
         "0.65",
         "2.42",
         "83.0",
         "5.3",
         "M"
        ],
        [
         "35",
         "call_of_duty_black_ops_ii",
         "x360",
         "2012.0",
         "shooter",
         "8.25",
         "4.24",
         "0.07",
         "1.12",
         "83.0",
         "4.8",
         "M"
        ],
        [
         "36",
         "call_of_duty_modern_warfare_2",
         "x360",
         "2009.0",
         "shooter",
         "8.52",
         "3.59",
         "0.08",
         "1.28",
         "94.0",
         "6.3",
         "M"
        ],
        [
         "37",
         "call_of_duty_modern_warfare_3",
         "ps3",
         "2011.0",
         "shooter",
         "5.54",
         "5.73",
         "0.49",
         "1.57",
         "88.0",
         "3.2",
         "M"
        ],
        [
         "38",
         "grand_theft_auto_iii",
         "ps2",
         "2001.0",
         "action",
         "6.99",
         "4.51",
         "0.3",
         "1.3",
         "97.0",
         "8.5",
         "M"
        ],
        [
         "39",
         "super_smash_bros_brawl",
         "wii",
         "2008.0",
         "fighting",
         "6.62",
         "2.55",
         "2.66",
         "1.01",
         "93.0",
         "8.9",
         "T"
        ],
        [
         "40",
         "mario_kart_7",
         "3ds",
         "2011.0",
         "racing",
         "5.03",
         "4.02",
         "2.69",
         "0.91",
         "85.0",
         "8.2",
         "E"
        ],
        [
         "41",
         "call_of_duty_black_ops",
         "ps3",
         "2010.0",
         "shooter",
         "5.99",
         "4.37",
         "0.48",
         "1.79",
         "88.0",
         "6.4",
         "M"
        ],
        [
         "42",
         "grand_theft_auto_v",
         "ps4",
         "2014.0",
         "action",
         "3.96",
         "6.31",
         "0.38",
         "1.97",
         "97.0",
         "8.3",
         "M"
        ],
        [
         "43",
         "animal_crossing_wild_world",
         "ds",
         "2005.0",
         "simulation",
         "2.5",
         "3.45",
         "5.33",
         "0.86",
         "86.0",
         "8.7",
         "E"
        ],
        [
         "44",
         "halo_3",
         "x360",
         "2007.0",
         "shooter",
         "7.97",
         "2.81",
         "0.13",
         "1.21",
         "94.0",
         "7.8",
         "M"
        ],
        [
         "45",
         "super_mario_64",
         "n64",
         "1996.0",
         "platform",
         "6.91",
         "2.85",
         "1.91",
         "0.23",
         null,
         null,
         null
        ],
        [
         "46",
         "pokemon_heartgold_pokemon_soulsilver",
         "ds",
         "2009.0",
         "action",
         "4.34",
         "2.71",
         "3.96",
         "0.76",
         "63.0",
         "7.1",
         "E10+"
        ],
        [
         "47",
         "pokemon_omega_ruby_pokemon_alpha_sapphire",
         "3ds",
         "2014.0",
         "role_playing",
         "4.35",
         "3.49",
         "3.1",
         "0.74",
         "72.5",
         "7.35",
         "M"
        ],
        [
         "48",
         "gran_turismo_4",
         "ps2",
         "2004.0",
         "racing",
         "3.01",
         "0.01",
         "1.1",
         "7.53",
         "89.0",
         "8.5",
         "E"
        ],
        [
         "49",
         "super_mario_galaxy",
         "wii",
         "2007.0",
         "platform",
         "6.06",
         "3.35",
         "1.2",
         "0.74",
         "97.0",
         "8.9",
         "E"
        ]
       ],
       "shape": {
        "columns": 11,
        "rows": 16715
       }
      },
      "text/html": [
       "<div>\n",
       "<style scoped>\n",
       "    .dataframe tbody tr th:only-of-type {\n",
       "        vertical-align: middle;\n",
       "    }\n",
       "\n",
       "    .dataframe tbody tr th {\n",
       "        vertical-align: top;\n",
       "    }\n",
       "\n",
       "    .dataframe thead th {\n",
       "        text-align: right;\n",
       "    }\n",
       "</style>\n",
       "<table border=\"1\" class=\"dataframe\">\n",
       "  <thead>\n",
       "    <tr style=\"text-align: right;\">\n",
       "      <th></th>\n",
       "      <th>name</th>\n",
       "      <th>platform</th>\n",
       "      <th>year_of_release</th>\n",
       "      <th>genre</th>\n",
       "      <th>na_sales</th>\n",
       "      <th>eu_sales</th>\n",
       "      <th>jp_sales</th>\n",
       "      <th>other_sales</th>\n",
       "      <th>critic_score</th>\n",
       "      <th>user_score</th>\n",
       "      <th>rating</th>\n",
       "    </tr>\n",
       "  </thead>\n",
       "  <tbody>\n",
       "    <tr>\n",
       "      <th>0</th>\n",
       "      <td>wii_sports</td>\n",
       "      <td>wii</td>\n",
       "      <td>2006.0</td>\n",
       "      <td>sports</td>\n",
       "      <td>41.36</td>\n",
       "      <td>28.96</td>\n",
       "      <td>3.77</td>\n",
       "      <td>8.45</td>\n",
       "      <td>76.0</td>\n",
       "      <td>8.00</td>\n",
       "      <td>E</td>\n",
       "    </tr>\n",
       "    <tr>\n",
       "      <th>1</th>\n",
       "      <td>super_mario...</td>\n",
       "      <td>nes</td>\n",
       "      <td>1985.0</td>\n",
       "      <td>platform</td>\n",
       "      <td>29.08</td>\n",
       "      <td>3.58</td>\n",
       "      <td>6.81</td>\n",
       "      <td>0.77</td>\n",
       "      <td>NaN</td>\n",
       "      <td>NaN</td>\n",
       "      <td>NaN</td>\n",
       "    </tr>\n",
       "    <tr>\n",
       "      <th>2</th>\n",
       "      <td>mario_kart_wii</td>\n",
       "      <td>wii</td>\n",
       "      <td>2008.0</td>\n",
       "      <td>racing</td>\n",
       "      <td>15.68</td>\n",
       "      <td>12.76</td>\n",
       "      <td>3.79</td>\n",
       "      <td>3.29</td>\n",
       "      <td>82.0</td>\n",
       "      <td>8.30</td>\n",
       "      <td>E</td>\n",
       "    </tr>\n",
       "    <tr>\n",
       "      <th>3</th>\n",
       "      <td>wii_sports_...</td>\n",
       "      <td>wii</td>\n",
       "      <td>2009.0</td>\n",
       "      <td>sports</td>\n",
       "      <td>15.61</td>\n",
       "      <td>10.93</td>\n",
       "      <td>3.28</td>\n",
       "      <td>2.95</td>\n",
       "      <td>80.0</td>\n",
       "      <td>8.00</td>\n",
       "      <td>E</td>\n",
       "    </tr>\n",
       "    <tr>\n",
       "      <th>4</th>\n",
       "      <td>pokemon_red...</td>\n",
       "      <td>gb</td>\n",
       "      <td>1996.0</td>\n",
       "      <td>role_playing</td>\n",
       "      <td>11.27</td>\n",
       "      <td>8.89</td>\n",
       "      <td>10.22</td>\n",
       "      <td>1.00</td>\n",
       "      <td>NaN</td>\n",
       "      <td>NaN</td>\n",
       "      <td>NaN</td>\n",
       "    </tr>\n",
       "    <tr>\n",
       "      <th>...</th>\n",
       "      <td>...</td>\n",
       "      <td>...</td>\n",
       "      <td>...</td>\n",
       "      <td>...</td>\n",
       "      <td>...</td>\n",
       "      <td>...</td>\n",
       "      <td>...</td>\n",
       "      <td>...</td>\n",
       "      <td>...</td>\n",
       "      <td>...</td>\n",
       "      <td>...</td>\n",
       "    </tr>\n",
       "    <tr>\n",
       "      <th>16710</th>\n",
       "      <td>samurai_war...</td>\n",
       "      <td>ps3</td>\n",
       "      <td>2016.0</td>\n",
       "      <td>action</td>\n",
       "      <td>0.00</td>\n",
       "      <td>0.00</td>\n",
       "      <td>0.01</td>\n",
       "      <td>0.00</td>\n",
       "      <td>73.0</td>\n",
       "      <td>6.95</td>\n",
       "      <td>M</td>\n",
       "    </tr>\n",
       "    <tr>\n",
       "      <th>16711</th>\n",
       "      <td>lma_manager...</td>\n",
       "      <td>x360</td>\n",
       "      <td>2006.0</td>\n",
       "      <td>sports</td>\n",
       "      <td>0.00</td>\n",
       "      <td>0.01</td>\n",
       "      <td>0.00</td>\n",
       "      <td>0.00</td>\n",
       "      <td>72.0</td>\n",
       "      <td>7.30</td>\n",
       "      <td>E</td>\n",
       "    </tr>\n",
       "    <tr>\n",
       "      <th>16712</th>\n",
       "      <td>haitaka_no_...</td>\n",
       "      <td>psv</td>\n",
       "      <td>2016.0</td>\n",
       "      <td>adventure</td>\n",
       "      <td>0.00</td>\n",
       "      <td>0.00</td>\n",
       "      <td>0.01</td>\n",
       "      <td>0.00</td>\n",
       "      <td>72.0</td>\n",
       "      <td>7.80</td>\n",
       "      <td>M</td>\n",
       "    </tr>\n",
       "    <tr>\n",
       "      <th>16713</th>\n",
       "      <td>spirits_spells</td>\n",
       "      <td>gba</td>\n",
       "      <td>2003.0</td>\n",
       "      <td>platform</td>\n",
       "      <td>0.01</td>\n",
       "      <td>0.00</td>\n",
       "      <td>0.00</td>\n",
       "      <td>0.00</td>\n",
       "      <td>69.0</td>\n",
       "      <td>7.85</td>\n",
       "      <td>E</td>\n",
       "    </tr>\n",
       "    <tr>\n",
       "      <th>16714</th>\n",
       "      <td>winning_pos...</td>\n",
       "      <td>psv</td>\n",
       "      <td>2016.0</td>\n",
       "      <td>simulation</td>\n",
       "      <td>0.00</td>\n",
       "      <td>0.00</td>\n",
       "      <td>0.01</td>\n",
       "      <td>0.00</td>\n",
       "      <td>67.0</td>\n",
       "      <td>7.00</td>\n",
       "      <td>E</td>\n",
       "    </tr>\n",
       "  </tbody>\n",
       "</table>\n",
       "<p>16715 rows × 11 columns</p>\n",
       "</div>"
      ],
      "text/plain": [
       "                 name platform  year_of_release         genre  na_sales  eu_sales  jp_sales  other_sales  critic_score  user_score rating\n",
       "0          wii_sports      wii          2006.0         sports     41.36     28.96      3.77         8.45          76.0        8.00      E\n",
       "1      super_mario...      nes          1985.0       platform     29.08      3.58      6.81         0.77           NaN         NaN    NaN\n",
       "2      mario_kart_wii      wii          2008.0         racing     15.68     12.76      3.79         3.29          82.0        8.30      E\n",
       "3      wii_sports_...      wii          2009.0         sports     15.61     10.93      3.28         2.95          80.0        8.00      E\n",
       "4      pokemon_red...       gb          1996.0   role_playing     11.27      8.89     10.22         1.00           NaN         NaN    NaN\n",
       "...               ...      ...             ...            ...       ...       ...       ...          ...           ...         ...    ...\n",
       "16710  samurai_war...      ps3          2016.0         action      0.00      0.00      0.01         0.00          73.0        6.95      M\n",
       "16711  lma_manager...     x360          2006.0         sports      0.00      0.01      0.00         0.00          72.0        7.30      E\n",
       "16712  haitaka_no_...      psv          2016.0      adventure      0.00      0.00      0.01         0.00          72.0        7.80      M\n",
       "16713  spirits_spells      gba          2003.0       platform      0.01      0.00      0.00         0.00          69.0        7.85      E\n",
       "16714  winning_pos...      psv          2016.0     simulation      0.00      0.00      0.01         0.00          67.0        7.00      E\n",
       "\n",
       "[16715 rows x 11 columns]"
      ]
     },
     "execution_count": 4,
     "metadata": {},
     "output_type": "execute_result"
    }
   ],
   "source": [
    "df_vg"
   ]
  },
  {
   "cell_type": "code",
   "execution_count": 13,
   "id": "3efc4747",
   "metadata": {},
   "outputs": [],
   "source": [
    "# Hypothesis: ...\n",
    "\n",
    "# 1. Hypotheses H0, H1\n",
    "# H0: The average user ratings for the Xbox One and PC platforms are the same (==)\n",
    "# H1: The average user ratings for the Xbox One and PC platforms are different (!=)\n",
    "\n",
    "# Prepare data by plans\n",
    "df_vg_xone_platform = df_vg.loc[(df_vg['platform'] == 'xone') & (df_vg['user_score'].notna()), 'user_score']\n",
    "df_vg_pc_platform = df_vg.loc[(df_vg['platform'] == 'pc') & (df_vg['user_score'].notna()), 'user_score']\n",
    "\n",
    "# 2. Specify Significance or Confidence\n",
    "# alpha = 5%\n",
    "# confidence = 95%\n",
    "\n",
    "alpha = 0.05"
   ]
  },
  {
   "cell_type": "code",
   "execution_count": 14,
   "id": "519cb8b0",
   "metadata": {},
   "outputs": [
    {
     "data": {
      "text/html": [
       "<b>Levene's Test</b> – Statistic: 0.5225, P-value: 0.4699"
      ],
      "text/plain": [
       "<IPython.core.display.HTML object>"
      ]
     },
     "metadata": {},
     "output_type": "display_data"
    },
    {
     "data": {
      "text/html": [
       "<i>Null Hypothesis H₀ is not rejected: the variances are equal → use equal_var=True</i>"
      ],
      "text/plain": [
       "<IPython.core.display.HTML object>"
      ]
     },
     "metadata": {},
     "output_type": "display_data"
    }
   ],
   "source": [
    "# Levene's test, to ensure that the variances of different samples are equal.\n",
    "# Preventing Tests Like ANOVA and t-Tests from Being Incorrect\n",
    "\n",
    "levene_stat, levene_p = st.levene(df_vg_xone_platform, df_vg_pc_platform)\n",
    "display(HTML(\n",
    "    f\"<b>Levene's Test</b> – Statistic: {levene_stat:.4f}, P-value: {levene_p:.4f}\"))\n",
    "\n",
    "# Determining Equality of Variances\n",
    "if levene_p < 0.05:\n",
    "    equal_var = False\n",
    "    display(HTML(\"<i>Null Hypothesis H₀ is rejected: the variances are different → use equal_var=False</i>\"))\n",
    "else:\n",
    "    equal_var = True\n",
    "    display(HTML(\"<i>Null Hypothesis H₀ is not rejected: the variances are equal → use equal_var=True</i>\"))"
   ]
  },
  {
   "cell_type": "code",
   "execution_count": 15,
   "id": "20a6df4b",
   "metadata": {},
   "outputs": [
    {
     "data": {
      "text/html": [
       "T-statistic: <b>-4.443025166390801</b>"
      ],
      "text/plain": [
       "<IPython.core.display.HTML object>"
      ]
     },
     "metadata": {},
     "output_type": "display_data"
    },
    {
     "data": {
      "text/html": [
       "P-value: <b>0.000009684392535</b>"
      ],
      "text/plain": [
       "<IPython.core.display.HTML object>"
      ]
     },
     "metadata": {},
     "output_type": "display_data"
    },
    {
     "data": {
      "text/html": [
       "The <i>'null hypothesis' is rejected</i>, <b>accepting 'alternative hypothesis'</b>, because there is sufficient statistical evidence to affirm that <b>The average user ratings for the Xbox One and PC platforms differ significantly.</b>"
      ],
      "text/plain": [
       "<IPython.core.display.HTML object>"
      ]
     },
     "metadata": {},
     "output_type": "display_data"
    }
   ],
   "source": [
    "# 3. Calculate critical and test values, define acceptance and rejection zones\n",
    "\n",
    "t_stat, p_val = ttest_ind(df_vg_xone_platform, df_vg_pc_platform, equal_var=True)\n",
    "\n",
    "display(HTML(f\"T-statistic: <b>{t_stat:.15f}</b>\"))\n",
    "display(HTML(f\"P-value: <b>{p_val:.15f}</b>\"))\n",
    "\n",
    "# 4. Decision and Conclusion\n",
    "\n",
    "if p_val < alpha:\n",
    "    display(HTML(\"The <i>'null hypothesis' is rejected</i>, <b>accepting 'alternative hypothesis'</b>, because there is sufficient statistical evidence to affirm that <b>The average user ratings for the Xbox One and PC platforms differ significantly.</b>\"))\n",
    "else:\n",
    "    display(HTML(\"The <i>'null hypothesis' is not rejected</i>, <b>accepting 'null hypothesis'</b>, indicating insufficient evidence to conclude that <b>The average user ratings for the Xbox One and PC platforms differ significantly</b>.\"))"
   ]
  },
  {
   "cell_type": "markdown",
   "id": "f0751e5c",
   "metadata": {},
   "source": [
    "#### Hypothesis Test validation"
   ]
  },
  {
   "cell_type": "code",
   "execution_count": 17,
   "id": "82288301",
   "metadata": {},
   "outputs": [],
   "source": [
    "df_vg_xone_platform = df_vg_xone_platform.to_frame()"
   ]
  },
  {
   "cell_type": "code",
   "execution_count": 18,
   "id": "bfd422b5",
   "metadata": {},
   "outputs": [
    {
     "data": {
      "text/html": [
       "> The user ratings for the <b>Xbox One/b> platform<: \n",
       "\n"
      ],
      "text/plain": [
       "<IPython.core.display.HTML object>"
      ]
     },
     "metadata": {},
     "output_type": "display_data"
    },
    {
     "name": "stdout",
     "output_type": "stream",
     "text": [
      "count    247.000000\n",
      "mean       6.651093\n",
      "std        1.306885\n",
      "min        1.600000\n",
      "25%        5.900000\n",
      "50%        6.900000\n",
      "75%        7.700000\n",
      "max        9.200000\n",
      "Name: user_score, dtype: float64\n"
     ]
    }
   ],
   "source": [
    "display(HTML(f\"> The user ratings for the <b>Xbox One/b> platform<: \\n\\n\"))\n",
    "print(df_vg_xone_platform[\"user_score\"].describe())"
   ]
  },
  {
   "cell_type": "code",
   "execution_count": 19,
   "id": "91589ffc",
   "metadata": {},
   "outputs": [],
   "source": [
    "df_vg_pc_platform = df_vg_pc_platform.to_frame()"
   ]
  },
  {
   "cell_type": "code",
   "execution_count": 20,
   "id": "e9730522",
   "metadata": {},
   "outputs": [
    {
     "data": {
      "text/html": [
       "> The user ratings for the <bPC/b> platform<: \n",
       "\n"
      ],
      "text/plain": [
       "<IPython.core.display.HTML object>"
      ]
     },
     "metadata": {},
     "output_type": "display_data"
    },
    {
     "name": "stdout",
     "output_type": "stream",
     "text": [
      "count    962.000000\n",
      "mean       7.092162\n",
      "std        1.412612\n",
      "min        1.400000\n",
      "25%        6.412500\n",
      "50%        7.400000\n",
      "75%        8.100000\n",
      "max        9.300000\n",
      "Name: user_score, dtype: float64\n"
     ]
    }
   ],
   "source": [
    "display(HTML(f\"> The user ratings for the <bPC/b> platform<: \\n\\n\"))\n",
    "print(df_vg_pc_platform[\"user_score\"].describe())"
   ]
  },
  {
   "cell_type": "markdown",
   "id": "56299e1a",
   "metadata": {},
   "source": [
    "#### 3.1.2  Hypotheses testing: _\"The average user ratings for the Action and Sports genres are different\"_"
   ]
  },
  {
   "cell_type": "code",
   "execution_count": 25,
   "id": "39ef61e7",
   "metadata": {},
   "outputs": [],
   "source": [
    "# Hypothesis: ...\n",
    "\n",
    "# 1. Hypotheses H0, H1\n",
    "# H0: The average user ratings for the Action and Sports genres are the same (==)\n",
    "# H1: The average user ratings for the Action and Sports genres are different (!=)\n",
    "\n",
    "# Prepare data by plans\n",
    "df_vg_action_genre = df_vg.loc[(df_vg['genre'] == 'action') & (df_vg['user_score'].notna()), 'user_score']\n",
    "df_vg_sports_genre = df_vg.loc[(df_vg['genre'] == 'sports') & (df_vg['user_score'].notna()), 'user_score']\n",
    "\n",
    "# 2. Specify Significance or Confidence\n",
    "# alpha = 5%\n",
    "# confidence = 95%\n",
    "\n",
    "alpha = 0.05"
   ]
  },
  {
   "cell_type": "code",
   "execution_count": 26,
   "id": "9414104c",
   "metadata": {},
   "outputs": [
    {
     "data": {
      "text/html": [
       "<b>Levene's Test</b> – Statistic: 41.6784, P-value: 0.0000"
      ],
      "text/plain": [
       "<IPython.core.display.HTML object>"
      ]
     },
     "metadata": {},
     "output_type": "display_data"
    },
    {
     "data": {
      "text/html": [
       "<i>Null Hypothesis H₀ is rejected: the variances are different → use equal_var=False</i>"
      ],
      "text/plain": [
       "<IPython.core.display.HTML object>"
      ]
     },
     "metadata": {},
     "output_type": "display_data"
    }
   ],
   "source": [
    "# Levene's test, to ensure that the variances of different samples are equal.\n",
    "# Preventing Tests Like ANOVA and t-Tests from Being Incorrect\n",
    "\n",
    "levene_stat, levene_p = st.levene(df_vg_action_genre, df_vg_sports_genre)\n",
    "display(HTML(\n",
    "    f\"<b>Levene's Test</b> – Statistic: {levene_stat:.4f}, P-value: {levene_p:.4f}\"))\n",
    "\n",
    "# Determining Equality of Variances\n",
    "if levene_p < 0.05:\n",
    "    equal_var = False\n",
    "    display(HTML(\"<i>Null Hypothesis H₀ is rejected: the variances are different → use equal_var=False</i>\"))\n",
    "else:\n",
    "    equal_var = True\n",
    "    display(HTML(\"<i>Null Hypothesis H₀ is not rejected: the variances are equal → use equal_var=True</i>\"))"
   ]
  },
  {
   "cell_type": "code",
   "execution_count": 27,
   "id": "d11d9adc",
   "metadata": {},
   "outputs": [
    {
     "data": {
      "text/html": [
       "T-statistic: <b>2.443435581072931</b>"
      ],
      "text/plain": [
       "<IPython.core.display.HTML object>"
      ]
     },
     "metadata": {},
     "output_type": "display_data"
    },
    {
     "data": {
      "text/html": [
       "P-value: <b>0.014580686164620</b>"
      ],
      "text/plain": [
       "<IPython.core.display.HTML object>"
      ]
     },
     "metadata": {},
     "output_type": "display_data"
    },
    {
     "data": {
      "text/html": [
       "The <i>'null hypothesis' is rejected</i>, <b>accepting 'alternative hypothesis'</b>, because there is sufficient statistical evidence to affirm that <b>The average user ratings for the Action and Sports genres differ significantly.</b>"
      ],
      "text/plain": [
       "<IPython.core.display.HTML object>"
      ]
     },
     "metadata": {},
     "output_type": "display_data"
    }
   ],
   "source": [
    "# 3. Calculate critical and test values, define acceptance and rejection zones\n",
    "\n",
    "t_stat, p_val = ttest_ind(df_vg_action_genre, df_vg_sports_genre, equal_var=True)\n",
    "\n",
    "display(HTML(f\"T-statistic: <b>{t_stat:.15f}</b>\"))\n",
    "display(HTML(f\"P-value: <b>{p_val:.15f}</b>\"))\n",
    "\n",
    "# 4. Decision and Conclusion\n",
    "\n",
    "if p_val < alpha:\n",
    "    display(HTML(\"The <i>'null hypothesis' is rejected</i>, <b>accepting 'alternative hypothesis'</b>, because there is sufficient statistical evidence to affirm that <b>The average user ratings for the Action and Sports genres differ significantly.</b>\"))\n",
    "else:\n",
    "    display(HTML(\"The <i>'null hypothesis' is not rejected</i>, <b>accepting 'null hypothesis'</b>, indicating insufficient evidence to conclude that <b>The average user ratings for the Action and Sports genres differ significantly</b>.\"))"
   ]
  },
  {
   "cell_type": "markdown",
   "id": "6687adc6",
   "metadata": {},
   "source": [
    "#### Hypothesis Test validation"
   ]
  },
  {
   "cell_type": "code",
   "execution_count": 28,
   "id": "eebab9d6",
   "metadata": {},
   "outputs": [],
   "source": [
    "df_vg_action_genre = df_vg_action_genre.to_frame()"
   ]
  },
  {
   "cell_type": "code",
   "execution_count": 29,
   "id": "237f0e68",
   "metadata": {},
   "outputs": [
    {
     "data": {
      "application/vnd.microsoft.datawrangler.viewer.v0+json": {
       "columns": [
        {
         "name": "index",
         "rawType": "object",
         "type": "string"
        },
        {
         "name": "user_score",
         "rawType": "float64",
         "type": "float"
        }
       ],
       "ref": "55011c41-0bdc-4828-9561-285dcefccd47",
       "rows": [
        [
         "count",
         "3264.0"
        ],
        [
         "mean",
         "7.132370948791504"
        ],
        [
         "std",
         "1.1880629062652588"
        ],
        [
         "min",
         "0.30000001192092896"
        ],
        [
         "25%",
         "6.800000190734863"
        ],
        [
         "50%",
         "7.199999809265137"
        ],
        [
         "75%",
         "7.900000095367432"
        ],
        [
         "max",
         "9.5"
        ]
       ],
       "shape": {
        "columns": 1,
        "rows": 8
       }
      },
      "text/html": [
       "<div>\n",
       "<style scoped>\n",
       "    .dataframe tbody tr th:only-of-type {\n",
       "        vertical-align: middle;\n",
       "    }\n",
       "\n",
       "    .dataframe tbody tr th {\n",
       "        vertical-align: top;\n",
       "    }\n",
       "\n",
       "    .dataframe thead th {\n",
       "        text-align: right;\n",
       "    }\n",
       "</style>\n",
       "<table border=\"1\" class=\"dataframe\">\n",
       "  <thead>\n",
       "    <tr style=\"text-align: right;\">\n",
       "      <th></th>\n",
       "      <th>user_score</th>\n",
       "    </tr>\n",
       "  </thead>\n",
       "  <tbody>\n",
       "    <tr>\n",
       "      <th>count</th>\n",
       "      <td>3264.000000</td>\n",
       "    </tr>\n",
       "    <tr>\n",
       "      <th>mean</th>\n",
       "      <td>7.132371</td>\n",
       "    </tr>\n",
       "    <tr>\n",
       "      <th>std</th>\n",
       "      <td>1.188063</td>\n",
       "    </tr>\n",
       "    <tr>\n",
       "      <th>min</th>\n",
       "      <td>0.300000</td>\n",
       "    </tr>\n",
       "    <tr>\n",
       "      <th>25%</th>\n",
       "      <td>6.800000</td>\n",
       "    </tr>\n",
       "    <tr>\n",
       "      <th>50%</th>\n",
       "      <td>7.200000</td>\n",
       "    </tr>\n",
       "    <tr>\n",
       "      <th>75%</th>\n",
       "      <td>7.900000</td>\n",
       "    </tr>\n",
       "    <tr>\n",
       "      <th>max</th>\n",
       "      <td>9.500000</td>\n",
       "    </tr>\n",
       "  </tbody>\n",
       "</table>\n",
       "</div>"
      ],
      "text/plain": [
       "        user_score\n",
       "count  3264.000000\n",
       "mean      7.132371\n",
       "std       1.188063\n",
       "min       0.300000\n",
       "25%       6.800000\n",
       "50%       7.200000\n",
       "75%       7.900000\n",
       "max       9.500000"
      ]
     },
     "execution_count": 29,
     "metadata": {},
     "output_type": "execute_result"
    }
   ],
   "source": [
    "df_vg_action_genre.describe()"
   ]
  },
  {
   "cell_type": "code",
   "execution_count": 30,
   "id": "3fb4bd5f",
   "metadata": {},
   "outputs": [],
   "source": [
    "df_vg_sports_genre = df_vg_sports_genre.to_frame()"
   ]
  },
  {
   "cell_type": "code",
   "execution_count": 31,
   "id": "30e30f59",
   "metadata": {},
   "outputs": [
    {
     "data": {
      "application/vnd.microsoft.datawrangler.viewer.v0+json": {
       "columns": [
        {
         "name": "index",
         "rawType": "object",
         "type": "string"
        },
        {
         "name": "user_score",
         "rawType": "float64",
         "type": "float"
        }
       ],
       "ref": "fbc0d523-00bb-4c99-8226-7cb896ef5fbc",
       "rows": [
        [
         "count",
         "2019.0"
        ],
        [
         "mean",
         "7.045294761657715"
        ],
        [
         "std",
         "1.3650610446929932"
        ],
        [
         "min",
         "0.20000000298023224"
        ],
        [
         "25%",
         "6.5"
        ],
        [
         "50%",
         "7.300000190734863"
        ],
        [
         "75%",
         "8.0"
        ],
        [
         "max",
         "9.5"
        ]
       ],
       "shape": {
        "columns": 1,
        "rows": 8
       }
      },
      "text/html": [
       "<div>\n",
       "<style scoped>\n",
       "    .dataframe tbody tr th:only-of-type {\n",
       "        vertical-align: middle;\n",
       "    }\n",
       "\n",
       "    .dataframe tbody tr th {\n",
       "        vertical-align: top;\n",
       "    }\n",
       "\n",
       "    .dataframe thead th {\n",
       "        text-align: right;\n",
       "    }\n",
       "</style>\n",
       "<table border=\"1\" class=\"dataframe\">\n",
       "  <thead>\n",
       "    <tr style=\"text-align: right;\">\n",
       "      <th></th>\n",
       "      <th>user_score</th>\n",
       "    </tr>\n",
       "  </thead>\n",
       "  <tbody>\n",
       "    <tr>\n",
       "      <th>count</th>\n",
       "      <td>2019.000000</td>\n",
       "    </tr>\n",
       "    <tr>\n",
       "      <th>mean</th>\n",
       "      <td>7.045295</td>\n",
       "    </tr>\n",
       "    <tr>\n",
       "      <th>std</th>\n",
       "      <td>1.365061</td>\n",
       "    </tr>\n",
       "    <tr>\n",
       "      <th>min</th>\n",
       "      <td>0.200000</td>\n",
       "    </tr>\n",
       "    <tr>\n",
       "      <th>25%</th>\n",
       "      <td>6.500000</td>\n",
       "    </tr>\n",
       "    <tr>\n",
       "      <th>50%</th>\n",
       "      <td>7.300000</td>\n",
       "    </tr>\n",
       "    <tr>\n",
       "      <th>75%</th>\n",
       "      <td>8.000000</td>\n",
       "    </tr>\n",
       "    <tr>\n",
       "      <th>max</th>\n",
       "      <td>9.500000</td>\n",
       "    </tr>\n",
       "  </tbody>\n",
       "</table>\n",
       "</div>"
      ],
      "text/plain": [
       "        user_score\n",
       "count  2019.000000\n",
       "mean      7.045295\n",
       "std       1.365061\n",
       "min       0.200000\n",
       "25%       6.500000\n",
       "50%       7.300000\n",
       "75%       8.000000\n",
       "max       9.500000"
      ]
     },
     "execution_count": 31,
     "metadata": {},
     "output_type": "execute_result"
    }
   ],
   "source": [
    "df_vg_sports_genre.describe()"
   ]
  },
  {
   "cell_type": "markdown",
   "id": "a4c47fe1",
   "metadata": {},
   "source": [
    "##### `LSPL`\n",
    "\n",
    "**_Note_:**\n",
    "\n",
    "`Justification for the 'equal_var' parameter`\n",
    "\n",
    "In hypothesis tests with `ttest_ind()`, the `equal_var` argument defines whether or not we assume equality of variances.\n",
    "This parameter should NOT be decided based on sample sizes, but on the result of a formal test.\n",
    "\n",
    "Therefore, we use Levene's test (`scipy.stats.levene`) to compare the variances of both groups:\n",
    "- H₀: The variances of the groups are equal.\n",
    "- H₁: The variances of the groups are different.\n",
    "\n",
    "- If the p-value < 0.05 → We reject H₀ → unequal variances → `equal_var=False` (we use Welch's t test)\n",
    "- If the p-value >= 0.05 → We do not reject H₀ → equal variances → `equal_var=True` (we use the standard Student's t test)\n",
    "\n",
    "This validation ensures that the hypothesis test is based on sound statistical assumptions."
   ]
  },
  {
   "cell_type": "markdown",
   "id": "b27f1c3f",
   "metadata": {},
   "source": [
    "## 4. Conclusion of Statistical Data Analysis\n",
    "\n",
    "Based on the statistical analysis conducted, there is sufficient evidence to conclude that both platform and genre significantly influence user ratings in video games. Specifically:\n",
    "\n",
    "- User ratings on Xbox One and PC differ significantly, suggesting that platform-specific factors may shape user perception or satisfaction.\n",
    "\n",
    "- Similarly, user ratings for Action and Sports genres show a statistically significant difference, indicating that genre preferences also play a meaningful role in how games are evaluated.\n",
    "\n",
    "These findings highlight the importance of considering platform and genre when analyzing user feedback and predicting game performance.\n",
    "\n",
    "Initial descriptive statistics suggested differences between groups, particularly in the average user score. These differences were then tested formally through hypothesis testing to confirm their statistical significance."
   ]
  }
 ],
 "metadata": {
  "kernelspec": {
   "display_name": "base",
   "language": "python",
   "name": "python3"
  },
  "language_info": {
   "codemirror_mode": {
    "name": "ipython",
    "version": 3
   },
   "file_extension": ".py",
   "mimetype": "text/x-python",
   "name": "python",
   "nbconvert_exporter": "python",
   "pygments_lexer": "ipython3",
   "version": "3.12.7"
  }
 },
 "nbformat": 4,
 "nbformat_minor": 5
}
