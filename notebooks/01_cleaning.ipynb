{
 "cells": [
  {
   "cell_type": "markdown",
   "id": "7b58c6ef",
   "metadata": {},
   "source": [
    "#### Data set cleaning\n",
    "\n",
    "Dataset: \n",
    "\n",
    " - _games.csv_\n",
    "\n",
    "Author: Luis Sergio Pastrana Lemus  \n",
    "Date: 2025-05-29"
   ]
  },
  {
   "cell_type": "markdown",
   "id": "ca32144c",
   "metadata": {},
   "source": [
    "# Data Cleaning – Mobile Service Dataset"
   ]
  },
  {
   "cell_type": "markdown",
   "id": "1b9932f3",
   "metadata": {},
   "source": [
    "## __1. Libraries__"
   ]
  },
  {
   "cell_type": "code",
   "execution_count": 1,
   "id": "25981453",
   "metadata": {},
   "outputs": [],
   "source": [
    "from pathlib import Path\n",
    "import sys\n",
    "\n",
    "# Define project root dynamically, gets the current directory from which the notebook belongs and moves one level upper\n",
    "project_root = Path.cwd().parent\n",
    "\n",
    "# Add src to sys.path if it is not already\n",
    "if str(project_root) not in sys.path:\n",
    "\n",
    "    sys.path.append(str(project_root))\n",
    "\n",
    "# Import function directly (more controlled than import *)\n",
    "from src import *\n",
    "\n",
    "\n",
    "from IPython.display import display, HTML\n",
    "import os\n",
    "import pandas as pd"
   ]
  },
  {
   "cell_type": "markdown",
   "id": "80a9b14e",
   "metadata": {},
   "source": [
    "## __2. Path to Data file__"
   ]
  },
  {
   "cell_type": "code",
   "execution_count": 2,
   "id": "198282e9",
   "metadata": {},
   "outputs": [],
   "source": [
    "# Build route to data file and upload\n",
    "\n",
    "data_file_path = project_root / \"data\" / \"raw\"\n",
    "\n",
    "df_vg = load_dataset_from_csv(data_file_path, \"games.csv\", header='infer', keep_default_na=False)\n",
    "df_vg_name_platform_year = load_dataset_from_csv(data_file_path, \"games_with_year.csv\", header='infer', keep_default_na=False)"
   ]
  },
  {
   "cell_type": "markdown",
   "id": "c8293e31",
   "metadata": {},
   "source": [
    "##### `LSPL`\n",
    "\n",
    "**Note:** `keep_default_na=False` is used to later convert missing values to `pd.NA`.  \n",
    "This is beneficial because `pd.NA` provides:\n",
    "\n",
    "- Consistency across data types  \n",
    "- Type integrity preservation  \n",
    "- Cleaner logical operations  \n",
    "- Improved control over missing data\n",
    "\n",
    "Since high performance or heavy computation is not required here, using `pd.NA` is appropriate."
   ]
  },
  {
   "cell_type": "code",
   "execution_count": 3,
   "id": "3edd5dd5",
   "metadata": {},
   "outputs": [],
   "source": [
    "# Format notebook output\n",
    "format_notebook()"
   ]
  },
  {
   "cell_type": "markdown",
   "id": "76255815",
   "metadata": {},
   "source": [
    "## __3. Data set cleaning__"
   ]
  },
  {
   "cell_type": "code",
   "execution_count": 4,
   "id": "dd602d96",
   "metadata": {},
   "outputs": [
    {
     "name": "stdout",
     "output_type": "stream",
     "text": [
      "<class 'pandas.core.frame.DataFrame'>\n",
      "RangeIndex: 16715 entries, 0 to 16714\n",
      "Data columns (total 11 columns):\n",
      " #   Column           Non-Null Count  Dtype  \n",
      "---  ------           --------------  -----  \n",
      " 0   Name             16715 non-null  object \n",
      " 1   Platform         16715 non-null  object \n",
      " 2   Year_of_Release  16715 non-null  object \n",
      " 3   Genre            16715 non-null  object \n",
      " 4   NA_sales         16715 non-null  float64\n",
      " 5   EU_sales         16715 non-null  float64\n",
      " 6   JP_sales         16715 non-null  float64\n",
      " 7   Other_sales      16715 non-null  float64\n",
      " 8   Critic_Score     16715 non-null  object \n",
      " 9   User_Score       16715 non-null  object \n",
      " 10  Rating           16715 non-null  object \n",
      "dtypes: float64(4), object(7)\n",
      "memory usage: 1.4+ MB\n"
     ]
    }
   ],
   "source": [
    "df_vg.info()"
   ]
  },
  {
   "cell_type": "markdown",
   "id": "9ecc42c7",
   "metadata": {},
   "source": [
    "### 3.1. Standardizing String values using \"snake case\""
   ]
  },
  {
   "cell_type": "markdown",
   "id": "e009a930",
   "metadata": {},
   "source": [
    "#### 3.1.1 Standardizing Column Labels"
   ]
  },
  {
   "cell_type": "code",
   "execution_count": 5,
   "id": "05669bd8",
   "metadata": {},
   "outputs": [
    {
     "data": {
      "text/plain": [
       "Index(['name', 'platform', 'year_of_release', 'genre', 'na_sales', 'eu_sales', 'jp_sales', 'other_sales', 'critic_score', 'user_score', 'rating'], dtype='object')"
      ]
     },
     "execution_count": 5,
     "metadata": {},
     "output_type": "execute_result"
    }
   ],
   "source": [
    "# Standardize column labels with snake_case format\n",
    "df_vg = normalize_columns_headers_format(df_vg)\n",
    "df_vg.columns"
   ]
  },
  {
   "cell_type": "markdown",
   "id": "0cc7d74b",
   "metadata": {},
   "source": [
    "#### 3.1.2 Standardizing Dataframe String values"
   ]
  },
  {
   "cell_type": "code",
   "execution_count": 6,
   "id": "3482a2aa",
   "metadata": {},
   "outputs": [
    {
     "data": {
      "application/vnd.microsoft.datawrangler.viewer.v0+json": {
       "columns": [
        {
         "name": "index",
         "rawType": "int64",
         "type": "integer"
        },
        {
         "name": "name",
         "rawType": "object",
         "type": "string"
        },
        {
         "name": "platform",
         "rawType": "object",
         "type": "string"
        },
        {
         "name": "year_of_release",
         "rawType": "object",
         "type": "string"
        },
        {
         "name": "genre",
         "rawType": "object",
         "type": "string"
        },
        {
         "name": "na_sales",
         "rawType": "float64",
         "type": "float"
        },
        {
         "name": "eu_sales",
         "rawType": "float64",
         "type": "float"
        },
        {
         "name": "jp_sales",
         "rawType": "float64",
         "type": "float"
        },
        {
         "name": "other_sales",
         "rawType": "float64",
         "type": "float"
        },
        {
         "name": "critic_score",
         "rawType": "object",
         "type": "string"
        },
        {
         "name": "user_score",
         "rawType": "object",
         "type": "string"
        },
        {
         "name": "rating",
         "rawType": "object",
         "type": "string"
        }
       ],
       "ref": "421dc5b7-1aa3-471e-9ad1-2c9d1cb56373",
       "rows": [
        [
         "0",
         "wii_sports",
         "wii",
         "2006.0",
         "sports",
         "41.36",
         "28.96",
         "3.77",
         "8.45",
         "76.0",
         "8",
         "E"
        ],
        [
         "1",
         "super_mario_bros",
         "nes",
         "1985.0",
         "platform",
         "29.08",
         "3.58",
         "6.81",
         "0.77",
         "",
         "",
         ""
        ],
        [
         "2",
         "mario_kart_wii",
         "wii",
         "2008.0",
         "racing",
         "15.68",
         "12.76",
         "3.79",
         "3.29",
         "82.0",
         "8.3",
         "E"
        ],
        [
         "3",
         "wii_sports_resort",
         "wii",
         "2009.0",
         "sports",
         "15.61",
         "10.93",
         "3.28",
         "2.95",
         "80.0",
         "8",
         "E"
        ],
        [
         "4",
         "pokemon_red_pokemon_blue",
         "gb",
         "1996.0",
         "role_playing",
         "11.27",
         "8.89",
         "10.22",
         "1.0",
         "",
         "",
         ""
        ],
        [
         "5",
         "tetris",
         "gb",
         "1989.0",
         "puzzle",
         "23.2",
         "2.26",
         "4.22",
         "0.58",
         "",
         "",
         ""
        ],
        [
         "6",
         "new_super_mario_bros",
         "ds",
         "2006.0",
         "platform",
         "11.28",
         "9.14",
         "6.5",
         "2.88",
         "89.0",
         "8.5",
         "E"
        ],
        [
         "7",
         "wii_play",
         "wii",
         "2006.0",
         "misc",
         "13.96",
         "9.18",
         "2.93",
         "2.84",
         "58.0",
         "6.6",
         "E"
        ],
        [
         "8",
         "new_super_mario_bros_wii",
         "wii",
         "2009.0",
         "platform",
         "14.44",
         "6.94",
         "4.7",
         "2.24",
         "87.0",
         "8.4",
         "E"
        ],
        [
         "9",
         "duck_hunt",
         "nes",
         "1984.0",
         "shooter",
         "26.93",
         "0.63",
         "0.28",
         "0.47",
         "",
         "",
         ""
        ],
        [
         "10",
         "nintendogs",
         "ds",
         "2005.0",
         "simulation",
         "9.05",
         "10.95",
         "1.93",
         "2.74",
         "",
         "",
         ""
        ],
        [
         "11",
         "mario_kart_ds",
         "ds",
         "2005.0",
         "racing",
         "9.71",
         "7.47",
         "4.13",
         "1.9",
         "91.0",
         "8.6",
         "E"
        ],
        [
         "12",
         "pokemon_gold_pokemon_silver",
         "gb",
         "1999.0",
         "role_playing",
         "9.0",
         "6.18",
         "7.2",
         "0.71",
         "",
         "",
         ""
        ],
        [
         "13",
         "wii_fit",
         "wii",
         "2007.0",
         "sports",
         "8.92",
         "8.03",
         "3.6",
         "2.15",
         "80.0",
         "7.7",
         "E"
        ],
        [
         "14",
         "kinect_adventures",
         "x360",
         "2010.0",
         "misc",
         "15.0",
         "4.89",
         "0.24",
         "1.69",
         "61.0",
         "6.3",
         "E"
        ],
        [
         "15",
         "wii_fit_plus",
         "wii",
         "2009.0",
         "sports",
         "9.01",
         "8.49",
         "2.53",
         "1.77",
         "80.0",
         "7.4",
         "E"
        ],
        [
         "16",
         "grand_theft_auto_v",
         "ps3",
         "2013.0",
         "action",
         "7.02",
         "9.09",
         "0.98",
         "3.96",
         "97.0",
         "8.2",
         "M"
        ],
        [
         "17",
         "grand_theft_auto_san_andreas",
         "ps2",
         "2004.0",
         "action",
         "9.43",
         "0.4",
         "0.41",
         "10.57",
         "95.0",
         "9",
         "M"
        ],
        [
         "18",
         "super_mario_world",
         "snes",
         "1990.0",
         "platform",
         "12.78",
         "3.75",
         "3.54",
         "0.55",
         "",
         "",
         ""
        ],
        [
         "19",
         "brain_age_train_your_brain_in_minutes_a_day",
         "ds",
         "2005.0",
         "misc",
         "4.74",
         "9.2",
         "4.16",
         "2.04",
         "77.0",
         "7.9",
         "E"
        ],
        [
         "20",
         "pokemon_diamond_pokemon_pearl",
         "ds",
         "2006.0",
         "role_playing",
         "6.38",
         "4.46",
         "6.04",
         "1.36",
         "",
         "",
         ""
        ],
        [
         "21",
         "super_mario_land",
         "gb",
         "1989.0",
         "platform",
         "10.83",
         "2.71",
         "4.18",
         "0.42",
         "",
         "",
         ""
        ],
        [
         "22",
         "super_mario_bros_3",
         "nes",
         "1988.0",
         "platform",
         "9.54",
         "3.44",
         "3.84",
         "0.46",
         "",
         "",
         ""
        ],
        [
         "23",
         "grand_theft_auto_v",
         "x360",
         "2013.0",
         "action",
         "9.66",
         "5.14",
         "0.06",
         "1.41",
         "97.0",
         "8.1",
         "M"
        ],
        [
         "24",
         "grand_theft_auto_vice_city",
         "ps2",
         "2002.0",
         "action",
         "8.41",
         "5.49",
         "0.47",
         "1.78",
         "95.0",
         "8.7",
         "M"
        ],
        [
         "25",
         "pokemon_ruby_pokemon_sapphire",
         "gba",
         "2002.0",
         "role_playing",
         "6.06",
         "3.9",
         "5.38",
         "0.5",
         "",
         "",
         ""
        ],
        [
         "26",
         "brain_age_2_more_training_in_minutes_a_day",
         "ds",
         "2005.0",
         "puzzle",
         "3.43",
         "5.35",
         "5.32",
         "1.18",
         "77.0",
         "7.1",
         "E"
        ],
        [
         "27",
         "pokemon_black_pokemon_white",
         "ds",
         "2010.0",
         "role_playing",
         "5.51",
         "3.17",
         "5.65",
         "0.8",
         "",
         "",
         ""
        ],
        [
         "28",
         "gran_turismo_3_a_spec",
         "ps2",
         "2001.0",
         "racing",
         "6.85",
         "5.09",
         "1.87",
         "1.16",
         "95.0",
         "8.4",
         "E"
        ],
        [
         "29",
         "call_of_duty_modern_warfare_3",
         "x360",
         "2011.0",
         "shooter",
         "9.04",
         "4.24",
         "0.13",
         "1.32",
         "88.0",
         "3.4",
         "M"
        ],
        [
         "30",
         "pokémon_yellow_special_pikachu_edition",
         "gb",
         "1998.0",
         "role_playing",
         "5.89",
         "5.04",
         "3.12",
         "0.59",
         "",
         "",
         ""
        ],
        [
         "31",
         "call_of_duty_black_ops_3",
         "ps4",
         "2015.0",
         "shooter",
         "6.03",
         "5.86",
         "0.36",
         "2.38",
         "",
         "",
         ""
        ],
        [
         "32",
         "call_of_duty_black_ops",
         "x360",
         "2010.0",
         "shooter",
         "9.7",
         "3.68",
         "0.11",
         "1.13",
         "87.0",
         "6.3",
         "M"
        ],
        [
         "33",
         "pokemon_x_pokemon_y",
         "3ds",
         "2013.0",
         "role_playing",
         "5.28",
         "4.19",
         "4.35",
         "0.78",
         "",
         "",
         ""
        ],
        [
         "34",
         "call_of_duty_black_ops_ii",
         "ps3",
         "2012.0",
         "shooter",
         "4.99",
         "5.73",
         "0.65",
         "2.42",
         "83.0",
         "5.3",
         "M"
        ],
        [
         "35",
         "call_of_duty_black_ops_ii",
         "x360",
         "2012.0",
         "shooter",
         "8.25",
         "4.24",
         "0.07",
         "1.12",
         "83.0",
         "4.8",
         "M"
        ],
        [
         "36",
         "call_of_duty_modern_warfare_2",
         "x360",
         "2009.0",
         "shooter",
         "8.52",
         "3.59",
         "0.08",
         "1.28",
         "94.0",
         "6.3",
         "M"
        ],
        [
         "37",
         "call_of_duty_modern_warfare_3",
         "ps3",
         "2011.0",
         "shooter",
         "5.54",
         "5.73",
         "0.49",
         "1.57",
         "88.0",
         "3.2",
         "M"
        ],
        [
         "38",
         "grand_theft_auto_iii",
         "ps2",
         "2001.0",
         "action",
         "6.99",
         "4.51",
         "0.3",
         "1.3",
         "97.0",
         "8.5",
         "M"
        ],
        [
         "39",
         "super_smash_bros_brawl",
         "wii",
         "2008.0",
         "fighting",
         "6.62",
         "2.55",
         "2.66",
         "1.01",
         "93.0",
         "8.9",
         "T"
        ],
        [
         "40",
         "mario_kart_7",
         "3ds",
         "2011.0",
         "racing",
         "5.03",
         "4.02",
         "2.69",
         "0.91",
         "85.0",
         "8.2",
         "E"
        ],
        [
         "41",
         "call_of_duty_black_ops",
         "ps3",
         "2010.0",
         "shooter",
         "5.99",
         "4.37",
         "0.48",
         "1.79",
         "88.0",
         "6.4",
         "M"
        ],
        [
         "42",
         "grand_theft_auto_v",
         "ps4",
         "2014.0",
         "action",
         "3.96",
         "6.31",
         "0.38",
         "1.97",
         "97.0",
         "8.3",
         "M"
        ],
        [
         "43",
         "animal_crossing_wild_world",
         "ds",
         "2005.0",
         "simulation",
         "2.5",
         "3.45",
         "5.33",
         "0.86",
         "86.0",
         "8.7",
         "E"
        ],
        [
         "44",
         "halo_3",
         "x360",
         "2007.0",
         "shooter",
         "7.97",
         "2.81",
         "0.13",
         "1.21",
         "94.0",
         "7.8",
         "M"
        ],
        [
         "45",
         "super_mario_64",
         "n64",
         "1996.0",
         "platform",
         "6.91",
         "2.85",
         "1.91",
         "0.23",
         "",
         "",
         ""
        ],
        [
         "46",
         "pokemon_heartgold_pokemon_soulsilver",
         "ds",
         "2009.0",
         "action",
         "4.34",
         "2.71",
         "3.96",
         "0.76",
         "",
         "",
         ""
        ],
        [
         "47",
         "pokemon_omega_ruby_pokemon_alpha_sapphire",
         "3ds",
         "2014.0",
         "role_playing",
         "4.35",
         "3.49",
         "3.1",
         "0.74",
         "",
         "",
         ""
        ],
        [
         "48",
         "gran_turismo_4",
         "ps2",
         "2004.0",
         "racing",
         "3.01",
         "0.01",
         "1.1",
         "7.53",
         "89.0",
         "8.5",
         "E"
        ],
        [
         "49",
         "super_mario_galaxy",
         "wii",
         "2007.0",
         "platform",
         "6.06",
         "3.35",
         "1.2",
         "0.74",
         "97.0",
         "8.9",
         "E"
        ]
       ],
       "shape": {
        "columns": 11,
        "rows": 16715
       }
      },
      "text/html": [
       "<div>\n",
       "<style scoped>\n",
       "    .dataframe tbody tr th:only-of-type {\n",
       "        vertical-align: middle;\n",
       "    }\n",
       "\n",
       "    .dataframe tbody tr th {\n",
       "        vertical-align: top;\n",
       "    }\n",
       "\n",
       "    .dataframe thead th {\n",
       "        text-align: right;\n",
       "    }\n",
       "</style>\n",
       "<table border=\"1\" class=\"dataframe\">\n",
       "  <thead>\n",
       "    <tr style=\"text-align: right;\">\n",
       "      <th></th>\n",
       "      <th>name</th>\n",
       "      <th>platform</th>\n",
       "      <th>year_of_release</th>\n",
       "      <th>genre</th>\n",
       "      <th>na_sales</th>\n",
       "      <th>eu_sales</th>\n",
       "      <th>jp_sales</th>\n",
       "      <th>other_sales</th>\n",
       "      <th>critic_score</th>\n",
       "      <th>user_score</th>\n",
       "      <th>rating</th>\n",
       "    </tr>\n",
       "  </thead>\n",
       "  <tbody>\n",
       "    <tr>\n",
       "      <th>0</th>\n",
       "      <td>wii_sports</td>\n",
       "      <td>wii</td>\n",
       "      <td>2006.0</td>\n",
       "      <td>sports</td>\n",
       "      <td>41.36</td>\n",
       "      <td>28.96</td>\n",
       "      <td>3.77</td>\n",
       "      <td>8.45</td>\n",
       "      <td>76.0</td>\n",
       "      <td>8</td>\n",
       "      <td>E</td>\n",
       "    </tr>\n",
       "    <tr>\n",
       "      <th>1</th>\n",
       "      <td>super_mario_bros</td>\n",
       "      <td>nes</td>\n",
       "      <td>1985.0</td>\n",
       "      <td>platform</td>\n",
       "      <td>29.08</td>\n",
       "      <td>3.58</td>\n",
       "      <td>6.81</td>\n",
       "      <td>0.77</td>\n",
       "      <td></td>\n",
       "      <td></td>\n",
       "      <td></td>\n",
       "    </tr>\n",
       "    <tr>\n",
       "      <th>2</th>\n",
       "      <td>mario_kart_wii</td>\n",
       "      <td>wii</td>\n",
       "      <td>2008.0</td>\n",
       "      <td>racing</td>\n",
       "      <td>15.68</td>\n",
       "      <td>12.76</td>\n",
       "      <td>3.79</td>\n",
       "      <td>3.29</td>\n",
       "      <td>82.0</td>\n",
       "      <td>8.3</td>\n",
       "      <td>E</td>\n",
       "    </tr>\n",
       "    <tr>\n",
       "      <th>3</th>\n",
       "      <td>wii_sports_resort</td>\n",
       "      <td>wii</td>\n",
       "      <td>2009.0</td>\n",
       "      <td>sports</td>\n",
       "      <td>15.61</td>\n",
       "      <td>10.93</td>\n",
       "      <td>3.28</td>\n",
       "      <td>2.95</td>\n",
       "      <td>80.0</td>\n",
       "      <td>8</td>\n",
       "      <td>E</td>\n",
       "    </tr>\n",
       "    <tr>\n",
       "      <th>4</th>\n",
       "      <td>pokemon_red_pokemon_blue</td>\n",
       "      <td>gb</td>\n",
       "      <td>1996.0</td>\n",
       "      <td>role_playing</td>\n",
       "      <td>11.27</td>\n",
       "      <td>8.89</td>\n",
       "      <td>10.22</td>\n",
       "      <td>1.00</td>\n",
       "      <td></td>\n",
       "      <td></td>\n",
       "      <td></td>\n",
       "    </tr>\n",
       "    <tr>\n",
       "      <th>...</th>\n",
       "      <td>...</td>\n",
       "      <td>...</td>\n",
       "      <td>...</td>\n",
       "      <td>...</td>\n",
       "      <td>...</td>\n",
       "      <td>...</td>\n",
       "      <td>...</td>\n",
       "      <td>...</td>\n",
       "      <td>...</td>\n",
       "      <td>...</td>\n",
       "      <td>...</td>\n",
       "    </tr>\n",
       "    <tr>\n",
       "      <th>16710</th>\n",
       "      <td>samurai_warriors_sanada_maru</td>\n",
       "      <td>ps3</td>\n",
       "      <td>2016.0</td>\n",
       "      <td>action</td>\n",
       "      <td>0.00</td>\n",
       "      <td>0.00</td>\n",
       "      <td>0.01</td>\n",
       "      <td>0.00</td>\n",
       "      <td></td>\n",
       "      <td></td>\n",
       "      <td></td>\n",
       "    </tr>\n",
       "    <tr>\n",
       "      <th>16711</th>\n",
       "      <td>lma_manager_2007</td>\n",
       "      <td>x360</td>\n",
       "      <td>2006.0</td>\n",
       "      <td>sports</td>\n",
       "      <td>0.00</td>\n",
       "      <td>0.01</td>\n",
       "      <td>0.00</td>\n",
       "      <td>0.00</td>\n",
       "      <td></td>\n",
       "      <td></td>\n",
       "      <td></td>\n",
       "    </tr>\n",
       "    <tr>\n",
       "      <th>16712</th>\n",
       "      <td>haitaka_no_psychedelica</td>\n",
       "      <td>psv</td>\n",
       "      <td>2016.0</td>\n",
       "      <td>adventure</td>\n",
       "      <td>0.00</td>\n",
       "      <td>0.00</td>\n",
       "      <td>0.01</td>\n",
       "      <td>0.00</td>\n",
       "      <td></td>\n",
       "      <td></td>\n",
       "      <td></td>\n",
       "    </tr>\n",
       "    <tr>\n",
       "      <th>16713</th>\n",
       "      <td>spirits_spells</td>\n",
       "      <td>gba</td>\n",
       "      <td>2003.0</td>\n",
       "      <td>platform</td>\n",
       "      <td>0.01</td>\n",
       "      <td>0.00</td>\n",
       "      <td>0.00</td>\n",
       "      <td>0.00</td>\n",
       "      <td></td>\n",
       "      <td></td>\n",
       "      <td></td>\n",
       "    </tr>\n",
       "    <tr>\n",
       "      <th>16714</th>\n",
       "      <td>winning_post_8_2016</td>\n",
       "      <td>psv</td>\n",
       "      <td>2016.0</td>\n",
       "      <td>simulation</td>\n",
       "      <td>0.00</td>\n",
       "      <td>0.00</td>\n",
       "      <td>0.01</td>\n",
       "      <td>0.00</td>\n",
       "      <td></td>\n",
       "      <td></td>\n",
       "      <td></td>\n",
       "    </tr>\n",
       "  </tbody>\n",
       "</table>\n",
       "<p>16715 rows × 11 columns</p>\n",
       "</div>"
      ],
      "text/plain": [
       "                               name platform year_of_release         genre  na_sales  eu_sales  jp_sales  other_sales critic_score user_score rating\n",
       "0                        wii_sports      wii          2006.0        sports     41.36     28.96      3.77         8.45         76.0          8      E\n",
       "1                  super_mario_bros      nes          1985.0      platform     29.08      3.58      6.81         0.77                               \n",
       "2                    mario_kart_wii      wii          2008.0        racing     15.68     12.76      3.79         3.29         82.0        8.3      E\n",
       "3                 wii_sports_resort      wii          2009.0        sports     15.61     10.93      3.28         2.95         80.0          8      E\n",
       "4          pokemon_red_pokemon_blue       gb          1996.0  role_playing     11.27      8.89     10.22         1.00                               \n",
       "...                             ...      ...             ...           ...       ...       ...       ...          ...          ...        ...    ...\n",
       "16710  samurai_warriors_sanada_maru      ps3          2016.0        action      0.00      0.00      0.01         0.00                               \n",
       "16711              lma_manager_2007     x360          2006.0        sports      0.00      0.01      0.00         0.00                               \n",
       "16712       haitaka_no_psychedelica      psv          2016.0     adventure      0.00      0.00      0.01         0.00                               \n",
       "16713                spirits_spells      gba          2003.0      platform      0.01      0.00      0.00         0.00                               \n",
       "16714           winning_post_8_2016      psv          2016.0    simulation      0.00      0.00      0.01         0.00                               \n",
       "\n",
       "[16715 rows x 11 columns]"
      ]
     },
     "execution_count": 6,
     "metadata": {},
     "output_type": "execute_result"
    }
   ],
   "source": [
    "# Standardize data frame string values with snake_case format\n",
    "df_vg = normalize_string_format(df_vg, exclude=['year_of_release', 'na_sales', 'eu_sales', 'jp_sales', 'other_sales', 'critic_score', 'user_score', 'rating'])\n",
    "df_vg"
   ]
  },
  {
   "cell_type": "markdown",
   "id": "0f4c8b22",
   "metadata": {},
   "source": [
    "##### `LSPL`\n",
    "\n",
    "**Note:** \n",
    "\n",
    "The column names and string values did not follow a consistent format; they contained spaces and capital letters, making them difficult to manipulate.\n",
    "\n",
    "__Solution__: Column names and string values were standardized using lowercase letters, removing spaces, and applying the snake_case format.   \n",
    "__Impact__: This facilitated data access and manipulation, improving readability and reducing errors in analysis."
   ]
  },
  {
   "cell_type": "markdown",
   "id": "61835131",
   "metadata": {},
   "source": [
    "### 3.2 Explicit duplicates"
   ]
  },
  {
   "cell_type": "code",
   "execution_count": 7,
   "id": "b0c9d50f",
   "metadata": {},
   "outputs": [
    {
     "data": {
      "text/html": [
       "> Explicit duplicates amount Dataframe <i>'df_vg'</i>: <b>0</b>"
      ],
      "text/plain": [
       "<IPython.core.display.HTML object>"
      ]
     },
     "metadata": {},
     "output_type": "display_data"
    }
   ],
   "source": [
    "# Show explicit duplicates amount\n",
    "display(HTML(f\"> Explicit duplicates amount Dataframe <i>'df_vg'</i>: <b>{df_vg.duplicated().sum()}</b>\"))"
   ]
  },
  {
   "cell_type": "code",
   "execution_count": 8,
   "id": "315cf4ac",
   "metadata": {},
   "outputs": [],
   "source": [
    "# Delete explicit duplicated rows\n",
    "# No explicit duplicates exist within df_vg"
   ]
  },
  {
   "cell_type": "markdown",
   "id": "6ad10fbf",
   "metadata": {},
   "source": [
    "##### `LSPL`\n",
    "\n",
    "**Note:** \n",
    "\n",
    "No explicit duplicate rows were detected."
   ]
  },
  {
   "cell_type": "markdown",
   "id": "9ac34c63",
   "metadata": {},
   "source": [
    "### 3.3 Missing values"
   ]
  },
  {
   "cell_type": "markdown",
   "id": "c4c13b8e",
   "metadata": {},
   "source": [
    "#### 3.3.1 Missing values check"
   ]
  },
  {
   "cell_type": "code",
   "execution_count": 9,
   "id": "702c85b7",
   "metadata": {},
   "outputs": [
    {
     "data": {
      "text/html": [
       "<h4>Scanning for Non-Standard Missing Values</h4>"
      ],
      "text/plain": [
       "<IPython.core.display.HTML object>"
      ]
     },
     "metadata": {},
     "output_type": "display_data"
    },
    {
     "data": {
      "text/html": [
       "> Missing values in column <i>'name'</i>: <b>2</b>"
      ],
      "text/plain": [
       "<IPython.core.display.HTML object>"
      ]
     },
     "metadata": {},
     "output_type": "display_data"
    },
    {
     "data": {
      "text/html": [
       "&emsp;Matched non-standard values: ['']"
      ],
      "text/plain": [
       "<IPython.core.display.HTML object>"
      ]
     },
     "metadata": {},
     "output_type": "display_data"
    },
    {
     "data": {
      "text/html": [
       "> Missing values in column <i>'platform'</i>: <b>None</b>"
      ],
      "text/plain": [
       "<IPython.core.display.HTML object>"
      ]
     },
     "metadata": {},
     "output_type": "display_data"
    },
    {
     "data": {
      "text/html": [
       "> Missing values in column <i>'year_of_release'</i>: <b>269</b>"
      ],
      "text/plain": [
       "<IPython.core.display.HTML object>"
      ]
     },
     "metadata": {},
     "output_type": "display_data"
    },
    {
     "data": {
      "text/html": [
       "&emsp;Matched non-standard values: ['']"
      ],
      "text/plain": [
       "<IPython.core.display.HTML object>"
      ]
     },
     "metadata": {},
     "output_type": "display_data"
    },
    {
     "data": {
      "text/html": [
       "> Missing values in column <i>'genre'</i>: <b>2</b>"
      ],
      "text/plain": [
       "<IPython.core.display.HTML object>"
      ]
     },
     "metadata": {},
     "output_type": "display_data"
    },
    {
     "data": {
      "text/html": [
       "&emsp;Matched non-standard values: ['']"
      ],
      "text/plain": [
       "<IPython.core.display.HTML object>"
      ]
     },
     "metadata": {},
     "output_type": "display_data"
    },
    {
     "data": {
      "text/html": [
       "> Missing values in column <i>'na_sales'</i>: <b>None</b>"
      ],
      "text/plain": [
       "<IPython.core.display.HTML object>"
      ]
     },
     "metadata": {},
     "output_type": "display_data"
    },
    {
     "data": {
      "text/html": [
       "> Missing values in column <i>'eu_sales'</i>: <b>None</b>"
      ],
      "text/plain": [
       "<IPython.core.display.HTML object>"
      ]
     },
     "metadata": {},
     "output_type": "display_data"
    },
    {
     "data": {
      "text/html": [
       "> Missing values in column <i>'jp_sales'</i>: <b>None</b>"
      ],
      "text/plain": [
       "<IPython.core.display.HTML object>"
      ]
     },
     "metadata": {},
     "output_type": "display_data"
    },
    {
     "data": {
      "text/html": [
       "> Missing values in column <i>'other_sales'</i>: <b>None</b>"
      ],
      "text/plain": [
       "<IPython.core.display.HTML object>"
      ]
     },
     "metadata": {},
     "output_type": "display_data"
    },
    {
     "data": {
      "text/html": [
       "> Missing values in column <i>'critic_score'</i>: <b>8578</b>"
      ],
      "text/plain": [
       "<IPython.core.display.HTML object>"
      ]
     },
     "metadata": {},
     "output_type": "display_data"
    },
    {
     "data": {
      "text/html": [
       "&emsp;Matched non-standard values: ['']"
      ],
      "text/plain": [
       "<IPython.core.display.HTML object>"
      ]
     },
     "metadata": {},
     "output_type": "display_data"
    },
    {
     "data": {
      "text/html": [
       "> Missing values in column <i>'user_score'</i>: <b>6701</b>"
      ],
      "text/plain": [
       "<IPython.core.display.HTML object>"
      ]
     },
     "metadata": {},
     "output_type": "display_data"
    },
    {
     "data": {
      "text/html": [
       "&emsp;Matched non-standard values: ['']"
      ],
      "text/plain": [
       "<IPython.core.display.HTML object>"
      ]
     },
     "metadata": {},
     "output_type": "display_data"
    },
    {
     "data": {
      "text/html": [
       "> Missing values in column <i>'rating'</i>: <b>6766</b>"
      ],
      "text/plain": [
       "<IPython.core.display.HTML object>"
      ]
     },
     "metadata": {},
     "output_type": "display_data"
    },
    {
     "data": {
      "text/html": [
       "&emsp;Matched non-standard values: ['']"
      ],
      "text/plain": [
       "<IPython.core.display.HTML object>"
      ]
     },
     "metadata": {},
     "output_type": "display_data"
    },
    {
     "name": "stdout",
     "output_type": "stream",
     "text": [
      "\n"
     ]
    }
   ],
   "source": [
    "# Show missing values\n",
    "check_existing_missing_values(df_vg)"
   ]
  },
  {
   "cell_type": "markdown",
   "id": "b06e035d",
   "metadata": {},
   "source": [
    "#### 3.3.2 Replacing missing values (pd.NA)"
   ]
  },
  {
   "cell_type": "code",
   "execution_count": 10,
   "id": "ac29c2bc",
   "metadata": {},
   "outputs": [
    {
     "data": {
      "application/vnd.microsoft.datawrangler.viewer.v0+json": {
       "columns": [
        {
         "name": "index",
         "rawType": "int64",
         "type": "integer"
        },
        {
         "name": "name",
         "rawType": "object",
         "type": "unknown"
        },
        {
         "name": "platform",
         "rawType": "object",
         "type": "string"
        },
        {
         "name": "year_of_release",
         "rawType": "object",
         "type": "unknown"
        },
        {
         "name": "genre",
         "rawType": "object",
         "type": "unknown"
        },
        {
         "name": "na_sales",
         "rawType": "float64",
         "type": "float"
        },
        {
         "name": "eu_sales",
         "rawType": "float64",
         "type": "float"
        },
        {
         "name": "jp_sales",
         "rawType": "float64",
         "type": "float"
        },
        {
         "name": "other_sales",
         "rawType": "float64",
         "type": "float"
        },
        {
         "name": "critic_score",
         "rawType": "object",
         "type": "unknown"
        },
        {
         "name": "user_score",
         "rawType": "object",
         "type": "unknown"
        },
        {
         "name": "rating",
         "rawType": "object",
         "type": "unknown"
        }
       ],
       "ref": "110a3ece-7875-4482-a986-d23c55c3af4a",
       "rows": [
        [
         "0",
         "wii_sports",
         "wii",
         "2006.0",
         "sports",
         "41.36",
         "28.96",
         "3.77",
         "8.45",
         "76.0",
         "8",
         "E"
        ],
        [
         "1",
         "super_mario_bros",
         "nes",
         "1985.0",
         "platform",
         "29.08",
         "3.58",
         "6.81",
         "0.77",
         null,
         null,
         null
        ],
        [
         "2",
         "mario_kart_wii",
         "wii",
         "2008.0",
         "racing",
         "15.68",
         "12.76",
         "3.79",
         "3.29",
         "82.0",
         "8.3",
         "E"
        ],
        [
         "3",
         "wii_sports_resort",
         "wii",
         "2009.0",
         "sports",
         "15.61",
         "10.93",
         "3.28",
         "2.95",
         "80.0",
         "8",
         "E"
        ],
        [
         "4",
         "pokemon_red_pokemon_blue",
         "gb",
         "1996.0",
         "role_playing",
         "11.27",
         "8.89",
         "10.22",
         "1.0",
         null,
         null,
         null
        ],
        [
         "5",
         "tetris",
         "gb",
         "1989.0",
         "puzzle",
         "23.2",
         "2.26",
         "4.22",
         "0.58",
         null,
         null,
         null
        ],
        [
         "6",
         "new_super_mario_bros",
         "ds",
         "2006.0",
         "platform",
         "11.28",
         "9.14",
         "6.5",
         "2.88",
         "89.0",
         "8.5",
         "E"
        ],
        [
         "7",
         "wii_play",
         "wii",
         "2006.0",
         "misc",
         "13.96",
         "9.18",
         "2.93",
         "2.84",
         "58.0",
         "6.6",
         "E"
        ],
        [
         "8",
         "new_super_mario_bros_wii",
         "wii",
         "2009.0",
         "platform",
         "14.44",
         "6.94",
         "4.7",
         "2.24",
         "87.0",
         "8.4",
         "E"
        ],
        [
         "9",
         "duck_hunt",
         "nes",
         "1984.0",
         "shooter",
         "26.93",
         "0.63",
         "0.28",
         "0.47",
         null,
         null,
         null
        ],
        [
         "10",
         "nintendogs",
         "ds",
         "2005.0",
         "simulation",
         "9.05",
         "10.95",
         "1.93",
         "2.74",
         null,
         null,
         null
        ],
        [
         "11",
         "mario_kart_ds",
         "ds",
         "2005.0",
         "racing",
         "9.71",
         "7.47",
         "4.13",
         "1.9",
         "91.0",
         "8.6",
         "E"
        ],
        [
         "12",
         "pokemon_gold_pokemon_silver",
         "gb",
         "1999.0",
         "role_playing",
         "9.0",
         "6.18",
         "7.2",
         "0.71",
         null,
         null,
         null
        ],
        [
         "13",
         "wii_fit",
         "wii",
         "2007.0",
         "sports",
         "8.92",
         "8.03",
         "3.6",
         "2.15",
         "80.0",
         "7.7",
         "E"
        ],
        [
         "14",
         "kinect_adventures",
         "x360",
         "2010.0",
         "misc",
         "15.0",
         "4.89",
         "0.24",
         "1.69",
         "61.0",
         "6.3",
         "E"
        ],
        [
         "15",
         "wii_fit_plus",
         "wii",
         "2009.0",
         "sports",
         "9.01",
         "8.49",
         "2.53",
         "1.77",
         "80.0",
         "7.4",
         "E"
        ],
        [
         "16",
         "grand_theft_auto_v",
         "ps3",
         "2013.0",
         "action",
         "7.02",
         "9.09",
         "0.98",
         "3.96",
         "97.0",
         "8.2",
         "M"
        ],
        [
         "17",
         "grand_theft_auto_san_andreas",
         "ps2",
         "2004.0",
         "action",
         "9.43",
         "0.4",
         "0.41",
         "10.57",
         "95.0",
         "9",
         "M"
        ],
        [
         "18",
         "super_mario_world",
         "snes",
         "1990.0",
         "platform",
         "12.78",
         "3.75",
         "3.54",
         "0.55",
         null,
         null,
         null
        ],
        [
         "19",
         "brain_age_train_your_brain_in_minutes_a_day",
         "ds",
         "2005.0",
         "misc",
         "4.74",
         "9.2",
         "4.16",
         "2.04",
         "77.0",
         "7.9",
         "E"
        ],
        [
         "20",
         "pokemon_diamond_pokemon_pearl",
         "ds",
         "2006.0",
         "role_playing",
         "6.38",
         "4.46",
         "6.04",
         "1.36",
         null,
         null,
         null
        ],
        [
         "21",
         "super_mario_land",
         "gb",
         "1989.0",
         "platform",
         "10.83",
         "2.71",
         "4.18",
         "0.42",
         null,
         null,
         null
        ],
        [
         "22",
         "super_mario_bros_3",
         "nes",
         "1988.0",
         "platform",
         "9.54",
         "3.44",
         "3.84",
         "0.46",
         null,
         null,
         null
        ],
        [
         "23",
         "grand_theft_auto_v",
         "x360",
         "2013.0",
         "action",
         "9.66",
         "5.14",
         "0.06",
         "1.41",
         "97.0",
         "8.1",
         "M"
        ],
        [
         "24",
         "grand_theft_auto_vice_city",
         "ps2",
         "2002.0",
         "action",
         "8.41",
         "5.49",
         "0.47",
         "1.78",
         "95.0",
         "8.7",
         "M"
        ],
        [
         "25",
         "pokemon_ruby_pokemon_sapphire",
         "gba",
         "2002.0",
         "role_playing",
         "6.06",
         "3.9",
         "5.38",
         "0.5",
         null,
         null,
         null
        ],
        [
         "26",
         "brain_age_2_more_training_in_minutes_a_day",
         "ds",
         "2005.0",
         "puzzle",
         "3.43",
         "5.35",
         "5.32",
         "1.18",
         "77.0",
         "7.1",
         "E"
        ],
        [
         "27",
         "pokemon_black_pokemon_white",
         "ds",
         "2010.0",
         "role_playing",
         "5.51",
         "3.17",
         "5.65",
         "0.8",
         null,
         null,
         null
        ],
        [
         "28",
         "gran_turismo_3_a_spec",
         "ps2",
         "2001.0",
         "racing",
         "6.85",
         "5.09",
         "1.87",
         "1.16",
         "95.0",
         "8.4",
         "E"
        ],
        [
         "29",
         "call_of_duty_modern_warfare_3",
         "x360",
         "2011.0",
         "shooter",
         "9.04",
         "4.24",
         "0.13",
         "1.32",
         "88.0",
         "3.4",
         "M"
        ],
        [
         "30",
         "pokémon_yellow_special_pikachu_edition",
         "gb",
         "1998.0",
         "role_playing",
         "5.89",
         "5.04",
         "3.12",
         "0.59",
         null,
         null,
         null
        ],
        [
         "31",
         "call_of_duty_black_ops_3",
         "ps4",
         "2015.0",
         "shooter",
         "6.03",
         "5.86",
         "0.36",
         "2.38",
         null,
         null,
         null
        ],
        [
         "32",
         "call_of_duty_black_ops",
         "x360",
         "2010.0",
         "shooter",
         "9.7",
         "3.68",
         "0.11",
         "1.13",
         "87.0",
         "6.3",
         "M"
        ],
        [
         "33",
         "pokemon_x_pokemon_y",
         "3ds",
         "2013.0",
         "role_playing",
         "5.28",
         "4.19",
         "4.35",
         "0.78",
         null,
         null,
         null
        ],
        [
         "34",
         "call_of_duty_black_ops_ii",
         "ps3",
         "2012.0",
         "shooter",
         "4.99",
         "5.73",
         "0.65",
         "2.42",
         "83.0",
         "5.3",
         "M"
        ],
        [
         "35",
         "call_of_duty_black_ops_ii",
         "x360",
         "2012.0",
         "shooter",
         "8.25",
         "4.24",
         "0.07",
         "1.12",
         "83.0",
         "4.8",
         "M"
        ],
        [
         "36",
         "call_of_duty_modern_warfare_2",
         "x360",
         "2009.0",
         "shooter",
         "8.52",
         "3.59",
         "0.08",
         "1.28",
         "94.0",
         "6.3",
         "M"
        ],
        [
         "37",
         "call_of_duty_modern_warfare_3",
         "ps3",
         "2011.0",
         "shooter",
         "5.54",
         "5.73",
         "0.49",
         "1.57",
         "88.0",
         "3.2",
         "M"
        ],
        [
         "38",
         "grand_theft_auto_iii",
         "ps2",
         "2001.0",
         "action",
         "6.99",
         "4.51",
         "0.3",
         "1.3",
         "97.0",
         "8.5",
         "M"
        ],
        [
         "39",
         "super_smash_bros_brawl",
         "wii",
         "2008.0",
         "fighting",
         "6.62",
         "2.55",
         "2.66",
         "1.01",
         "93.0",
         "8.9",
         "T"
        ],
        [
         "40",
         "mario_kart_7",
         "3ds",
         "2011.0",
         "racing",
         "5.03",
         "4.02",
         "2.69",
         "0.91",
         "85.0",
         "8.2",
         "E"
        ],
        [
         "41",
         "call_of_duty_black_ops",
         "ps3",
         "2010.0",
         "shooter",
         "5.99",
         "4.37",
         "0.48",
         "1.79",
         "88.0",
         "6.4",
         "M"
        ],
        [
         "42",
         "grand_theft_auto_v",
         "ps4",
         "2014.0",
         "action",
         "3.96",
         "6.31",
         "0.38",
         "1.97",
         "97.0",
         "8.3",
         "M"
        ],
        [
         "43",
         "animal_crossing_wild_world",
         "ds",
         "2005.0",
         "simulation",
         "2.5",
         "3.45",
         "5.33",
         "0.86",
         "86.0",
         "8.7",
         "E"
        ],
        [
         "44",
         "halo_3",
         "x360",
         "2007.0",
         "shooter",
         "7.97",
         "2.81",
         "0.13",
         "1.21",
         "94.0",
         "7.8",
         "M"
        ],
        [
         "45",
         "super_mario_64",
         "n64",
         "1996.0",
         "platform",
         "6.91",
         "2.85",
         "1.91",
         "0.23",
         null,
         null,
         null
        ],
        [
         "46",
         "pokemon_heartgold_pokemon_soulsilver",
         "ds",
         "2009.0",
         "action",
         "4.34",
         "2.71",
         "3.96",
         "0.76",
         null,
         null,
         null
        ],
        [
         "47",
         "pokemon_omega_ruby_pokemon_alpha_sapphire",
         "3ds",
         "2014.0",
         "role_playing",
         "4.35",
         "3.49",
         "3.1",
         "0.74",
         null,
         null,
         null
        ],
        [
         "48",
         "gran_turismo_4",
         "ps2",
         "2004.0",
         "racing",
         "3.01",
         "0.01",
         "1.1",
         "7.53",
         "89.0",
         "8.5",
         "E"
        ],
        [
         "49",
         "super_mario_galaxy",
         "wii",
         "2007.0",
         "platform",
         "6.06",
         "3.35",
         "1.2",
         "0.74",
         "97.0",
         "8.9",
         "E"
        ]
       ],
       "shape": {
        "columns": 11,
        "rows": 16715
       }
      },
      "text/html": [
       "<div>\n",
       "<style scoped>\n",
       "    .dataframe tbody tr th:only-of-type {\n",
       "        vertical-align: middle;\n",
       "    }\n",
       "\n",
       "    .dataframe tbody tr th {\n",
       "        vertical-align: top;\n",
       "    }\n",
       "\n",
       "    .dataframe thead th {\n",
       "        text-align: right;\n",
       "    }\n",
       "</style>\n",
       "<table border=\"1\" class=\"dataframe\">\n",
       "  <thead>\n",
       "    <tr style=\"text-align: right;\">\n",
       "      <th></th>\n",
       "      <th>name</th>\n",
       "      <th>platform</th>\n",
       "      <th>year_of_release</th>\n",
       "      <th>genre</th>\n",
       "      <th>na_sales</th>\n",
       "      <th>eu_sales</th>\n",
       "      <th>jp_sales</th>\n",
       "      <th>other_sales</th>\n",
       "      <th>critic_score</th>\n",
       "      <th>user_score</th>\n",
       "      <th>rating</th>\n",
       "    </tr>\n",
       "  </thead>\n",
       "  <tbody>\n",
       "    <tr>\n",
       "      <th>0</th>\n",
       "      <td>wii_sports</td>\n",
       "      <td>wii</td>\n",
       "      <td>2006.0</td>\n",
       "      <td>sports</td>\n",
       "      <td>41.36</td>\n",
       "      <td>28.96</td>\n",
       "      <td>3.77</td>\n",
       "      <td>8.45</td>\n",
       "      <td>76.0</td>\n",
       "      <td>8</td>\n",
       "      <td>E</td>\n",
       "    </tr>\n",
       "    <tr>\n",
       "      <th>1</th>\n",
       "      <td>super_mario_bros</td>\n",
       "      <td>nes</td>\n",
       "      <td>1985.0</td>\n",
       "      <td>platform</td>\n",
       "      <td>29.08</td>\n",
       "      <td>3.58</td>\n",
       "      <td>6.81</td>\n",
       "      <td>0.77</td>\n",
       "      <td>&lt;NA&gt;</td>\n",
       "      <td>&lt;NA&gt;</td>\n",
       "      <td>&lt;NA&gt;</td>\n",
       "    </tr>\n",
       "    <tr>\n",
       "      <th>2</th>\n",
       "      <td>mario_kart_wii</td>\n",
       "      <td>wii</td>\n",
       "      <td>2008.0</td>\n",
       "      <td>racing</td>\n",
       "      <td>15.68</td>\n",
       "      <td>12.76</td>\n",
       "      <td>3.79</td>\n",
       "      <td>3.29</td>\n",
       "      <td>82.0</td>\n",
       "      <td>8.3</td>\n",
       "      <td>E</td>\n",
       "    </tr>\n",
       "    <tr>\n",
       "      <th>3</th>\n",
       "      <td>wii_sports_resort</td>\n",
       "      <td>wii</td>\n",
       "      <td>2009.0</td>\n",
       "      <td>sports</td>\n",
       "      <td>15.61</td>\n",
       "      <td>10.93</td>\n",
       "      <td>3.28</td>\n",
       "      <td>2.95</td>\n",
       "      <td>80.0</td>\n",
       "      <td>8</td>\n",
       "      <td>E</td>\n",
       "    </tr>\n",
       "    <tr>\n",
       "      <th>4</th>\n",
       "      <td>pokemon_red_pokemon_blue</td>\n",
       "      <td>gb</td>\n",
       "      <td>1996.0</td>\n",
       "      <td>role_playing</td>\n",
       "      <td>11.27</td>\n",
       "      <td>8.89</td>\n",
       "      <td>10.22</td>\n",
       "      <td>1.00</td>\n",
       "      <td>&lt;NA&gt;</td>\n",
       "      <td>&lt;NA&gt;</td>\n",
       "      <td>&lt;NA&gt;</td>\n",
       "    </tr>\n",
       "    <tr>\n",
       "      <th>...</th>\n",
       "      <td>...</td>\n",
       "      <td>...</td>\n",
       "      <td>...</td>\n",
       "      <td>...</td>\n",
       "      <td>...</td>\n",
       "      <td>...</td>\n",
       "      <td>...</td>\n",
       "      <td>...</td>\n",
       "      <td>...</td>\n",
       "      <td>...</td>\n",
       "      <td>...</td>\n",
       "    </tr>\n",
       "    <tr>\n",
       "      <th>16710</th>\n",
       "      <td>samurai_warriors_sanada_maru</td>\n",
       "      <td>ps3</td>\n",
       "      <td>2016.0</td>\n",
       "      <td>action</td>\n",
       "      <td>0.00</td>\n",
       "      <td>0.00</td>\n",
       "      <td>0.01</td>\n",
       "      <td>0.00</td>\n",
       "      <td>&lt;NA&gt;</td>\n",
       "      <td>&lt;NA&gt;</td>\n",
       "      <td>&lt;NA&gt;</td>\n",
       "    </tr>\n",
       "    <tr>\n",
       "      <th>16711</th>\n",
       "      <td>lma_manager_2007</td>\n",
       "      <td>x360</td>\n",
       "      <td>2006.0</td>\n",
       "      <td>sports</td>\n",
       "      <td>0.00</td>\n",
       "      <td>0.01</td>\n",
       "      <td>0.00</td>\n",
       "      <td>0.00</td>\n",
       "      <td>&lt;NA&gt;</td>\n",
       "      <td>&lt;NA&gt;</td>\n",
       "      <td>&lt;NA&gt;</td>\n",
       "    </tr>\n",
       "    <tr>\n",
       "      <th>16712</th>\n",
       "      <td>haitaka_no_psychedelica</td>\n",
       "      <td>psv</td>\n",
       "      <td>2016.0</td>\n",
       "      <td>adventure</td>\n",
       "      <td>0.00</td>\n",
       "      <td>0.00</td>\n",
       "      <td>0.01</td>\n",
       "      <td>0.00</td>\n",
       "      <td>&lt;NA&gt;</td>\n",
       "      <td>&lt;NA&gt;</td>\n",
       "      <td>&lt;NA&gt;</td>\n",
       "    </tr>\n",
       "    <tr>\n",
       "      <th>16713</th>\n",
       "      <td>spirits_spells</td>\n",
       "      <td>gba</td>\n",
       "      <td>2003.0</td>\n",
       "      <td>platform</td>\n",
       "      <td>0.01</td>\n",
       "      <td>0.00</td>\n",
       "      <td>0.00</td>\n",
       "      <td>0.00</td>\n",
       "      <td>&lt;NA&gt;</td>\n",
       "      <td>&lt;NA&gt;</td>\n",
       "      <td>&lt;NA&gt;</td>\n",
       "    </tr>\n",
       "    <tr>\n",
       "      <th>16714</th>\n",
       "      <td>winning_post_8_2016</td>\n",
       "      <td>psv</td>\n",
       "      <td>2016.0</td>\n",
       "      <td>simulation</td>\n",
       "      <td>0.00</td>\n",
       "      <td>0.00</td>\n",
       "      <td>0.01</td>\n",
       "      <td>0.00</td>\n",
       "      <td>&lt;NA&gt;</td>\n",
       "      <td>&lt;NA&gt;</td>\n",
       "      <td>&lt;NA&gt;</td>\n",
       "    </tr>\n",
       "  </tbody>\n",
       "</table>\n",
       "<p>16715 rows × 11 columns</p>\n",
       "</div>"
      ],
      "text/plain": [
       "                               name platform year_of_release         genre  na_sales  eu_sales  jp_sales  other_sales critic_score user_score rating\n",
       "0                        wii_sports      wii          2006.0        sports     41.36     28.96      3.77         8.45         76.0          8      E\n",
       "1                  super_mario_bros      nes          1985.0      platform     29.08      3.58      6.81         0.77         <NA>       <NA>   <NA>\n",
       "2                    mario_kart_wii      wii          2008.0        racing     15.68     12.76      3.79         3.29         82.0        8.3      E\n",
       "3                 wii_sports_resort      wii          2009.0        sports     15.61     10.93      3.28         2.95         80.0          8      E\n",
       "4          pokemon_red_pokemon_blue       gb          1996.0  role_playing     11.27      8.89     10.22         1.00         <NA>       <NA>   <NA>\n",
       "...                             ...      ...             ...           ...       ...       ...       ...          ...          ...        ...    ...\n",
       "16710  samurai_warriors_sanada_maru      ps3          2016.0        action      0.00      0.00      0.01         0.00         <NA>       <NA>   <NA>\n",
       "16711              lma_manager_2007     x360          2006.0        sports      0.00      0.01      0.00         0.00         <NA>       <NA>   <NA>\n",
       "16712       haitaka_no_psychedelica      psv          2016.0     adventure      0.00      0.00      0.01         0.00         <NA>       <NA>   <NA>\n",
       "16713                spirits_spells      gba          2003.0      platform      0.01      0.00      0.00         0.00         <NA>       <NA>   <NA>\n",
       "16714           winning_post_8_2016      psv          2016.0    simulation      0.00      0.00      0.01         0.00         <NA>       <NA>   <NA>\n",
       "\n",
       "[16715 rows x 11 columns]"
      ]
     },
     "execution_count": 10,
     "metadata": {},
     "output_type": "execute_result"
    }
   ],
   "source": [
    "# Replace missing values with pd.NA\n",
    "df_vg = replace_missing_values(df_vg, include=['name', 'year_of_release', 'genre', 'critic_score', 'user_score', 'rating'])\n",
    "df_vg"
   ]
  },
  {
   "cell_type": "markdown",
   "id": "c916cd64",
   "metadata": {},
   "source": [
    "#### 3.3.3 Preview missing values"
   ]
  },
  {
   "cell_type": "code",
   "execution_count": 11,
   "id": "d06fa1d4",
   "metadata": {},
   "outputs": [
    {
     "data": {
      "image/png": "[encoded data removed]",
      "text/plain": [
       "<Figure size 1500x700 with 1 Axes>"
      ]
     },
     "metadata": {},
     "output_type": "display_data"
    }
   ],
   "source": [
    "# Show missing values heatmap\n",
    "missing_values_heatmap(df_vg)"
   ]
  },
  {
   "cell_type": "markdown",
   "id": "e5e56f71",
   "metadata": {},
   "source": [
    "#### 3.3.4  Missing values data imputation"
   ]
  },
  {
   "cell_type": "markdown",
   "id": "4c59e85f",
   "metadata": {},
   "source": [
    "##### 3.3.4.1  Missing values data imputation for 'name' column"
   ]
  },
  {
   "cell_type": "code",
   "execution_count": 12,
   "id": "4a3cc7ad",
   "metadata": {},
   "outputs": [
    {
     "data": {
      "application/vnd.microsoft.datawrangler.viewer.v0+json": {
       "columns": [
        {
         "name": "index",
         "rawType": "int64",
         "type": "integer"
        },
        {
         "name": "name",
         "rawType": "object",
         "type": "unknown"
        },
        {
         "name": "platform",
         "rawType": "object",
         "type": "string"
        },
        {
         "name": "year_of_release",
         "rawType": "object",
         "type": "string"
        },
        {
         "name": "genre",
         "rawType": "object",
         "type": "unknown"
        },
        {
         "name": "na_sales",
         "rawType": "float64",
         "type": "float"
        },
        {
         "name": "eu_sales",
         "rawType": "float64",
         "type": "float"
        },
        {
         "name": "jp_sales",
         "rawType": "float64",
         "type": "float"
        },
        {
         "name": "other_sales",
         "rawType": "float64",
         "type": "float"
        },
        {
         "name": "critic_score",
         "rawType": "object",
         "type": "unknown"
        },
        {
         "name": "user_score",
         "rawType": "object",
         "type": "unknown"
        },
        {
         "name": "rating",
         "rawType": "object",
         "type": "unknown"
        }
       ],
       "ref": "53a09c0c-9408-45d8-a9d8-d22fd05f3323",
       "rows": [
        [
         "659",
         null,
         "gen",
         "1993.0",
         null,
         "1.78",
         "0.53",
         "0.0",
         "0.08",
         null,
         null,
         null
        ],
        [
         "14244",
         null,
         "gen",
         "1993.0",
         null,
         "0.0",
         "0.0",
         "0.03",
         "0.0",
         null,
         null,
         null
        ]
       ],
       "shape": {
        "columns": 11,
        "rows": 2
       }
      },
      "text/html": [
       "<div>\n",
       "<style scoped>\n",
       "    .dataframe tbody tr th:only-of-type {\n",
       "        vertical-align: middle;\n",
       "    }\n",
       "\n",
       "    .dataframe tbody tr th {\n",
       "        vertical-align: top;\n",
       "    }\n",
       "\n",
       "    .dataframe thead th {\n",
       "        text-align: right;\n",
       "    }\n",
       "</style>\n",
       "<table border=\"1\" class=\"dataframe\">\n",
       "  <thead>\n",
       "    <tr style=\"text-align: right;\">\n",
       "      <th></th>\n",
       "      <th>name</th>\n",
       "      <th>platform</th>\n",
       "      <th>year_of_release</th>\n",
       "      <th>genre</th>\n",
       "      <th>na_sales</th>\n",
       "      <th>eu_sales</th>\n",
       "      <th>jp_sales</th>\n",
       "      <th>other_sales</th>\n",
       "      <th>critic_score</th>\n",
       "      <th>user_score</th>\n",
       "      <th>rating</th>\n",
       "    </tr>\n",
       "  </thead>\n",
       "  <tbody>\n",
       "    <tr>\n",
       "      <th>659</th>\n",
       "      <td>&lt;NA&gt;</td>\n",
       "      <td>gen</td>\n",
       "      <td>1993.0</td>\n",
       "      <td>&lt;NA&gt;</td>\n",
       "      <td>1.78</td>\n",
       "      <td>0.53</td>\n",
       "      <td>0.00</td>\n",
       "      <td>0.08</td>\n",
       "      <td>&lt;NA&gt;</td>\n",
       "      <td>&lt;NA&gt;</td>\n",
       "      <td>&lt;NA&gt;</td>\n",
       "    </tr>\n",
       "    <tr>\n",
       "      <th>14244</th>\n",
       "      <td>&lt;NA&gt;</td>\n",
       "      <td>gen</td>\n",
       "      <td>1993.0</td>\n",
       "      <td>&lt;NA&gt;</td>\n",
       "      <td>0.00</td>\n",
       "      <td>0.00</td>\n",
       "      <td>0.03</td>\n",
       "      <td>0.00</td>\n",
       "      <td>&lt;NA&gt;</td>\n",
       "      <td>&lt;NA&gt;</td>\n",
       "      <td>&lt;NA&gt;</td>\n",
       "    </tr>\n",
       "  </tbody>\n",
       "</table>\n",
       "</div>"
      ],
      "text/plain": [
       "       name platform year_of_release genre  na_sales  eu_sales  jp_sales  other_sales critic_score user_score rating\n",
       "659    <NA>      gen          1993.0  <NA>      1.78      0.53      0.00         0.08         <NA>       <NA>   <NA>\n",
       "14244  <NA>      gen          1993.0  <NA>      0.00      0.00      0.03         0.00         <NA>       <NA>   <NA>"
      ]
     },
     "execution_count": 12,
     "metadata": {},
     "output_type": "execute_result"
    }
   ],
   "source": [
    "# Show pd.NA missing values for 'name' column\n",
    "df_vg.loc[df_vg['name'].isna(), :]"
   ]
  },
  {
   "cell_type": "code",
   "execution_count": 13,
   "id": "190435ca",
   "metadata": {},
   "outputs": [
    {
     "data": {
      "application/vnd.microsoft.datawrangler.viewer.v0+json": {
       "columns": [
        {
         "name": "index",
         "rawType": "int64",
         "type": "integer"
        },
        {
         "name": "name",
         "rawType": "object",
         "type": "string"
        },
        {
         "name": "platform",
         "rawType": "object",
         "type": "string"
        },
        {
         "name": "year_of_release",
         "rawType": "object",
         "type": "string"
        },
        {
         "name": "genre",
         "rawType": "object",
         "type": "unknown"
        },
        {
         "name": "na_sales",
         "rawType": "float64",
         "type": "float"
        },
        {
         "name": "eu_sales",
         "rawType": "float64",
         "type": "float"
        },
        {
         "name": "jp_sales",
         "rawType": "float64",
         "type": "float"
        },
        {
         "name": "other_sales",
         "rawType": "float64",
         "type": "float"
        },
        {
         "name": "critic_score",
         "rawType": "object",
         "type": "unknown"
        },
        {
         "name": "user_score",
         "rawType": "object",
         "type": "unknown"
        },
        {
         "name": "rating",
         "rawType": "object",
         "type": "unknown"
        }
       ],
       "ref": "bfb8cd14-bebb-4e79-b2ce-4ddbeb799d05",
       "rows": [
        [
         "659",
         "unknown",
         "gen",
         "1993.0",
         null,
         "1.78",
         "0.53",
         "0.0",
         "0.08",
         null,
         null,
         null
        ],
        [
         "14244",
         "unknown",
         "gen",
         "1993.0",
         null,
         "0.0",
         "0.0",
         "0.03",
         "0.0",
         null,
         null,
         null
        ]
       ],
       "shape": {
        "columns": 11,
        "rows": 2
       }
      },
      "text/html": [
       "<div>\n",
       "<style scoped>\n",
       "    .dataframe tbody tr th:only-of-type {\n",
       "        vertical-align: middle;\n",
       "    }\n",
       "\n",
       "    .dataframe tbody tr th {\n",
       "        vertical-align: top;\n",
       "    }\n",
       "\n",
       "    .dataframe thead th {\n",
       "        text-align: right;\n",
       "    }\n",
       "</style>\n",
       "<table border=\"1\" class=\"dataframe\">\n",
       "  <thead>\n",
       "    <tr style=\"text-align: right;\">\n",
       "      <th></th>\n",
       "      <th>name</th>\n",
       "      <th>platform</th>\n",
       "      <th>year_of_release</th>\n",
       "      <th>genre</th>\n",
       "      <th>na_sales</th>\n",
       "      <th>eu_sales</th>\n",
       "      <th>jp_sales</th>\n",
       "      <th>other_sales</th>\n",
       "      <th>critic_score</th>\n",
       "      <th>user_score</th>\n",
       "      <th>rating</th>\n",
       "    </tr>\n",
       "  </thead>\n",
       "  <tbody>\n",
       "    <tr>\n",
       "      <th>659</th>\n",
       "      <td>unknown</td>\n",
       "      <td>gen</td>\n",
       "      <td>1993.0</td>\n",
       "      <td>&lt;NA&gt;</td>\n",
       "      <td>1.78</td>\n",
       "      <td>0.53</td>\n",
       "      <td>0.00</td>\n",
       "      <td>0.08</td>\n",
       "      <td>&lt;NA&gt;</td>\n",
       "      <td>&lt;NA&gt;</td>\n",
       "      <td>&lt;NA&gt;</td>\n",
       "    </tr>\n",
       "    <tr>\n",
       "      <th>14244</th>\n",
       "      <td>unknown</td>\n",
       "      <td>gen</td>\n",
       "      <td>1993.0</td>\n",
       "      <td>&lt;NA&gt;</td>\n",
       "      <td>0.00</td>\n",
       "      <td>0.00</td>\n",
       "      <td>0.03</td>\n",
       "      <td>0.00</td>\n",
       "      <td>&lt;NA&gt;</td>\n",
       "      <td>&lt;NA&gt;</td>\n",
       "      <td>&lt;NA&gt;</td>\n",
       "    </tr>\n",
       "  </tbody>\n",
       "</table>\n",
       "</div>"
      ],
      "text/plain": [
       "          name platform year_of_release genre  na_sales  eu_sales  jp_sales  other_sales critic_score user_score rating\n",
       "659    unknown      gen          1993.0  <NA>      1.78      0.53      0.00         0.08         <NA>       <NA>   <NA>\n",
       "14244  unknown      gen          1993.0  <NA>      0.00      0.00      0.03         0.00         <NA>       <NA>   <NA>"
      ]
     },
     "execution_count": 13,
     "metadata": {},
     "output_type": "execute_result"
    }
   ],
   "source": [
    "# Missing values in 'name' and 'genre' occur in the same records, which still contain relevant data. \n",
    "# To preserve them, missing values will be filled with 'unknown' instead of being dropped.\n",
    "df_vg['name'] = df_vg['name'].fillna('unknown')\n",
    "df_vg.iloc[[659, 14244], :]"
   ]
  },
  {
   "cell_type": "markdown",
   "id": "be5b8d70",
   "metadata": {},
   "source": [
    "##### 3.3.4.2  Missing values data imputation for 'genre' column"
   ]
  },
  {
   "cell_type": "code",
   "execution_count": 14,
   "id": "1c4bf656",
   "metadata": {},
   "outputs": [
    {
     "data": {
      "application/vnd.microsoft.datawrangler.viewer.v0+json": {
       "columns": [
        {
         "name": "index",
         "rawType": "int64",
         "type": "integer"
        },
        {
         "name": "name",
         "rawType": "object",
         "type": "string"
        },
        {
         "name": "platform",
         "rawType": "object",
         "type": "string"
        },
        {
         "name": "year_of_release",
         "rawType": "object",
         "type": "string"
        },
        {
         "name": "genre",
         "rawType": "object",
         "type": "unknown"
        },
        {
         "name": "na_sales",
         "rawType": "float64",
         "type": "float"
        },
        {
         "name": "eu_sales",
         "rawType": "float64",
         "type": "float"
        },
        {
         "name": "jp_sales",
         "rawType": "float64",
         "type": "float"
        },
        {
         "name": "other_sales",
         "rawType": "float64",
         "type": "float"
        },
        {
         "name": "critic_score",
         "rawType": "object",
         "type": "unknown"
        },
        {
         "name": "user_score",
         "rawType": "object",
         "type": "unknown"
        },
        {
         "name": "rating",
         "rawType": "object",
         "type": "unknown"
        }
       ],
       "ref": "5e65b11f-2c33-47ca-abd8-b24cb76628f6",
       "rows": [
        [
         "659",
         "unknown",
         "gen",
         "1993.0",
         null,
         "1.78",
         "0.53",
         "0.0",
         "0.08",
         null,
         null,
         null
        ],
        [
         "14244",
         "unknown",
         "gen",
         "1993.0",
         null,
         "0.0",
         "0.0",
         "0.03",
         "0.0",
         null,
         null,
         null
        ]
       ],
       "shape": {
        "columns": 11,
        "rows": 2
       }
      },
      "text/html": [
       "<div>\n",
       "<style scoped>\n",
       "    .dataframe tbody tr th:only-of-type {\n",
       "        vertical-align: middle;\n",
       "    }\n",
       "\n",
       "    .dataframe tbody tr th {\n",
       "        vertical-align: top;\n",
       "    }\n",
       "\n",
       "    .dataframe thead th {\n",
       "        text-align: right;\n",
       "    }\n",
       "</style>\n",
       "<table border=\"1\" class=\"dataframe\">\n",
       "  <thead>\n",
       "    <tr style=\"text-align: right;\">\n",
       "      <th></th>\n",
       "      <th>name</th>\n",
       "      <th>platform</th>\n",
       "      <th>year_of_release</th>\n",
       "      <th>genre</th>\n",
       "      <th>na_sales</th>\n",
       "      <th>eu_sales</th>\n",
       "      <th>jp_sales</th>\n",
       "      <th>other_sales</th>\n",
       "      <th>critic_score</th>\n",
       "      <th>user_score</th>\n",
       "      <th>rating</th>\n",
       "    </tr>\n",
       "  </thead>\n",
       "  <tbody>\n",
       "    <tr>\n",
       "      <th>659</th>\n",
       "      <td>unknown</td>\n",
       "      <td>gen</td>\n",
       "      <td>1993.0</td>\n",
       "      <td>&lt;NA&gt;</td>\n",
       "      <td>1.78</td>\n",
       "      <td>0.53</td>\n",
       "      <td>0.00</td>\n",
       "      <td>0.08</td>\n",
       "      <td>&lt;NA&gt;</td>\n",
       "      <td>&lt;NA&gt;</td>\n",
       "      <td>&lt;NA&gt;</td>\n",
       "    </tr>\n",
       "    <tr>\n",
       "      <th>14244</th>\n",
       "      <td>unknown</td>\n",
       "      <td>gen</td>\n",
       "      <td>1993.0</td>\n",
       "      <td>&lt;NA&gt;</td>\n",
       "      <td>0.00</td>\n",
       "      <td>0.00</td>\n",
       "      <td>0.03</td>\n",
       "      <td>0.00</td>\n",
       "      <td>&lt;NA&gt;</td>\n",
       "      <td>&lt;NA&gt;</td>\n",
       "      <td>&lt;NA&gt;</td>\n",
       "    </tr>\n",
       "  </tbody>\n",
       "</table>\n",
       "</div>"
      ],
      "text/plain": [
       "          name platform year_of_release genre  na_sales  eu_sales  jp_sales  other_sales critic_score user_score rating\n",
       "659    unknown      gen          1993.0  <NA>      1.78      0.53      0.00         0.08         <NA>       <NA>   <NA>\n",
       "14244  unknown      gen          1993.0  <NA>      0.00      0.00      0.03         0.00         <NA>       <NA>   <NA>"
      ]
     },
     "execution_count": 14,
     "metadata": {},
     "output_type": "execute_result"
    }
   ],
   "source": [
    "# Show pd.NA missing values for 'genre' column\n",
    "df_vg.loc[df_vg['genre'].isna(), :]"
   ]
  },
  {
   "cell_type": "code",
   "execution_count": 15,
   "id": "9ee4a2ed",
   "metadata": {},
   "outputs": [
    {
     "data": {
      "application/vnd.microsoft.datawrangler.viewer.v0+json": {
       "columns": [
        {
         "name": "index",
         "rawType": "int64",
         "type": "integer"
        },
        {
         "name": "name",
         "rawType": "object",
         "type": "string"
        },
        {
         "name": "platform",
         "rawType": "object",
         "type": "string"
        },
        {
         "name": "year_of_release",
         "rawType": "object",
         "type": "string"
        },
        {
         "name": "genre",
         "rawType": "object",
         "type": "string"
        },
        {
         "name": "na_sales",
         "rawType": "float64",
         "type": "float"
        },
        {
         "name": "eu_sales",
         "rawType": "float64",
         "type": "float"
        },
        {
         "name": "jp_sales",
         "rawType": "float64",
         "type": "float"
        },
        {
         "name": "other_sales",
         "rawType": "float64",
         "type": "float"
        },
        {
         "name": "critic_score",
         "rawType": "object",
         "type": "unknown"
        },
        {
         "name": "user_score",
         "rawType": "object",
         "type": "unknown"
        },
        {
         "name": "rating",
         "rawType": "object",
         "type": "unknown"
        }
       ],
       "ref": "2504e952-28e9-4cf3-87fd-06c28bb9d167",
       "rows": [
        [
         "659",
         "unknown",
         "gen",
         "1993.0",
         "unknown",
         "1.78",
         "0.53",
         "0.0",
         "0.08",
         null,
         null,
         null
        ],
        [
         "14244",
         "unknown",
         "gen",
         "1993.0",
         "unknown",
         "0.0",
         "0.0",
         "0.03",
         "0.0",
         null,
         null,
         null
        ]
       ],
       "shape": {
        "columns": 11,
        "rows": 2
       }
      },
      "text/html": [
       "<div>\n",
       "<style scoped>\n",
       "    .dataframe tbody tr th:only-of-type {\n",
       "        vertical-align: middle;\n",
       "    }\n",
       "\n",
       "    .dataframe tbody tr th {\n",
       "        vertical-align: top;\n",
       "    }\n",
       "\n",
       "    .dataframe thead th {\n",
       "        text-align: right;\n",
       "    }\n",
       "</style>\n",
       "<table border=\"1\" class=\"dataframe\">\n",
       "  <thead>\n",
       "    <tr style=\"text-align: right;\">\n",
       "      <th></th>\n",
       "      <th>name</th>\n",
       "      <th>platform</th>\n",
       "      <th>year_of_release</th>\n",
       "      <th>genre</th>\n",
       "      <th>na_sales</th>\n",
       "      <th>eu_sales</th>\n",
       "      <th>jp_sales</th>\n",
       "      <th>other_sales</th>\n",
       "      <th>critic_score</th>\n",
       "      <th>user_score</th>\n",
       "      <th>rating</th>\n",
       "    </tr>\n",
       "  </thead>\n",
       "  <tbody>\n",
       "    <tr>\n",
       "      <th>659</th>\n",
       "      <td>unknown</td>\n",
       "      <td>gen</td>\n",
       "      <td>1993.0</td>\n",
       "      <td>unknown</td>\n",
       "      <td>1.78</td>\n",
       "      <td>0.53</td>\n",
       "      <td>0.00</td>\n",
       "      <td>0.08</td>\n",
       "      <td>&lt;NA&gt;</td>\n",
       "      <td>&lt;NA&gt;</td>\n",
       "      <td>&lt;NA&gt;</td>\n",
       "    </tr>\n",
       "    <tr>\n",
       "      <th>14244</th>\n",
       "      <td>unknown</td>\n",
       "      <td>gen</td>\n",
       "      <td>1993.0</td>\n",
       "      <td>unknown</td>\n",
       "      <td>0.00</td>\n",
       "      <td>0.00</td>\n",
       "      <td>0.03</td>\n",
       "      <td>0.00</td>\n",
       "      <td>&lt;NA&gt;</td>\n",
       "      <td>&lt;NA&gt;</td>\n",
       "      <td>&lt;NA&gt;</td>\n",
       "    </tr>\n",
       "  </tbody>\n",
       "</table>\n",
       "</div>"
      ],
      "text/plain": [
       "          name platform year_of_release    genre  na_sales  eu_sales  jp_sales  other_sales critic_score user_score rating\n",
       "659    unknown      gen          1993.0  unknown      1.78      0.53      0.00         0.08         <NA>       <NA>   <NA>\n",
       "14244  unknown      gen          1993.0  unknown      0.00      0.00      0.03         0.00         <NA>       <NA>   <NA>"
      ]
     },
     "execution_count": 15,
     "metadata": {},
     "output_type": "execute_result"
    }
   ],
   "source": [
    "# Missing values in 'name' and 'genre' occur in the same records, which still contain relevant data. \n",
    "# To preserve them, missing values will be filled with 'unknown' instead of being dropped.\n",
    "df_vg['genre'] = df_vg['genre'].fillna('unknown')\n",
    "df_vg.iloc[[659, 14244], :]"
   ]
  },
  {
   "cell_type": "markdown",
   "id": "1011f8e1",
   "metadata": {},
   "source": [
    "##### 3.3.4.3  Missing values data imputation for 'year_of_release' column"
   ]
  },
  {
   "cell_type": "code",
   "execution_count": 16,
   "id": "c37ad353",
   "metadata": {},
   "outputs": [
    {
     "data": {
      "application/vnd.microsoft.datawrangler.viewer.v0+json": {
       "columns": [
        {
         "name": "index",
         "rawType": "int64",
         "type": "integer"
        },
        {
         "name": "name",
         "rawType": "object",
         "type": "string"
        },
        {
         "name": "platform",
         "rawType": "object",
         "type": "string"
        },
        {
         "name": "year_of_release",
         "rawType": "object",
         "type": "unknown"
        },
        {
         "name": "genre",
         "rawType": "object",
         "type": "string"
        },
        {
         "name": "na_sales",
         "rawType": "float64",
         "type": "float"
        },
        {
         "name": "eu_sales",
         "rawType": "float64",
         "type": "float"
        },
        {
         "name": "jp_sales",
         "rawType": "float64",
         "type": "float"
        },
        {
         "name": "other_sales",
         "rawType": "float64",
         "type": "float"
        },
        {
         "name": "critic_score",
         "rawType": "object",
         "type": "unknown"
        },
        {
         "name": "user_score",
         "rawType": "object",
         "type": "unknown"
        },
        {
         "name": "rating",
         "rawType": "object",
         "type": "unknown"
        }
       ],
       "ref": "78a53c87-c001-4cc4-8e94-352c04a310fd",
       "rows": [
        [
         "183",
         "madden_nfl_2004",
         "ps2",
         null,
         "sports",
         "4.26",
         "0.26",
         "0.01",
         "0.71",
         "94.0",
         "8.5",
         "E"
        ],
        [
         "377",
         "fifa_soccer_2004",
         "ps2",
         null,
         "sports",
         "0.59",
         "2.36",
         "0.04",
         "0.51",
         "84.0",
         "6.4",
         "E"
        ],
        [
         "456",
         "lego_batman_the_videogame",
         "wii",
         null,
         "action",
         "1.8",
         "0.97",
         "0.0",
         "0.29",
         "74.0",
         "7.9",
         "E10+"
        ],
        [
         "475",
         "wwe_smackdown_vs_raw_2006",
         "ps2",
         null,
         "fighting",
         "1.57",
         "1.02",
         "0.0",
         "0.41",
         null,
         null,
         null
        ],
        [
         "609",
         "space_invaders",
         "2600",
         null,
         "shooter",
         "2.36",
         "0.14",
         "0.0",
         "0.03",
         null,
         null,
         null
        ],
        [
         "627",
         "rock_band",
         "x360",
         null,
         "misc",
         "1.93",
         "0.33",
         "0.0",
         "0.21",
         "92.0",
         "8.2",
         "T"
        ],
        [
         "657",
         "frogger_s_adventures_temple_of_the_frog",
         "gba",
         null,
         "adventure",
         "2.15",
         "0.18",
         "0.0",
         "0.07",
         "73.0",
         "tbd",
         "E"
        ],
        [
         "678",
         "lego_indiana_jones_the_original_adventures",
         "wii",
         null,
         "action",
         "1.51",
         "0.61",
         "0.0",
         "0.21",
         "78.0",
         "6.6",
         "E10+"
        ],
        [
         "719",
         "call_of_duty_3",
         "wii",
         null,
         "shooter",
         "1.17",
         "0.84",
         "0.0",
         "0.23",
         "69.0",
         "6.7",
         "T"
        ],
        [
         "805",
         "rock_band",
         "wii",
         null,
         "misc",
         "1.33",
         "0.56",
         "0.0",
         "0.2",
         "80.0",
         "6.3",
         "T"
        ],
        [
         "1131",
         "call_of_duty_black_ops",
         "pc",
         null,
         "shooter",
         "0.58",
         "0.81",
         "0.0",
         "0.23",
         "81.0",
         "5.2",
         "M"
        ],
        [
         "1142",
         "rock_band",
         "ps3",
         null,
         "misc",
         "0.99",
         "0.41",
         "0.0",
         "0.22",
         "92.0",
         "8.4",
         "T"
        ],
        [
         "1301",
         "triple_play_99",
         "ps",
         null,
         "sports",
         "0.81",
         "0.55",
         "0.0",
         "0.1",
         null,
         null,
         null
        ],
        [
         "1506",
         "adventure",
         "2600",
         null,
         "adventure",
         "1.21",
         "0.08",
         "0.0",
         "0.01",
         null,
         null,
         null
        ],
        [
         "1538",
         "lego_batman_the_videogame",
         "psp",
         null,
         "action",
         "0.57",
         "0.44",
         "0.0",
         "0.27",
         "73.0",
         "7.4",
         "E10+"
        ],
        [
         "1585",
         "combat",
         "2600",
         null,
         "action",
         "1.17",
         "0.07",
         "0.0",
         "0.01",
         null,
         null,
         null
        ],
        [
         "1609",
         "lego_harry_potter_years_5_7",
         "wii",
         null,
         "action",
         "0.69",
         "0.42",
         "0.0",
         "0.12",
         "76.0",
         "7.8",
         "E10+"
        ],
        [
         "1650",
         "nascar_thunder_2003",
         "ps2",
         null,
         "racing",
         "0.6",
         "0.46",
         "0.0",
         "0.16",
         "84.0",
         "8.7",
         "E"
        ],
        [
         "1699",
         "hitman_2_silent_assassin",
         "xb",
         null,
         "action",
         "0.76",
         "0.38",
         "0.0",
         "0.05",
         "84.0",
         "8",
         "M"
        ],
        [
         "1840",
         "rock_band",
         "ps2",
         null,
         "misc",
         "0.71",
         "0.06",
         "0.0",
         "0.35",
         "82.0",
         "6.8",
         "T"
        ],
        [
         "1984",
         "legacy_of_kain_soul_reaver",
         "ps",
         null,
         "action",
         "0.58",
         "0.4",
         "0.0",
         "0.07",
         "91.0",
         "9",
         "T"
        ],
        [
         "2010",
         "donkey_kong_land_iii",
         "gb",
         null,
         "platform",
         "0.68",
         "0.31",
         "0.0",
         "0.04",
         null,
         null,
         null
        ],
        [
         "2106",
         "air_sea_battle",
         "2600",
         null,
         "shooter",
         "0.91",
         "0.06",
         "0.0",
         "0.01",
         null,
         null,
         null
        ],
        [
         "2108",
         "suikoden_iii",
         "ps2",
         null,
         "role_playing",
         "0.29",
         "0.23",
         "0.38",
         "0.08",
         "86.0",
         "7.7",
         "T"
        ],
        [
         "2132",
         "lego_harry_potter_years_5_7",
         "x360",
         null,
         "action",
         "0.51",
         "0.37",
         "0.0",
         "0.09",
         "77.0",
         "7.9",
         "E10+"
        ],
        [
         "2157",
         "wheel_of_fortune",
         "ps2",
         null,
         "misc",
         "0.47",
         "0.36",
         "0.0",
         "0.12",
         null,
         "tbd",
         "E"
        ],
        [
         "2169",
         "yakuza_4",
         "ps3",
         null,
         "action",
         "0.15",
         "0.13",
         "0.63",
         "0.05",
         "78.0",
         "8",
         "M"
        ],
        [
         "2273",
         "lego_harry_potter_years_5_7",
         "ps3",
         null,
         "action",
         "0.36",
         "0.41",
         "0.0",
         "0.15",
         "76.0",
         "8.3",
         "E10+"
        ],
        [
         "2281",
         "namco_museum",
         "xb",
         null,
         "misc",
         "0.77",
         "0.11",
         "0.0",
         "0.04",
         "59.0",
         "tbd",
         "E"
        ],
        [
         "2361",
         "rhythm_heaven",
         "wii",
         null,
         "misc",
         "0.11",
         "0.0",
         "0.77",
         "0.01",
         null,
         null,
         null
        ],
        [
         "2453",
         "the_lord_of_the_rings_war_in_the_north",
         "x360",
         null,
         "action",
         "0.52",
         "0.24",
         "0.0",
         "0.08",
         "61.0",
         "7.4",
         "M"
        ],
        [
         "2479",
         "madden_nfl_07",
         "psp",
         null,
         "sports",
         "0.77",
         "0.03",
         "0.0",
         "0.04",
         "78.0",
         "6.6",
         "E"
        ],
        [
         "2492",
         "mlb_slugfest_20_03",
         "ps2",
         null,
         "sports",
         "0.41",
         "0.32",
         "0.0",
         "0.11",
         "77.0",
         "8.2",
         "E"
        ],
        [
         "2522",
         "the_lord_of_the_rings_war_in_the_north",
         "ps3",
         null,
         "action",
         "0.25",
         "0.42",
         "0.01",
         "0.13",
         "63.0",
         "7",
         "M"
        ],
        [
         "2536",
         "shaun_white_snowboarding",
         "x360",
         null,
         "sports",
         "0.48",
         "0.25",
         "0.0",
         "0.08",
         "60.0",
         "7.6",
         "T"
        ],
        [
         "2572",
         "pes_2009_pro_evolution_soccer",
         "psp",
         null,
         "sports",
         "0.04",
         "0.33",
         "0.26",
         "0.17",
         null,
         null,
         null
        ],
        [
         "2773",
         "warioware_twisted",
         "gba",
         null,
         "puzzle",
         "0.16",
         "0.06",
         "0.5",
         "0.02",
         null,
         null,
         null
        ],
        [
         "2849",
         "madden_nfl_11",
         "wii",
         null,
         "sports",
         "0.68",
         "0.0",
         "0.0",
         "0.04",
         "75.0",
         "5.4",
         "E"
        ],
        [
         "2969",
         "test_drive_unlimited_2",
         "x360",
         null,
         "racing",
         "0.3",
         "0.31",
         "0.0",
         "0.07",
         "68.0",
         "6.4",
         "T"
        ],
        [
         "3024",
         "the_chronicles_of_narnia_the_lion_the_witch_and_the_wardrobe",
         "gba",
         null,
         "action",
         "0.48",
         "0.18",
         "0.0",
         "0.01",
         "66.0",
         "6.8",
         "E"
        ],
        [
         "3081",
         "lego_harry_potter_years_5_7",
         "ds",
         null,
         "action",
         "0.34",
         "0.25",
         "0.0",
         "0.07",
         "69.0",
         "tbd",
         "E10+"
        ],
        [
         "3187",
         "monster_hunter_2",
         "ps2",
         null,
         "role_playing",
         "0.0",
         "0.0",
         "0.63",
         "0.0",
         null,
         null,
         null
        ],
        [
         "3223",
         "metal_gear_solid_2_substance",
         "xb",
         null,
         "action",
         "0.38",
         "0.22",
         "0.0",
         "0.03",
         "87.0",
         "8.5",
         "M"
        ],
        [
         "3233",
         "test_drive_unlimited_2",
         "ps3",
         null,
         "racing",
         "0.16",
         "0.34",
         "0.01",
         "0.12",
         "70.0",
         "6.1",
         "T"
        ],
        [
         "3289",
         "advance_wars_days_of_ruin",
         "ds",
         null,
         "strategy",
         "0.43",
         "0.12",
         "0.0",
         "0.05",
         "86.0",
         "8.7",
         "E10+"
        ],
        [
         "3352",
         "the_golden_compass",
         "wii",
         null,
         "action",
         "0.26",
         "0.28",
         "0.0",
         "0.07",
         "35.0",
         "6.8",
         "E10+"
        ],
        [
         "3413",
         "madden_nfl_06",
         "x360",
         null,
         "sports",
         "0.54",
         "0.0",
         "0.01",
         "0.03",
         "74.0",
         "4.9",
         "E"
        ],
        [
         "3459",
         "nascar_dirt_to_daytona",
         "ps2",
         null,
         "racing",
         "0.28",
         "0.22",
         "0.0",
         "0.07",
         "84.0",
         "8.8",
         "E"
        ],
        [
         "3486",
         "madden_nfl_2002",
         "xb",
         null,
         "sports",
         "0.53",
         "0.02",
         "0.0",
         "0.03",
         "90.0",
         "8.1",
         "E"
        ],
        [
         "3704",
         "def_jam_fight_for_ny",
         "xb",
         null,
         "fighting",
         "0.43",
         "0.1",
         "0.0",
         "0.02",
         "84.0",
         "8.5",
         "M"
        ]
       ],
       "shape": {
        "columns": 11,
        "rows": 269
       }
      },
      "text/html": [
       "<div>\n",
       "<style scoped>\n",
       "    .dataframe tbody tr th:only-of-type {\n",
       "        vertical-align: middle;\n",
       "    }\n",
       "\n",
       "    .dataframe tbody tr th {\n",
       "        vertical-align: top;\n",
       "    }\n",
       "\n",
       "    .dataframe thead th {\n",
       "        text-align: right;\n",
       "    }\n",
       "</style>\n",
       "<table border=\"1\" class=\"dataframe\">\n",
       "  <thead>\n",
       "    <tr style=\"text-align: right;\">\n",
       "      <th></th>\n",
       "      <th>name</th>\n",
       "      <th>platform</th>\n",
       "      <th>year_of_release</th>\n",
       "      <th>genre</th>\n",
       "      <th>na_sales</th>\n",
       "      <th>eu_sales</th>\n",
       "      <th>jp_sales</th>\n",
       "      <th>other_sales</th>\n",
       "      <th>critic_score</th>\n",
       "      <th>user_score</th>\n",
       "      <th>rating</th>\n",
       "    </tr>\n",
       "  </thead>\n",
       "  <tbody>\n",
       "    <tr>\n",
       "      <th>183</th>\n",
       "      <td>madden_nfl_2004</td>\n",
       "      <td>ps2</td>\n",
       "      <td>&lt;NA&gt;</td>\n",
       "      <td>sports</td>\n",
       "      <td>4.26</td>\n",
       "      <td>0.26</td>\n",
       "      <td>0.01</td>\n",
       "      <td>0.71</td>\n",
       "      <td>94.0</td>\n",
       "      <td>8.5</td>\n",
       "      <td>E</td>\n",
       "    </tr>\n",
       "    <tr>\n",
       "      <th>377</th>\n",
       "      <td>fifa_soccer_2004</td>\n",
       "      <td>ps2</td>\n",
       "      <td>&lt;NA&gt;</td>\n",
       "      <td>sports</td>\n",
       "      <td>0.59</td>\n",
       "      <td>2.36</td>\n",
       "      <td>0.04</td>\n",
       "      <td>0.51</td>\n",
       "      <td>84.0</td>\n",
       "      <td>6.4</td>\n",
       "      <td>E</td>\n",
       "    </tr>\n",
       "    <tr>\n",
       "      <th>456</th>\n",
       "      <td>lego_batman_the_videogame</td>\n",
       "      <td>wii</td>\n",
       "      <td>&lt;NA&gt;</td>\n",
       "      <td>action</td>\n",
       "      <td>1.80</td>\n",
       "      <td>0.97</td>\n",
       "      <td>0.00</td>\n",
       "      <td>0.29</td>\n",
       "      <td>74.0</td>\n",
       "      <td>7.9</td>\n",
       "      <td>E10+</td>\n",
       "    </tr>\n",
       "    <tr>\n",
       "      <th>475</th>\n",
       "      <td>wwe_smackdown_vs_raw_2006</td>\n",
       "      <td>ps2</td>\n",
       "      <td>&lt;NA&gt;</td>\n",
       "      <td>fighting</td>\n",
       "      <td>1.57</td>\n",
       "      <td>1.02</td>\n",
       "      <td>0.00</td>\n",
       "      <td>0.41</td>\n",
       "      <td>&lt;NA&gt;</td>\n",
       "      <td>&lt;NA&gt;</td>\n",
       "      <td>&lt;NA&gt;</td>\n",
       "    </tr>\n",
       "    <tr>\n",
       "      <th>609</th>\n",
       "      <td>space_invaders</td>\n",
       "      <td>2600</td>\n",
       "      <td>&lt;NA&gt;</td>\n",
       "      <td>shooter</td>\n",
       "      <td>2.36</td>\n",
       "      <td>0.14</td>\n",
       "      <td>0.00</td>\n",
       "      <td>0.03</td>\n",
       "      <td>&lt;NA&gt;</td>\n",
       "      <td>&lt;NA&gt;</td>\n",
       "      <td>&lt;NA&gt;</td>\n",
       "    </tr>\n",
       "    <tr>\n",
       "      <th>...</th>\n",
       "      <td>...</td>\n",
       "      <td>...</td>\n",
       "      <td>...</td>\n",
       "      <td>...</td>\n",
       "      <td>...</td>\n",
       "      <td>...</td>\n",
       "      <td>...</td>\n",
       "      <td>...</td>\n",
       "      <td>...</td>\n",
       "      <td>...</td>\n",
       "      <td>...</td>\n",
       "    </tr>\n",
       "    <tr>\n",
       "      <th>16373</th>\n",
       "      <td>pdc_world_championship_darts_2008</td>\n",
       "      <td>psp</td>\n",
       "      <td>&lt;NA&gt;</td>\n",
       "      <td>sports</td>\n",
       "      <td>0.01</td>\n",
       "      <td>0.00</td>\n",
       "      <td>0.00</td>\n",
       "      <td>0.00</td>\n",
       "      <td>43.0</td>\n",
       "      <td>tbd</td>\n",
       "      <td>E10+</td>\n",
       "    </tr>\n",
       "    <tr>\n",
       "      <th>16405</th>\n",
       "      <td>freaky_flyers</td>\n",
       "      <td>gc</td>\n",
       "      <td>&lt;NA&gt;</td>\n",
       "      <td>racing</td>\n",
       "      <td>0.01</td>\n",
       "      <td>0.00</td>\n",
       "      <td>0.00</td>\n",
       "      <td>0.00</td>\n",
       "      <td>69.0</td>\n",
       "      <td>6.5</td>\n",
       "      <td>T</td>\n",
       "    </tr>\n",
       "    <tr>\n",
       "      <th>16448</th>\n",
       "      <td>inversion</td>\n",
       "      <td>pc</td>\n",
       "      <td>&lt;NA&gt;</td>\n",
       "      <td>shooter</td>\n",
       "      <td>0.01</td>\n",
       "      <td>0.00</td>\n",
       "      <td>0.00</td>\n",
       "      <td>0.00</td>\n",
       "      <td>59.0</td>\n",
       "      <td>6.7</td>\n",
       "      <td>M</td>\n",
       "    </tr>\n",
       "    <tr>\n",
       "      <th>16458</th>\n",
       "      <td>hakuouki_shinsengumi_kitan</td>\n",
       "      <td>ps3</td>\n",
       "      <td>&lt;NA&gt;</td>\n",
       "      <td>adventure</td>\n",
       "      <td>0.01</td>\n",
       "      <td>0.00</td>\n",
       "      <td>0.00</td>\n",
       "      <td>0.00</td>\n",
       "      <td>&lt;NA&gt;</td>\n",
       "      <td>&lt;NA&gt;</td>\n",
       "      <td>&lt;NA&gt;</td>\n",
       "    </tr>\n",
       "    <tr>\n",
       "      <th>16522</th>\n",
       "      <td>virtua_quest</td>\n",
       "      <td>gc</td>\n",
       "      <td>&lt;NA&gt;</td>\n",
       "      <td>role_playing</td>\n",
       "      <td>0.01</td>\n",
       "      <td>0.00</td>\n",
       "      <td>0.00</td>\n",
       "      <td>0.00</td>\n",
       "      <td>55.0</td>\n",
       "      <td>5.5</td>\n",
       "      <td>T</td>\n",
       "    </tr>\n",
       "  </tbody>\n",
       "</table>\n",
       "<p>269 rows × 11 columns</p>\n",
       "</div>"
      ],
      "text/plain": [
       "                                    name platform year_of_release         genre  na_sales  eu_sales  jp_sales  other_sales critic_score user_score  \\\n",
       "183                      madden_nfl_2004      ps2            <NA>        sports      4.26      0.26      0.01         0.71         94.0        8.5   \n",
       "377                     fifa_soccer_2004      ps2            <NA>        sports      0.59      2.36      0.04         0.51         84.0        6.4   \n",
       "456            lego_batman_the_videogame      wii            <NA>        action      1.80      0.97      0.00         0.29         74.0        7.9   \n",
       "475            wwe_smackdown_vs_raw_2006      ps2            <NA>      fighting      1.57      1.02      0.00         0.41         <NA>       <NA>   \n",
       "609                       space_invaders     2600            <NA>       shooter      2.36      0.14      0.00         0.03         <NA>       <NA>   \n",
       "...                                  ...      ...             ...           ...       ...       ...       ...          ...          ...        ...   \n",
       "16373  pdc_world_championship_darts_2008      psp            <NA>        sports      0.01      0.00      0.00         0.00         43.0        tbd   \n",
       "16405                      freaky_flyers       gc            <NA>        racing      0.01      0.00      0.00         0.00         69.0        6.5   \n",
       "16448                          inversion       pc            <NA>       shooter      0.01      0.00      0.00         0.00         59.0        6.7   \n",
       "16458         hakuouki_shinsengumi_kitan      ps3            <NA>     adventure      0.01      0.00      0.00         0.00         <NA>       <NA>   \n",
       "16522                       virtua_quest       gc            <NA>  role_playing      0.01      0.00      0.00         0.00         55.0        5.5   \n",
       "\n",
       "      rating  \n",
       "183        E  \n",
       "377        E  \n",
       "456     E10+  \n",
       "475     <NA>  \n",
       "609     <NA>  \n",
       "...      ...  \n",
       "16373   E10+  \n",
       "16405      T  \n",
       "16448      M  \n",
       "16458   <NA>  \n",
       "16522      T  \n",
       "\n",
       "[269 rows x 11 columns]"
      ]
     },
     "execution_count": 16,
     "metadata": {},
     "output_type": "execute_result"
    }
   ],
   "source": [
    "# Show pd.NA missing values for 'year_of_release' column\n",
    "df_vg.loc[df_vg['year_of_release'].isna(), :]"
   ]
  },
  {
   "cell_type": "code",
   "execution_count": null,
   "id": "e484775e",
   "metadata": {},
   "outputs": [
    {
     "data": {
      "text/html": [
       "> Percentage of null values ​​for column <i>'year_of_release'</i>:              <b>1.61</b> %"
      ],
      "text/plain": [
       "<IPython.core.display.HTML object>"
      ]
     },
     "metadata": {},
     "output_type": "display_data"
    }
   ],
   "source": [
    "# Percentage of null values ​​in column 'year_of_release'\n",
    "display(HTML(f\"> Percentage of null values for column <i>'year_of_release'</i>: \\\n",
    "             <b>{(df_vg['year_of_release'].isna().sum() / len(df_vg['year_of_release']) * 100):.2f}</b> %\"))"
   ]
  },
  {
   "cell_type": "code",
   "execution_count": 18,
   "id": "8bb8f1af",
   "metadata": {},
   "outputs": [],
   "source": [
    "# name_plataform_games.csv is created to get all the games with no year_of_release information\n",
    "df_name_platform_games = df_vg.loc[df_vg['year_of_release'].isna(), ['name', 'platform']]\n",
    "df_name_platform_games.to_csv('../data/raw/name_platform_games.csv', index=False)"
   ]
  },
  {
   "cell_type": "code",
   "execution_count": 19,
   "id": "1c8fe23c",
   "metadata": {},
   "outputs": [
    {
     "data": {
      "application/vnd.microsoft.datawrangler.viewer.v0+json": {
       "columns": [
        {
         "name": "index",
         "rawType": "int64",
         "type": "integer"
        },
        {
         "name": "name",
         "rawType": "object",
         "type": "string"
        },
        {
         "name": "platform",
         "rawType": "object",
         "type": "string"
        },
        {
         "name": "release_year",
         "rawType": "object",
         "type": "string"
        }
       ],
       "ref": "10c1af6e-652a-49cf-9b07-79f8e8ec978e",
       "rows": [
        [
         "0",
         "madden_nfl_2004",
         "ps2",
         "2003"
        ],
        [
         "1",
         "fifa_soccer_2004",
         "ps2",
         "2003"
        ],
        [
         "2",
         "lego_batman_the_videogame",
         "wii",
         "2008"
        ],
        [
         "3",
         "wwe_smackdown_vs_raw_2006",
         "ps2",
         "2005"
        ],
        [
         "4",
         "space_invaders",
         "2600",
         "1980"
        ],
        [
         "5",
         "rock_band",
         "x360",
         "2007"
        ],
        [
         "6",
         "frogger_s_adventures_temple_of_the_frog",
         "gba",
         "2001"
        ],
        [
         "7",
         "lego_indiana_jones_the_original_adventures",
         "wii",
         "2008"
        ],
        [
         "8",
         "call_of_duty_3",
         "wii",
         "2006"
        ],
        [
         "9",
         "rock_band",
         "wii",
         "2011"
        ],
        [
         "10",
         "call_of_duty_black_ops",
         "pc",
         "2010"
        ],
        [
         "11",
         "rock_band",
         "ps3",
         "2011"
        ],
        [
         "12",
         "triple_play_99",
         "ps",
         "1998"
        ],
        [
         "13",
         "adventure",
         "2600",
         "1980"
        ],
        [
         "14",
         "lego_batman_the_videogame",
         "psp",
         "2008"
        ],
        [
         "15",
         "combat",
         "2600",
         "1977"
        ],
        [
         "16",
         "lego_harry_potter_years_5_7",
         "wii",
         "2011"
        ],
        [
         "17",
         "nascar_thunder_2003",
         "ps2",
         "2002"
        ],
        [
         "18",
         "hitman_2_silent_assassin",
         "xb",
         "2004"
        ],
        [
         "19",
         "rock_band",
         "ps2",
         "2008"
        ],
        [
         "20",
         "legacy_of_kain_soul_reaver",
         "ps",
         "1999"
        ],
        [
         "21",
         "donkey_kong_land_iii",
         "gb",
         "1997"
        ],
        [
         "22",
         "air_sea_battle",
         "2600",
         "1977"
        ],
        [
         "23",
         "suikoden_iii",
         "ps2",
         "2002"
        ],
        [
         "24",
         "lego_harry_potter_years_5_7",
         "x360",
         "2011"
        ],
        [
         "25",
         "wheel_of_fortune",
         "ps2",
         "unknown"
        ],
        [
         "26",
         "yakuza_4",
         "ps3",
         "2010"
        ],
        [
         "27",
         "lego_harry_potter_years_5_7",
         "ps3",
         "2011"
        ],
        [
         "28",
         "namco_museum",
         "xb",
         "3999"
        ],
        [
         "29",
         "rhythm_heaven",
         "wii",
         "2011"
        ],
        [
         "30",
         "the_lord_of_the_rings_war_in_the_north",
         "x360",
         "2009"
        ],
        [
         "31",
         "madden_nfl_07",
         "psp",
         "2006"
        ],
        [
         "32",
         "mlb_slugfest_20_03",
         "ps2",
         "2002"
        ],
        [
         "33",
         "the_lord_of_the_rings_war_in_the_north",
         "ps3",
         "2011"
        ],
        [
         "34",
         "shaun_white_snowboarding",
         "x360",
         "2010"
        ],
        [
         "35",
         "pes_2009_pro_evolution_soccer",
         "psp",
         "1995"
        ],
        [
         "36",
         "warioware_twisted",
         "gba",
         "2004"
        ],
        [
         "37",
         "madden_nfl_11",
         "wii",
         "2010"
        ],
        [
         "38",
         "test_drive_unlimited_2",
         "x360",
         "2006"
        ],
        [
         "39",
         "the_chronicles_of_narnia_the_lion_the_witch_and_the_wardrobe",
         "gba",
         "2005"
        ],
        [
         "40",
         "lego_harry_potter_years_5_7",
         "ds",
         "2011"
        ],
        [
         "41",
         "monster_hunter_2",
         "ps2",
         "2004"
        ],
        [
         "42",
         "metal_gear_solid_2_substance",
         "xb",
         "1371"
        ],
        [
         "43",
         "test_drive_unlimited_2",
         "ps3",
         "2011"
        ],
        [
         "44",
         "advance_wars_days_of_ruin",
         "ds",
         "2008"
        ],
        [
         "45",
         "the_golden_compass",
         "wii",
         "2007"
        ],
        [
         "46",
         "madden_nfl_06",
         "x360",
         "2005"
        ],
        [
         "47",
         "nascar_dirt_to_daytona",
         "ps2",
         "2002"
        ],
        [
         "48",
         "madden_nfl_2002",
         "xb",
         "2001"
        ],
        [
         "49",
         "def_jam_fight_for_ny",
         "xb",
         "2004"
        ]
       ],
       "shape": {
        "columns": 3,
        "rows": 269
       }
      },
      "text/html": [
       "<div>\n",
       "<style scoped>\n",
       "    .dataframe tbody tr th:only-of-type {\n",
       "        vertical-align: middle;\n",
       "    }\n",
       "\n",
       "    .dataframe tbody tr th {\n",
       "        vertical-align: top;\n",
       "    }\n",
       "\n",
       "    .dataframe thead th {\n",
       "        text-align: right;\n",
       "    }\n",
       "</style>\n",
       "<table border=\"1\" class=\"dataframe\">\n",
       "  <thead>\n",
       "    <tr style=\"text-align: right;\">\n",
       "      <th></th>\n",
       "      <th>name</th>\n",
       "      <th>platform</th>\n",
       "      <th>release_year</th>\n",
       "    </tr>\n",
       "  </thead>\n",
       "  <tbody>\n",
       "    <tr>\n",
       "      <th>0</th>\n",
       "      <td>madden_nfl_2004</td>\n",
       "      <td>ps2</td>\n",
       "      <td>2003</td>\n",
       "    </tr>\n",
       "    <tr>\n",
       "      <th>1</th>\n",
       "      <td>fifa_soccer_2004</td>\n",
       "      <td>ps2</td>\n",
       "      <td>2003</td>\n",
       "    </tr>\n",
       "    <tr>\n",
       "      <th>2</th>\n",
       "      <td>lego_batman_the_videogame</td>\n",
       "      <td>wii</td>\n",
       "      <td>2008</td>\n",
       "    </tr>\n",
       "    <tr>\n",
       "      <th>3</th>\n",
       "      <td>wwe_smackdown_vs_raw_2006</td>\n",
       "      <td>ps2</td>\n",
       "      <td>2005</td>\n",
       "    </tr>\n",
       "    <tr>\n",
       "      <th>4</th>\n",
       "      <td>space_invaders</td>\n",
       "      <td>2600</td>\n",
       "      <td>1980</td>\n",
       "    </tr>\n",
       "    <tr>\n",
       "      <th>...</th>\n",
       "      <td>...</td>\n",
       "      <td>...</td>\n",
       "      <td>...</td>\n",
       "    </tr>\n",
       "    <tr>\n",
       "      <th>264</th>\n",
       "      <td>pdc_world_championship_darts_2008</td>\n",
       "      <td>psp</td>\n",
       "      <td>9387</td>\n",
       "    </tr>\n",
       "    <tr>\n",
       "      <th>265</th>\n",
       "      <td>freaky_flyers</td>\n",
       "      <td>gc</td>\n",
       "      <td>2003</td>\n",
       "    </tr>\n",
       "    <tr>\n",
       "      <th>266</th>\n",
       "      <td>inversion</td>\n",
       "      <td>pc</td>\n",
       "      <td>unknown</td>\n",
       "    </tr>\n",
       "    <tr>\n",
       "      <th>267</th>\n",
       "      <td>hakuouki_shinsengumi_kitan</td>\n",
       "      <td>ps3</td>\n",
       "      <td>unknown</td>\n",
       "    </tr>\n",
       "    <tr>\n",
       "      <th>268</th>\n",
       "      <td>virtua_quest</td>\n",
       "      <td>gc</td>\n",
       "      <td>2004</td>\n",
       "    </tr>\n",
       "  </tbody>\n",
       "</table>\n",
       "<p>269 rows × 3 columns</p>\n",
       "</div>"
      ],
      "text/plain": [
       "                                  name platform release_year\n",
       "0                      madden_nfl_2004      ps2         2003\n",
       "1                     fifa_soccer_2004      ps2         2003\n",
       "2            lego_batman_the_videogame      wii         2008\n",
       "3            wwe_smackdown_vs_raw_2006      ps2         2005\n",
       "4                       space_invaders     2600         1980\n",
       "..                                 ...      ...          ...\n",
       "264  pdc_world_championship_darts_2008      psp         9387\n",
       "265                      freaky_flyers       gc         2003\n",
       "266                          inversion       pc      unknown\n",
       "267         hakuouki_shinsengumi_kitan      ps3      unknown\n",
       "268                       virtua_quest       gc         2004\n",
       "\n",
       "[269 rows x 3 columns]"
      ]
     },
     "execution_count": 19,
     "metadata": {},
     "output_type": "execute_result"
    }
   ],
   "source": [
    "df_vg_name_platform_year"
   ]
  },
  {
   "cell_type": "code",
   "execution_count": 20,
   "id": "758725e2",
   "metadata": {},
   "outputs": [
    {
     "data": {
      "application/vnd.microsoft.datawrangler.viewer.v0+json": {
       "columns": [
        {
         "name": "index",
         "rawType": "int64",
         "type": "integer"
        },
        {
         "name": "name",
         "rawType": "object",
         "type": "string"
        },
        {
         "name": "platform",
         "rawType": "object",
         "type": "string"
        },
        {
         "name": "year_of_release",
         "rawType": "object",
         "type": "string"
        },
        {
         "name": "genre",
         "rawType": "object",
         "type": "string"
        },
        {
         "name": "na_sales",
         "rawType": "float64",
         "type": "float"
        },
        {
         "name": "eu_sales",
         "rawType": "float64",
         "type": "float"
        },
        {
         "name": "jp_sales",
         "rawType": "float64",
         "type": "float"
        },
        {
         "name": "other_sales",
         "rawType": "float64",
         "type": "float"
        },
        {
         "name": "critic_score",
         "rawType": "object",
         "type": "unknown"
        },
        {
         "name": "user_score",
         "rawType": "object",
         "type": "unknown"
        },
        {
         "name": "rating",
         "rawType": "object",
         "type": "unknown"
        }
       ],
       "ref": "1e86020d-332c-4d8b-af4f-1d8caa8bc9d4",
       "rows": [
        [
         "0",
         "wii_sports",
         "wii",
         "2006.0",
         "sports",
         "41.36",
         "28.96",
         "3.77",
         "8.45",
         "76.0",
         "8",
         "E"
        ],
        [
         "1",
         "super_mario_bros",
         "nes",
         "1985.0",
         "platform",
         "29.08",
         "3.58",
         "6.81",
         "0.77",
         null,
         null,
         null
        ],
        [
         "2",
         "mario_kart_wii",
         "wii",
         "2008.0",
         "racing",
         "15.68",
         "12.76",
         "3.79",
         "3.29",
         "82.0",
         "8.3",
         "E"
        ],
        [
         "3",
         "wii_sports_resort",
         "wii",
         "2009.0",
         "sports",
         "15.61",
         "10.93",
         "3.28",
         "2.95",
         "80.0",
         "8",
         "E"
        ],
        [
         "4",
         "pokemon_red_pokemon_blue",
         "gb",
         "1996.0",
         "role_playing",
         "11.27",
         "8.89",
         "10.22",
         "1.0",
         null,
         null,
         null
        ],
        [
         "5",
         "tetris",
         "gb",
         "1989.0",
         "puzzle",
         "23.2",
         "2.26",
         "4.22",
         "0.58",
         null,
         null,
         null
        ],
        [
         "6",
         "new_super_mario_bros",
         "ds",
         "2006.0",
         "platform",
         "11.28",
         "9.14",
         "6.5",
         "2.88",
         "89.0",
         "8.5",
         "E"
        ],
        [
         "7",
         "wii_play",
         "wii",
         "2006.0",
         "misc",
         "13.96",
         "9.18",
         "2.93",
         "2.84",
         "58.0",
         "6.6",
         "E"
        ],
        [
         "8",
         "new_super_mario_bros_wii",
         "wii",
         "2009.0",
         "platform",
         "14.44",
         "6.94",
         "4.7",
         "2.24",
         "87.0",
         "8.4",
         "E"
        ],
        [
         "9",
         "duck_hunt",
         "nes",
         "1984.0",
         "shooter",
         "26.93",
         "0.63",
         "0.28",
         "0.47",
         null,
         null,
         null
        ],
        [
         "10",
         "nintendogs",
         "ds",
         "2005.0",
         "simulation",
         "9.05",
         "10.95",
         "1.93",
         "2.74",
         null,
         null,
         null
        ],
        [
         "11",
         "mario_kart_ds",
         "ds",
         "2005.0",
         "racing",
         "9.71",
         "7.47",
         "4.13",
         "1.9",
         "91.0",
         "8.6",
         "E"
        ],
        [
         "12",
         "pokemon_gold_pokemon_silver",
         "gb",
         "1999.0",
         "role_playing",
         "9.0",
         "6.18",
         "7.2",
         "0.71",
         null,
         null,
         null
        ],
        [
         "13",
         "wii_fit",
         "wii",
         "2007.0",
         "sports",
         "8.92",
         "8.03",
         "3.6",
         "2.15",
         "80.0",
         "7.7",
         "E"
        ],
        [
         "14",
         "kinect_adventures",
         "x360",
         "2010.0",
         "misc",
         "15.0",
         "4.89",
         "0.24",
         "1.69",
         "61.0",
         "6.3",
         "E"
        ],
        [
         "15",
         "wii_fit_plus",
         "wii",
         "2009.0",
         "sports",
         "9.01",
         "8.49",
         "2.53",
         "1.77",
         "80.0",
         "7.4",
         "E"
        ],
        [
         "16",
         "grand_theft_auto_v",
         "ps3",
         "2013.0",
         "action",
         "7.02",
         "9.09",
         "0.98",
         "3.96",
         "97.0",
         "8.2",
         "M"
        ],
        [
         "17",
         "grand_theft_auto_san_andreas",
         "ps2",
         "2004.0",
         "action",
         "9.43",
         "0.4",
         "0.41",
         "10.57",
         "95.0",
         "9",
         "M"
        ],
        [
         "18",
         "super_mario_world",
         "snes",
         "1990.0",
         "platform",
         "12.78",
         "3.75",
         "3.54",
         "0.55",
         null,
         null,
         null
        ],
        [
         "19",
         "brain_age_train_your_brain_in_minutes_a_day",
         "ds",
         "2005.0",
         "misc",
         "4.74",
         "9.2",
         "4.16",
         "2.04",
         "77.0",
         "7.9",
         "E"
        ],
        [
         "20",
         "pokemon_diamond_pokemon_pearl",
         "ds",
         "2006.0",
         "role_playing",
         "6.38",
         "4.46",
         "6.04",
         "1.36",
         null,
         null,
         null
        ],
        [
         "21",
         "super_mario_land",
         "gb",
         "1989.0",
         "platform",
         "10.83",
         "2.71",
         "4.18",
         "0.42",
         null,
         null,
         null
        ],
        [
         "22",
         "super_mario_bros_3",
         "nes",
         "1988.0",
         "platform",
         "9.54",
         "3.44",
         "3.84",
         "0.46",
         null,
         null,
         null
        ],
        [
         "23",
         "grand_theft_auto_v",
         "x360",
         "2013.0",
         "action",
         "9.66",
         "5.14",
         "0.06",
         "1.41",
         "97.0",
         "8.1",
         "M"
        ],
        [
         "24",
         "grand_theft_auto_vice_city",
         "ps2",
         "2002.0",
         "action",
         "8.41",
         "5.49",
         "0.47",
         "1.78",
         "95.0",
         "8.7",
         "M"
        ],
        [
         "25",
         "pokemon_ruby_pokemon_sapphire",
         "gba",
         "2002.0",
         "role_playing",
         "6.06",
         "3.9",
         "5.38",
         "0.5",
         null,
         null,
         null
        ],
        [
         "26",
         "brain_age_2_more_training_in_minutes_a_day",
         "ds",
         "2005.0",
         "puzzle",
         "3.43",
         "5.35",
         "5.32",
         "1.18",
         "77.0",
         "7.1",
         "E"
        ],
        [
         "27",
         "pokemon_black_pokemon_white",
         "ds",
         "2010.0",
         "role_playing",
         "5.51",
         "3.17",
         "5.65",
         "0.8",
         null,
         null,
         null
        ],
        [
         "28",
         "gran_turismo_3_a_spec",
         "ps2",
         "2001.0",
         "racing",
         "6.85",
         "5.09",
         "1.87",
         "1.16",
         "95.0",
         "8.4",
         "E"
        ],
        [
         "29",
         "call_of_duty_modern_warfare_3",
         "x360",
         "2011.0",
         "shooter",
         "9.04",
         "4.24",
         "0.13",
         "1.32",
         "88.0",
         "3.4",
         "M"
        ],
        [
         "30",
         "pokémon_yellow_special_pikachu_edition",
         "gb",
         "1998.0",
         "role_playing",
         "5.89",
         "5.04",
         "3.12",
         "0.59",
         null,
         null,
         null
        ],
        [
         "31",
         "call_of_duty_black_ops_3",
         "ps4",
         "2015.0",
         "shooter",
         "6.03",
         "5.86",
         "0.36",
         "2.38",
         null,
         null,
         null
        ],
        [
         "32",
         "call_of_duty_black_ops",
         "x360",
         "2010.0",
         "shooter",
         "9.7",
         "3.68",
         "0.11",
         "1.13",
         "87.0",
         "6.3",
         "M"
        ],
        [
         "33",
         "pokemon_x_pokemon_y",
         "3ds",
         "2013.0",
         "role_playing",
         "5.28",
         "4.19",
         "4.35",
         "0.78",
         null,
         null,
         null
        ],
        [
         "34",
         "call_of_duty_black_ops_ii",
         "ps3",
         "2012.0",
         "shooter",
         "4.99",
         "5.73",
         "0.65",
         "2.42",
         "83.0",
         "5.3",
         "M"
        ],
        [
         "35",
         "call_of_duty_black_ops_ii",
         "x360",
         "2012.0",
         "shooter",
         "8.25",
         "4.24",
         "0.07",
         "1.12",
         "83.0",
         "4.8",
         "M"
        ],
        [
         "36",
         "call_of_duty_modern_warfare_2",
         "x360",
         "2009.0",
         "shooter",
         "8.52",
         "3.59",
         "0.08",
         "1.28",
         "94.0",
         "6.3",
         "M"
        ],
        [
         "37",
         "call_of_duty_modern_warfare_3",
         "ps3",
         "2011.0",
         "shooter",
         "5.54",
         "5.73",
         "0.49",
         "1.57",
         "88.0",
         "3.2",
         "M"
        ],
        [
         "38",
         "grand_theft_auto_iii",
         "ps2",
         "2001.0",
         "action",
         "6.99",
         "4.51",
         "0.3",
         "1.3",
         "97.0",
         "8.5",
         "M"
        ],
        [
         "39",
         "super_smash_bros_brawl",
         "wii",
         "2008.0",
         "fighting",
         "6.62",
         "2.55",
         "2.66",
         "1.01",
         "93.0",
         "8.9",
         "T"
        ],
        [
         "40",
         "mario_kart_7",
         "3ds",
         "2011.0",
         "racing",
         "5.03",
         "4.02",
         "2.69",
         "0.91",
         "85.0",
         "8.2",
         "E"
        ],
        [
         "41",
         "call_of_duty_black_ops",
         "ps3",
         "2010.0",
         "shooter",
         "5.99",
         "4.37",
         "0.48",
         "1.79",
         "88.0",
         "6.4",
         "M"
        ],
        [
         "42",
         "grand_theft_auto_v",
         "ps4",
         "2014.0",
         "action",
         "3.96",
         "6.31",
         "0.38",
         "1.97",
         "97.0",
         "8.3",
         "M"
        ],
        [
         "43",
         "animal_crossing_wild_world",
         "ds",
         "2005.0",
         "simulation",
         "2.5",
         "3.45",
         "5.33",
         "0.86",
         "86.0",
         "8.7",
         "E"
        ],
        [
         "44",
         "halo_3",
         "x360",
         "2007.0",
         "shooter",
         "7.97",
         "2.81",
         "0.13",
         "1.21",
         "94.0",
         "7.8",
         "M"
        ],
        [
         "45",
         "super_mario_64",
         "n64",
         "1996.0",
         "platform",
         "6.91",
         "2.85",
         "1.91",
         "0.23",
         null,
         null,
         null
        ],
        [
         "46",
         "pokemon_heartgold_pokemon_soulsilver",
         "ds",
         "2009.0",
         "action",
         "4.34",
         "2.71",
         "3.96",
         "0.76",
         null,
         null,
         null
        ],
        [
         "47",
         "pokemon_omega_ruby_pokemon_alpha_sapphire",
         "3ds",
         "2014.0",
         "role_playing",
         "4.35",
         "3.49",
         "3.1",
         "0.74",
         null,
         null,
         null
        ],
        [
         "48",
         "gran_turismo_4",
         "ps2",
         "2004.0",
         "racing",
         "3.01",
         "0.01",
         "1.1",
         "7.53",
         "89.0",
         "8.5",
         "E"
        ],
        [
         "49",
         "super_mario_galaxy",
         "wii",
         "2007.0",
         "platform",
         "6.06",
         "3.35",
         "1.2",
         "0.74",
         "97.0",
         "8.9",
         "E"
        ]
       ],
       "shape": {
        "columns": 11,
        "rows": 16715
       }
      },
      "text/html": [
       "<div>\n",
       "<style scoped>\n",
       "    .dataframe tbody tr th:only-of-type {\n",
       "        vertical-align: middle;\n",
       "    }\n",
       "\n",
       "    .dataframe tbody tr th {\n",
       "        vertical-align: top;\n",
       "    }\n",
       "\n",
       "    .dataframe thead th {\n",
       "        text-align: right;\n",
       "    }\n",
       "</style>\n",
       "<table border=\"1\" class=\"dataframe\">\n",
       "  <thead>\n",
       "    <tr style=\"text-align: right;\">\n",
       "      <th></th>\n",
       "      <th>name</th>\n",
       "      <th>platform</th>\n",
       "      <th>year_of_release</th>\n",
       "      <th>genre</th>\n",
       "      <th>na_sales</th>\n",
       "      <th>eu_sales</th>\n",
       "      <th>jp_sales</th>\n",
       "      <th>other_sales</th>\n",
       "      <th>critic_score</th>\n",
       "      <th>user_score</th>\n",
       "      <th>rating</th>\n",
       "    </tr>\n",
       "  </thead>\n",
       "  <tbody>\n",
       "    <tr>\n",
       "      <th>0</th>\n",
       "      <td>wii_sports</td>\n",
       "      <td>wii</td>\n",
       "      <td>2006.0</td>\n",
       "      <td>sports</td>\n",
       "      <td>41.36</td>\n",
       "      <td>28.96</td>\n",
       "      <td>3.77</td>\n",
       "      <td>8.45</td>\n",
       "      <td>76.0</td>\n",
       "      <td>8</td>\n",
       "      <td>E</td>\n",
       "    </tr>\n",
       "    <tr>\n",
       "      <th>1</th>\n",
       "      <td>super_mario_bros</td>\n",
       "      <td>nes</td>\n",
       "      <td>1985.0</td>\n",
       "      <td>platform</td>\n",
       "      <td>29.08</td>\n",
       "      <td>3.58</td>\n",
       "      <td>6.81</td>\n",
       "      <td>0.77</td>\n",
       "      <td>&lt;NA&gt;</td>\n",
       "      <td>&lt;NA&gt;</td>\n",
       "      <td>&lt;NA&gt;</td>\n",
       "    </tr>\n",
       "    <tr>\n",
       "      <th>2</th>\n",
       "      <td>mario_kart_wii</td>\n",
       "      <td>wii</td>\n",
       "      <td>2008.0</td>\n",
       "      <td>racing</td>\n",
       "      <td>15.68</td>\n",
       "      <td>12.76</td>\n",
       "      <td>3.79</td>\n",
       "      <td>3.29</td>\n",
       "      <td>82.0</td>\n",
       "      <td>8.3</td>\n",
       "      <td>E</td>\n",
       "    </tr>\n",
       "    <tr>\n",
       "      <th>3</th>\n",
       "      <td>wii_sports_resort</td>\n",
       "      <td>wii</td>\n",
       "      <td>2009.0</td>\n",
       "      <td>sports</td>\n",
       "      <td>15.61</td>\n",
       "      <td>10.93</td>\n",
       "      <td>3.28</td>\n",
       "      <td>2.95</td>\n",
       "      <td>80.0</td>\n",
       "      <td>8</td>\n",
       "      <td>E</td>\n",
       "    </tr>\n",
       "    <tr>\n",
       "      <th>4</th>\n",
       "      <td>pokemon_red_pokemon_blue</td>\n",
       "      <td>gb</td>\n",
       "      <td>1996.0</td>\n",
       "      <td>role_playing</td>\n",
       "      <td>11.27</td>\n",
       "      <td>8.89</td>\n",
       "      <td>10.22</td>\n",
       "      <td>1.00</td>\n",
       "      <td>&lt;NA&gt;</td>\n",
       "      <td>&lt;NA&gt;</td>\n",
       "      <td>&lt;NA&gt;</td>\n",
       "    </tr>\n",
       "    <tr>\n",
       "      <th>...</th>\n",
       "      <td>...</td>\n",
       "      <td>...</td>\n",
       "      <td>...</td>\n",
       "      <td>...</td>\n",
       "      <td>...</td>\n",
       "      <td>...</td>\n",
       "      <td>...</td>\n",
       "      <td>...</td>\n",
       "      <td>...</td>\n",
       "      <td>...</td>\n",
       "      <td>...</td>\n",
       "    </tr>\n",
       "    <tr>\n",
       "      <th>16710</th>\n",
       "      <td>samurai_warriors_sanada_maru</td>\n",
       "      <td>ps3</td>\n",
       "      <td>2016.0</td>\n",
       "      <td>action</td>\n",
       "      <td>0.00</td>\n",
       "      <td>0.00</td>\n",
       "      <td>0.01</td>\n",
       "      <td>0.00</td>\n",
       "      <td>&lt;NA&gt;</td>\n",
       "      <td>&lt;NA&gt;</td>\n",
       "      <td>&lt;NA&gt;</td>\n",
       "    </tr>\n",
       "    <tr>\n",
       "      <th>16711</th>\n",
       "      <td>lma_manager_2007</td>\n",
       "      <td>x360</td>\n",
       "      <td>2006.0</td>\n",
       "      <td>sports</td>\n",
       "      <td>0.00</td>\n",
       "      <td>0.01</td>\n",
       "      <td>0.00</td>\n",
       "      <td>0.00</td>\n",
       "      <td>&lt;NA&gt;</td>\n",
       "      <td>&lt;NA&gt;</td>\n",
       "      <td>&lt;NA&gt;</td>\n",
       "    </tr>\n",
       "    <tr>\n",
       "      <th>16712</th>\n",
       "      <td>haitaka_no_psychedelica</td>\n",
       "      <td>psv</td>\n",
       "      <td>2016.0</td>\n",
       "      <td>adventure</td>\n",
       "      <td>0.00</td>\n",
       "      <td>0.00</td>\n",
       "      <td>0.01</td>\n",
       "      <td>0.00</td>\n",
       "      <td>&lt;NA&gt;</td>\n",
       "      <td>&lt;NA&gt;</td>\n",
       "      <td>&lt;NA&gt;</td>\n",
       "    </tr>\n",
       "    <tr>\n",
       "      <th>16713</th>\n",
       "      <td>spirits_spells</td>\n",
       "      <td>gba</td>\n",
       "      <td>2003.0</td>\n",
       "      <td>platform</td>\n",
       "      <td>0.01</td>\n",
       "      <td>0.00</td>\n",
       "      <td>0.00</td>\n",
       "      <td>0.00</td>\n",
       "      <td>&lt;NA&gt;</td>\n",
       "      <td>&lt;NA&gt;</td>\n",
       "      <td>&lt;NA&gt;</td>\n",
       "    </tr>\n",
       "    <tr>\n",
       "      <th>16714</th>\n",
       "      <td>winning_post_8_2016</td>\n",
       "      <td>psv</td>\n",
       "      <td>2016.0</td>\n",
       "      <td>simulation</td>\n",
       "      <td>0.00</td>\n",
       "      <td>0.00</td>\n",
       "      <td>0.01</td>\n",
       "      <td>0.00</td>\n",
       "      <td>&lt;NA&gt;</td>\n",
       "      <td>&lt;NA&gt;</td>\n",
       "      <td>&lt;NA&gt;</td>\n",
       "    </tr>\n",
       "  </tbody>\n",
       "</table>\n",
       "<p>16715 rows × 11 columns</p>\n",
       "</div>"
      ],
      "text/plain": [
       "                               name platform year_of_release         genre  na_sales  eu_sales  jp_sales  other_sales critic_score user_score rating\n",
       "0                        wii_sports      wii          2006.0        sports     41.36     28.96      3.77         8.45         76.0          8      E\n",
       "1                  super_mario_bros      nes          1985.0      platform     29.08      3.58      6.81         0.77         <NA>       <NA>   <NA>\n",
       "2                    mario_kart_wii      wii          2008.0        racing     15.68     12.76      3.79         3.29         82.0        8.3      E\n",
       "3                 wii_sports_resort      wii          2009.0        sports     15.61     10.93      3.28         2.95         80.0          8      E\n",
       "4          pokemon_red_pokemon_blue       gb          1996.0  role_playing     11.27      8.89     10.22         1.00         <NA>       <NA>   <NA>\n",
       "...                             ...      ...             ...           ...       ...       ...       ...          ...          ...        ...    ...\n",
       "16710  samurai_warriors_sanada_maru      ps3          2016.0        action      0.00      0.00      0.01         0.00         <NA>       <NA>   <NA>\n",
       "16711              lma_manager_2007     x360          2006.0        sports      0.00      0.01      0.00         0.00         <NA>       <NA>   <NA>\n",
       "16712       haitaka_no_psychedelica      psv          2016.0     adventure      0.00      0.00      0.01         0.00         <NA>       <NA>   <NA>\n",
       "16713                spirits_spells      gba          2003.0      platform      0.01      0.00      0.00         0.00         <NA>       <NA>   <NA>\n",
       "16714           winning_post_8_2016      psv          2016.0    simulation      0.00      0.00      0.01         0.00         <NA>       <NA>   <NA>\n",
       "\n",
       "[16715 rows x 11 columns]"
      ]
     },
     "execution_count": 20,
     "metadata": {},
     "output_type": "execute_result"
    }
   ],
   "source": [
    "df_vg = df_vg.merge(df_vg_name_platform_year[['name', 'platform', 'release_year']], on=['name', 'platform'], how='left')\n",
    "df_vg['year_of_release'] = df_vg['year_of_release'].fillna(df_vg['release_year'])\n",
    "df_vg = df_vg.drop(columns='release_year')\n",
    "df_vg"
   ]
  },
  {
   "cell_type": "markdown",
   "id": "e4b17447",
   "metadata": {},
   "source": [
    "##### `LSPL`\n",
    "\n",
    "**Note:** \n",
    "\n",
    "The file name_platform_games.csv was created as a base to identify missing release years. Using search.py, external sources were queried to retrieve this data, which was subsequently merged into df_vg."
   ]
  },
  {
   "cell_type": "markdown",
   "id": "d0d3d9cc",
   "metadata": {},
   "source": [
    "##### 3.3.4.4  Missing values data imputation for 'critic_score' column"
   ]
  },
  {
   "cell_type": "code",
   "execution_count": 21,
   "id": "891dfd90",
   "metadata": {},
   "outputs": [
    {
     "data": {
      "application/vnd.microsoft.datawrangler.viewer.v0+json": {
       "columns": [
        {
         "name": "index",
         "rawType": "int64",
         "type": "integer"
        },
        {
         "name": "name",
         "rawType": "object",
         "type": "string"
        },
        {
         "name": "platform",
         "rawType": "object",
         "type": "string"
        },
        {
         "name": "year_of_release",
         "rawType": "object",
         "type": "string"
        },
        {
         "name": "genre",
         "rawType": "object",
         "type": "string"
        },
        {
         "name": "na_sales",
         "rawType": "float64",
         "type": "float"
        },
        {
         "name": "eu_sales",
         "rawType": "float64",
         "type": "float"
        },
        {
         "name": "jp_sales",
         "rawType": "float64",
         "type": "float"
        },
        {
         "name": "other_sales",
         "rawType": "float64",
         "type": "float"
        },
        {
         "name": "critic_score",
         "rawType": "object",
         "type": "unknown"
        },
        {
         "name": "user_score",
         "rawType": "object",
         "type": "unknown"
        },
        {
         "name": "rating",
         "rawType": "object",
         "type": "unknown"
        }
       ],
       "ref": "2e9bad9d-7fb8-4812-96f2-b6b9b6e136a2",
       "rows": [
        [
         "1",
         "super_mario_bros",
         "nes",
         "1985.0",
         "platform",
         "29.08",
         "3.58",
         "6.81",
         "0.77",
         null,
         null,
         null
        ],
        [
         "4",
         "pokemon_red_pokemon_blue",
         "gb",
         "1996.0",
         "role_playing",
         "11.27",
         "8.89",
         "10.22",
         "1.0",
         null,
         null,
         null
        ],
        [
         "5",
         "tetris",
         "gb",
         "1989.0",
         "puzzle",
         "23.2",
         "2.26",
         "4.22",
         "0.58",
         null,
         null,
         null
        ],
        [
         "9",
         "duck_hunt",
         "nes",
         "1984.0",
         "shooter",
         "26.93",
         "0.63",
         "0.28",
         "0.47",
         null,
         null,
         null
        ],
        [
         "10",
         "nintendogs",
         "ds",
         "2005.0",
         "simulation",
         "9.05",
         "10.95",
         "1.93",
         "2.74",
         null,
         null,
         null
        ],
        [
         "12",
         "pokemon_gold_pokemon_silver",
         "gb",
         "1999.0",
         "role_playing",
         "9.0",
         "6.18",
         "7.2",
         "0.71",
         null,
         null,
         null
        ],
        [
         "18",
         "super_mario_world",
         "snes",
         "1990.0",
         "platform",
         "12.78",
         "3.75",
         "3.54",
         "0.55",
         null,
         null,
         null
        ],
        [
         "20",
         "pokemon_diamond_pokemon_pearl",
         "ds",
         "2006.0",
         "role_playing",
         "6.38",
         "4.46",
         "6.04",
         "1.36",
         null,
         null,
         null
        ],
        [
         "21",
         "super_mario_land",
         "gb",
         "1989.0",
         "platform",
         "10.83",
         "2.71",
         "4.18",
         "0.42",
         null,
         null,
         null
        ],
        [
         "22",
         "super_mario_bros_3",
         "nes",
         "1988.0",
         "platform",
         "9.54",
         "3.44",
         "3.84",
         "0.46",
         null,
         null,
         null
        ],
        [
         "25",
         "pokemon_ruby_pokemon_sapphire",
         "gba",
         "2002.0",
         "role_playing",
         "6.06",
         "3.9",
         "5.38",
         "0.5",
         null,
         null,
         null
        ],
        [
         "27",
         "pokemon_black_pokemon_white",
         "ds",
         "2010.0",
         "role_playing",
         "5.51",
         "3.17",
         "5.65",
         "0.8",
         null,
         null,
         null
        ],
        [
         "30",
         "pokémon_yellow_special_pikachu_edition",
         "gb",
         "1998.0",
         "role_playing",
         "5.89",
         "5.04",
         "3.12",
         "0.59",
         null,
         null,
         null
        ],
        [
         "31",
         "call_of_duty_black_ops_3",
         "ps4",
         "2015.0",
         "shooter",
         "6.03",
         "5.86",
         "0.36",
         "2.38",
         null,
         null,
         null
        ],
        [
         "33",
         "pokemon_x_pokemon_y",
         "3ds",
         "2013.0",
         "role_playing",
         "5.28",
         "4.19",
         "4.35",
         "0.78",
         null,
         null,
         null
        ],
        [
         "45",
         "super_mario_64",
         "n64",
         "1996.0",
         "platform",
         "6.91",
         "2.85",
         "1.91",
         "0.23",
         null,
         null,
         null
        ],
        [
         "46",
         "pokemon_heartgold_pokemon_soulsilver",
         "ds",
         "2009.0",
         "action",
         "4.34",
         "2.71",
         "3.96",
         "0.76",
         null,
         null,
         null
        ],
        [
         "47",
         "pokemon_omega_ruby_pokemon_alpha_sapphire",
         "3ds",
         "2014.0",
         "role_playing",
         "4.35",
         "3.49",
         "3.1",
         "0.74",
         null,
         null,
         null
        ],
        [
         "50",
         "super_mario_land_2_6_golden_coins",
         "gb",
         "1992.0",
         "adventure",
         "6.16",
         "2.04",
         "2.69",
         "0.29",
         null,
         null,
         null
        ],
        [
         "56",
         "super_mario_all_stars",
         "snes",
         "1993.0",
         "platform",
         "5.99",
         "2.15",
         "2.12",
         "0.29",
         null,
         null,
         null
        ],
        [
         "58",
         "pokemon_firered_pokemon_leafgreen",
         "gba",
         "2004.0",
         "role_playing",
         "4.34",
         "2.65",
         "3.15",
         "0.35",
         null,
         null,
         null
        ],
        [
         "59",
         "super_mario_64",
         "ds",
         "2004.0",
         "platform",
         "5.01",
         "3.07",
         "1.25",
         "0.97",
         null,
         null,
         null
        ],
        [
         "63",
         "mario_kart_64",
         "n64",
         "1996.0",
         "racing",
         "5.55",
         "1.94",
         "2.23",
         "0.15",
         null,
         null,
         null
        ],
        [
         "71",
         "donkey_kong_country",
         "snes",
         "1994.0",
         "platform",
         "4.36",
         "1.71",
         "3.0",
         "0.23",
         null,
         null,
         null
        ],
        [
         "72",
         "minecraft",
         "x360",
         "2013.0",
         "misc",
         "5.7",
         "2.65",
         "0.02",
         "0.81",
         null,
         null,
         null
        ],
        [
         "76",
         "super_mario_kart",
         "snes",
         "1992.0",
         "racing",
         "3.54",
         "1.24",
         "3.81",
         "0.18",
         null,
         null,
         null
        ],
        [
         "82",
         "goldeneye_007",
         "n64",
         "1997.0",
         "shooter",
         "5.8",
         "2.01",
         "0.13",
         "0.15",
         null,
         null,
         null
        ],
        [
         "83",
         "pokemon_black_2_pokemon_white_2",
         "ds",
         "2012.0",
         "role_playing",
         "2.79",
         "1.72",
         "3.14",
         "0.41",
         null,
         null,
         null
        ],
        [
         "86",
         "mario_sonic_at_the_olympic_games",
         "wii",
         "2007.0",
         "sports",
         "2.57",
         "3.86",
         "0.66",
         "0.91",
         null,
         null,
         null
        ],
        [
         "87",
         "star_wars_battlefront_2015",
         "ps4",
         "2015.0",
         "shooter",
         "2.99",
         "3.49",
         "0.22",
         "1.28",
         null,
         null,
         null
        ],
        [
         "89",
         "pac_man",
         "2600",
         "1982.0",
         "puzzle",
         "7.28",
         "0.45",
         "0.0",
         "0.08",
         null,
         null,
         null
        ],
        [
         "93",
         "the_legend_of_zelda_ocarina_of_time",
         "n64",
         "1998.0",
         "action",
         "4.1",
         "1.89",
         "1.45",
         "0.16",
         null,
         null,
         null
        ],
        [
         "95",
         "crash_bandicoot_2_cortex_strikes_back",
         "ps",
         "1997.0",
         "platform",
         "3.78",
         "2.17",
         "1.31",
         "0.31",
         null,
         null,
         null
        ],
        [
         "96",
         "super_smash_bros_for_wii_u_and_3ds",
         "3ds",
         "2014.0",
         "fighting",
         "3.27",
         "1.37",
         "2.43",
         "0.48",
         null,
         null,
         null
        ],
        [
         "98",
         "super_mario_bros_2",
         "nes",
         "1988.0",
         "platform",
         "5.39",
         "1.18",
         "0.7",
         "0.19",
         null,
         null,
         null
        ],
        [
         "99",
         "call_of_duty_black_ops_3",
         "xone",
         "2015.0",
         "shooter",
         "4.59",
         "2.11",
         "0.01",
         "0.68",
         null,
         null,
         null
        ],
        [
         "108",
         "pokemon_sun_moon",
         "3ds",
         "2016.0",
         "role_playing",
         "2.98",
         "1.45",
         "2.26",
         "0.45",
         null,
         null,
         null
        ],
        [
         "112",
         "mario_kart_double_dash",
         "gc",
         "2003.0",
         "racing",
         "4.12",
         "1.77",
         "0.87",
         "0.19",
         null,
         null,
         null
        ],
        [
         "115",
         "crash_bandicoot",
         "ps",
         "1996.0",
         "platform",
         "3.23",
         "2.35",
         "0.94",
         "0.3",
         null,
         null,
         null
        ],
        [
         "119",
         "zumba_fitness",
         "wii",
         "2010.0",
         "sports",
         "3.45",
         "2.59",
         "0.0",
         "0.66",
         null,
         "tbd",
         "E"
        ],
        [
         "122",
         "fifa_12",
         "ps3",
         "2011.0",
         "sports",
         "0.84",
         "4.3",
         "0.11",
         "1.39",
         null,
         null,
         null
        ],
        [
         "124",
         "the_legend_of_zelda",
         "nes",
         "1986.0",
         "action",
         "3.74",
         "0.93",
         "1.69",
         "0.14",
         null,
         null,
         null
        ],
        [
         "133",
         "pokémon_crystal_version",
         "gb",
         "2000.0",
         "role_playing",
         "2.55",
         "1.56",
         "1.29",
         "0.99",
         null,
         null,
         null
        ],
        [
         "137",
         "street_fighter_ii_the_world_warrior",
         "snes",
         "1992.0",
         "fighting",
         "2.47",
         "0.83",
         "2.87",
         "0.12",
         null,
         null,
         null
        ],
        [
         "145",
         "sonic_the_hedgehog_2",
         "gen",
         "1992.0",
         "platform",
         "4.47",
         "1.2",
         "0.16",
         "0.19",
         null,
         null,
         null
        ],
        [
         "157",
         "tetris",
         "nes",
         "1988.0",
         "puzzle",
         "2.97",
         "0.69",
         "1.81",
         "0.11",
         null,
         null,
         null
        ],
        [
         "158",
         "super_smash_bros",
         "n64",
         "1999.0",
         "fighting",
         "2.95",
         "0.6",
         "1.97",
         "0.04",
         null,
         null,
         null
        ],
        [
         "167",
         "super_mario_world",
         "gba",
         "2001.0",
         "platform",
         "3.21",
         "1.11",
         "0.95",
         "0.2",
         null,
         null,
         null
        ],
        [
         "168",
         "pokemon_stadium",
         "n64",
         "1999.0",
         "strategy",
         "3.18",
         "1.24",
         "0.94",
         "0.09",
         null,
         null,
         null
        ],
        [
         "172",
         "dr_mario",
         "gb",
         "1989.0",
         "puzzle",
         "2.18",
         "0.96",
         "2.0",
         "0.2",
         null,
         null,
         null
        ]
       ],
       "shape": {
        "columns": 11,
        "rows": 8578
       }
      },
      "text/html": [
       "<div>\n",
       "<style scoped>\n",
       "    .dataframe tbody tr th:only-of-type {\n",
       "        vertical-align: middle;\n",
       "    }\n",
       "\n",
       "    .dataframe tbody tr th {\n",
       "        vertical-align: top;\n",
       "    }\n",
       "\n",
       "    .dataframe thead th {\n",
       "        text-align: right;\n",
       "    }\n",
       "</style>\n",
       "<table border=\"1\" class=\"dataframe\">\n",
       "  <thead>\n",
       "    <tr style=\"text-align: right;\">\n",
       "      <th></th>\n",
       "      <th>name</th>\n",
       "      <th>platform</th>\n",
       "      <th>year_of_release</th>\n",
       "      <th>genre</th>\n",
       "      <th>na_sales</th>\n",
       "      <th>eu_sales</th>\n",
       "      <th>jp_sales</th>\n",
       "      <th>other_sales</th>\n",
       "      <th>critic_score</th>\n",
       "      <th>user_score</th>\n",
       "      <th>rating</th>\n",
       "    </tr>\n",
       "  </thead>\n",
       "  <tbody>\n",
       "    <tr>\n",
       "      <th>1</th>\n",
       "      <td>super_mario_bros</td>\n",
       "      <td>nes</td>\n",
       "      <td>1985.0</td>\n",
       "      <td>platform</td>\n",
       "      <td>29.08</td>\n",
       "      <td>3.58</td>\n",
       "      <td>6.81</td>\n",
       "      <td>0.77</td>\n",
       "      <td>&lt;NA&gt;</td>\n",
       "      <td>&lt;NA&gt;</td>\n",
       "      <td>&lt;NA&gt;</td>\n",
       "    </tr>\n",
       "    <tr>\n",
       "      <th>4</th>\n",
       "      <td>pokemon_red_pokemon_blue</td>\n",
       "      <td>gb</td>\n",
       "      <td>1996.0</td>\n",
       "      <td>role_playing</td>\n",
       "      <td>11.27</td>\n",
       "      <td>8.89</td>\n",
       "      <td>10.22</td>\n",
       "      <td>1.00</td>\n",
       "      <td>&lt;NA&gt;</td>\n",
       "      <td>&lt;NA&gt;</td>\n",
       "      <td>&lt;NA&gt;</td>\n",
       "    </tr>\n",
       "    <tr>\n",
       "      <th>5</th>\n",
       "      <td>tetris</td>\n",
       "      <td>gb</td>\n",
       "      <td>1989.0</td>\n",
       "      <td>puzzle</td>\n",
       "      <td>23.20</td>\n",
       "      <td>2.26</td>\n",
       "      <td>4.22</td>\n",
       "      <td>0.58</td>\n",
       "      <td>&lt;NA&gt;</td>\n",
       "      <td>&lt;NA&gt;</td>\n",
       "      <td>&lt;NA&gt;</td>\n",
       "    </tr>\n",
       "    <tr>\n",
       "      <th>9</th>\n",
       "      <td>duck_hunt</td>\n",
       "      <td>nes</td>\n",
       "      <td>1984.0</td>\n",
       "      <td>shooter</td>\n",
       "      <td>26.93</td>\n",
       "      <td>0.63</td>\n",
       "      <td>0.28</td>\n",
       "      <td>0.47</td>\n",
       "      <td>&lt;NA&gt;</td>\n",
       "      <td>&lt;NA&gt;</td>\n",
       "      <td>&lt;NA&gt;</td>\n",
       "    </tr>\n",
       "    <tr>\n",
       "      <th>10</th>\n",
       "      <td>nintendogs</td>\n",
       "      <td>ds</td>\n",
       "      <td>2005.0</td>\n",
       "      <td>simulation</td>\n",
       "      <td>9.05</td>\n",
       "      <td>10.95</td>\n",
       "      <td>1.93</td>\n",
       "      <td>2.74</td>\n",
       "      <td>&lt;NA&gt;</td>\n",
       "      <td>&lt;NA&gt;</td>\n",
       "      <td>&lt;NA&gt;</td>\n",
       "    </tr>\n",
       "    <tr>\n",
       "      <th>...</th>\n",
       "      <td>...</td>\n",
       "      <td>...</td>\n",
       "      <td>...</td>\n",
       "      <td>...</td>\n",
       "      <td>...</td>\n",
       "      <td>...</td>\n",
       "      <td>...</td>\n",
       "      <td>...</td>\n",
       "      <td>...</td>\n",
       "      <td>...</td>\n",
       "      <td>...</td>\n",
       "    </tr>\n",
       "    <tr>\n",
       "      <th>16710</th>\n",
       "      <td>samurai_warriors_sanada_maru</td>\n",
       "      <td>ps3</td>\n",
       "      <td>2016.0</td>\n",
       "      <td>action</td>\n",
       "      <td>0.00</td>\n",
       "      <td>0.00</td>\n",
       "      <td>0.01</td>\n",
       "      <td>0.00</td>\n",
       "      <td>&lt;NA&gt;</td>\n",
       "      <td>&lt;NA&gt;</td>\n",
       "      <td>&lt;NA&gt;</td>\n",
       "    </tr>\n",
       "    <tr>\n",
       "      <th>16711</th>\n",
       "      <td>lma_manager_2007</td>\n",
       "      <td>x360</td>\n",
       "      <td>2006.0</td>\n",
       "      <td>sports</td>\n",
       "      <td>0.00</td>\n",
       "      <td>0.01</td>\n",
       "      <td>0.00</td>\n",
       "      <td>0.00</td>\n",
       "      <td>&lt;NA&gt;</td>\n",
       "      <td>&lt;NA&gt;</td>\n",
       "      <td>&lt;NA&gt;</td>\n",
       "    </tr>\n",
       "    <tr>\n",
       "      <th>16712</th>\n",
       "      <td>haitaka_no_psychedelica</td>\n",
       "      <td>psv</td>\n",
       "      <td>2016.0</td>\n",
       "      <td>adventure</td>\n",
       "      <td>0.00</td>\n",
       "      <td>0.00</td>\n",
       "      <td>0.01</td>\n",
       "      <td>0.00</td>\n",
       "      <td>&lt;NA&gt;</td>\n",
       "      <td>&lt;NA&gt;</td>\n",
       "      <td>&lt;NA&gt;</td>\n",
       "    </tr>\n",
       "    <tr>\n",
       "      <th>16713</th>\n",
       "      <td>spirits_spells</td>\n",
       "      <td>gba</td>\n",
       "      <td>2003.0</td>\n",
       "      <td>platform</td>\n",
       "      <td>0.01</td>\n",
       "      <td>0.00</td>\n",
       "      <td>0.00</td>\n",
       "      <td>0.00</td>\n",
       "      <td>&lt;NA&gt;</td>\n",
       "      <td>&lt;NA&gt;</td>\n",
       "      <td>&lt;NA&gt;</td>\n",
       "    </tr>\n",
       "    <tr>\n",
       "      <th>16714</th>\n",
       "      <td>winning_post_8_2016</td>\n",
       "      <td>psv</td>\n",
       "      <td>2016.0</td>\n",
       "      <td>simulation</td>\n",
       "      <td>0.00</td>\n",
       "      <td>0.00</td>\n",
       "      <td>0.01</td>\n",
       "      <td>0.00</td>\n",
       "      <td>&lt;NA&gt;</td>\n",
       "      <td>&lt;NA&gt;</td>\n",
       "      <td>&lt;NA&gt;</td>\n",
       "    </tr>\n",
       "  </tbody>\n",
       "</table>\n",
       "<p>8578 rows × 11 columns</p>\n",
       "</div>"
      ],
      "text/plain": [
       "                               name platform year_of_release         genre  na_sales  eu_sales  jp_sales  other_sales critic_score user_score rating\n",
       "1                  super_mario_bros      nes          1985.0      platform     29.08      3.58      6.81         0.77         <NA>       <NA>   <NA>\n",
       "4          pokemon_red_pokemon_blue       gb          1996.0  role_playing     11.27      8.89     10.22         1.00         <NA>       <NA>   <NA>\n",
       "5                            tetris       gb          1989.0        puzzle     23.20      2.26      4.22         0.58         <NA>       <NA>   <NA>\n",
       "9                         duck_hunt      nes          1984.0       shooter     26.93      0.63      0.28         0.47         <NA>       <NA>   <NA>\n",
       "10                       nintendogs       ds          2005.0    simulation      9.05     10.95      1.93         2.74         <NA>       <NA>   <NA>\n",
       "...                             ...      ...             ...           ...       ...       ...       ...          ...          ...        ...    ...\n",
       "16710  samurai_warriors_sanada_maru      ps3          2016.0        action      0.00      0.00      0.01         0.00         <NA>       <NA>   <NA>\n",
       "16711              lma_manager_2007     x360          2006.0        sports      0.00      0.01      0.00         0.00         <NA>       <NA>   <NA>\n",
       "16712       haitaka_no_psychedelica      psv          2016.0     adventure      0.00      0.00      0.01         0.00         <NA>       <NA>   <NA>\n",
       "16713                spirits_spells      gba          2003.0      platform      0.01      0.00      0.00         0.00         <NA>       <NA>   <NA>\n",
       "16714           winning_post_8_2016      psv          2016.0    simulation      0.00      0.00      0.01         0.00         <NA>       <NA>   <NA>\n",
       "\n",
       "[8578 rows x 11 columns]"
      ]
     },
     "execution_count": 21,
     "metadata": {},
     "output_type": "execute_result"
    }
   ],
   "source": [
    "# Show pd.NA missing values for 'critic_score' column\n",
    "df_vg.loc[df_vg['critic_score'].isna(), :]"
   ]
  },
  {
   "cell_type": "code",
   "execution_count": 22,
   "id": "62a76424",
   "metadata": {},
   "outputs": [
    {
     "data": {
      "text/html": [
       "> Percentage of null values for column <i>'critic_score'</i>:              <b>51.32</b> %"
      ],
      "text/plain": [
       "<IPython.core.display.HTML object>"
      ]
     },
     "metadata": {},
     "output_type": "display_data"
    }
   ],
   "source": [
    "# Percentage of null values ​​in column 'critic_score'\n",
    "display(HTML(f\"> Percentage of null values for column <i>'critic_score'</i>: \\\n",
    "             <b>{(df_vg['critic_score'].isna().sum() / len(df_vg['critic_score']) * 100):.2f}</b> %\"))"
   ]
  },
  {
   "cell_type": "code",
   "execution_count": 23,
   "id": "d335eda1",
   "metadata": {},
   "outputs": [
    {
     "data": {
      "application/vnd.microsoft.datawrangler.viewer.v0+json": {
       "columns": [
        {
         "name": "name",
         "rawType": "object",
         "type": "string"
        },
        {
         "name": "critic_score",
         "rawType": "object",
         "type": "string"
        }
       ],
       "ref": "053e6134-d9c2-4b01-a03f-f9a8b544940a",
       "rows": [
        [
         "007_quantum_of_solace",
         "65.0"
        ],
        [
         "007_racing",
         "51.0"
        ],
        [
         "007_the_world_is_not_enough",
         "61.0"
        ],
        [
         "100_classic_books",
         "70.0"
        ],
        [
         "101_in_1_explosive_megamix",
         "46.0"
        ],
        [
         "101_in_1_sports_party_megamix",
         "41.0"
        ],
        [
         "15_days",
         "63.0"
        ],
        [
         "1701_a_d",
         "79.0"
        ],
        [
         "187_ride_or_die",
         "51.0"
        ],
        [
         "18_wheeler_american_pro_trucker",
         "52.0"
        ],
        [
         "1_vs_100",
         "38.0"
        ],
        [
         "2002_fifa_world_cup",
         "73.0"
        ],
        [
         "2010_fifa_world_cup_south_africa",
         "69.0"
        ],
        [
         "2014_fifa_world_cup_brazil",
         "73.0"
        ],
        [
         "24_the_game",
         "62.0"
        ],
        [
         "25_to_life",
         "39.0"
        ],
        [
         "300_march_to_glory",
         "55.0"
        ],
        [
         "3d_dot_game_heroes",
         "77.0"
        ],
        [
         "4x4_evo_2",
         "56.0"
        ],
        [
         "4x4_evolution",
         "64.0"
        ],
        [
         "50_cent_blood_on_the_sand",
         "71.0"
        ],
        [
         "50_cent_bulletproof",
         "47.0"
        ],
        [
         "7_days_to_die",
         "35.0"
        ],
        [
         "7_wonders_ii",
         "60.0"
        ],
        [
         "7_wonders_of_the_ancient_world",
         "51.0"
        ],
        [
         "7th_dragon_iii_code_vfd",
         "77.0"
        ],
        [
         "_hack_infection_part_1",
         "75.0"
        ],
        [
         "_hack_mutation_part_2",
         "76.0"
        ],
        [
         "_hack_outbreak_part_3",
         "70.0"
        ],
        [
         "_prototype",
         "78.0"
        ],
        [
         "_prototype_2",
         "74.0"
        ],
        [
         "a_boy_and_his_blob",
         "80.0"
        ],
        [
         "a_game_of_thrones_genesis",
         "53.0"
        ],
        [
         "a_train_city_simulator",
         "65.0"
        ],
        [
         "a_vampyre_story",
         "75.0"
        ],
        [
         "a_witch_s_tale",
         "50.0"
        ],
        [
         "abba_you_can_dance",
         "66.0"
        ],
        [
         "ac_dc_live_rock_band_track_pack",
         "60.0"
        ],
        [
         "academy_of_champions_soccer",
         "64.0"
        ],
        [
         "ace_attorney_investigations_miles_edgeworth",
         "78.0"
        ],
        [
         "ace_combat_04_shattered_skies",
         "89.0"
        ],
        [
         "ace_combat_2",
         "83.0"
        ],
        [
         "ace_combat_5_the_unsung_war",
         "84.0"
        ],
        [
         "ace_combat_6_fires_of_liberation",
         "80.0"
        ],
        [
         "ace_combat_assault_horizon",
         "77.0"
        ],
        [
         "ace_combat_assault_horizon_legacy",
         "71.0"
        ],
        [
         "ace_combat_joint_assault",
         "71.0"
        ],
        [
         "ace_combat_x_skies_of_deception",
         "75.0"
        ],
        [
         "ace_combat_zero_the_belkan_war",
         "75.0"
        ],
        [
         "achtung_panzer_kharkov_1943",
         "70.0"
        ]
       ],
       "shape": {
        "columns": 1,
        "rows": 5080
       }
      },
      "text/plain": [
       "name\n",
       "007_quantum_of_solace          65.0\n",
       "007_racing                     51.0\n",
       "007_the_world_is_not_enough    61.0\n",
       "100_classic_books              70.0\n",
       "101_in_1_explosive_megamix     46.0\n",
       "                               ... \n",
       "zubo                           75.0\n",
       "zumba_fitness                  42.0\n",
       "zumba_fitness_core             77.0\n",
       "zumba_fitness_rush             73.0\n",
       "zumba_fitness_world_party      73.0\n",
       "Name: critic_score, Length: 5080, dtype: object"
      ]
     },
     "execution_count": 23,
     "metadata": {},
     "output_type": "execute_result"
    }
   ],
   "source": [
    "# Imputation for those games multiplatform, missing values in 'critic_score' will be taken from the same game other platforms mode\n",
    "df_vg_name_paltform_cs = df_vg.loc[:, ['name', 'platform', 'critic_score']]\n",
    "df_vg_name_paltform_cs = df_vg_name_paltform_cs.drop_duplicates()\n",
    "df_vg_name_paltform_cs = df_vg_name_paltform_cs.dropna()\n",
    "df_vg_name_paltform_cs = (df_vg_name_paltform_cs.groupby('name')['critic_score'].agg(lambda x: x.mode().iloc[0]))\n",
    "df_vg_name_paltform_cs"
   ]
  },
  {
   "cell_type": "code",
   "execution_count": 24,
   "id": "4241e4c9",
   "metadata": {},
   "outputs": [
    {
     "data": {
      "application/vnd.microsoft.datawrangler.viewer.v0+json": {
       "columns": [
        {
         "name": "index",
         "rawType": "int64",
         "type": "integer"
        },
        {
         "name": "name",
         "rawType": "object",
         "type": "string"
        },
        {
         "name": "platform",
         "rawType": "object",
         "type": "string"
        },
        {
         "name": "year_of_release",
         "rawType": "object",
         "type": "string"
        },
        {
         "name": "genre",
         "rawType": "object",
         "type": "string"
        },
        {
         "name": "na_sales",
         "rawType": "float64",
         "type": "float"
        },
        {
         "name": "eu_sales",
         "rawType": "float64",
         "type": "float"
        },
        {
         "name": "jp_sales",
         "rawType": "float64",
         "type": "float"
        },
        {
         "name": "other_sales",
         "rawType": "float64",
         "type": "float"
        },
        {
         "name": "critic_score",
         "rawType": "object",
         "type": "unknown"
        },
        {
         "name": "user_score",
         "rawType": "object",
         "type": "unknown"
        },
        {
         "name": "rating",
         "rawType": "object",
         "type": "unknown"
        }
       ],
       "ref": "21cc9848-8c27-4b99-bf98-0e831fade394",
       "rows": [
        [
         "0",
         "wii_sports",
         "wii",
         "2006.0",
         "sports",
         "41.36",
         "28.96",
         "3.77",
         "8.45",
         "76.0",
         "8",
         "E"
        ],
        [
         "1",
         "super_mario_bros",
         "nes",
         "1985.0",
         "platform",
         "29.08",
         "3.58",
         "6.81",
         "0.77",
         null,
         null,
         null
        ],
        [
         "2",
         "mario_kart_wii",
         "wii",
         "2008.0",
         "racing",
         "15.68",
         "12.76",
         "3.79",
         "3.29",
         "82.0",
         "8.3",
         "E"
        ],
        [
         "3",
         "wii_sports_resort",
         "wii",
         "2009.0",
         "sports",
         "15.61",
         "10.93",
         "3.28",
         "2.95",
         "80.0",
         "8",
         "E"
        ],
        [
         "4",
         "pokemon_red_pokemon_blue",
         "gb",
         "1996.0",
         "role_playing",
         "11.27",
         "8.89",
         "10.22",
         "1.0",
         null,
         null,
         null
        ],
        [
         "5",
         "tetris",
         "gb",
         "1989.0",
         "puzzle",
         "23.2",
         "2.26",
         "4.22",
         "0.58",
         null,
         null,
         null
        ],
        [
         "6",
         "new_super_mario_bros",
         "ds",
         "2006.0",
         "platform",
         "11.28",
         "9.14",
         "6.5",
         "2.88",
         "89.0",
         "8.5",
         "E"
        ],
        [
         "7",
         "wii_play",
         "wii",
         "2006.0",
         "misc",
         "13.96",
         "9.18",
         "2.93",
         "2.84",
         "58.0",
         "6.6",
         "E"
        ],
        [
         "8",
         "new_super_mario_bros_wii",
         "wii",
         "2009.0",
         "platform",
         "14.44",
         "6.94",
         "4.7",
         "2.24",
         "87.0",
         "8.4",
         "E"
        ],
        [
         "9",
         "duck_hunt",
         "nes",
         "1984.0",
         "shooter",
         "26.93",
         "0.63",
         "0.28",
         "0.47",
         null,
         null,
         null
        ],
        [
         "10",
         "nintendogs",
         "ds",
         "2005.0",
         "simulation",
         "9.05",
         "10.95",
         "1.93",
         "2.74",
         null,
         null,
         null
        ],
        [
         "11",
         "mario_kart_ds",
         "ds",
         "2005.0",
         "racing",
         "9.71",
         "7.47",
         "4.13",
         "1.9",
         "91.0",
         "8.6",
         "E"
        ],
        [
         "12",
         "pokemon_gold_pokemon_silver",
         "gb",
         "1999.0",
         "role_playing",
         "9.0",
         "6.18",
         "7.2",
         "0.71",
         null,
         null,
         null
        ],
        [
         "13",
         "wii_fit",
         "wii",
         "2007.0",
         "sports",
         "8.92",
         "8.03",
         "3.6",
         "2.15",
         "80.0",
         "7.7",
         "E"
        ],
        [
         "14",
         "kinect_adventures",
         "x360",
         "2010.0",
         "misc",
         "15.0",
         "4.89",
         "0.24",
         "1.69",
         "61.0",
         "6.3",
         "E"
        ],
        [
         "15",
         "wii_fit_plus",
         "wii",
         "2009.0",
         "sports",
         "9.01",
         "8.49",
         "2.53",
         "1.77",
         "80.0",
         "7.4",
         "E"
        ],
        [
         "16",
         "grand_theft_auto_v",
         "ps3",
         "2013.0",
         "action",
         "7.02",
         "9.09",
         "0.98",
         "3.96",
         "97.0",
         "8.2",
         "M"
        ],
        [
         "17",
         "grand_theft_auto_san_andreas",
         "ps2",
         "2004.0",
         "action",
         "9.43",
         "0.4",
         "0.41",
         "10.57",
         "95.0",
         "9",
         "M"
        ],
        [
         "18",
         "super_mario_world",
         "snes",
         "1990.0",
         "platform",
         "12.78",
         "3.75",
         "3.54",
         "0.55",
         null,
         null,
         null
        ],
        [
         "19",
         "brain_age_train_your_brain_in_minutes_a_day",
         "ds",
         "2005.0",
         "misc",
         "4.74",
         "9.2",
         "4.16",
         "2.04",
         "77.0",
         "7.9",
         "E"
        ],
        [
         "20",
         "pokemon_diamond_pokemon_pearl",
         "ds",
         "2006.0",
         "role_playing",
         "6.38",
         "4.46",
         "6.04",
         "1.36",
         null,
         null,
         null
        ],
        [
         "21",
         "super_mario_land",
         "gb",
         "1989.0",
         "platform",
         "10.83",
         "2.71",
         "4.18",
         "0.42",
         null,
         null,
         null
        ],
        [
         "22",
         "super_mario_bros_3",
         "nes",
         "1988.0",
         "platform",
         "9.54",
         "3.44",
         "3.84",
         "0.46",
         null,
         null,
         null
        ],
        [
         "23",
         "grand_theft_auto_v",
         "x360",
         "2013.0",
         "action",
         "9.66",
         "5.14",
         "0.06",
         "1.41",
         "97.0",
         "8.1",
         "M"
        ],
        [
         "24",
         "grand_theft_auto_vice_city",
         "ps2",
         "2002.0",
         "action",
         "8.41",
         "5.49",
         "0.47",
         "1.78",
         "95.0",
         "8.7",
         "M"
        ],
        [
         "25",
         "pokemon_ruby_pokemon_sapphire",
         "gba",
         "2002.0",
         "role_playing",
         "6.06",
         "3.9",
         "5.38",
         "0.5",
         null,
         null,
         null
        ],
        [
         "26",
         "brain_age_2_more_training_in_minutes_a_day",
         "ds",
         "2005.0",
         "puzzle",
         "3.43",
         "5.35",
         "5.32",
         "1.18",
         "77.0",
         "7.1",
         "E"
        ],
        [
         "27",
         "pokemon_black_pokemon_white",
         "ds",
         "2010.0",
         "role_playing",
         "5.51",
         "3.17",
         "5.65",
         "0.8",
         null,
         null,
         null
        ],
        [
         "28",
         "gran_turismo_3_a_spec",
         "ps2",
         "2001.0",
         "racing",
         "6.85",
         "5.09",
         "1.87",
         "1.16",
         "95.0",
         "8.4",
         "E"
        ],
        [
         "29",
         "call_of_duty_modern_warfare_3",
         "x360",
         "2011.0",
         "shooter",
         "9.04",
         "4.24",
         "0.13",
         "1.32",
         "88.0",
         "3.4",
         "M"
        ],
        [
         "30",
         "pokémon_yellow_special_pikachu_edition",
         "gb",
         "1998.0",
         "role_playing",
         "5.89",
         "5.04",
         "3.12",
         "0.59",
         null,
         null,
         null
        ],
        [
         "31",
         "call_of_duty_black_ops_3",
         "ps4",
         "2015.0",
         "shooter",
         "6.03",
         "5.86",
         "0.36",
         "2.38",
         null,
         null,
         null
        ],
        [
         "32",
         "call_of_duty_black_ops",
         "x360",
         "2010.0",
         "shooter",
         "9.7",
         "3.68",
         "0.11",
         "1.13",
         "87.0",
         "6.3",
         "M"
        ],
        [
         "33",
         "pokemon_x_pokemon_y",
         "3ds",
         "2013.0",
         "role_playing",
         "5.28",
         "4.19",
         "4.35",
         "0.78",
         null,
         null,
         null
        ],
        [
         "34",
         "call_of_duty_black_ops_ii",
         "ps3",
         "2012.0",
         "shooter",
         "4.99",
         "5.73",
         "0.65",
         "2.42",
         "83.0",
         "5.3",
         "M"
        ],
        [
         "35",
         "call_of_duty_black_ops_ii",
         "x360",
         "2012.0",
         "shooter",
         "8.25",
         "4.24",
         "0.07",
         "1.12",
         "83.0",
         "4.8",
         "M"
        ],
        [
         "36",
         "call_of_duty_modern_warfare_2",
         "x360",
         "2009.0",
         "shooter",
         "8.52",
         "3.59",
         "0.08",
         "1.28",
         "94.0",
         "6.3",
         "M"
        ],
        [
         "37",
         "call_of_duty_modern_warfare_3",
         "ps3",
         "2011.0",
         "shooter",
         "5.54",
         "5.73",
         "0.49",
         "1.57",
         "88.0",
         "3.2",
         "M"
        ],
        [
         "38",
         "grand_theft_auto_iii",
         "ps2",
         "2001.0",
         "action",
         "6.99",
         "4.51",
         "0.3",
         "1.3",
         "97.0",
         "8.5",
         "M"
        ],
        [
         "39",
         "super_smash_bros_brawl",
         "wii",
         "2008.0",
         "fighting",
         "6.62",
         "2.55",
         "2.66",
         "1.01",
         "93.0",
         "8.9",
         "T"
        ],
        [
         "40",
         "mario_kart_7",
         "3ds",
         "2011.0",
         "racing",
         "5.03",
         "4.02",
         "2.69",
         "0.91",
         "85.0",
         "8.2",
         "E"
        ],
        [
         "41",
         "call_of_duty_black_ops",
         "ps3",
         "2010.0",
         "shooter",
         "5.99",
         "4.37",
         "0.48",
         "1.79",
         "88.0",
         "6.4",
         "M"
        ],
        [
         "42",
         "grand_theft_auto_v",
         "ps4",
         "2014.0",
         "action",
         "3.96",
         "6.31",
         "0.38",
         "1.97",
         "97.0",
         "8.3",
         "M"
        ],
        [
         "43",
         "animal_crossing_wild_world",
         "ds",
         "2005.0",
         "simulation",
         "2.5",
         "3.45",
         "5.33",
         "0.86",
         "86.0",
         "8.7",
         "E"
        ],
        [
         "44",
         "halo_3",
         "x360",
         "2007.0",
         "shooter",
         "7.97",
         "2.81",
         "0.13",
         "1.21",
         "94.0",
         "7.8",
         "M"
        ],
        [
         "45",
         "super_mario_64",
         "n64",
         "1996.0",
         "platform",
         "6.91",
         "2.85",
         "1.91",
         "0.23",
         null,
         null,
         null
        ],
        [
         "46",
         "pokemon_heartgold_pokemon_soulsilver",
         "ds",
         "2009.0",
         "action",
         "4.34",
         "2.71",
         "3.96",
         "0.76",
         null,
         null,
         null
        ],
        [
         "47",
         "pokemon_omega_ruby_pokemon_alpha_sapphire",
         "3ds",
         "2014.0",
         "role_playing",
         "4.35",
         "3.49",
         "3.1",
         "0.74",
         null,
         null,
         null
        ],
        [
         "48",
         "gran_turismo_4",
         "ps2",
         "2004.0",
         "racing",
         "3.01",
         "0.01",
         "1.1",
         "7.53",
         "89.0",
         "8.5",
         "E"
        ],
        [
         "49",
         "super_mario_galaxy",
         "wii",
         "2007.0",
         "platform",
         "6.06",
         "3.35",
         "1.2",
         "0.74",
         "97.0",
         "8.9",
         "E"
        ]
       ],
       "shape": {
        "columns": 11,
        "rows": 16715
       }
      },
      "text/html": [
       "<div>\n",
       "<style scoped>\n",
       "    .dataframe tbody tr th:only-of-type {\n",
       "        vertical-align: middle;\n",
       "    }\n",
       "\n",
       "    .dataframe tbody tr th {\n",
       "        vertical-align: top;\n",
       "    }\n",
       "\n",
       "    .dataframe thead th {\n",
       "        text-align: right;\n",
       "    }\n",
       "</style>\n",
       "<table border=\"1\" class=\"dataframe\">\n",
       "  <thead>\n",
       "    <tr style=\"text-align: right;\">\n",
       "      <th></th>\n",
       "      <th>name</th>\n",
       "      <th>platform</th>\n",
       "      <th>year_of_release</th>\n",
       "      <th>genre</th>\n",
       "      <th>na_sales</th>\n",
       "      <th>eu_sales</th>\n",
       "      <th>jp_sales</th>\n",
       "      <th>other_sales</th>\n",
       "      <th>critic_score</th>\n",
       "      <th>user_score</th>\n",
       "      <th>rating</th>\n",
       "    </tr>\n",
       "  </thead>\n",
       "  <tbody>\n",
       "    <tr>\n",
       "      <th>0</th>\n",
       "      <td>wii_sports</td>\n",
       "      <td>wii</td>\n",
       "      <td>2006.0</td>\n",
       "      <td>sports</td>\n",
       "      <td>41.36</td>\n",
       "      <td>28.96</td>\n",
       "      <td>3.77</td>\n",
       "      <td>8.45</td>\n",
       "      <td>76.0</td>\n",
       "      <td>8</td>\n",
       "      <td>E</td>\n",
       "    </tr>\n",
       "    <tr>\n",
       "      <th>1</th>\n",
       "      <td>super_mario_bros</td>\n",
       "      <td>nes</td>\n",
       "      <td>1985.0</td>\n",
       "      <td>platform</td>\n",
       "      <td>29.08</td>\n",
       "      <td>3.58</td>\n",
       "      <td>6.81</td>\n",
       "      <td>0.77</td>\n",
       "      <td>NaN</td>\n",
       "      <td>&lt;NA&gt;</td>\n",
       "      <td>&lt;NA&gt;</td>\n",
       "    </tr>\n",
       "    <tr>\n",
       "      <th>2</th>\n",
       "      <td>mario_kart_wii</td>\n",
       "      <td>wii</td>\n",
       "      <td>2008.0</td>\n",
       "      <td>racing</td>\n",
       "      <td>15.68</td>\n",
       "      <td>12.76</td>\n",
       "      <td>3.79</td>\n",
       "      <td>3.29</td>\n",
       "      <td>82.0</td>\n",
       "      <td>8.3</td>\n",
       "      <td>E</td>\n",
       "    </tr>\n",
       "    <tr>\n",
       "      <th>3</th>\n",
       "      <td>wii_sports_resort</td>\n",
       "      <td>wii</td>\n",
       "      <td>2009.0</td>\n",
       "      <td>sports</td>\n",
       "      <td>15.61</td>\n",
       "      <td>10.93</td>\n",
       "      <td>3.28</td>\n",
       "      <td>2.95</td>\n",
       "      <td>80.0</td>\n",
       "      <td>8</td>\n",
       "      <td>E</td>\n",
       "    </tr>\n",
       "    <tr>\n",
       "      <th>4</th>\n",
       "      <td>pokemon_red_pokemon_blue</td>\n",
       "      <td>gb</td>\n",
       "      <td>1996.0</td>\n",
       "      <td>role_playing</td>\n",
       "      <td>11.27</td>\n",
       "      <td>8.89</td>\n",
       "      <td>10.22</td>\n",
       "      <td>1.00</td>\n",
       "      <td>NaN</td>\n",
       "      <td>&lt;NA&gt;</td>\n",
       "      <td>&lt;NA&gt;</td>\n",
       "    </tr>\n",
       "    <tr>\n",
       "      <th>...</th>\n",
       "      <td>...</td>\n",
       "      <td>...</td>\n",
       "      <td>...</td>\n",
       "      <td>...</td>\n",
       "      <td>...</td>\n",
       "      <td>...</td>\n",
       "      <td>...</td>\n",
       "      <td>...</td>\n",
       "      <td>...</td>\n",
       "      <td>...</td>\n",
       "      <td>...</td>\n",
       "    </tr>\n",
       "    <tr>\n",
       "      <th>16710</th>\n",
       "      <td>samurai_warriors_sanada_maru</td>\n",
       "      <td>ps3</td>\n",
       "      <td>2016.0</td>\n",
       "      <td>action</td>\n",
       "      <td>0.00</td>\n",
       "      <td>0.00</td>\n",
       "      <td>0.01</td>\n",
       "      <td>0.00</td>\n",
       "      <td>NaN</td>\n",
       "      <td>&lt;NA&gt;</td>\n",
       "      <td>&lt;NA&gt;</td>\n",
       "    </tr>\n",
       "    <tr>\n",
       "      <th>16711</th>\n",
       "      <td>lma_manager_2007</td>\n",
       "      <td>x360</td>\n",
       "      <td>2006.0</td>\n",
       "      <td>sports</td>\n",
       "      <td>0.00</td>\n",
       "      <td>0.01</td>\n",
       "      <td>0.00</td>\n",
       "      <td>0.00</td>\n",
       "      <td>NaN</td>\n",
       "      <td>&lt;NA&gt;</td>\n",
       "      <td>&lt;NA&gt;</td>\n",
       "    </tr>\n",
       "    <tr>\n",
       "      <th>16712</th>\n",
       "      <td>haitaka_no_psychedelica</td>\n",
       "      <td>psv</td>\n",
       "      <td>2016.0</td>\n",
       "      <td>adventure</td>\n",
       "      <td>0.00</td>\n",
       "      <td>0.00</td>\n",
       "      <td>0.01</td>\n",
       "      <td>0.00</td>\n",
       "      <td>NaN</td>\n",
       "      <td>&lt;NA&gt;</td>\n",
       "      <td>&lt;NA&gt;</td>\n",
       "    </tr>\n",
       "    <tr>\n",
       "      <th>16713</th>\n",
       "      <td>spirits_spells</td>\n",
       "      <td>gba</td>\n",
       "      <td>2003.0</td>\n",
       "      <td>platform</td>\n",
       "      <td>0.01</td>\n",
       "      <td>0.00</td>\n",
       "      <td>0.00</td>\n",
       "      <td>0.00</td>\n",
       "      <td>NaN</td>\n",
       "      <td>&lt;NA&gt;</td>\n",
       "      <td>&lt;NA&gt;</td>\n",
       "    </tr>\n",
       "    <tr>\n",
       "      <th>16714</th>\n",
       "      <td>winning_post_8_2016</td>\n",
       "      <td>psv</td>\n",
       "      <td>2016.0</td>\n",
       "      <td>simulation</td>\n",
       "      <td>0.00</td>\n",
       "      <td>0.00</td>\n",
       "      <td>0.01</td>\n",
       "      <td>0.00</td>\n",
       "      <td>NaN</td>\n",
       "      <td>&lt;NA&gt;</td>\n",
       "      <td>&lt;NA&gt;</td>\n",
       "    </tr>\n",
       "  </tbody>\n",
       "</table>\n",
       "<p>16715 rows × 11 columns</p>\n",
       "</div>"
      ],
      "text/plain": [
       "                               name platform year_of_release         genre  na_sales  eu_sales  jp_sales  other_sales critic_score user_score rating\n",
       "0                        wii_sports      wii          2006.0        sports     41.36     28.96      3.77         8.45         76.0          8      E\n",
       "1                  super_mario_bros      nes          1985.0      platform     29.08      3.58      6.81         0.77          NaN       <NA>   <NA>\n",
       "2                    mario_kart_wii      wii          2008.0        racing     15.68     12.76      3.79         3.29         82.0        8.3      E\n",
       "3                 wii_sports_resort      wii          2009.0        sports     15.61     10.93      3.28         2.95         80.0          8      E\n",
       "4          pokemon_red_pokemon_blue       gb          1996.0  role_playing     11.27      8.89     10.22         1.00          NaN       <NA>   <NA>\n",
       "...                             ...      ...             ...           ...       ...       ...       ...          ...          ...        ...    ...\n",
       "16710  samurai_warriors_sanada_maru      ps3          2016.0        action      0.00      0.00      0.01         0.00          NaN       <NA>   <NA>\n",
       "16711              lma_manager_2007     x360          2006.0        sports      0.00      0.01      0.00         0.00          NaN       <NA>   <NA>\n",
       "16712       haitaka_no_psychedelica      psv          2016.0     adventure      0.00      0.00      0.01         0.00          NaN       <NA>   <NA>\n",
       "16713                spirits_spells      gba          2003.0      platform      0.01      0.00      0.00         0.00          NaN       <NA>   <NA>\n",
       "16714           winning_post_8_2016      psv          2016.0    simulation      0.00      0.00      0.01         0.00          NaN       <NA>   <NA>\n",
       "\n",
       "[16715 rows x 11 columns]"
      ]
     },
     "execution_count": 24,
     "metadata": {},
     "output_type": "execute_result"
    }
   ],
   "source": [
    "df_vg['critic_score'] = df_vg['critic_score'].fillna(df_vg['name'].map(df_vg_name_paltform_cs))\n",
    "df_vg\n"
   ]
  },
  {
   "cell_type": "code",
   "execution_count": null,
   "id": "5844e532",
   "metadata": {},
   "outputs": [],
   "source": []
  },
  {
   "cell_type": "markdown",
   "id": "df63eb52",
   "metadata": {},
   "source": [
    "##### 3.3.4.5  Missing values data imputation for 'user_score' column"
   ]
  },
  {
   "cell_type": "code",
   "execution_count": 25,
   "id": "fa61a469",
   "metadata": {},
   "outputs": [
    {
     "data": {
      "application/vnd.microsoft.datawrangler.viewer.v0+json": {
       "columns": [
        {
         "name": "index",
         "rawType": "int64",
         "type": "integer"
        },
        {
         "name": "name",
         "rawType": "object",
         "type": "string"
        },
        {
         "name": "platform",
         "rawType": "object",
         "type": "string"
        },
        {
         "name": "year_of_release",
         "rawType": "object",
         "type": "string"
        },
        {
         "name": "genre",
         "rawType": "object",
         "type": "string"
        },
        {
         "name": "na_sales",
         "rawType": "float64",
         "type": "float"
        },
        {
         "name": "eu_sales",
         "rawType": "float64",
         "type": "float"
        },
        {
         "name": "jp_sales",
         "rawType": "float64",
         "type": "float"
        },
        {
         "name": "other_sales",
         "rawType": "float64",
         "type": "float"
        },
        {
         "name": "critic_score",
         "rawType": "object",
         "type": "unknown"
        },
        {
         "name": "user_score",
         "rawType": "object",
         "type": "unknown"
        },
        {
         "name": "rating",
         "rawType": "object",
         "type": "unknown"
        }
       ],
       "ref": "6d5e017c-df41-4fcf-b453-87ce78c3434e",
       "rows": [
        [
         "1",
         "super_mario_bros",
         "nes",
         "1985.0",
         "platform",
         "29.08",
         "3.58",
         "6.81",
         "0.77",
         null,
         null,
         null
        ],
        [
         "4",
         "pokemon_red_pokemon_blue",
         "gb",
         "1996.0",
         "role_playing",
         "11.27",
         "8.89",
         "10.22",
         "1.0",
         null,
         null,
         null
        ],
        [
         "5",
         "tetris",
         "gb",
         "1989.0",
         "puzzle",
         "23.2",
         "2.26",
         "4.22",
         "0.58",
         null,
         null,
         null
        ],
        [
         "9",
         "duck_hunt",
         "nes",
         "1984.0",
         "shooter",
         "26.93",
         "0.63",
         "0.28",
         "0.47",
         null,
         null,
         null
        ],
        [
         "10",
         "nintendogs",
         "ds",
         "2005.0",
         "simulation",
         "9.05",
         "10.95",
         "1.93",
         "2.74",
         null,
         null,
         null
        ],
        [
         "12",
         "pokemon_gold_pokemon_silver",
         "gb",
         "1999.0",
         "role_playing",
         "9.0",
         "6.18",
         "7.2",
         "0.71",
         null,
         null,
         null
        ],
        [
         "18",
         "super_mario_world",
         "snes",
         "1990.0",
         "platform",
         "12.78",
         "3.75",
         "3.54",
         "0.55",
         null,
         null,
         null
        ],
        [
         "20",
         "pokemon_diamond_pokemon_pearl",
         "ds",
         "2006.0",
         "role_playing",
         "6.38",
         "4.46",
         "6.04",
         "1.36",
         null,
         null,
         null
        ],
        [
         "21",
         "super_mario_land",
         "gb",
         "1989.0",
         "platform",
         "10.83",
         "2.71",
         "4.18",
         "0.42",
         null,
         null,
         null
        ],
        [
         "22",
         "super_mario_bros_3",
         "nes",
         "1988.0",
         "platform",
         "9.54",
         "3.44",
         "3.84",
         "0.46",
         null,
         null,
         null
        ],
        [
         "25",
         "pokemon_ruby_pokemon_sapphire",
         "gba",
         "2002.0",
         "role_playing",
         "6.06",
         "3.9",
         "5.38",
         "0.5",
         null,
         null,
         null
        ],
        [
         "27",
         "pokemon_black_pokemon_white",
         "ds",
         "2010.0",
         "role_playing",
         "5.51",
         "3.17",
         "5.65",
         "0.8",
         null,
         null,
         null
        ],
        [
         "30",
         "pokémon_yellow_special_pikachu_edition",
         "gb",
         "1998.0",
         "role_playing",
         "5.89",
         "5.04",
         "3.12",
         "0.59",
         null,
         null,
         null
        ],
        [
         "31",
         "call_of_duty_black_ops_3",
         "ps4",
         "2015.0",
         "shooter",
         "6.03",
         "5.86",
         "0.36",
         "2.38",
         null,
         null,
         null
        ],
        [
         "33",
         "pokemon_x_pokemon_y",
         "3ds",
         "2013.0",
         "role_playing",
         "5.28",
         "4.19",
         "4.35",
         "0.78",
         null,
         null,
         null
        ],
        [
         "45",
         "super_mario_64",
         "n64",
         "1996.0",
         "platform",
         "6.91",
         "2.85",
         "1.91",
         "0.23",
         null,
         null,
         null
        ],
        [
         "46",
         "pokemon_heartgold_pokemon_soulsilver",
         "ds",
         "2009.0",
         "action",
         "4.34",
         "2.71",
         "3.96",
         "0.76",
         null,
         null,
         null
        ],
        [
         "47",
         "pokemon_omega_ruby_pokemon_alpha_sapphire",
         "3ds",
         "2014.0",
         "role_playing",
         "4.35",
         "3.49",
         "3.1",
         "0.74",
         null,
         null,
         null
        ],
        [
         "50",
         "super_mario_land_2_6_golden_coins",
         "gb",
         "1992.0",
         "adventure",
         "6.16",
         "2.04",
         "2.69",
         "0.29",
         null,
         null,
         null
        ],
        [
         "56",
         "super_mario_all_stars",
         "snes",
         "1993.0",
         "platform",
         "5.99",
         "2.15",
         "2.12",
         "0.29",
         null,
         null,
         null
        ],
        [
         "58",
         "pokemon_firered_pokemon_leafgreen",
         "gba",
         "2004.0",
         "role_playing",
         "4.34",
         "2.65",
         "3.15",
         "0.35",
         null,
         null,
         null
        ],
        [
         "59",
         "super_mario_64",
         "ds",
         "2004.0",
         "platform",
         "5.01",
         "3.07",
         "1.25",
         "0.97",
         null,
         null,
         null
        ],
        [
         "63",
         "mario_kart_64",
         "n64",
         "1996.0",
         "racing",
         "5.55",
         "1.94",
         "2.23",
         "0.15",
         null,
         null,
         null
        ],
        [
         "71",
         "donkey_kong_country",
         "snes",
         "1994.0",
         "platform",
         "4.36",
         "1.71",
         "3.0",
         "0.23",
         "78.0",
         null,
         null
        ],
        [
         "72",
         "minecraft",
         "x360",
         "2013.0",
         "misc",
         "5.7",
         "2.65",
         "0.02",
         "0.81",
         null,
         null,
         null
        ],
        [
         "76",
         "super_mario_kart",
         "snes",
         "1992.0",
         "racing",
         "3.54",
         "1.24",
         "3.81",
         "0.18",
         null,
         null,
         null
        ],
        [
         "82",
         "goldeneye_007",
         "n64",
         "1997.0",
         "shooter",
         "5.8",
         "2.01",
         "0.13",
         "0.15",
         null,
         null,
         null
        ],
        [
         "83",
         "pokemon_black_2_pokemon_white_2",
         "ds",
         "2012.0",
         "role_playing",
         "2.79",
         "1.72",
         "3.14",
         "0.41",
         null,
         null,
         null
        ],
        [
         "86",
         "mario_sonic_at_the_olympic_games",
         "wii",
         "2007.0",
         "sports",
         "2.57",
         "3.86",
         "0.66",
         "0.91",
         null,
         null,
         null
        ],
        [
         "87",
         "star_wars_battlefront_2015",
         "ps4",
         "2015.0",
         "shooter",
         "2.99",
         "3.49",
         "0.22",
         "1.28",
         null,
         null,
         null
        ],
        [
         "89",
         "pac_man",
         "2600",
         "1982.0",
         "puzzle",
         "7.28",
         "0.45",
         "0.0",
         "0.08",
         null,
         null,
         null
        ],
        [
         "93",
         "the_legend_of_zelda_ocarina_of_time",
         "n64",
         "1998.0",
         "action",
         "4.1",
         "1.89",
         "1.45",
         "0.16",
         null,
         null,
         null
        ],
        [
         "95",
         "crash_bandicoot_2_cortex_strikes_back",
         "ps",
         "1997.0",
         "platform",
         "3.78",
         "2.17",
         "1.31",
         "0.31",
         null,
         null,
         null
        ],
        [
         "96",
         "super_smash_bros_for_wii_u_and_3ds",
         "3ds",
         "2014.0",
         "fighting",
         "3.27",
         "1.37",
         "2.43",
         "0.48",
         null,
         null,
         null
        ],
        [
         "98",
         "super_mario_bros_2",
         "nes",
         "1988.0",
         "platform",
         "5.39",
         "1.18",
         "0.7",
         "0.19",
         null,
         null,
         null
        ],
        [
         "99",
         "call_of_duty_black_ops_3",
         "xone",
         "2015.0",
         "shooter",
         "4.59",
         "2.11",
         "0.01",
         "0.68",
         null,
         null,
         null
        ],
        [
         "108",
         "pokemon_sun_moon",
         "3ds",
         "2016.0",
         "role_playing",
         "2.98",
         "1.45",
         "2.26",
         "0.45",
         null,
         null,
         null
        ],
        [
         "112",
         "mario_kart_double_dash",
         "gc",
         "2003.0",
         "racing",
         "4.12",
         "1.77",
         "0.87",
         "0.19",
         null,
         null,
         null
        ],
        [
         "115",
         "crash_bandicoot",
         "ps",
         "1996.0",
         "platform",
         "3.23",
         "2.35",
         "0.94",
         "0.3",
         null,
         null,
         null
        ],
        [
         "122",
         "fifa_12",
         "ps3",
         "2011.0",
         "sports",
         "0.84",
         "4.3",
         "0.11",
         "1.39",
         null,
         null,
         null
        ],
        [
         "124",
         "the_legend_of_zelda",
         "nes",
         "1986.0",
         "action",
         "3.74",
         "0.93",
         "1.69",
         "0.14",
         null,
         null,
         null
        ],
        [
         "133",
         "pokémon_crystal_version",
         "gb",
         "2000.0",
         "role_playing",
         "2.55",
         "1.56",
         "1.29",
         "0.99",
         null,
         null,
         null
        ],
        [
         "137",
         "street_fighter_ii_the_world_warrior",
         "snes",
         "1992.0",
         "fighting",
         "2.47",
         "0.83",
         "2.87",
         "0.12",
         null,
         null,
         null
        ],
        [
         "145",
         "sonic_the_hedgehog_2",
         "gen",
         "1992.0",
         "platform",
         "4.47",
         "1.2",
         "0.16",
         "0.19",
         null,
         null,
         null
        ],
        [
         "157",
         "tetris",
         "nes",
         "1988.0",
         "puzzle",
         "2.97",
         "0.69",
         "1.81",
         "0.11",
         null,
         null,
         null
        ],
        [
         "158",
         "super_smash_bros",
         "n64",
         "1999.0",
         "fighting",
         "2.95",
         "0.6",
         "1.97",
         "0.04",
         null,
         null,
         null
        ],
        [
         "167",
         "super_mario_world",
         "gba",
         "2001.0",
         "platform",
         "3.21",
         "1.11",
         "0.95",
         "0.2",
         null,
         null,
         null
        ],
        [
         "168",
         "pokemon_stadium",
         "n64",
         "1999.0",
         "strategy",
         "3.18",
         "1.24",
         "0.94",
         "0.09",
         null,
         null,
         null
        ],
        [
         "172",
         "dr_mario",
         "gb",
         "1989.0",
         "puzzle",
         "2.18",
         "0.96",
         "2.0",
         "0.2",
         null,
         null,
         null
        ],
        [
         "174",
         "pokemon_pinball",
         "gb",
         "1999.0",
         "misc",
         "3.02",
         "1.12",
         "1.01",
         "0.16",
         null,
         null,
         null
        ]
       ],
       "shape": {
        "columns": 11,
        "rows": 6701
       }
      },
      "text/html": [
       "<div>\n",
       "<style scoped>\n",
       "    .dataframe tbody tr th:only-of-type {\n",
       "        vertical-align: middle;\n",
       "    }\n",
       "\n",
       "    .dataframe tbody tr th {\n",
       "        vertical-align: top;\n",
       "    }\n",
       "\n",
       "    .dataframe thead th {\n",
       "        text-align: right;\n",
       "    }\n",
       "</style>\n",
       "<table border=\"1\" class=\"dataframe\">\n",
       "  <thead>\n",
       "    <tr style=\"text-align: right;\">\n",
       "      <th></th>\n",
       "      <th>name</th>\n",
       "      <th>platform</th>\n",
       "      <th>year_of_release</th>\n",
       "      <th>genre</th>\n",
       "      <th>na_sales</th>\n",
       "      <th>eu_sales</th>\n",
       "      <th>jp_sales</th>\n",
       "      <th>other_sales</th>\n",
       "      <th>critic_score</th>\n",
       "      <th>user_score</th>\n",
       "      <th>rating</th>\n",
       "    </tr>\n",
       "  </thead>\n",
       "  <tbody>\n",
       "    <tr>\n",
       "      <th>1</th>\n",
       "      <td>super_mario_bros</td>\n",
       "      <td>nes</td>\n",
       "      <td>1985.0</td>\n",
       "      <td>platform</td>\n",
       "      <td>29.08</td>\n",
       "      <td>3.58</td>\n",
       "      <td>6.81</td>\n",
       "      <td>0.77</td>\n",
       "      <td>NaN</td>\n",
       "      <td>&lt;NA&gt;</td>\n",
       "      <td>&lt;NA&gt;</td>\n",
       "    </tr>\n",
       "    <tr>\n",
       "      <th>4</th>\n",
       "      <td>pokemon_red_pokemon_blue</td>\n",
       "      <td>gb</td>\n",
       "      <td>1996.0</td>\n",
       "      <td>role_playing</td>\n",
       "      <td>11.27</td>\n",
       "      <td>8.89</td>\n",
       "      <td>10.22</td>\n",
       "      <td>1.00</td>\n",
       "      <td>NaN</td>\n",
       "      <td>&lt;NA&gt;</td>\n",
       "      <td>&lt;NA&gt;</td>\n",
       "    </tr>\n",
       "    <tr>\n",
       "      <th>5</th>\n",
       "      <td>tetris</td>\n",
       "      <td>gb</td>\n",
       "      <td>1989.0</td>\n",
       "      <td>puzzle</td>\n",
       "      <td>23.20</td>\n",
       "      <td>2.26</td>\n",
       "      <td>4.22</td>\n",
       "      <td>0.58</td>\n",
       "      <td>NaN</td>\n",
       "      <td>&lt;NA&gt;</td>\n",
       "      <td>&lt;NA&gt;</td>\n",
       "    </tr>\n",
       "    <tr>\n",
       "      <th>9</th>\n",
       "      <td>duck_hunt</td>\n",
       "      <td>nes</td>\n",
       "      <td>1984.0</td>\n",
       "      <td>shooter</td>\n",
       "      <td>26.93</td>\n",
       "      <td>0.63</td>\n",
       "      <td>0.28</td>\n",
       "      <td>0.47</td>\n",
       "      <td>NaN</td>\n",
       "      <td>&lt;NA&gt;</td>\n",
       "      <td>&lt;NA&gt;</td>\n",
       "    </tr>\n",
       "    <tr>\n",
       "      <th>10</th>\n",
       "      <td>nintendogs</td>\n",
       "      <td>ds</td>\n",
       "      <td>2005.0</td>\n",
       "      <td>simulation</td>\n",
       "      <td>9.05</td>\n",
       "      <td>10.95</td>\n",
       "      <td>1.93</td>\n",
       "      <td>2.74</td>\n",
       "      <td>NaN</td>\n",
       "      <td>&lt;NA&gt;</td>\n",
       "      <td>&lt;NA&gt;</td>\n",
       "    </tr>\n",
       "    <tr>\n",
       "      <th>...</th>\n",
       "      <td>...</td>\n",
       "      <td>...</td>\n",
       "      <td>...</td>\n",
       "      <td>...</td>\n",
       "      <td>...</td>\n",
       "      <td>...</td>\n",
       "      <td>...</td>\n",
       "      <td>...</td>\n",
       "      <td>...</td>\n",
       "      <td>...</td>\n",
       "      <td>...</td>\n",
       "    </tr>\n",
       "    <tr>\n",
       "      <th>16710</th>\n",
       "      <td>samurai_warriors_sanada_maru</td>\n",
       "      <td>ps3</td>\n",
       "      <td>2016.0</td>\n",
       "      <td>action</td>\n",
       "      <td>0.00</td>\n",
       "      <td>0.00</td>\n",
       "      <td>0.01</td>\n",
       "      <td>0.00</td>\n",
       "      <td>NaN</td>\n",
       "      <td>&lt;NA&gt;</td>\n",
       "      <td>&lt;NA&gt;</td>\n",
       "    </tr>\n",
       "    <tr>\n",
       "      <th>16711</th>\n",
       "      <td>lma_manager_2007</td>\n",
       "      <td>x360</td>\n",
       "      <td>2006.0</td>\n",
       "      <td>sports</td>\n",
       "      <td>0.00</td>\n",
       "      <td>0.01</td>\n",
       "      <td>0.00</td>\n",
       "      <td>0.00</td>\n",
       "      <td>NaN</td>\n",
       "      <td>&lt;NA&gt;</td>\n",
       "      <td>&lt;NA&gt;</td>\n",
       "    </tr>\n",
       "    <tr>\n",
       "      <th>16712</th>\n",
       "      <td>haitaka_no_psychedelica</td>\n",
       "      <td>psv</td>\n",
       "      <td>2016.0</td>\n",
       "      <td>adventure</td>\n",
       "      <td>0.00</td>\n",
       "      <td>0.00</td>\n",
       "      <td>0.01</td>\n",
       "      <td>0.00</td>\n",
       "      <td>NaN</td>\n",
       "      <td>&lt;NA&gt;</td>\n",
       "      <td>&lt;NA&gt;</td>\n",
       "    </tr>\n",
       "    <tr>\n",
       "      <th>16713</th>\n",
       "      <td>spirits_spells</td>\n",
       "      <td>gba</td>\n",
       "      <td>2003.0</td>\n",
       "      <td>platform</td>\n",
       "      <td>0.01</td>\n",
       "      <td>0.00</td>\n",
       "      <td>0.00</td>\n",
       "      <td>0.00</td>\n",
       "      <td>NaN</td>\n",
       "      <td>&lt;NA&gt;</td>\n",
       "      <td>&lt;NA&gt;</td>\n",
       "    </tr>\n",
       "    <tr>\n",
       "      <th>16714</th>\n",
       "      <td>winning_post_8_2016</td>\n",
       "      <td>psv</td>\n",
       "      <td>2016.0</td>\n",
       "      <td>simulation</td>\n",
       "      <td>0.00</td>\n",
       "      <td>0.00</td>\n",
       "      <td>0.01</td>\n",
       "      <td>0.00</td>\n",
       "      <td>NaN</td>\n",
       "      <td>&lt;NA&gt;</td>\n",
       "      <td>&lt;NA&gt;</td>\n",
       "    </tr>\n",
       "  </tbody>\n",
       "</table>\n",
       "<p>6701 rows × 11 columns</p>\n",
       "</div>"
      ],
      "text/plain": [
       "                               name platform year_of_release         genre  na_sales  eu_sales  jp_sales  other_sales critic_score user_score rating\n",
       "1                  super_mario_bros      nes          1985.0      platform     29.08      3.58      6.81         0.77          NaN       <NA>   <NA>\n",
       "4          pokemon_red_pokemon_blue       gb          1996.0  role_playing     11.27      8.89     10.22         1.00          NaN       <NA>   <NA>\n",
       "5                            tetris       gb          1989.0        puzzle     23.20      2.26      4.22         0.58          NaN       <NA>   <NA>\n",
       "9                         duck_hunt      nes          1984.0       shooter     26.93      0.63      0.28         0.47          NaN       <NA>   <NA>\n",
       "10                       nintendogs       ds          2005.0    simulation      9.05     10.95      1.93         2.74          NaN       <NA>   <NA>\n",
       "...                             ...      ...             ...           ...       ...       ...       ...          ...          ...        ...    ...\n",
       "16710  samurai_warriors_sanada_maru      ps3          2016.0        action      0.00      0.00      0.01         0.00          NaN       <NA>   <NA>\n",
       "16711              lma_manager_2007     x360          2006.0        sports      0.00      0.01      0.00         0.00          NaN       <NA>   <NA>\n",
       "16712       haitaka_no_psychedelica      psv          2016.0     adventure      0.00      0.00      0.01         0.00          NaN       <NA>   <NA>\n",
       "16713                spirits_spells      gba          2003.0      platform      0.01      0.00      0.00         0.00          NaN       <NA>   <NA>\n",
       "16714           winning_post_8_2016      psv          2016.0    simulation      0.00      0.00      0.01         0.00          NaN       <NA>   <NA>\n",
       "\n",
       "[6701 rows x 11 columns]"
      ]
     },
     "execution_count": 25,
     "metadata": {},
     "output_type": "execute_result"
    }
   ],
   "source": [
    "# Show pd.NA missing values for 'user_score' column\n",
    "df_vg.loc[df_vg['user_score'].isna(), :]"
   ]
  },
  {
   "cell_type": "code",
   "execution_count": 26,
   "id": "84ce76f5",
   "metadata": {},
   "outputs": [
    {
     "data": {
      "text/html": [
       "> Percentage of null values ​​for column <i>'user_score'</i>:              <b>40.09</b> %"
      ],
      "text/plain": [
       "<IPython.core.display.HTML object>"
      ]
     },
     "metadata": {},
     "output_type": "display_data"
    }
   ],
   "source": [
    "# Percentage of null values ​​in column 'user_score'\n",
    "display(HTML(f\"> Percentage of null values ​​for column <i>'user_score'</i>: \\\n",
    "             <b>{(df_vg['user_score'].isna().sum() / len(df_vg['user_score']) * 100):.2f}</b> %\"))"
   ]
  },
  {
   "cell_type": "code",
   "execution_count": 27,
   "id": "5aae2839",
   "metadata": {},
   "outputs": [
    {
     "data": {
      "application/vnd.microsoft.datawrangler.viewer.v0+json": {
       "columns": [
        {
         "name": "name",
         "rawType": "object",
         "type": "string"
        },
        {
         "name": "user_score",
         "rawType": "object",
         "type": "string"
        }
       ],
       "ref": "2d6cfdab-6060-4f7e-9a87-48f95d66ca62",
       "rows": [
        [
         "007_quantum_of_solace",
         "6.3"
        ],
        [
         "007_racing",
         "4.6"
        ],
        [
         "007_the_world_is_not_enough",
         "6.7"
        ],
        [
         "1001_touch_games",
         "tbd"
        ],
        [
         "100_all_time_favorites",
         "6.2"
        ],
        [
         "100_classic_books",
         "6"
        ],
        [
         "101_in_1_explosive_megamix",
         "tbd"
        ],
        [
         "101_in_1_sports_megamix",
         "tbd"
        ],
        [
         "101_in_1_sports_party_megamix",
         "tbd"
        ],
        [
         "10_minute_solution",
         "tbd"
        ],
        [
         "15_days",
         "5.8"
        ],
        [
         "1701_a_d",
         "8.3"
        ],
        [
         "187_ride_or_die",
         "6.8"
        ],
        [
         "18_wheeler_american_pro_trucker",
         "5.7"
        ],
        [
         "18_wheels_of_steel_extreme_trucker",
         "8"
        ],
        [
         "18_wheels_of_steel_extreme_trucker_2",
         "8.3"
        ],
        [
         "1_vs_100",
         "3.2"
        ],
        [
         "2002_fifa_world_cup",
         "5.6"
        ],
        [
         "2010_fifa_world_cup_south_africa",
         "6.7"
        ],
        [
         "2014_fifa_world_cup_brazil",
         "4.3"
        ],
        [
         "24_the_game",
         "8.2"
        ],
        [
         "25_to_life",
         "4.9"
        ],
        [
         "300_march_to_glory",
         "7.1"
        ],
        [
         "3d_dot_game_heroes",
         "8"
        ],
        [
         "4_elements",
         "7.4"
        ],
        [
         "4x4_evo_2",
         "6.2"
        ],
        [
         "4x4_evolution",
         "tbd"
        ],
        [
         "50_cent_blood_on_the_sand",
         "6.4"
        ],
        [
         "50_cent_bulletproof",
         "5.9"
        ],
        [
         "50_classic_games",
         "tbd"
        ],
        [
         "7_days_to_die",
         "5.2"
        ],
        [
         "7_wonders_ii",
         "tbd"
        ],
        [
         "7_wonders_of_the_ancient_world",
         "8.3"
        ],
        [
         "7th_dragon_iii_code_vfd",
         "8.2"
        ],
        [
         "_hack_infection_part_1",
         "8.5"
        ],
        [
         "_hack_mutation_part_2",
         "8.9"
        ],
        [
         "_hack_outbreak_part_3",
         "8.7"
        ],
        [
         "_prototype",
         "7.7"
        ],
        [
         "_prototype_2",
         "6.4"
        ],
        [
         "a_boy_and_his_blob",
         "8.7"
        ],
        [
         "a_game_of_thrones_genesis",
         "4"
        ],
        [
         "a_train_city_simulator",
         "tbd"
        ],
        [
         "a_vampyre_story",
         "8.5"
        ],
        [
         "a_witch_s_tale",
         "6.2"
        ],
        [
         "abba_you_can_dance",
         "tbd"
        ],
        [
         "ac_dc_live_rock_band_track_pack",
         "4.9"
        ],
        [
         "academy_of_champions_soccer",
         "6.8"
        ],
        [
         "ace_attorney_investigations_miles_edgeworth",
         "8.4"
        ],
        [
         "ace_combat_04_shattered_skies",
         "9.1"
        ],
        [
         "ace_combat_2",
         "8.2"
        ]
       ],
       "shape": {
        "columns": 1,
        "rows": 6112
       }
      },
      "text/plain": [
       "name\n",
       "007_quantum_of_solace          6.3\n",
       "007_racing                     4.6\n",
       "007_the_world_is_not_enough    6.7\n",
       "1001_touch_games               tbd\n",
       "100_all_time_favorites         6.2\n",
       "                              ... \n",
       "zumba_fitness                  3.8\n",
       "zumba_fitness_2                tbd\n",
       "zumba_fitness_core             6.7\n",
       "zumba_fitness_rush             6.2\n",
       "zumba_fitness_world_party      6.2\n",
       "Name: user_score, Length: 6112, dtype: object"
      ]
     },
     "execution_count": 27,
     "metadata": {},
     "output_type": "execute_result"
    }
   ],
   "source": [
    "# Imputation for those games multiplatform, missing values in 'user_score' will be taken from the same game other platforms mode\n",
    "df_vg_name_paltform_us = df_vg.loc[:, ['name', 'platform', 'user_score']]\n",
    "df_vg_name_paltform_us = df_vg_name_paltform_us.drop_duplicates()\n",
    "df_vg_name_paltform_us = df_vg_name_paltform_us.dropna()\n",
    "df_vg_name_paltform_us = (df_vg_name_paltform_us.groupby('name')['user_score'].agg(lambda x: x.mode().iloc[0]))\n",
    "df_vg_name_paltform_us"
   ]
  },
  {
   "cell_type": "code",
   "execution_count": 28,
   "id": "0811895e",
   "metadata": {},
   "outputs": [
    {
     "data": {
      "application/vnd.microsoft.datawrangler.viewer.v0+json": {
       "columns": [
        {
         "name": "index",
         "rawType": "int64",
         "type": "integer"
        },
        {
         "name": "name",
         "rawType": "object",
         "type": "string"
        },
        {
         "name": "platform",
         "rawType": "object",
         "type": "string"
        },
        {
         "name": "year_of_release",
         "rawType": "object",
         "type": "string"
        },
        {
         "name": "genre",
         "rawType": "object",
         "type": "string"
        },
        {
         "name": "na_sales",
         "rawType": "float64",
         "type": "float"
        },
        {
         "name": "eu_sales",
         "rawType": "float64",
         "type": "float"
        },
        {
         "name": "jp_sales",
         "rawType": "float64",
         "type": "float"
        },
        {
         "name": "other_sales",
         "rawType": "float64",
         "type": "float"
        },
        {
         "name": "critic_score",
         "rawType": "object",
         "type": "unknown"
        },
        {
         "name": "user_score",
         "rawType": "object",
         "type": "unknown"
        },
        {
         "name": "rating",
         "rawType": "object",
         "type": "unknown"
        }
       ],
       "ref": "a0035cde-98d3-412f-a77e-cca05b6d205c",
       "rows": [
        [
         "0",
         "wii_sports",
         "wii",
         "2006.0",
         "sports",
         "41.36",
         "28.96",
         "3.77",
         "8.45",
         "76.0",
         "8",
         "E"
        ],
        [
         "1",
         "super_mario_bros",
         "nes",
         "1985.0",
         "platform",
         "29.08",
         "3.58",
         "6.81",
         "0.77",
         null,
         null,
         null
        ],
        [
         "2",
         "mario_kart_wii",
         "wii",
         "2008.0",
         "racing",
         "15.68",
         "12.76",
         "3.79",
         "3.29",
         "82.0",
         "8.3",
         "E"
        ],
        [
         "3",
         "wii_sports_resort",
         "wii",
         "2009.0",
         "sports",
         "15.61",
         "10.93",
         "3.28",
         "2.95",
         "80.0",
         "8",
         "E"
        ],
        [
         "4",
         "pokemon_red_pokemon_blue",
         "gb",
         "1996.0",
         "role_playing",
         "11.27",
         "8.89",
         "10.22",
         "1.0",
         null,
         null,
         null
        ],
        [
         "5",
         "tetris",
         "gb",
         "1989.0",
         "puzzle",
         "23.2",
         "2.26",
         "4.22",
         "0.58",
         null,
         null,
         null
        ],
        [
         "6",
         "new_super_mario_bros",
         "ds",
         "2006.0",
         "platform",
         "11.28",
         "9.14",
         "6.5",
         "2.88",
         "89.0",
         "8.5",
         "E"
        ],
        [
         "7",
         "wii_play",
         "wii",
         "2006.0",
         "misc",
         "13.96",
         "9.18",
         "2.93",
         "2.84",
         "58.0",
         "6.6",
         "E"
        ],
        [
         "8",
         "new_super_mario_bros_wii",
         "wii",
         "2009.0",
         "platform",
         "14.44",
         "6.94",
         "4.7",
         "2.24",
         "87.0",
         "8.4",
         "E"
        ],
        [
         "9",
         "duck_hunt",
         "nes",
         "1984.0",
         "shooter",
         "26.93",
         "0.63",
         "0.28",
         "0.47",
         null,
         null,
         null
        ],
        [
         "10",
         "nintendogs",
         "ds",
         "2005.0",
         "simulation",
         "9.05",
         "10.95",
         "1.93",
         "2.74",
         null,
         null,
         null
        ],
        [
         "11",
         "mario_kart_ds",
         "ds",
         "2005.0",
         "racing",
         "9.71",
         "7.47",
         "4.13",
         "1.9",
         "91.0",
         "8.6",
         "E"
        ],
        [
         "12",
         "pokemon_gold_pokemon_silver",
         "gb",
         "1999.0",
         "role_playing",
         "9.0",
         "6.18",
         "7.2",
         "0.71",
         null,
         null,
         null
        ],
        [
         "13",
         "wii_fit",
         "wii",
         "2007.0",
         "sports",
         "8.92",
         "8.03",
         "3.6",
         "2.15",
         "80.0",
         "7.7",
         "E"
        ],
        [
         "14",
         "kinect_adventures",
         "x360",
         "2010.0",
         "misc",
         "15.0",
         "4.89",
         "0.24",
         "1.69",
         "61.0",
         "6.3",
         "E"
        ],
        [
         "15",
         "wii_fit_plus",
         "wii",
         "2009.0",
         "sports",
         "9.01",
         "8.49",
         "2.53",
         "1.77",
         "80.0",
         "7.4",
         "E"
        ],
        [
         "16",
         "grand_theft_auto_v",
         "ps3",
         "2013.0",
         "action",
         "7.02",
         "9.09",
         "0.98",
         "3.96",
         "97.0",
         "8.2",
         "M"
        ],
        [
         "17",
         "grand_theft_auto_san_andreas",
         "ps2",
         "2004.0",
         "action",
         "9.43",
         "0.4",
         "0.41",
         "10.57",
         "95.0",
         "9",
         "M"
        ],
        [
         "18",
         "super_mario_world",
         "snes",
         "1990.0",
         "platform",
         "12.78",
         "3.75",
         "3.54",
         "0.55",
         null,
         null,
         null
        ],
        [
         "19",
         "brain_age_train_your_brain_in_minutes_a_day",
         "ds",
         "2005.0",
         "misc",
         "4.74",
         "9.2",
         "4.16",
         "2.04",
         "77.0",
         "7.9",
         "E"
        ],
        [
         "20",
         "pokemon_diamond_pokemon_pearl",
         "ds",
         "2006.0",
         "role_playing",
         "6.38",
         "4.46",
         "6.04",
         "1.36",
         null,
         null,
         null
        ],
        [
         "21",
         "super_mario_land",
         "gb",
         "1989.0",
         "platform",
         "10.83",
         "2.71",
         "4.18",
         "0.42",
         null,
         null,
         null
        ],
        [
         "22",
         "super_mario_bros_3",
         "nes",
         "1988.0",
         "platform",
         "9.54",
         "3.44",
         "3.84",
         "0.46",
         null,
         null,
         null
        ],
        [
         "23",
         "grand_theft_auto_v",
         "x360",
         "2013.0",
         "action",
         "9.66",
         "5.14",
         "0.06",
         "1.41",
         "97.0",
         "8.1",
         "M"
        ],
        [
         "24",
         "grand_theft_auto_vice_city",
         "ps2",
         "2002.0",
         "action",
         "8.41",
         "5.49",
         "0.47",
         "1.78",
         "95.0",
         "8.7",
         "M"
        ],
        [
         "25",
         "pokemon_ruby_pokemon_sapphire",
         "gba",
         "2002.0",
         "role_playing",
         "6.06",
         "3.9",
         "5.38",
         "0.5",
         null,
         null,
         null
        ],
        [
         "26",
         "brain_age_2_more_training_in_minutes_a_day",
         "ds",
         "2005.0",
         "puzzle",
         "3.43",
         "5.35",
         "5.32",
         "1.18",
         "77.0",
         "7.1",
         "E"
        ],
        [
         "27",
         "pokemon_black_pokemon_white",
         "ds",
         "2010.0",
         "role_playing",
         "5.51",
         "3.17",
         "5.65",
         "0.8",
         null,
         null,
         null
        ],
        [
         "28",
         "gran_turismo_3_a_spec",
         "ps2",
         "2001.0",
         "racing",
         "6.85",
         "5.09",
         "1.87",
         "1.16",
         "95.0",
         "8.4",
         "E"
        ],
        [
         "29",
         "call_of_duty_modern_warfare_3",
         "x360",
         "2011.0",
         "shooter",
         "9.04",
         "4.24",
         "0.13",
         "1.32",
         "88.0",
         "3.4",
         "M"
        ],
        [
         "30",
         "pokémon_yellow_special_pikachu_edition",
         "gb",
         "1998.0",
         "role_playing",
         "5.89",
         "5.04",
         "3.12",
         "0.59",
         null,
         null,
         null
        ],
        [
         "31",
         "call_of_duty_black_ops_3",
         "ps4",
         "2015.0",
         "shooter",
         "6.03",
         "5.86",
         "0.36",
         "2.38",
         null,
         null,
         null
        ],
        [
         "32",
         "call_of_duty_black_ops",
         "x360",
         "2010.0",
         "shooter",
         "9.7",
         "3.68",
         "0.11",
         "1.13",
         "87.0",
         "6.3",
         "M"
        ],
        [
         "33",
         "pokemon_x_pokemon_y",
         "3ds",
         "2013.0",
         "role_playing",
         "5.28",
         "4.19",
         "4.35",
         "0.78",
         null,
         null,
         null
        ],
        [
         "34",
         "call_of_duty_black_ops_ii",
         "ps3",
         "2012.0",
         "shooter",
         "4.99",
         "5.73",
         "0.65",
         "2.42",
         "83.0",
         "5.3",
         "M"
        ],
        [
         "35",
         "call_of_duty_black_ops_ii",
         "x360",
         "2012.0",
         "shooter",
         "8.25",
         "4.24",
         "0.07",
         "1.12",
         "83.0",
         "4.8",
         "M"
        ],
        [
         "36",
         "call_of_duty_modern_warfare_2",
         "x360",
         "2009.0",
         "shooter",
         "8.52",
         "3.59",
         "0.08",
         "1.28",
         "94.0",
         "6.3",
         "M"
        ],
        [
         "37",
         "call_of_duty_modern_warfare_3",
         "ps3",
         "2011.0",
         "shooter",
         "5.54",
         "5.73",
         "0.49",
         "1.57",
         "88.0",
         "3.2",
         "M"
        ],
        [
         "38",
         "grand_theft_auto_iii",
         "ps2",
         "2001.0",
         "action",
         "6.99",
         "4.51",
         "0.3",
         "1.3",
         "97.0",
         "8.5",
         "M"
        ],
        [
         "39",
         "super_smash_bros_brawl",
         "wii",
         "2008.0",
         "fighting",
         "6.62",
         "2.55",
         "2.66",
         "1.01",
         "93.0",
         "8.9",
         "T"
        ],
        [
         "40",
         "mario_kart_7",
         "3ds",
         "2011.0",
         "racing",
         "5.03",
         "4.02",
         "2.69",
         "0.91",
         "85.0",
         "8.2",
         "E"
        ],
        [
         "41",
         "call_of_duty_black_ops",
         "ps3",
         "2010.0",
         "shooter",
         "5.99",
         "4.37",
         "0.48",
         "1.79",
         "88.0",
         "6.4",
         "M"
        ],
        [
         "42",
         "grand_theft_auto_v",
         "ps4",
         "2014.0",
         "action",
         "3.96",
         "6.31",
         "0.38",
         "1.97",
         "97.0",
         "8.3",
         "M"
        ],
        [
         "43",
         "animal_crossing_wild_world",
         "ds",
         "2005.0",
         "simulation",
         "2.5",
         "3.45",
         "5.33",
         "0.86",
         "86.0",
         "8.7",
         "E"
        ],
        [
         "44",
         "halo_3",
         "x360",
         "2007.0",
         "shooter",
         "7.97",
         "2.81",
         "0.13",
         "1.21",
         "94.0",
         "7.8",
         "M"
        ],
        [
         "45",
         "super_mario_64",
         "n64",
         "1996.0",
         "platform",
         "6.91",
         "2.85",
         "1.91",
         "0.23",
         null,
         null,
         null
        ],
        [
         "46",
         "pokemon_heartgold_pokemon_soulsilver",
         "ds",
         "2009.0",
         "action",
         "4.34",
         "2.71",
         "3.96",
         "0.76",
         null,
         null,
         null
        ],
        [
         "47",
         "pokemon_omega_ruby_pokemon_alpha_sapphire",
         "3ds",
         "2014.0",
         "role_playing",
         "4.35",
         "3.49",
         "3.1",
         "0.74",
         null,
         null,
         null
        ],
        [
         "48",
         "gran_turismo_4",
         "ps2",
         "2004.0",
         "racing",
         "3.01",
         "0.01",
         "1.1",
         "7.53",
         "89.0",
         "8.5",
         "E"
        ],
        [
         "49",
         "super_mario_galaxy",
         "wii",
         "2007.0",
         "platform",
         "6.06",
         "3.35",
         "1.2",
         "0.74",
         "97.0",
         "8.9",
         "E"
        ]
       ],
       "shape": {
        "columns": 11,
        "rows": 16715
       }
      },
      "text/html": [
       "<div>\n",
       "<style scoped>\n",
       "    .dataframe tbody tr th:only-of-type {\n",
       "        vertical-align: middle;\n",
       "    }\n",
       "\n",
       "    .dataframe tbody tr th {\n",
       "        vertical-align: top;\n",
       "    }\n",
       "\n",
       "    .dataframe thead th {\n",
       "        text-align: right;\n",
       "    }\n",
       "</style>\n",
       "<table border=\"1\" class=\"dataframe\">\n",
       "  <thead>\n",
       "    <tr style=\"text-align: right;\">\n",
       "      <th></th>\n",
       "      <th>name</th>\n",
       "      <th>platform</th>\n",
       "      <th>year_of_release</th>\n",
       "      <th>genre</th>\n",
       "      <th>na_sales</th>\n",
       "      <th>eu_sales</th>\n",
       "      <th>jp_sales</th>\n",
       "      <th>other_sales</th>\n",
       "      <th>critic_score</th>\n",
       "      <th>user_score</th>\n",
       "      <th>rating</th>\n",
       "    </tr>\n",
       "  </thead>\n",
       "  <tbody>\n",
       "    <tr>\n",
       "      <th>0</th>\n",
       "      <td>wii_sports</td>\n",
       "      <td>wii</td>\n",
       "      <td>2006.0</td>\n",
       "      <td>sports</td>\n",
       "      <td>41.36</td>\n",
       "      <td>28.96</td>\n",
       "      <td>3.77</td>\n",
       "      <td>8.45</td>\n",
       "      <td>76.0</td>\n",
       "      <td>8</td>\n",
       "      <td>E</td>\n",
       "    </tr>\n",
       "    <tr>\n",
       "      <th>1</th>\n",
       "      <td>super_mario_bros</td>\n",
       "      <td>nes</td>\n",
       "      <td>1985.0</td>\n",
       "      <td>platform</td>\n",
       "      <td>29.08</td>\n",
       "      <td>3.58</td>\n",
       "      <td>6.81</td>\n",
       "      <td>0.77</td>\n",
       "      <td>NaN</td>\n",
       "      <td>NaN</td>\n",
       "      <td>&lt;NA&gt;</td>\n",
       "    </tr>\n",
       "    <tr>\n",
       "      <th>2</th>\n",
       "      <td>mario_kart_wii</td>\n",
       "      <td>wii</td>\n",
       "      <td>2008.0</td>\n",
       "      <td>racing</td>\n",
       "      <td>15.68</td>\n",
       "      <td>12.76</td>\n",
       "      <td>3.79</td>\n",
       "      <td>3.29</td>\n",
       "      <td>82.0</td>\n",
       "      <td>8.3</td>\n",
       "      <td>E</td>\n",
       "    </tr>\n",
       "    <tr>\n",
       "      <th>3</th>\n",
       "      <td>wii_sports_resort</td>\n",
       "      <td>wii</td>\n",
       "      <td>2009.0</td>\n",
       "      <td>sports</td>\n",
       "      <td>15.61</td>\n",
       "      <td>10.93</td>\n",
       "      <td>3.28</td>\n",
       "      <td>2.95</td>\n",
       "      <td>80.0</td>\n",
       "      <td>8</td>\n",
       "      <td>E</td>\n",
       "    </tr>\n",
       "    <tr>\n",
       "      <th>4</th>\n",
       "      <td>pokemon_red_pokemon_blue</td>\n",
       "      <td>gb</td>\n",
       "      <td>1996.0</td>\n",
       "      <td>role_playing</td>\n",
       "      <td>11.27</td>\n",
       "      <td>8.89</td>\n",
       "      <td>10.22</td>\n",
       "      <td>1.00</td>\n",
       "      <td>NaN</td>\n",
       "      <td>NaN</td>\n",
       "      <td>&lt;NA&gt;</td>\n",
       "    </tr>\n",
       "    <tr>\n",
       "      <th>...</th>\n",
       "      <td>...</td>\n",
       "      <td>...</td>\n",
       "      <td>...</td>\n",
       "      <td>...</td>\n",
       "      <td>...</td>\n",
       "      <td>...</td>\n",
       "      <td>...</td>\n",
       "      <td>...</td>\n",
       "      <td>...</td>\n",
       "      <td>...</td>\n",
       "      <td>...</td>\n",
       "    </tr>\n",
       "    <tr>\n",
       "      <th>16710</th>\n",
       "      <td>samurai_warriors_sanada_maru</td>\n",
       "      <td>ps3</td>\n",
       "      <td>2016.0</td>\n",
       "      <td>action</td>\n",
       "      <td>0.00</td>\n",
       "      <td>0.00</td>\n",
       "      <td>0.01</td>\n",
       "      <td>0.00</td>\n",
       "      <td>NaN</td>\n",
       "      <td>NaN</td>\n",
       "      <td>&lt;NA&gt;</td>\n",
       "    </tr>\n",
       "    <tr>\n",
       "      <th>16711</th>\n",
       "      <td>lma_manager_2007</td>\n",
       "      <td>x360</td>\n",
       "      <td>2006.0</td>\n",
       "      <td>sports</td>\n",
       "      <td>0.00</td>\n",
       "      <td>0.01</td>\n",
       "      <td>0.00</td>\n",
       "      <td>0.00</td>\n",
       "      <td>NaN</td>\n",
       "      <td>NaN</td>\n",
       "      <td>&lt;NA&gt;</td>\n",
       "    </tr>\n",
       "    <tr>\n",
       "      <th>16712</th>\n",
       "      <td>haitaka_no_psychedelica</td>\n",
       "      <td>psv</td>\n",
       "      <td>2016.0</td>\n",
       "      <td>adventure</td>\n",
       "      <td>0.00</td>\n",
       "      <td>0.00</td>\n",
       "      <td>0.01</td>\n",
       "      <td>0.00</td>\n",
       "      <td>NaN</td>\n",
       "      <td>NaN</td>\n",
       "      <td>&lt;NA&gt;</td>\n",
       "    </tr>\n",
       "    <tr>\n",
       "      <th>16713</th>\n",
       "      <td>spirits_spells</td>\n",
       "      <td>gba</td>\n",
       "      <td>2003.0</td>\n",
       "      <td>platform</td>\n",
       "      <td>0.01</td>\n",
       "      <td>0.00</td>\n",
       "      <td>0.00</td>\n",
       "      <td>0.00</td>\n",
       "      <td>NaN</td>\n",
       "      <td>NaN</td>\n",
       "      <td>&lt;NA&gt;</td>\n",
       "    </tr>\n",
       "    <tr>\n",
       "      <th>16714</th>\n",
       "      <td>winning_post_8_2016</td>\n",
       "      <td>psv</td>\n",
       "      <td>2016.0</td>\n",
       "      <td>simulation</td>\n",
       "      <td>0.00</td>\n",
       "      <td>0.00</td>\n",
       "      <td>0.01</td>\n",
       "      <td>0.00</td>\n",
       "      <td>NaN</td>\n",
       "      <td>NaN</td>\n",
       "      <td>&lt;NA&gt;</td>\n",
       "    </tr>\n",
       "  </tbody>\n",
       "</table>\n",
       "<p>16715 rows × 11 columns</p>\n",
       "</div>"
      ],
      "text/plain": [
       "                               name platform year_of_release         genre  na_sales  eu_sales  jp_sales  other_sales critic_score user_score rating\n",
       "0                        wii_sports      wii          2006.0        sports     41.36     28.96      3.77         8.45         76.0          8      E\n",
       "1                  super_mario_bros      nes          1985.0      platform     29.08      3.58      6.81         0.77          NaN        NaN   <NA>\n",
       "2                    mario_kart_wii      wii          2008.0        racing     15.68     12.76      3.79         3.29         82.0        8.3      E\n",
       "3                 wii_sports_resort      wii          2009.0        sports     15.61     10.93      3.28         2.95         80.0          8      E\n",
       "4          pokemon_red_pokemon_blue       gb          1996.0  role_playing     11.27      8.89     10.22         1.00          NaN        NaN   <NA>\n",
       "...                             ...      ...             ...           ...       ...       ...       ...          ...          ...        ...    ...\n",
       "16710  samurai_warriors_sanada_maru      ps3          2016.0        action      0.00      0.00      0.01         0.00          NaN        NaN   <NA>\n",
       "16711              lma_manager_2007     x360          2006.0        sports      0.00      0.01      0.00         0.00          NaN        NaN   <NA>\n",
       "16712       haitaka_no_psychedelica      psv          2016.0     adventure      0.00      0.00      0.01         0.00          NaN        NaN   <NA>\n",
       "16713                spirits_spells      gba          2003.0      platform      0.01      0.00      0.00         0.00          NaN        NaN   <NA>\n",
       "16714           winning_post_8_2016      psv          2016.0    simulation      0.00      0.00      0.01         0.00          NaN        NaN   <NA>\n",
       "\n",
       "[16715 rows x 11 columns]"
      ]
     },
     "execution_count": 28,
     "metadata": {},
     "output_type": "execute_result"
    }
   ],
   "source": [
    "df_vg['user_score'] = df_vg['user_score'].fillna(df_vg['name'].map(df_vg_name_paltform_us))\n",
    "df_vg"
   ]
  },
  {
   "cell_type": "markdown",
   "id": "e61bbd3f",
   "metadata": {},
   "source": [
    "##### 3.3.4.6  Missing values data imputation for 'rating' column"
   ]
  },
  {
   "cell_type": "code",
   "execution_count": null,
   "id": "23f1e00f",
   "metadata": {},
   "outputs": [],
   "source": [
    "# Show pd.NA missing values for 'rating' column\n",
    "df_vg.loc[df_vg['rating'].isna(), :]"
   ]
  },
  {
   "cell_type": "markdown",
   "id": "20e36a3f",
   "metadata": {},
   "source": [
    "##### `LSPL`\n",
    "\n",
    "**Note:** \n",
    "\n",
    "1. Missing values in __df_xxx__, _'column_name'_ column\n",
    "\n",
    "Missing values in the `column_name` column occur ...\n",
    "\n",
    "__Solution__: All missing values in `columns_name` will be ....\n",
    "\n",
    "__Impact__: Identifying users with pd.NA, will help ...\n",
    "\n"
   ]
  },
  {
   "cell_type": "markdown",
   "id": "33af8b36",
   "metadata": {},
   "source": [
    "### 3.4 Implicit duplicates"
   ]
  },
  {
   "cell_type": "markdown",
   "id": "9db00f22",
   "metadata": {},
   "source": [
    "#### 3.4.1 Implicit duplicates check"
   ]
  },
  {
   "cell_type": "code",
   "execution_count": null,
   "id": "a4aa4ca1",
   "metadata": {},
   "outputs": [],
   "source": [
    "# Show implicit duplicates df_aisles\n",
    "detect_implicit_duplicates_fuzzy(df_xxx, 'column_name')"
   ]
  },
  {
   "cell_type": "markdown",
   "id": "a82bd0b0",
   "metadata": {},
   "source": [
    "#### 3.4.2 Implicit duplicates data imputation"
   ]
  },
  {
   "cell_type": "code",
   "execution_count": null,
   "id": "1797a4f8",
   "metadata": {},
   "outputs": [],
   "source": [
    "# Imputation"
   ]
  },
  {
   "cell_type": "markdown",
   "id": "404b7e2b",
   "metadata": {},
   "source": [
    "### 3.5 Casting data types"
   ]
  },
  {
   "cell_type": "markdown",
   "id": "680c7814",
   "metadata": {},
   "source": [
    "#### 3.5.1 Casting to string data type"
   ]
  },
  {
   "cell_type": "code",
   "execution_count": null,
   "id": "4227bb25",
   "metadata": {},
   "outputs": [],
   "source": [
    "# df_xxx 'column_name' to string\n",
    "df_xxx['column_name'] = df_xxx['column_name'].astype('string')\n",
    "df_xxx['column_name'].dtypes"
   ]
  },
  {
   "cell_type": "markdown",
   "id": "57bf9f3d",
   "metadata": {},
   "source": [
    "#### 3.5.2 Casting to numeric data type"
   ]
  },
  {
   "cell_type": "code",
   "execution_count": null,
   "id": "7589bc17",
   "metadata": {},
   "outputs": [],
   "source": [
    "# df_xxx 'column_name' to numeric\n",
    "find_fail_conversion_to_numeric(df_xxx, 'column_name')\n",
    "\n",
    "df_xxx = convert_object_to_numeric(\n",
    "    df_xxx, type='integer', include=['column_name'])\n",
    "df_xxx['column_names'].dtypes"
   ]
  },
  {
   "cell_type": "markdown",
   "id": "9cbe18a0",
   "metadata": {},
   "source": [
    "#### 3.5.3 Casting to category data type"
   ]
  },
  {
   "cell_type": "code",
   "execution_count": null,
   "id": "c7a37aa3",
   "metadata": {},
   "outputs": [],
   "source": [
    "# df_xxx 'column_name' to category\n",
    "df_xxx['column_name'] = df_xxx['column_name'].astype('category')\n",
    "df_xxx['column_name'].dtypes"
   ]
  },
  {
   "cell_type": "markdown",
   "id": "3d18070f",
   "metadata": {},
   "source": [
    "#### 3.5.4 Casting to boolean data type"
   ]
  },
  {
   "cell_type": "code",
   "execution_count": null,
   "id": "63a80f05",
   "metadata": {},
   "outputs": [],
   "source": [
    "# df_xxx 'column_name' to boolean\n",
    "df_xxx = convert_integer_to_boolean(df_xxx, include=['column_name'])"
   ]
  },
  {
   "cell_type": "markdown",
   "id": "33437600",
   "metadata": {},
   "source": [
    "#### 3.5.5 Casting to datetime data type"
   ]
  },
  {
   "cell_type": "code",
   "execution_count": null,
   "id": "a3b356a2",
   "metadata": {},
   "outputs": [],
   "source": [
    "# df_xxx 'column_name' to datetime\n",
    "df_xxx = normalize_datetime(\n",
    "    df_xxx, include=['column_name'], frmt='%Y-%m-%dT%H:%M:%S')\n",
    "df_xxx.dtypes"
   ]
  },
  {
   "cell_type": "markdown",
   "id": "2e05402a",
   "metadata": {},
   "source": [
    "## __4. Final cleaning dataframe review__"
   ]
  },
  {
   "cell_type": "code",
   "execution_count": null,
   "id": "f65c3ff3",
   "metadata": {},
   "outputs": [],
   "source": [
    "df_xxx.info()"
   ]
  },
  {
   "cell_type": "markdown",
   "id": "d1c7b3ee",
   "metadata": {},
   "source": [
    "## __5. Generate a new clean Data set .csv file__"
   ]
  },
  {
   "cell_type": "code",
   "execution_count": null,
   "id": "594c9231",
   "metadata": {},
   "outputs": [],
   "source": [
    "project_root = Path.cwd().parent\n",
    "processed_path = project_root / \"data\" / \"processed\" / \"clean\" / \"_clean.csv\"\n",
    "df_xxx.to_csv(processed_path, index=False)"
   ]
  }
 ],
 "metadata": {
  "kernelspec": {
   "display_name": "base",
   "language": "python",
   "name": "python3"
  },
  "language_info": {
   "codemirror_mode": {
    "name": "ipython",
    "version": 3
   },
   "file_extension": ".py",
   "mimetype": "text/x-python",
   "name": "python",
   "nbconvert_exporter": "python",
   "pygments_lexer": "ipython3",
   "version": "3.12.7"
  }
 },
 "nbformat": 4,
 "nbformat_minor": 5
}
